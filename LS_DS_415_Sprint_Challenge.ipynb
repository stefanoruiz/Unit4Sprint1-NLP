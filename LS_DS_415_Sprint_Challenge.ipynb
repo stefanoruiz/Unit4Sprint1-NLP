{
 "cells": [
  {
   "cell_type": "markdown",
   "metadata": {},
   "source": [
    "<img align=\"left\" src=\"https://lever-client-logos.s3.amazonaws.com/864372b1-534c-480e-acd5-9711f850815c-1524247202159.png\" width=200>\n",
    "<br></br>\n",
    "<br></br>\n",
    "\n",
    "# Sprint Challenge\n",
    "## *Data Science Unit 4 Sprint 1*\n",
    "\n",
    "After a week of Natural Language Processing, you've learned some cool new stuff: how to process text, how turn text into vectors, and how to model topics from documents. Apply your newly acquired skills to one of the most famous NLP datasets out there: [Yelp](https://www.yelp.com/dataset/challenge). As part of the job selection process, some of my friends have been asked to create analysis of this dataset, so I want to empower you to have a head start.  \n",
    "\n",
    "The real dataset is massive (almost 8 gigs uncompressed). I've sampled the data for you to something more managable for the Sprint Challenge. You can analyze the full dataset as a stretch goal or after the sprint challenge. As you work on the challenge, I suggest adding notes about your findings and things you want to analyze in the future.\n",
    "\n",
    "## Challenge Objectives\n",
    "*Successfully complete these all these objectives to earn a 2. There are more details on each objective further down in the notebook.*\n",
    "* <a href=\"#p1\">Part 1</a>: Write a function to tokenize the yelp reviews\n",
    "* <a href=\"#p2\">Part 2</a>: Create a vector representation of those tokens\n",
    "* <a href=\"#p3\">Part 3</a>: Use your tokens in a classification model on yelp rating\n",
    "* <a href=\"#p4\">Part 4</a>: Estimate & Interpret a topic model of the Yelp reviews"
   ]
  },
  {
   "cell_type": "code",
   "execution_count": 50,
   "metadata": {},
   "outputs": [],
   "source": [
    "import pandas as pd\n",
    "\n",
    "yelp = pd.read_json('./data/review_sample.json', lines=True)"
   ]
  },
  {
   "cell_type": "code",
   "execution_count": 51,
   "metadata": {},
   "outputs": [
    {
     "data": {
      "text/html": [
       "<div>\n",
       "<style scoped>\n",
       "    .dataframe tbody tr th:only-of-type {\n",
       "        vertical-align: middle;\n",
       "    }\n",
       "\n",
       "    .dataframe tbody tr th {\n",
       "        vertical-align: top;\n",
       "    }\n",
       "\n",
       "    .dataframe thead th {\n",
       "        text-align: right;\n",
       "    }\n",
       "</style>\n",
       "<table border=\"1\" class=\"dataframe\">\n",
       "  <thead>\n",
       "    <tr style=\"text-align: right;\">\n",
       "      <th></th>\n",
       "      <th>business_id</th>\n",
       "      <th>cool</th>\n",
       "      <th>date</th>\n",
       "      <th>funny</th>\n",
       "      <th>review_id</th>\n",
       "      <th>stars</th>\n",
       "      <th>text</th>\n",
       "      <th>useful</th>\n",
       "      <th>user_id</th>\n",
       "    </tr>\n",
       "  </thead>\n",
       "  <tbody>\n",
       "    <tr>\n",
       "      <th>0</th>\n",
       "      <td>nDuEqIyRc8YKS1q1fX0CZg</td>\n",
       "      <td>1</td>\n",
       "      <td>2015-03-31 16:50:30</td>\n",
       "      <td>0</td>\n",
       "      <td>eZs2tpEJtXPwawvHnHZIgQ</td>\n",
       "      <td>1</td>\n",
       "      <td>BEWARE!!! FAKE, FAKE, FAKE....We also own a sm...</td>\n",
       "      <td>10</td>\n",
       "      <td>n1LM36qNg4rqGXIcvVXv8w</td>\n",
       "    </tr>\n",
       "    <tr>\n",
       "      <th>1</th>\n",
       "      <td>eMYeEapscbKNqUDCx705hg</td>\n",
       "      <td>0</td>\n",
       "      <td>2015-12-16 05:31:03</td>\n",
       "      <td>0</td>\n",
       "      <td>DoQDWJsNbU0KL1O29l_Xug</td>\n",
       "      <td>4</td>\n",
       "      <td>Came here for lunch Togo. Service was quick. S...</td>\n",
       "      <td>0</td>\n",
       "      <td>5CgjjDAic2-FAvCtiHpytA</td>\n",
       "    </tr>\n",
       "    <tr>\n",
       "      <th>2</th>\n",
       "      <td>6Q7-wkCPc1KF75jZLOTcMw</td>\n",
       "      <td>1</td>\n",
       "      <td>2010-06-20 19:14:48</td>\n",
       "      <td>1</td>\n",
       "      <td>DDOdGU7zh56yQHmUnL1idQ</td>\n",
       "      <td>3</td>\n",
       "      <td>I've been to Vegas dozens of times and had nev...</td>\n",
       "      <td>2</td>\n",
       "      <td>BdV-cf3LScmb8kZ7iiBcMA</td>\n",
       "    </tr>\n",
       "    <tr>\n",
       "      <th>3</th>\n",
       "      <td>k3zrItO4l9hwfLRwHBDc9w</td>\n",
       "      <td>3</td>\n",
       "      <td>2010-07-13 00:33:45</td>\n",
       "      <td>4</td>\n",
       "      <td>LfTMUWnfGFMOfOIyJcwLVA</td>\n",
       "      <td>1</td>\n",
       "      <td>We went here on a night where they closed off ...</td>\n",
       "      <td>5</td>\n",
       "      <td>cZZnBqh4gAEy4CdNvJailQ</td>\n",
       "    </tr>\n",
       "    <tr>\n",
       "      <th>4</th>\n",
       "      <td>6hpfRwGlOzbNv7k5eP9rsQ</td>\n",
       "      <td>1</td>\n",
       "      <td>2018-06-30 02:30:01</td>\n",
       "      <td>0</td>\n",
       "      <td>zJSUdI7bJ8PNJAg4lnl_Gg</td>\n",
       "      <td>4</td>\n",
       "      <td>3.5 to 4 stars\\n\\nNot bad for the price, $12.9...</td>\n",
       "      <td>5</td>\n",
       "      <td>n9QO4ClYAS7h9fpQwa5bhA</td>\n",
       "    </tr>\n",
       "  </tbody>\n",
       "</table>\n",
       "</div>"
      ],
      "text/plain": [
       "              business_id  cool                date  funny  \\\n",
       "0  nDuEqIyRc8YKS1q1fX0CZg     1 2015-03-31 16:50:30      0   \n",
       "1  eMYeEapscbKNqUDCx705hg     0 2015-12-16 05:31:03      0   \n",
       "2  6Q7-wkCPc1KF75jZLOTcMw     1 2010-06-20 19:14:48      1   \n",
       "3  k3zrItO4l9hwfLRwHBDc9w     3 2010-07-13 00:33:45      4   \n",
       "4  6hpfRwGlOzbNv7k5eP9rsQ     1 2018-06-30 02:30:01      0   \n",
       "\n",
       "                review_id  stars  \\\n",
       "0  eZs2tpEJtXPwawvHnHZIgQ      1   \n",
       "1  DoQDWJsNbU0KL1O29l_Xug      4   \n",
       "2  DDOdGU7zh56yQHmUnL1idQ      3   \n",
       "3  LfTMUWnfGFMOfOIyJcwLVA      1   \n",
       "4  zJSUdI7bJ8PNJAg4lnl_Gg      4   \n",
       "\n",
       "                                                text  useful  \\\n",
       "0  BEWARE!!! FAKE, FAKE, FAKE....We also own a sm...      10   \n",
       "1  Came here for lunch Togo. Service was quick. S...       0   \n",
       "2  I've been to Vegas dozens of times and had nev...       2   \n",
       "3  We went here on a night where they closed off ...       5   \n",
       "4  3.5 to 4 stars\\n\\nNot bad for the price, $12.9...       5   \n",
       "\n",
       "                  user_id  \n",
       "0  n1LM36qNg4rqGXIcvVXv8w  \n",
       "1  5CgjjDAic2-FAvCtiHpytA  \n",
       "2  BdV-cf3LScmb8kZ7iiBcMA  \n",
       "3  cZZnBqh4gAEy4CdNvJailQ  \n",
       "4  n9QO4ClYAS7h9fpQwa5bhA  "
      ]
     },
     "execution_count": 51,
     "metadata": {},
     "output_type": "execute_result"
    }
   ],
   "source": [
    "yelp.head()"
   ]
  },
  {
   "cell_type": "markdown",
   "metadata": {},
   "source": [
    "## Part 1: Tokenize Function\n",
    "<a id=\"#p1\"></a>\n",
    "\n",
    "Complete the function `tokenize`. Your function should\n",
    "- accept one document at a time\n",
    "- return a list of tokens\n",
    "\n",
    "You are free to use any method you have learned this week."
   ]
  },
  {
   "cell_type": "code",
   "execution_count": 52,
   "metadata": {},
   "outputs": [],
   "source": [
    "from sklearn.feature_extraction.text import CountVectorizer, TfidfVectorizer\n",
    "from sklearn.metrics.pairwise import cosine_similarity\n",
    "from sklearn.neighbors import NearestNeighbors\n",
    "from sklearn.decomposition import PCA\n",
    "\n",
    "import spacy\n",
    "nlp = spacy.load(\"en_core_web_lg\")"
   ]
  },
  {
   "cell_type": "code",
   "execution_count": 53,
   "metadata": {},
   "outputs": [],
   "source": [
    "text = yelp['text'].values.tolist()"
   ]
  },
  {
   "cell_type": "code",
   "execution_count": 54,
   "metadata": {},
   "outputs": [],
   "source": [
    "def tokenize(document):\n",
    "    doc = nlp(document)\n",
    "    return [token.lemma.strip() for token in doc if (token.is_stop != True) and (token.is_punct != True)]"
   ]
  },
  {
   "cell_type": "markdown",
   "metadata": {},
   "source": [
    "## Part 2: Vector Representation\n",
    "<a id=\"#p2\"></a>\n",
    "1. Create a vector representation of the reviews\n",
    "2. Write a fake review and query for the 10 most similiar reviews, print the text of the reviews. Do you notice any patterns?\n",
    "    - Given the size of the dataset, it will probably be best to use a `NearestNeighbors` model for this. "
   ]
  },
  {
   "cell_type": "code",
   "execution_count": 62,
   "metadata": {},
   "outputs": [],
   "source": [
    "vect = CountVectorizer(stop_words='english')\n",
    "\n",
    "# tokenize and build vocab\n",
    "vect.fit(text) # Fit then transform. \n",
    "\n",
    "# transform text\n",
    "dtm = vect.transform(text)\n",
    "\n",
    "# Create a Vocabulary"
   ]
  },
  {
   "cell_type": "code",
   "execution_count": 63,
   "metadata": {},
   "outputs": [],
   "source": [
    "# print(vect.get_feature_names())"
   ]
  },
  {
   "cell_type": "code",
   "execution_count": 64,
   "metadata": {},
   "outputs": [],
   "source": [
    "dtm = pd.DataFrame(dtm.todense(), columns=vect.get_feature_names())"
   ]
  },
  {
   "cell_type": "code",
   "execution_count": null,
   "metadata": {},
   "outputs": [],
   "source": []
  },
  {
   "cell_type": "code",
   "execution_count": 72,
   "metadata": {},
   "outputs": [
    {
     "data": {
      "text/html": [
       "<div>\n",
       "<style scoped>\n",
       "    .dataframe tbody tr th:only-of-type {\n",
       "        vertical-align: middle;\n",
       "    }\n",
       "\n",
       "    .dataframe tbody tr th {\n",
       "        vertical-align: top;\n",
       "    }\n",
       "\n",
       "    .dataframe thead th {\n",
       "        text-align: right;\n",
       "    }\n",
       "</style>\n",
       "<table border=\"1\" class=\"dataframe\">\n",
       "  <thead>\n",
       "    <tr style=\"text-align: right;\">\n",
       "      <th></th>\n",
       "      <th>10</th>\n",
       "      <th>15</th>\n",
       "      <th>20</th>\n",
       "      <th>30</th>\n",
       "      <th>able</th>\n",
       "      <th>absolutely</th>\n",
       "      <th>actually</th>\n",
       "      <th>ago</th>\n",
       "      <th>amazing</th>\n",
       "      <th>area</th>\n",
       "      <th>...</th>\n",
       "      <th>wonderful</th>\n",
       "      <th>work</th>\n",
       "      <th>working</th>\n",
       "      <th>worst</th>\n",
       "      <th>worth</th>\n",
       "      <th>wouldn</th>\n",
       "      <th>wrong</th>\n",
       "      <th>year</th>\n",
       "      <th>years</th>\n",
       "      <th>yelp</th>\n",
       "    </tr>\n",
       "  </thead>\n",
       "  <tbody>\n",
       "    <tr>\n",
       "      <th>0</th>\n",
       "      <td>0.0</td>\n",
       "      <td>0.000000</td>\n",
       "      <td>0.239091</td>\n",
       "      <td>0.0</td>\n",
       "      <td>0.0</td>\n",
       "      <td>0.0</td>\n",
       "      <td>0.000000</td>\n",
       "      <td>0.0</td>\n",
       "      <td>0.0</td>\n",
       "      <td>0.000000</td>\n",
       "      <td>...</td>\n",
       "      <td>0.0</td>\n",
       "      <td>0.0</td>\n",
       "      <td>0.0</td>\n",
       "      <td>0.0</td>\n",
       "      <td>0.0</td>\n",
       "      <td>0.0</td>\n",
       "      <td>0.0</td>\n",
       "      <td>0.000000</td>\n",
       "      <td>0.0</td>\n",
       "      <td>0.0</td>\n",
       "    </tr>\n",
       "    <tr>\n",
       "      <th>1</th>\n",
       "      <td>0.0</td>\n",
       "      <td>0.000000</td>\n",
       "      <td>0.000000</td>\n",
       "      <td>0.0</td>\n",
       "      <td>0.0</td>\n",
       "      <td>0.0</td>\n",
       "      <td>0.000000</td>\n",
       "      <td>0.0</td>\n",
       "      <td>0.0</td>\n",
       "      <td>0.000000</td>\n",
       "      <td>...</td>\n",
       "      <td>0.0</td>\n",
       "      <td>0.0</td>\n",
       "      <td>0.0</td>\n",
       "      <td>0.0</td>\n",
       "      <td>0.0</td>\n",
       "      <td>0.0</td>\n",
       "      <td>0.0</td>\n",
       "      <td>0.000000</td>\n",
       "      <td>0.0</td>\n",
       "      <td>0.0</td>\n",
       "    </tr>\n",
       "    <tr>\n",
       "      <th>2</th>\n",
       "      <td>0.0</td>\n",
       "      <td>0.000000</td>\n",
       "      <td>0.000000</td>\n",
       "      <td>0.0</td>\n",
       "      <td>0.0</td>\n",
       "      <td>0.0</td>\n",
       "      <td>0.000000</td>\n",
       "      <td>0.0</td>\n",
       "      <td>0.0</td>\n",
       "      <td>0.123631</td>\n",
       "      <td>...</td>\n",
       "      <td>0.0</td>\n",
       "      <td>0.0</td>\n",
       "      <td>0.0</td>\n",
       "      <td>0.0</td>\n",
       "      <td>0.0</td>\n",
       "      <td>0.0</td>\n",
       "      <td>0.0</td>\n",
       "      <td>0.146278</td>\n",
       "      <td>0.0</td>\n",
       "      <td>0.0</td>\n",
       "    </tr>\n",
       "    <tr>\n",
       "      <th>3</th>\n",
       "      <td>0.0</td>\n",
       "      <td>0.000000</td>\n",
       "      <td>0.000000</td>\n",
       "      <td>0.0</td>\n",
       "      <td>0.0</td>\n",
       "      <td>0.0</td>\n",
       "      <td>0.298333</td>\n",
       "      <td>0.0</td>\n",
       "      <td>0.0</td>\n",
       "      <td>0.000000</td>\n",
       "      <td>...</td>\n",
       "      <td>0.0</td>\n",
       "      <td>0.0</td>\n",
       "      <td>0.0</td>\n",
       "      <td>0.0</td>\n",
       "      <td>0.0</td>\n",
       "      <td>0.0</td>\n",
       "      <td>0.0</td>\n",
       "      <td>0.000000</td>\n",
       "      <td>0.0</td>\n",
       "      <td>0.0</td>\n",
       "    </tr>\n",
       "    <tr>\n",
       "      <th>4</th>\n",
       "      <td>0.0</td>\n",
       "      <td>0.225699</td>\n",
       "      <td>0.000000</td>\n",
       "      <td>0.0</td>\n",
       "      <td>0.0</td>\n",
       "      <td>0.0</td>\n",
       "      <td>0.000000</td>\n",
       "      <td>0.0</td>\n",
       "      <td>0.0</td>\n",
       "      <td>0.000000</td>\n",
       "      <td>...</td>\n",
       "      <td>0.0</td>\n",
       "      <td>0.0</td>\n",
       "      <td>0.0</td>\n",
       "      <td>0.0</td>\n",
       "      <td>0.0</td>\n",
       "      <td>0.0</td>\n",
       "      <td>0.0</td>\n",
       "      <td>0.000000</td>\n",
       "      <td>0.0</td>\n",
       "      <td>0.0</td>\n",
       "    </tr>\n",
       "  </tbody>\n",
       "</table>\n",
       "<p>5 rows × 326 columns</p>\n",
       "</div>"
      ],
      "text/plain": [
       "    10        15        20   30  able  absolutely  actually  ago  amazing  \\\n",
       "0  0.0  0.000000  0.239091  0.0   0.0         0.0  0.000000  0.0      0.0   \n",
       "1  0.0  0.000000  0.000000  0.0   0.0         0.0  0.000000  0.0      0.0   \n",
       "2  0.0  0.000000  0.000000  0.0   0.0         0.0  0.000000  0.0      0.0   \n",
       "3  0.0  0.000000  0.000000  0.0   0.0         0.0  0.298333  0.0      0.0   \n",
       "4  0.0  0.225699  0.000000  0.0   0.0         0.0  0.000000  0.0      0.0   \n",
       "\n",
       "       area  ...   wonderful  work  working  worst  worth  wouldn  wrong  \\\n",
       "0  0.000000  ...         0.0   0.0      0.0    0.0    0.0     0.0    0.0   \n",
       "1  0.000000  ...         0.0   0.0      0.0    0.0    0.0     0.0    0.0   \n",
       "2  0.123631  ...         0.0   0.0      0.0    0.0    0.0     0.0    0.0   \n",
       "3  0.000000  ...         0.0   0.0      0.0    0.0    0.0     0.0    0.0   \n",
       "4  0.000000  ...         0.0   0.0      0.0    0.0    0.0     0.0    0.0   \n",
       "\n",
       "       year  years  yelp  \n",
       "0  0.000000    0.0   0.0  \n",
       "1  0.000000    0.0   0.0  \n",
       "2  0.146278    0.0   0.0  \n",
       "3  0.000000    0.0   0.0  \n",
       "4  0.000000    0.0   0.0  \n",
       "\n",
       "[5 rows x 326 columns]"
      ]
     },
     "execution_count": 72,
     "metadata": {},
     "output_type": "execute_result"
    }
   ],
   "source": [
    "# TFIDFVectorizer\n",
    "from sklearn.feature_extraction.text import TfidfVectorizer\n",
    "\n",
    "# Instantiate vectorizer object\n",
    "# We want to control the value of the length of documents. \n",
    "tfidf = TfidfVectorizer(stop_words='english', min_df=0.025, max_df=.98, ngram_range=(1,2))\n",
    "\n",
    "# Create a vocabulary and get word counts per document\n",
    "# Similar to fit_predict\n",
    "dtm = tfidf.fit_transform(text)\n",
    "\n",
    "# Print word counts\n",
    "# Get feature names to use as dataframe column headers\n",
    "dtm = pd.DataFrame(dtm.todense(), columns=tfidf.get_feature_names())\n",
    "\n",
    "# View Feature Matrix as DataFrame\n",
    "dtm.head()"
   ]
  },
  {
   "cell_type": "code",
   "execution_count": 74,
   "metadata": {},
   "outputs": [],
   "source": [
    "# Calculate Distance of TF-IDF Vectors\n",
    "from sklearn.metrics.pairwise import cosine_similarity\n",
    "\n",
    "dist_matrix  = cosine_similarity(dtm)\n",
    "df = pd.DataFrame(dist_matrix)"
   ]
  },
  {
   "cell_type": "code",
   "execution_count": 75,
   "metadata": {},
   "outputs": [
    {
     "data": {
      "text/plain": [
       "(10000, 10000)"
      ]
     },
     "execution_count": 75,
     "metadata": {},
     "output_type": "execute_result"
    }
   ],
   "source": [
    "df.shape"
   ]
  },
  {
   "cell_type": "code",
   "execution_count": 76,
   "metadata": {},
   "outputs": [
    {
     "data": {
      "text/plain": [
       "0       1.000000\n",
       "6899    0.512933\n",
       "3714    0.501494\n",
       "2131    0.456473\n",
       "5465    0.439754\n",
       "2865    0.433492\n",
       "8470    0.408057\n",
       "8531    0.404986\n",
       "9036    0.403812\n",
       "8411    0.401263\n",
       "Name: 0, dtype: float64"
      ]
     },
     "execution_count": 76,
     "metadata": {},
     "output_type": "execute_result"
    }
   ],
   "source": [
    "df[0].sort_values(ascending=False)[:10]"
   ]
  },
  {
   "cell_type": "code",
   "execution_count": 77,
   "metadata": {},
   "outputs": [
    {
     "data": {
      "text/plain": [
       "NearestNeighbors(algorithm='kd_tree', leaf_size=30, metric='minkowski',\n",
       "                 metric_params=None, n_jobs=None, n_neighbors=5, p=2,\n",
       "                 radius=1.0)"
      ]
     },
     "execution_count": 77,
     "metadata": {},
     "output_type": "execute_result"
    }
   ],
   "source": [
    "# Nearest Neighbors\n",
    "# Instantiate\n",
    "from sklearn.neighbors import NearestNeighbors\n",
    "\n",
    "# Fit on TF-IDF Vectors\n",
    "nn  = NearestNeighbors(n_neighbors=5, algorithm='kd_tree')\n",
    "nn.fit(dtm)"
   ]
  },
  {
   "cell_type": "code",
   "execution_count": 78,
   "metadata": {},
   "outputs": [
    {
     "data": {
      "text/plain": [
       "(array([[0.        , 0.98698182, 0.9985046 , 1.        , 1.        ]]),\n",
       " array([[   0, 6899, 3714,  469, 3543]]))"
      ]
     },
     "execution_count": 78,
     "metadata": {},
     "output_type": "execute_result"
    }
   ],
   "source": [
    "nn.kneighbors([dtm.iloc[0].values])"
   ]
  },
  {
   "cell_type": "code",
   "execution_count": 79,
   "metadata": {},
   "outputs": [],
   "source": [
    "random_review = [ \"\"\"Chocolate was so good it gave the diabetes.\"\"\"]"
   ]
  },
  {
   "cell_type": "code",
   "execution_count": 81,
   "metadata": {},
   "outputs": [],
   "source": [
    "new = tfidf.transform(random_review)"
   ]
  },
  {
   "cell_type": "code",
   "execution_count": 84,
   "metadata": {},
   "outputs": [
    {
     "data": {
      "text/plain": [
       "(array([[0.66237392, 0.74142786, 0.94871147, 0.99045888, 1.        ]]),\n",
       " array([[8765, 4654, 5450, 2575, 6311]]))"
      ]
     },
     "execution_count": 84,
     "metadata": {},
     "output_type": "execute_result"
    }
   ],
   "source": [
    "nn.kneighbors(new.todense())"
   ]
  },
  {
   "cell_type": "markdown",
   "metadata": {},
   "source": [
    "## Part 3: Classificatasciin\n",
    "<a id=\"#p3\"></a>\n",
    "Your goal in this section will be to predict `stars` from the review dataset. \n",
    "\n",
    "1. Create a piepline object with a sklearn `CountVectorizer` or `TfidfVector` and any sklearn classifier. Use that pipeline to estimate a model to predict `stars`. Use the Pipeline to predict a star rating for your fake review from Part 2. \n",
    "2. Tune the entire pipeline with a GridSearch"
   ]
  },
  {
   "cell_type": "code",
   "execution_count": 86,
   "metadata": {},
   "outputs": [],
   "source": [
    "# Import Statements\n",
    "from sklearn.pipeline import Pipeline\n",
    "from sklearn.ensemble import RandomForestClassifier\n",
    "from sklearn.model_selection import GridSearchCV\n",
    "from sklearn.feature_extraction.text import TfidfVectorizer"
   ]
  },
  {
   "cell_type": "code",
   "execution_count": 87,
   "metadata": {},
   "outputs": [],
   "source": [
    "vect = TfidfVectorizer(stop_words='english')\n",
    "rfc = RandomForestClassifier()"
   ]
  },
  {
   "cell_type": "code",
   "execution_count": 88,
   "metadata": {},
   "outputs": [],
   "source": [
    "pipe = Pipeline([('vect', vect), ('clf', rfc)])"
   ]
  },
  {
   "cell_type": "code",
   "execution_count": 89,
   "metadata": {},
   "outputs": [],
   "source": [
    "parameters = {\n",
    "    'vect__max_df': ( 0.75, 1.0),\n",
    "    'vect__min_df': (.02, .05),\n",
    "    'vect__max_features': (500,1000),\n",
    "    'clf__n_estimators':(5, 10,),\n",
    "    'clf__max_depth':(15,20)\n",
    "}"
   ]
  },
  {
   "cell_type": "code",
   "execution_count": 97,
   "metadata": {},
   "outputs": [],
   "source": [
    "y = yelp['stars']\n",
    "X = yelp['text']"
   ]
  },
  {
   "cell_type": "code",
   "execution_count": 114,
   "metadata": {},
   "outputs": [],
   "source": [
    "# Train/Test Split\n",
    "from sklearn.model_selection import train_test_split\n",
    "import numpy as np\n",
    "X_train, X_test, y_train, y_test = train_test_split(X, y, test_size=0.33, random_state=23)"
   ]
  },
  {
   "cell_type": "code",
   "execution_count": 115,
   "metadata": {},
   "outputs": [
    {
     "name": "stdout",
     "output_type": "stream",
     "text": [
      "Fitting 5 folds for each of 32 candidates, totalling 160 fits\n"
     ]
    },
    {
     "name": "stderr",
     "output_type": "stream",
     "text": [
      "[Parallel(n_jobs=-1)]: Using backend LokyBackend with 8 concurrent workers.\n",
      "[Parallel(n_jobs=-1)]: Done  34 tasks      | elapsed:    7.1s\n",
      "[Parallel(n_jobs=-1)]: Done 160 out of 160 | elapsed:   30.9s finished\n"
     ]
    },
    {
     "data": {
      "text/plain": [
       "GridSearchCV(cv=5, error_score='raise-deprecating',\n",
       "             estimator=Pipeline(memory=None,\n",
       "                                steps=[('vect',\n",
       "                                        TfidfVectorizer(analyzer='word',\n",
       "                                                        binary=False,\n",
       "                                                        decode_error='strict',\n",
       "                                                        dtype=<class 'numpy.float64'>,\n",
       "                                                        encoding='utf-8',\n",
       "                                                        input='content',\n",
       "                                                        lowercase=True,\n",
       "                                                        max_df=1.0,\n",
       "                                                        max_features=None,\n",
       "                                                        min_df=1,\n",
       "                                                        ngram_range=(1, 1),\n",
       "                                                        norm='l2',\n",
       "                                                        preprocessor=None,\n",
       "                                                        smooth_idf=True,\n",
       "                                                        stop_words...\n",
       "                                                               n_estimators='warn',\n",
       "                                                               n_jobs=None,\n",
       "                                                               oob_score=False,\n",
       "                                                               random_state=None,\n",
       "                                                               verbose=0,\n",
       "                                                               warm_start=False))],\n",
       "                                verbose=False),\n",
       "             iid='warn', n_jobs=-1,\n",
       "             param_grid={'clf__max_depth': (15, 20),\n",
       "                         'clf__n_estimators': (5, 10),\n",
       "                         'vect__max_df': (0.75, 1.0),\n",
       "                         'vect__max_features': (500, 1000),\n",
       "                         'vect__min_df': (0.02, 0.05)},\n",
       "             pre_dispatch='2*n_jobs', refit=True, return_train_score=False,\n",
       "             scoring=None, verbose=1)"
      ]
     },
     "execution_count": 115,
     "metadata": {},
     "output_type": "execute_result"
    }
   ],
   "source": [
    "grid_search = GridSearchCV(pipe,parameters, cv=5, n_jobs=-1, verbose=1)\n",
    "grid_search.fit(X_train, y_train)"
   ]
  },
  {
   "cell_type": "code",
   "execution_count": 116,
   "metadata": {},
   "outputs": [],
   "source": [
    "pred = grid_search.predict(yelp['text'])"
   ]
  },
  {
   "cell_type": "code",
   "execution_count": 117,
   "metadata": {},
   "outputs": [
    {
     "name": "stdout",
     "output_type": "stream",
     "text": [
      "Total number of star predictions:  10000\n",
      "0.5358208955223881\n",
      "[1 5 5 ... 2 5 1]\n"
     ]
    }
   ],
   "source": [
    "print(\"Total number of star predictions: \",len(pred))\n",
    "print(grid_search.best_score_)\n",
    "print(pred)"
   ]
  },
  {
   "cell_type": "markdown",
   "metadata": {},
   "source": [
    "## Part 4: Topic Modeling\n",
    "\n",
    "Let's find out what those yelp reviews are saying! :D\n",
    "\n",
    "1. Estimate a LDA topic model of the review text\n",
    "    - Keep the `iterations` parameter at or below 5 to reduce run time\n",
    "    - The `workers` parameter should match the number of physical cores on your machine.\n",
    "2. Create 1-2 visualizations of the results\n",
    "    - You can use the most important 3 words of a topic in relevant visualizations. Refer to yesterday's notebook to extract. \n",
    "3. In markdown, write 1-2 paragraphs of analysis on the results of your topic model\n",
    "\n",
    "__*Note*__: You can pass the DataFrame column of text reviews to gensim. You do not have to use a generator."
   ]
  },
  {
   "cell_type": "code",
   "execution_count": 121,
   "metadata": {},
   "outputs": [
    {
     "name": "stdout",
     "output_type": "stream",
     "text": [
      "Collecting package metadata (current_repodata.json): done\n",
      "Solving environment: done\n",
      "\n",
      "## Package Plan ##\n",
      "\n",
      "  environment location: /Users/lotta/.conda/envs/NLP\n",
      "\n",
      "  added / updated specs:\n",
      "    - gensim\n",
      "\n",
      "\n",
      "The following packages will be downloaded:\n",
      "\n",
      "    package                    |            build\n",
      "    ---------------------------|-----------------\n",
      "    boto-2.49.0                |           py37_0         1.2 MB\n",
      "    boto3-1.10.19              |             py_0          91 KB\n",
      "    botocore-1.13.19           |             py_0         3.3 MB\n",
      "    bz2file-0.98               |           py37_1          13 KB\n",
      "    docutils-0.15.2            |           py37_0         659 KB\n",
      "    gensim-3.8.0               |   py37h6440ff4_0        18.4 MB\n",
      "    jmespath-0.9.4             |             py_0          22 KB\n",
      "    s3transfer-0.2.1           |           py37_0          96 KB\n",
      "    smart_open-1.9.0           |             py_0          59 KB\n",
      "    ------------------------------------------------------------\n",
      "                                           Total:        23.8 MB\n",
      "\n",
      "The following NEW packages will be INSTALLED:\n",
      "\n",
      "  boto               pkgs/main/osx-64::boto-2.49.0-py37_0\n",
      "  boto3              pkgs/main/noarch::boto3-1.10.19-py_0\n",
      "  botocore           pkgs/main/noarch::botocore-1.13.19-py_0\n",
      "  bz2file            pkgs/main/osx-64::bz2file-0.98-py37_1\n",
      "  docutils           pkgs/main/osx-64::docutils-0.15.2-py37_0\n",
      "  gensim             pkgs/main/osx-64::gensim-3.8.0-py37h6440ff4_0\n",
      "  jmespath           pkgs/main/noarch::jmespath-0.9.4-py_0\n",
      "  s3transfer         pkgs/main/osx-64::s3transfer-0.2.1-py37_0\n",
      "  smart_open         pkgs/main/noarch::smart_open-1.9.0-py_0\n",
      "\n",
      "\n",
      "\n",
      "Downloading and Extracting Packages\n",
      "botocore-1.13.19     | 3.3 MB    | ##################################### | 100% \n",
      "s3transfer-0.2.1     | 96 KB     | ##################################### | 100% \n",
      "smart_open-1.9.0     | 59 KB     | ##################################### | 100% \n",
      "boto-2.49.0          | 1.2 MB    | ##################################### | 100% \n",
      "bz2file-0.98         | 13 KB     | ##################################### | 100% \n",
      "gensim-3.8.0         | 18.4 MB   | ##################################### | 100% \n",
      "docutils-0.15.2      | 659 KB    | ##################################### | 100% \n",
      "jmespath-0.9.4       | 22 KB     | ##################################### | 100% \n",
      "boto3-1.10.19        | 91 KB     | ##################################### | 100% \n",
      "Preparing transaction: done\n",
      "Verifying transaction: done\n",
      "Executing transaction: done\n"
     ]
    }
   ],
   "source": [
    "!conda install gensim -y"
   ]
  },
  {
   "cell_type": "code",
   "execution_count": 163,
   "metadata": {
    "collapsed": false,
    "inputHidden": false,
    "jupyter": {
     "outputs_hidden": false
    },
    "outputHidden": false
   },
   "outputs": [],
   "source": [
    "import numpy as np\n",
    "import gensim\n",
    "import os\n",
    "import re\n",
    "\n",
    "from gensim.utils import simple_preprocess\n",
    "from gensim.parsing.preprocessing import STOPWORDS\n",
    "from gensim import corpora\n",
    "\n",
    "from gensim.models.ldamulticore import LdaMulticore\n",
    "\n",
    "import pandas as pd"
   ]
  },
  {
   "cell_type": "code",
   "execution_count": null,
   "metadata": {},
   "outputs": [],
   "source": []
  },
  {
   "cell_type": "code",
   "execution_count": 177,
   "metadata": {},
   "outputs": [],
   "source": [
    "def tokenize2(text):\n",
    "    tokens = []\n",
    "    for i in range(len(text)):\n",
    "        tokens.append([token for token in simple_preprocess(text[i]) if token not in STOPWORDS])\n",
    "    return tokens;"
   ]
  },
  {
   "cell_type": "code",
   "execution_count": 178,
   "metadata": {},
   "outputs": [],
   "source": [
    "tokens = tokenize2(text)"
   ]
  },
  {
   "cell_type": "code",
   "execution_count": 188,
   "metadata": {},
   "outputs": [],
   "source": [
    "def tokenize1(text):\n",
    "    return [token for token in simple_preprocess(text) if token not in STOPWORDS]"
   ]
  },
  {
   "cell_type": "code",
   "execution_count": 189,
   "metadata": {},
   "outputs": [
    {
     "data": {
      "text/plain": [
       "['good', 'review', 'chocolate', 'mountain', 'chocolate', 'store']"
      ]
     },
     "execution_count": 189,
     "metadata": {},
     "output_type": "execute_result"
    }
   ],
   "source": [
    "tokenize1(\"This is my really good review on Chocolate-Mountain Chocolate store.\")"
   ]
  },
  {
   "cell_type": "markdown",
   "metadata": {},
   "source": [
    "Learn the vocubalary of the yelp data:"
   ]
  },
  {
   "cell_type": "code",
   "execution_count": 182,
   "metadata": {},
   "outputs": [],
   "source": [
    "id2word = Dictionary(tokens)"
   ]
  },
  {
   "cell_type": "code",
   "execution_count": 190,
   "metadata": {},
   "outputs": [
    {
     "data": {
      "text/plain": [
       "[(40, 1), (599, 1), (812, 1), (1540, 2), (1556, 1)]"
      ]
     },
     "execution_count": 190,
     "metadata": {},
     "output_type": "execute_result"
    }
   ],
   "source": [
    "id2word.doc2bow(tokenize1(\"This is my really good review on Chocolate-Mountain Chocolate store.\"))"
   ]
  },
  {
   "cell_type": "code",
   "execution_count": 196,
   "metadata": {},
   "outputs": [],
   "source": [
    "len(id2word.keys())\n",
    "id2word.filter_extremes(no_below=5, no_above=0.95)"
   ]
  },
  {
   "cell_type": "code",
   "execution_count": 197,
   "metadata": {},
   "outputs": [
    {
     "data": {
      "text/plain": [
       "7493"
      ]
     },
     "execution_count": 197,
     "metadata": {},
     "output_type": "execute_result"
    }
   ],
   "source": [
    "len(id2word.keys())"
   ]
  },
  {
   "cell_type": "markdown",
   "metadata": {},
   "source": [
    "Create a bag of words representation of the entire corpus"
   ]
  },
  {
   "cell_type": "code",
   "execution_count": 239,
   "metadata": {
    "collapsed": false,
    "inputHidden": false,
    "jupyter": {
     "outputs_hidden": false
    },
    "outputHidden": false
   },
   "outputs": [],
   "source": [
    "corpus = [id2word.doc2bow(text_bow) for text_bow in tokens]"
   ]
  },
  {
   "cell_type": "code",
   "execution_count": null,
   "metadata": {},
   "outputs": [],
   "source": []
  },
  {
   "cell_type": "markdown",
   "metadata": {},
   "source": [
    "Your LDA model should be ready for estimation: "
   ]
  },
  {
   "cell_type": "code",
   "execution_count": 200,
   "metadata": {
    "collapsed": false,
    "inputHidden": false,
    "jupyter": {
     "outputs_hidden": false
    },
    "outputHidden": false
   },
   "outputs": [],
   "source": [
    "lda = LdaMulticore(corpus=corpus,\n",
    "                   id2word=id2word,\n",
    "                   iterations=5,\n",
    "                   workers=4,\n",
    "                   num_topics = 10 # You can change this parameter\n",
    "                  )"
   ]
  },
  {
   "cell_type": "markdown",
   "metadata": {},
   "source": [
    "Create 1-2 visualizations of the results"
   ]
  },
  {
   "cell_type": "code",
   "execution_count": 201,
   "metadata": {
    "collapsed": false,
    "inputHidden": false,
    "jupyter": {
     "outputs_hidden": false
    },
    "outputHidden": false
   },
   "outputs": [
    {
     "data": {
      "text/plain": [
       "[(0,\n",
       "  '0.013*\"place\" + 0.012*\"good\" + 0.009*\"service\" + 0.008*\"time\" + 0.008*\"food\" + 0.008*\"great\" + 0.006*\"like\" + 0.004*\"love\" + 0.004*\"nice\" + 0.004*\"come\"'),\n",
       " (1,\n",
       "  '0.012*\"place\" + 0.010*\"food\" + 0.010*\"service\" + 0.009*\"time\" + 0.009*\"great\" + 0.008*\"good\" + 0.008*\"like\" + 0.005*\"got\" + 0.004*\"ordered\" + 0.004*\"came\"'),\n",
       " (2,\n",
       "  '0.013*\"food\" + 0.013*\"great\" + 0.012*\"place\" + 0.009*\"like\" + 0.008*\"service\" + 0.008*\"time\" + 0.007*\"good\" + 0.006*\"got\" + 0.005*\"ve\" + 0.005*\"nice\"'),\n",
       " (3,\n",
       "  '0.012*\"good\" + 0.010*\"food\" + 0.008*\"great\" + 0.007*\"place\" + 0.006*\"like\" + 0.006*\"service\" + 0.005*\"got\" + 0.005*\"time\" + 0.004*\"went\" + 0.004*\"little\"'),\n",
       " (4,\n",
       "  '0.012*\"good\" + 0.011*\"food\" + 0.010*\"place\" + 0.010*\"service\" + 0.009*\"like\" + 0.009*\"time\" + 0.008*\"great\" + 0.005*\"ve\" + 0.004*\"staff\" + 0.004*\"best\"'),\n",
       " (5,\n",
       "  '0.011*\"food\" + 0.010*\"great\" + 0.009*\"place\" + 0.008*\"service\" + 0.007*\"good\" + 0.006*\"like\" + 0.006*\"time\" + 0.005*\"ve\" + 0.004*\"got\" + 0.004*\"order\"'),\n",
       " (6,\n",
       "  '0.011*\"great\" + 0.011*\"good\" + 0.011*\"food\" + 0.011*\"place\" + 0.010*\"time\" + 0.008*\"like\" + 0.007*\"service\" + 0.007*\"got\" + 0.005*\"ve\" + 0.004*\"best\"'),\n",
       " (7,\n",
       "  '0.012*\"place\" + 0.012*\"food\" + 0.012*\"good\" + 0.008*\"service\" + 0.006*\"like\" + 0.006*\"time\" + 0.006*\"great\" + 0.005*\"love\" + 0.005*\"ve\" + 0.004*\"nice\"'),\n",
       " (8,\n",
       "  '0.013*\"food\" + 0.012*\"like\" + 0.011*\"place\" + 0.011*\"good\" + 0.010*\"great\" + 0.009*\"service\" + 0.009*\"time\" + 0.006*\"best\" + 0.004*\"nice\" + 0.004*\"ordered\"'),\n",
       " (9,\n",
       "  '0.013*\"great\" + 0.012*\"good\" + 0.011*\"food\" + 0.008*\"place\" + 0.008*\"time\" + 0.007*\"like\" + 0.007*\"service\" + 0.004*\"love\" + 0.004*\"went\" + 0.004*\"try\"')]"
      ]
     },
     "execution_count": 201,
     "metadata": {},
     "output_type": "execute_result"
    }
   ],
   "source": [
    "lda.print_topics()"
   ]
  },
  {
   "cell_type": "code",
   "execution_count": 202,
   "metadata": {},
   "outputs": [],
   "source": [
    "words = [re.findall(r'\"([^\"]*)\"',t[1]) for t in lda.print_topics()]"
   ]
  },
  {
   "cell_type": "code",
   "execution_count": 204,
   "metadata": {},
   "outputs": [],
   "source": [
    "topics = [' '.join(t[0:5]) for t in words]"
   ]
  },
  {
   "cell_type": "code",
   "execution_count": 209,
   "metadata": {},
   "outputs": [
    {
     "name": "stdout",
     "output_type": "stream",
     "text": [
      "Collecting pyLDAvis\n",
      "\u001b[?25l  Downloading https://files.pythonhosted.org/packages/a5/3a/af82e070a8a96e13217c8f362f9a73e82d61ac8fff3a2561946a97f96266/pyLDAvis-2.1.2.tar.gz (1.6MB)\n",
      "\u001b[K     |████████████████████████████████| 1.6MB 988kB/s eta 0:00:01\n",
      "\u001b[?25hRequirement already satisfied: wheel>=0.23.0 in /Users/lotta/.conda/envs/NLP/lib/python3.7/site-packages (from pyLDAvis) (0.33.6)\n",
      "Requirement already satisfied: numpy>=1.9.2 in /Users/lotta/.conda/envs/NLP/lib/python3.7/site-packages (from pyLDAvis) (1.17.2)\n",
      "Requirement already satisfied: scipy>=0.18.0 in /Users/lotta/.conda/envs/NLP/lib/python3.7/site-packages (from pyLDAvis) (1.3.1)\n",
      "Requirement already satisfied: pandas>=0.17.0 in /Users/lotta/.conda/envs/NLP/lib/python3.7/site-packages (from pyLDAvis) (0.23.4)\n",
      "Requirement already satisfied: joblib>=0.8.4 in /Users/lotta/.conda/envs/NLP/lib/python3.7/site-packages (from pyLDAvis) (0.13.2)\n",
      "Collecting jinja2>=2.7.2\n",
      "  Using cached https://files.pythonhosted.org/packages/65/e0/eb35e762802015cab1ccee04e8a277b03f1d8e53da3ec3106882ec42558b/Jinja2-2.10.3-py2.py3-none-any.whl\n",
      "Collecting numexpr\n",
      "\u001b[?25l  Downloading https://files.pythonhosted.org/packages/95/e5/7eb027d5a2d74a0bb8cf6e3a13855649af3dce08973407d14a68b270de02/numexpr-2.7.0-cp37-cp37m-macosx_10_6_intel.macosx_10_9_intel.macosx_10_9_x86_64.macosx_10_10_intel.macosx_10_10_x86_64.whl (186kB)\n",
      "\u001b[K     |████████████████████████████████| 194kB 37.7MB/s eta 0:00:01\n",
      "\u001b[?25hCollecting pytest\n",
      "\u001b[?25l  Downloading https://files.pythonhosted.org/packages/da/ed/d22d7f06eb1107271694ed2171b9d52e8eea38d9757124e75ba13324ac77/pytest-5.3.1-py3-none-any.whl (233kB)\n",
      "\u001b[K     |████████████████████████████████| 235kB 1.7MB/s eta 0:00:01\n",
      "\u001b[?25hCollecting future\n",
      "\u001b[?25l  Downloading https://files.pythonhosted.org/packages/45/0b/38b06fd9b92dc2b68d58b75f900e97884c45bedd2ff83203d933cf5851c9/future-0.18.2.tar.gz (829kB)\n",
      "\u001b[K     |████████████████████████████████| 829kB 1.7MB/s eta 0:00:01\n",
      "\u001b[?25hCollecting funcy\n",
      "\u001b[?25l  Downloading https://files.pythonhosted.org/packages/ce/4b/6ffa76544e46614123de31574ad95758c421aae391a1764921b8a81e1eae/funcy-1.14.tar.gz (548kB)\n",
      "\u001b[K     |████████████████████████████████| 552kB 1.5MB/s eta 0:00:01\n",
      "\u001b[?25hRequirement already satisfied: python-dateutil>=2.5.0 in /Users/lotta/.conda/envs/NLP/lib/python3.7/site-packages (from pandas>=0.17.0->pyLDAvis) (2.8.0)\n",
      "Requirement already satisfied: pytz>=2011k in /Users/lotta/.conda/envs/NLP/lib/python3.7/site-packages (from pandas>=0.17.0->pyLDAvis) (2019.3)\n",
      "Collecting MarkupSafe>=0.23\n",
      "  Using cached https://files.pythonhosted.org/packages/ce/c6/f000f1af136ef74e4a95e33785921c73595c5390403f102e9b231b065b7a/MarkupSafe-1.1.1-cp37-cp37m-macosx_10_6_intel.whl\n",
      "Collecting packaging\n",
      "  Downloading https://files.pythonhosted.org/packages/cf/94/9672c2d4b126e74c4496c6b3c58a8b51d6419267be9e70660ba23374c875/packaging-19.2-py2.py3-none-any.whl\n",
      "Collecting pluggy<1.0,>=0.12\n",
      "  Downloading https://files.pythonhosted.org/packages/a0/28/85c7aa31b80d150b772fbe4a229487bc6644da9ccb7e427dd8cc60cb8a62/pluggy-0.13.1-py2.py3-none-any.whl\n",
      "Requirement already satisfied: importlib-metadata>=0.12; python_version < \"3.8\" in /Users/lotta/.conda/envs/NLP/lib/python3.7/site-packages (from pytest->pyLDAvis) (1.1.0)\n",
      "Requirement already satisfied: wcwidth in /Users/lotta/.conda/envs/NLP/lib/python3.7/site-packages (from pytest->pyLDAvis) (0.1.7)\n",
      "Collecting py>=1.5.0\n",
      "  Using cached https://files.pythonhosted.org/packages/76/bc/394ad449851729244a97857ee14d7cba61ddb268dce3db538ba2f2ba1f0f/py-1.8.0-py2.py3-none-any.whl\n",
      "Requirement already satisfied: more-itertools>=4.0.0 in /Users/lotta/.conda/envs/NLP/lib/python3.7/site-packages (from pytest->pyLDAvis) (8.0.0)\n",
      "Collecting attrs>=17.4.0\n",
      "  Downloading https://files.pythonhosted.org/packages/a2/db/4313ab3be961f7a763066401fb77f7748373b6094076ae2bda2806988af6/attrs-19.3.0-py2.py3-none-any.whl\n",
      "Requirement already satisfied: six>=1.5 in /Users/lotta/.conda/envs/NLP/lib/python3.7/site-packages (from python-dateutil>=2.5.0->pandas>=0.17.0->pyLDAvis) (1.12.0)\n",
      "Requirement already satisfied: pyparsing>=2.0.2 in /Users/lotta/.conda/envs/NLP/lib/python3.7/site-packages (from packaging->pytest->pyLDAvis) (2.4.2)\n",
      "Requirement already satisfied: zipp>=0.5 in /Users/lotta/.conda/envs/NLP/lib/python3.7/site-packages (from importlib-metadata>=0.12; python_version < \"3.8\"->pytest->pyLDAvis) (0.6.0)\n",
      "Building wheels for collected packages: pyLDAvis, future, funcy\n",
      "  Building wheel for pyLDAvis (setup.py) ... \u001b[?25ldone\n",
      "\u001b[?25h  Created wheel for pyLDAvis: filename=pyLDAvis-2.1.2-py2.py3-none-any.whl size=97711 sha256=eca08e46af17717948d53b494a47afab7ed849e95c9a853c13d03961594a8925\n",
      "  Stored in directory: /Users/lotta/Library/Caches/pip/wheels/98/71/24/513a99e58bb6b8465bae4d2d5e9dba8f0bef8179e3051ac414\n",
      "  Building wheel for future (setup.py) ... \u001b[?25ldone\n",
      "\u001b[?25h  Created wheel for future: filename=future-0.18.2-cp37-none-any.whl size=491057 sha256=e89c2fc6d182e8490926116d8850b327c2c02cce457d4b9d0e9c51b311e562b9\n",
      "  Stored in directory: /Users/lotta/Library/Caches/pip/wheels/8b/99/a0/81daf51dcd359a9377b110a8a886b3895921802d2fc1b2397e\n",
      "  Building wheel for funcy (setup.py) ... \u001b[?25ldone\n",
      "\u001b[?25h  Created wheel for funcy: filename=funcy-1.14-py2.py3-none-any.whl size=32040 sha256=62cfa5f31edbf74ff1e28851b4a6153b18239b4642e9e90ffbddd8df9c851359\n",
      "  Stored in directory: /Users/lotta/Library/Caches/pip/wheels/20/5a/d8/1d875df03deae6f178dfdf70238cca33f948ef8a6f5209f2eb\n",
      "Successfully built pyLDAvis future funcy\n",
      "Installing collected packages: MarkupSafe, jinja2, numexpr, packaging, pluggy, py, attrs, pytest, future, funcy, pyLDAvis\n",
      "Successfully installed MarkupSafe-1.1.1 attrs-19.3.0 funcy-1.14 future-0.18.2 jinja2-2.10.3 numexpr-2.7.0 packaging-19.2 pluggy-0.13.1 py-1.8.0 pyLDAvis-2.1.2 pytest-5.3.1\n"
     ]
    }
   ],
   "source": [
    "!pip install pyLDAvis"
   ]
  },
  {
   "cell_type": "code",
   "execution_count": 210,
   "metadata": {},
   "outputs": [],
   "source": [
    "import pyLDAvis.gensim\n",
    "\n",
    "pyLDAvis.enable_notebook()"
   ]
  },
  {
   "cell_type": "code",
   "execution_count": 211,
   "metadata": {},
   "outputs": [
    {
     "name": "stderr",
     "output_type": "stream",
     "text": [
      "/Users/lotta/.conda/envs/NLP/lib/python3.7/site-packages/pyLDAvis/_prepare.py:257: FutureWarning: Sorting because non-concatenation axis is not aligned. A future version\n",
      "of pandas will change to not sort by default.\n",
      "\n",
      "To accept the future behavior, pass 'sort=False'.\n",
      "\n",
      "To retain the current behavior and silence the warning, pass 'sort=True'.\n",
      "\n",
      "  return pd.concat([default_term_info] + list(topic_dfs))\n"
     ]
    },
    {
     "data": {
      "text/html": [
       "\n",
       "<link rel=\"stylesheet\" type=\"text/css\" href=\"https://cdn.rawgit.com/bmabey/pyLDAvis/files/ldavis.v1.0.0.css\">\n",
       "\n",
       "\n",
       "<div id=\"ldavis_el42721167915470889181479384\"></div>\n",
       "<script type=\"text/javascript\">\n",
       "\n",
       "var ldavis_el42721167915470889181479384_data = {\"mdsDat\": {\"x\": [-0.0002736692426391865, 0.004219679493713379, -0.00218873654876111, 0.0006321064860898265, 0.003978344770634922, -6.324223850829043e-05, 0.002092588384424633, -0.003281197999316707, -0.00445538755860592, -0.0006604855470315543], \"y\": [-0.0019348271149902602, 0.004753316307089667, 0.0034025839681460575, -0.000992362000453907, -0.001841389733219039, -0.002496617672228615, -0.0009061183170343384, -0.0024830362756286545, 0.0026207671347296914, -0.00012231629641061196], \"topics\": [1, 2, 3, 4, 5, 6, 7, 8, 9, 10], \"cluster\": [1, 1, 1, 1, 1, 1, 1, 1, 1, 1], \"Freq\": [10.279590606689453, 10.215106964111328, 10.202593803405762, 10.201081275939941, 10.170114517211914, 10.087573051452637, 9.833385467529297, 9.786576271057129, 9.645413398742676, 9.578566551208496]}, \"tinfo\": {\"Category\": [\"Default\", \"Default\", \"Default\", \"Default\", \"Default\", \"Default\", \"Default\", \"Default\", \"Default\", \"Default\", \"Default\", \"Default\", \"Default\", \"Default\", \"Default\", \"Default\", \"Default\", \"Default\", \"Default\", \"Default\", \"Default\", \"Default\", \"Default\", \"Default\", \"Default\", \"Default\", \"Default\", \"Default\", \"Default\", \"Default\", \"Topic1\", \"Topic1\", \"Topic1\", \"Topic1\", \"Topic1\", \"Topic1\", \"Topic1\", \"Topic1\", \"Topic1\", \"Topic1\", \"Topic1\", \"Topic1\", \"Topic1\", \"Topic1\", \"Topic1\", \"Topic1\", \"Topic1\", \"Topic1\", \"Topic1\", \"Topic1\", \"Topic1\", \"Topic1\", \"Topic1\", \"Topic1\", \"Topic1\", \"Topic1\", \"Topic1\", \"Topic1\", \"Topic1\", \"Topic1\", \"Topic1\", \"Topic1\", \"Topic1\", \"Topic1\", \"Topic1\", \"Topic1\", \"Topic1\", \"Topic1\", \"Topic1\", \"Topic1\", \"Topic1\", \"Topic1\", \"Topic1\", \"Topic1\", \"Topic1\", \"Topic1\", \"Topic1\", \"Topic1\", \"Topic1\", \"Topic1\", \"Topic1\", \"Topic1\", \"Topic1\", \"Topic1\", \"Topic1\", \"Topic1\", \"Topic1\", \"Topic1\", \"Topic1\", \"Topic1\", \"Topic1\", \"Topic1\", \"Topic1\", \"Topic1\", \"Topic1\", \"Topic1\", \"Topic1\", \"Topic1\", \"Topic1\", \"Topic1\", \"Topic1\", \"Topic1\", \"Topic1\", \"Topic1\", \"Topic1\", \"Topic1\", \"Topic1\", \"Topic1\", \"Topic1\", \"Topic1\", \"Topic1\", \"Topic1\", \"Topic1\", \"Topic1\", \"Topic1\", \"Topic2\", \"Topic2\", \"Topic2\", \"Topic2\", \"Topic2\", \"Topic2\", \"Topic2\", \"Topic2\", \"Topic2\", \"Topic2\", \"Topic2\", \"Topic2\", \"Topic2\", \"Topic2\", \"Topic2\", \"Topic2\", \"Topic2\", \"Topic2\", \"Topic2\", \"Topic2\", \"Topic2\", \"Topic2\", \"Topic2\", \"Topic2\", \"Topic2\", \"Topic2\", \"Topic2\", \"Topic2\", \"Topic2\", \"Topic2\", \"Topic2\", \"Topic2\", \"Topic2\", \"Topic2\", \"Topic2\", \"Topic2\", \"Topic2\", \"Topic2\", \"Topic2\", \"Topic2\", \"Topic2\", \"Topic2\", \"Topic2\", \"Topic2\", \"Topic2\", \"Topic2\", \"Topic2\", \"Topic2\", \"Topic2\", \"Topic2\", \"Topic2\", \"Topic2\", \"Topic2\", \"Topic2\", \"Topic2\", \"Topic2\", \"Topic2\", \"Topic2\", \"Topic2\", \"Topic2\", \"Topic2\", \"Topic2\", \"Topic2\", \"Topic2\", \"Topic2\", \"Topic2\", \"Topic2\", \"Topic2\", \"Topic2\", \"Topic2\", \"Topic2\", \"Topic2\", \"Topic2\", \"Topic2\", \"Topic2\", \"Topic2\", \"Topic2\", \"Topic2\", \"Topic2\", \"Topic2\", \"Topic3\", \"Topic3\", \"Topic3\", \"Topic3\", \"Topic3\", \"Topic3\", \"Topic3\", \"Topic3\", \"Topic3\", \"Topic3\", \"Topic3\", \"Topic3\", \"Topic3\", \"Topic3\", \"Topic3\", \"Topic3\", \"Topic3\", \"Topic3\", \"Topic3\", \"Topic3\", \"Topic3\", \"Topic3\", \"Topic3\", \"Topic3\", \"Topic3\", \"Topic3\", \"Topic3\", \"Topic3\", \"Topic3\", \"Topic3\", \"Topic3\", \"Topic3\", \"Topic3\", \"Topic3\", \"Topic3\", \"Topic3\", \"Topic3\", \"Topic3\", \"Topic3\", \"Topic3\", \"Topic3\", \"Topic3\", \"Topic3\", \"Topic3\", \"Topic3\", \"Topic3\", \"Topic3\", \"Topic3\", \"Topic3\", \"Topic3\", \"Topic3\", \"Topic3\", \"Topic3\", \"Topic3\", \"Topic3\", \"Topic3\", \"Topic3\", \"Topic3\", \"Topic3\", \"Topic3\", \"Topic3\", \"Topic3\", \"Topic3\", \"Topic3\", \"Topic3\", \"Topic3\", \"Topic3\", \"Topic3\", \"Topic3\", \"Topic3\", \"Topic3\", \"Topic3\", \"Topic3\", \"Topic3\", \"Topic3\", \"Topic3\", \"Topic3\", \"Topic3\", \"Topic3\", \"Topic3\", \"Topic3\", \"Topic3\", \"Topic4\", \"Topic4\", \"Topic4\", \"Topic4\", \"Topic4\", \"Topic4\", \"Topic4\", \"Topic4\", \"Topic4\", \"Topic4\", \"Topic4\", \"Topic4\", \"Topic4\", \"Topic4\", \"Topic4\", \"Topic4\", \"Topic4\", \"Topic4\", \"Topic4\", \"Topic4\", \"Topic4\", \"Topic4\", \"Topic4\", \"Topic4\", \"Topic4\", \"Topic4\", \"Topic4\", \"Topic4\", \"Topic4\", \"Topic4\", \"Topic4\", \"Topic4\", \"Topic4\", \"Topic4\", \"Topic4\", \"Topic4\", \"Topic4\", \"Topic4\", \"Topic4\", \"Topic4\", \"Topic4\", \"Topic4\", \"Topic4\", \"Topic4\", \"Topic4\", \"Topic4\", \"Topic4\", \"Topic4\", \"Topic4\", \"Topic4\", \"Topic4\", \"Topic4\", \"Topic4\", \"Topic4\", \"Topic4\", \"Topic4\", \"Topic4\", \"Topic4\", \"Topic4\", \"Topic4\", \"Topic4\", \"Topic4\", \"Topic4\", \"Topic4\", \"Topic4\", \"Topic4\", \"Topic4\", \"Topic4\", \"Topic4\", \"Topic4\", \"Topic4\", \"Topic4\", \"Topic4\", \"Topic4\", \"Topic4\", \"Topic4\", \"Topic4\", \"Topic4\", \"Topic4\", \"Topic4\", \"Topic4\", \"Topic4\", \"Topic4\", \"Topic4\", \"Topic4\", \"Topic5\", \"Topic5\", \"Topic5\", \"Topic5\", \"Topic5\", \"Topic5\", \"Topic5\", \"Topic5\", \"Topic5\", \"Topic5\", \"Topic5\", \"Topic5\", \"Topic5\", \"Topic5\", \"Topic5\", \"Topic5\", \"Topic5\", \"Topic5\", \"Topic5\", \"Topic5\", \"Topic5\", \"Topic5\", \"Topic5\", \"Topic5\", \"Topic5\", \"Topic5\", \"Topic5\", \"Topic5\", \"Topic5\", \"Topic5\", \"Topic5\", \"Topic5\", \"Topic5\", \"Topic5\", \"Topic5\", \"Topic5\", \"Topic5\", \"Topic5\", \"Topic5\", \"Topic5\", \"Topic5\", \"Topic5\", \"Topic5\", \"Topic5\", \"Topic5\", \"Topic5\", \"Topic5\", \"Topic5\", \"Topic5\", \"Topic5\", \"Topic5\", \"Topic5\", \"Topic5\", \"Topic5\", \"Topic5\", \"Topic5\", \"Topic5\", \"Topic5\", \"Topic5\", \"Topic5\", \"Topic5\", \"Topic5\", \"Topic5\", \"Topic5\", \"Topic5\", \"Topic5\", \"Topic5\", \"Topic5\", \"Topic5\", \"Topic5\", \"Topic5\", \"Topic5\", \"Topic5\", \"Topic5\", \"Topic5\", \"Topic5\", \"Topic5\", \"Topic5\", \"Topic5\", \"Topic5\", \"Topic5\", \"Topic5\", \"Topic5\", \"Topic5\", \"Topic5\", \"Topic5\", \"Topic5\", \"Topic5\", \"Topic5\", \"Topic5\", \"Topic6\", \"Topic6\", \"Topic6\", \"Topic6\", \"Topic6\", \"Topic6\", \"Topic6\", \"Topic6\", \"Topic6\", \"Topic6\", \"Topic6\", \"Topic6\", \"Topic6\", \"Topic6\", \"Topic6\", \"Topic6\", \"Topic6\", \"Topic6\", \"Topic6\", \"Topic6\", \"Topic6\", \"Topic6\", \"Topic6\", \"Topic6\", \"Topic6\", \"Topic6\", \"Topic6\", \"Topic6\", \"Topic6\", \"Topic6\", \"Topic6\", \"Topic6\", \"Topic6\", \"Topic6\", \"Topic6\", \"Topic6\", \"Topic6\", \"Topic6\", \"Topic6\", \"Topic6\", \"Topic6\", \"Topic6\", \"Topic6\", \"Topic6\", \"Topic6\", \"Topic6\", \"Topic6\", \"Topic6\", \"Topic6\", \"Topic6\", \"Topic6\", \"Topic6\", \"Topic6\", \"Topic6\", \"Topic6\", \"Topic6\", \"Topic6\", \"Topic6\", \"Topic6\", \"Topic6\", \"Topic6\", \"Topic6\", \"Topic6\", \"Topic6\", \"Topic6\", \"Topic6\", \"Topic6\", \"Topic6\", \"Topic6\", \"Topic6\", \"Topic6\", \"Topic6\", \"Topic6\", \"Topic6\", \"Topic6\", \"Topic6\", \"Topic6\", \"Topic6\", \"Topic6\", \"Topic6\", \"Topic6\", \"Topic6\", \"Topic6\", \"Topic6\", \"Topic6\", \"Topic7\", \"Topic7\", \"Topic7\", \"Topic7\", \"Topic7\", \"Topic7\", \"Topic7\", \"Topic7\", \"Topic7\", \"Topic7\", \"Topic7\", \"Topic7\", \"Topic7\", \"Topic7\", \"Topic7\", \"Topic7\", \"Topic7\", \"Topic7\", \"Topic7\", \"Topic7\", \"Topic7\", \"Topic7\", \"Topic7\", \"Topic7\", \"Topic7\", \"Topic7\", \"Topic7\", \"Topic7\", \"Topic7\", \"Topic7\", \"Topic7\", \"Topic7\", \"Topic7\", \"Topic7\", \"Topic7\", \"Topic7\", \"Topic7\", \"Topic7\", \"Topic7\", \"Topic7\", \"Topic7\", \"Topic7\", \"Topic7\", \"Topic7\", \"Topic7\", \"Topic7\", \"Topic7\", \"Topic7\", \"Topic7\", \"Topic7\", \"Topic7\", \"Topic7\", \"Topic7\", \"Topic7\", \"Topic7\", \"Topic7\", \"Topic7\", \"Topic7\", \"Topic7\", \"Topic7\", \"Topic7\", \"Topic7\", \"Topic7\", \"Topic7\", \"Topic7\", \"Topic7\", \"Topic7\", \"Topic7\", \"Topic7\", \"Topic7\", \"Topic7\", \"Topic7\", \"Topic7\", \"Topic7\", \"Topic7\", \"Topic7\", \"Topic7\", \"Topic7\", \"Topic7\", \"Topic7\", \"Topic7\", \"Topic7\", \"Topic7\", \"Topic7\", \"Topic8\", \"Topic8\", \"Topic8\", \"Topic8\", \"Topic8\", \"Topic8\", \"Topic8\", \"Topic8\", \"Topic8\", \"Topic8\", \"Topic8\", \"Topic8\", \"Topic8\", \"Topic8\", \"Topic8\", \"Topic8\", \"Topic8\", \"Topic8\", \"Topic8\", \"Topic8\", \"Topic8\", \"Topic8\", \"Topic8\", \"Topic8\", \"Topic8\", \"Topic8\", \"Topic8\", \"Topic8\", \"Topic8\", \"Topic8\", \"Topic8\", \"Topic8\", \"Topic8\", \"Topic8\", \"Topic8\", \"Topic8\", \"Topic8\", \"Topic8\", \"Topic8\", \"Topic8\", \"Topic8\", \"Topic8\", \"Topic8\", \"Topic8\", \"Topic8\", \"Topic8\", \"Topic8\", \"Topic8\", \"Topic8\", \"Topic8\", \"Topic8\", \"Topic8\", \"Topic8\", \"Topic8\", \"Topic8\", \"Topic8\", \"Topic8\", \"Topic8\", \"Topic8\", \"Topic8\", \"Topic8\", \"Topic8\", \"Topic8\", \"Topic8\", \"Topic8\", \"Topic8\", \"Topic8\", \"Topic8\", \"Topic8\", \"Topic8\", \"Topic8\", \"Topic8\", \"Topic8\", \"Topic8\", \"Topic8\", \"Topic8\", \"Topic8\", \"Topic8\", \"Topic8\", \"Topic8\", \"Topic8\", \"Topic8\", \"Topic8\", \"Topic8\", \"Topic8\", \"Topic8\", \"Topic8\", \"Topic9\", \"Topic9\", \"Topic9\", \"Topic9\", \"Topic9\", \"Topic9\", \"Topic9\", \"Topic9\", \"Topic9\", \"Topic9\", \"Topic9\", \"Topic9\", \"Topic9\", \"Topic9\", \"Topic9\", \"Topic9\", \"Topic9\", \"Topic9\", \"Topic9\", \"Topic9\", \"Topic9\", \"Topic9\", \"Topic9\", \"Topic9\", \"Topic9\", \"Topic9\", \"Topic9\", \"Topic9\", \"Topic9\", \"Topic9\", \"Topic9\", \"Topic9\", \"Topic9\", \"Topic9\", \"Topic9\", \"Topic9\", \"Topic9\", \"Topic9\", \"Topic9\", \"Topic9\", \"Topic9\", \"Topic9\", \"Topic9\", \"Topic9\", \"Topic9\", \"Topic9\", \"Topic9\", \"Topic9\", \"Topic9\", \"Topic9\", \"Topic9\", \"Topic9\", \"Topic9\", \"Topic9\", \"Topic9\", \"Topic9\", \"Topic9\", \"Topic9\", \"Topic9\", \"Topic9\", \"Topic9\", \"Topic9\", \"Topic9\", \"Topic9\", \"Topic9\", \"Topic9\", \"Topic9\", \"Topic9\", \"Topic9\", \"Topic9\", \"Topic9\", \"Topic9\", \"Topic9\", \"Topic9\", \"Topic9\", \"Topic9\", \"Topic9\", \"Topic9\", \"Topic9\", \"Topic9\", \"Topic9\", \"Topic9\", \"Topic9\", \"Topic9\", \"Topic9\", \"Topic9\", \"Topic9\", \"Topic9\", \"Topic9\", \"Topic9\", \"Topic9\", \"Topic10\", \"Topic10\", \"Topic10\", \"Topic10\", \"Topic10\", \"Topic10\", \"Topic10\", \"Topic10\", \"Topic10\", \"Topic10\", \"Topic10\", \"Topic10\", \"Topic10\", \"Topic10\", \"Topic10\", \"Topic10\", \"Topic10\", \"Topic10\", \"Topic10\", \"Topic10\", \"Topic10\", \"Topic10\", \"Topic10\", \"Topic10\", \"Topic10\", \"Topic10\", \"Topic10\", \"Topic10\", \"Topic10\", \"Topic10\", \"Topic10\", \"Topic10\", \"Topic10\", \"Topic10\", \"Topic10\", \"Topic10\", \"Topic10\", \"Topic10\", \"Topic10\", \"Topic10\", \"Topic10\", \"Topic10\", \"Topic10\", \"Topic10\", \"Topic10\", \"Topic10\", \"Topic10\", \"Topic10\", \"Topic10\", \"Topic10\", \"Topic10\", \"Topic10\", \"Topic10\", \"Topic10\", \"Topic10\", \"Topic10\", \"Topic10\", \"Topic10\", \"Topic10\", \"Topic10\", \"Topic10\", \"Topic10\", \"Topic10\", \"Topic10\", \"Topic10\", \"Topic10\", \"Topic10\", \"Topic10\", \"Topic10\", \"Topic10\", \"Topic10\", \"Topic10\", \"Topic10\", \"Topic10\", \"Topic10\", \"Topic10\", \"Topic10\", \"Topic10\", \"Topic10\", \"Topic10\", \"Topic10\", \"Topic10\", \"Topic10\", \"Topic10\", \"Topic10\"], \"Freq\": [4280.0, 4620.0, 3441.0, 3418.0, 4725.0, 1924.0, 3631.0, 1648.0, 2057.0, 792.0, 4924.0, 700.0, 1433.0, 1487.0, 1424.0, 1161.0, 1235.0, 974.0, 786.0, 1453.0, 1456.0, 1561.0, 965.0, 672.0, 1296.0, 683.0, 1387.0, 1492.0, 645.0, 803.0, 2.603914976119995, 1.8831818103790283, 2.2996912002563477, 1.6722822189331055, 1.6049193143844604, 1.8219821453094482, 3.629690647125244, 3.688856840133667, 1.0838407278060913, 2.336470603942871, 2.9891979694366455, 1.8883247375488281, 1.7878687381744385, 3.179797649383545, 1.0503889322280884, 1.6859285831451416, 2.5527138710021973, 1.6604158878326416, 1.7108826637268066, 2.9109933376312256, 17.40976333618164, 77.90583038330078, 1.9877022504806519, 2.400569200515747, 3.080110549926758, 7.889301300048828, 20.966793060302734, 1.8610634803771973, 1.020842432975769, 0.756090521812439, 65.71697235107422, 3.0572257041931152, 55.6549072265625, 27.2567195892334, 165.22665405273438, 65.09629821777344, 4.249664306640625, 58.182701110839844, 94.49116516113281, 35.0854606628418, 20.313398361206055, 161.96775817871094, 60.071964263916016, 30.1330623626709, 16.003894805908203, 168.17489624023438, 433.6148681640625, 88.74723815917969, 443.6316833496094, 203.05372619628906, 532.8053588867188, 66.7952651977539, 235.4229278564453, 391.75927734375, 70.32691955566406, 52.29439926147461, 121.02320861816406, 511.0235900878906, 58.412864685058594, 86.97310638427734, 162.4794158935547, 86.22476196289062, 462.0301818847656, 199.4324951171875, 103.71729278564453, 155.4628143310547, 137.7580108642578, 167.15052795410156, 150.54078674316406, 355.0791931152344, 168.1363983154297, 140.5821533203125, 148.57131958007812, 154.35206604003906, 190.44793701171875, 127.27877044677734, 115.66926574707031, 118.95048522949219, 134.8362579345703, 115.37742614746094, 143.66395568847656, 133.25401306152344, 123.53528594970703, 125.94734191894531, 125.24456024169922, 2.6871209144592285, 2.440645456314087, 1.652138113975525, 1.63421630859375, 2.168424129486084, 2.7807424068450928, 2.629657745361328, 9.883400917053223, 1.4082516431808472, 6.737715244293213, 18.650854110717773, 3.9748644828796387, 1.1594127416610718, 8.055739402770996, 2.1307811737060547, 2.1556801795959473, 2.4503486156463623, 3.1706953048706055, 4.823855400085449, 4.856984615325928, 3.2889695167541504, 0.8645142912864685, 4.4202728271484375, 1.118707537651062, 1.4637463092803955, 1.1165796518325806, 1.3721113204956055, 3.340374708175659, 2.4466235637664795, 1.7020864486694336, 19.331188201904297, 67.65738677978516, 153.71347045898438, 125.32391357421875, 26.49666976928711, 42.49947738647461, 13.735909461975098, 610.2544555664062, 209.35162353515625, 37.57343292236328, 63.18933868408203, 70.27584075927734, 22.763818740844727, 118.01567077636719, 77.85782623291016, 38.2589225769043, 614.4275512695312, 270.5271301269531, 35.04136657714844, 97.8194808959961, 55.913238525390625, 226.67784118652344, 56.850547790527344, 410.6313781738281, 191.26739501953125, 155.73524475097656, 527.1730346679688, 174.7835235595703, 122.24824523925781, 230.4304962158203, 152.85964965820312, 211.4578094482422, 102.12615966796875, 183.18141174316406, 377.5932312011719, 135.38156127929688, 347.9159851074219, 168.63583374023438, 100.40387725830078, 109.45285034179688, 135.0734100341797, 334.11767578125, 133.7661590576172, 141.87704467773438, 136.71229553222656, 140.41873168945312, 135.64898681640625, 143.35787963867188, 129.37350463867188, 124.3013687133789, 3.3905417919158936, 2.4570372104644775, 1.7798981666564941, 2.2834813594818115, 2.8406405448913574, 8.728053092956543, 1.3205018043518066, 1.1768722534179688, 1.5795577764511108, 5.3771820068359375, 4.3239426612854, 2.9877030849456787, 2.4767003059387207, 1.3921985626220703, 3.8774824142456055, 1.088395357131958, 1.6089891195297241, 2.7806975841522217, 34.31614685058594, 1.3011219501495361, 2.808638572692871, 1.670689344406128, 1.3818308115005493, 4.564633369445801, 2.941446542739868, 35.24873352050781, 4.875209808349609, 5.841400146484375, 1.2448785305023193, 1.0070750713348389, 14.826115608215332, 69.97352600097656, 8.925588607788086, 15.867690086364746, 248.06166076660156, 193.68348693847656, 171.00144958496094, 33.671974182128906, 43.12309646606445, 84.03182983398438, 38.05097579956055, 137.7089385986328, 19.992570877075195, 122.82864379882812, 134.18191528320312, 72.15703582763672, 114.64689636230469, 51.379600524902344, 117.98554992675781, 51.37794494628906, 189.233642578125, 549.1392211914062, 43.87746810913086, 530.5392456054688, 198.2663116455078, 546.2021484375, 107.52767944335938, 158.38327026367188, 172.5361328125, 228.51585388183594, 113.4299545288086, 99.270751953125, 108.1437759399414, 202.97885131835938, 376.1119079589844, 106.07664489746094, 173.90216064453125, 163.80406188964844, 137.42498779296875, 112.9137954711914, 134.72874450683594, 273.84423828125, 268.4244384765625, 180.00794982910156, 257.9448547363281, 157.5315704345703, 142.57830810546875, 133.18032836914062, 129.56396484375, 128.3652801513672, 128.50457763671875, 123.88919067382812, 1.8770941495895386, 1.909493327140808, 5.815154552459717, 2.0814437866210938, 1.394354224205017, 1.8887606859207153, 20.0980281829834, 2.562175750732422, 1.3968936204910278, 1.3449896574020386, 1.4744969606399536, 1.5939134359359741, 3.3607289791107178, 1.321972131729126, 3.2669644355773926, 111.49154663085938, 1.0364779233932495, 12.197792053222656, 1.1344331502914429, 2.3593156337738037, 1.3549050092697144, 1.9656323194503784, 2.449310541152954, 1.6065975427627563, 1.2317200899124146, 3.252265214920044, 8.936765670776367, 0.9995784163475037, 3.220212459564209, 1.253409743309021, 2.541930913925171, 4.960691452026367, 17.779529571533203, 12.391042709350586, 12.211479187011719, 310.15887451171875, 106.19852447509766, 3.888932704925537, 17.438207626342773, 13.044349670410156, 19.814775466918945, 93.57369232177734, 45.733829498291016, 108.51983642578125, 88.28489685058594, 441.7856750488281, 21.31109046936035, 199.04803466796875, 100.87322998046875, 117.36288452148438, 240.30453491210938, 184.67514038085938, 185.65513610839844, 494.6119689941406, 71.64537048339844, 73.97106170654297, 52.18947219848633, 80.19352722167969, 174.76950073242188, 64.85526275634766, 490.4945068359375, 77.42041015625, 46.587650299072266, 478.8070983886719, 173.89739990234375, 355.7304992675781, 203.95455932617188, 478.85748291015625, 132.60423278808594, 170.8269500732422, 136.62904357910156, 117.34712982177734, 152.4149169921875, 315.18243408203125, 137.88983154296875, 119.32634735107422, 173.61276245117188, 145.74647521972656, 141.82843017578125, 133.92066955566406, 139.47564697265625, 139.80047607421875, 125.18460845947266, 133.78909301757812, 133.06820678710938, 1.1658673286437988, 2.0279722213745117, 17.530202865600586, 2.7031638622283936, 1.2123125791549683, 1.9005001783370972, 39.22994613647461, 2.743727207183838, 3.004664182662964, 1.1600122451782227, 0.7800162434577942, 1.6648072004318237, 1.028911828994751, 7.180624961853027, 0.7558227777481079, 0.8690485954284668, 2.3556711673736572, 1.1305913925170898, 1.12904953956604, 2.9934353828430176, 1.6374566555023193, 2.3264541625976562, 4.768147945404053, 1.6954697370529175, 20.654802322387695, 4.3046488761901855, 1.9659584760665894, 0.9790396094322205, 3.1599555015563965, 5.994365692138672, 9.25675106048584, 5.472263336181641, 525.9533081054688, 10.503998756408691, 28.585521697998047, 108.53302001953125, 56.375553131103516, 66.12911224365234, 254.14718627929688, 41.47032928466797, 74.04397583007812, 94.3948974609375, 18.67447853088379, 63.65195846557617, 71.3827896118164, 603.8427734375, 16.46662712097168, 34.10588455200195, 51.96017074584961, 20.419212341308594, 73.79723358154297, 28.37177085876465, 393.1925354003906, 60.518829345703125, 77.49876403808594, 187.55491638183594, 519.8804931640625, 467.80145263671875, 88.53018951416016, 399.7155456542969, 65.37543487548828, 78.29452514648438, 117.55508422851562, 482.6490173339844, 90.50817108154297, 197.91639709472656, 161.68667602539062, 160.81053161621094, 117.58749389648438, 99.27842712402344, 135.33160400390625, 153.05001831054688, 160.33438110351562, 109.59805297851562, 108.64585876464844, 152.50076293945312, 133.2006378173828, 150.211669921875, 152.66104125976562, 186.8290557861328, 145.511474609375, 141.76182556152344, 125.79987335205078, 122.7650146484375, 130.78004455566406, 131.674072265625, 122.69520568847656, 124.99124145507812, 120.61161804199219, 123.83158111572266, 2.6815593242645264, 2.1638550758361816, 9.972514152526855, 1.2825630903244019, 1.1667139530181885, 2.106689929962158, 5.302362442016602, 1.1195470094680786, 11.385854721069336, 2.906503438949585, 5.146390438079834, 1.461669921875, 2.7982606887817383, 1.5717474222183228, 7.382783889770508, 3.0755228996276855, 27.464080810546875, 2.5036046504974365, 3.1079957485198975, 2.560011625289917, 6.323430061340332, 2.4649386405944824, 2.5810494422912598, 2.4622650146484375, 3.0953760147094727, 1.1243565082550049, 2.2518081665039062, 2.086865186691284, 0.992718517780304, 3.4185500144958496, 18.09396743774414, 16.957429885864258, 12.950772285461426, 13.837519645690918, 68.795654296875, 115.66551971435547, 587.5595092773438, 32.58712387084961, 94.32667541503906, 6.572502136230469, 90.76383209228516, 64.33901977539062, 66.7165298461914, 38.98652267456055, 192.6001434326172, 86.2415771484375, 127.7464828491211, 185.3861083984375, 94.1109619140625, 527.5254516601562, 110.06317901611328, 67.56050872802734, 200.9166717529297, 145.5145263671875, 118.64778137207031, 78.70977020263672, 150.3544158935547, 59.372798919677734, 478.7911376953125, 348.1527099609375, 154.5189666748047, 156.05181884765625, 99.18307495117188, 168.99562072753906, 114.9106674194336, 71.29792785644531, 315.38555908203125, 124.92144012451172, 184.62060546875, 379.2497863769531, 306.99078369140625, 117.1957015991211, 171.23501586914062, 147.40724182128906, 144.80567932128906, 175.28675842285156, 148.11932373046875, 144.00587463378906, 172.18788146972656, 129.43931579589844, 128.30914306640625, 137.01902770996094, 137.83340454101562, 132.91148376464844, 133.9980010986328, 1.3530217409133911, 1.4387534856796265, 2.38222599029541, 1.4119065999984741, 1.8589961528778076, 1.730844497680664, 2.0649194717407227, 57.657962799072266, 0.7612960934638977, 10.682598114013672, 2.874565362930298, 1.2837895154953003, 5.133991718292236, 1.7693811655044556, 1.5946372747421265, 1.242977499961853, 2.7043240070343018, 1.1127949953079224, 2.139803171157837, 3.8818743228912354, 3.4024431705474854, 7.318665027618408, 8.409183502197266, 1.714203119277954, 11.653895378112793, 2.9884941577911377, 1.1850645542144775, 1.4602175951004028, 1.9344182014465332, 1.2268989086151123, 11.971755981445312, 74.28298950195312, 19.965547561645508, 28.302597045898438, 100.86954498291016, 26.7639217376709, 116.41734313964844, 49.294395446777344, 10.897074699401855, 78.26823425292969, 5.6638946533203125, 153.64761352539062, 443.9014587402344, 71.14336395263672, 66.93102264404297, 404.1141052246094, 539.9443359375, 138.35646057128906, 48.816890716552734, 178.46847534179688, 103.38518524169922, 73.02794647216797, 180.43482971191406, 183.69552612304688, 54.065673828125, 152.06591796875, 81.37174224853516, 75.66401672363281, 92.6085433959961, 71.3587646484375, 457.6518859863281, 336.117431640625, 159.69970703125, 395.9125671386719, 175.1346435546875, 135.23353576660156, 160.05618286132812, 204.72573852539062, 353.79156494140625, 125.65438842773438, 100.87249755859375, 93.96846008300781, 137.97216796875, 143.29408264160156, 154.61012268066406, 133.81309509277344, 134.51882934570312, 119.02140045166016, 114.0897216796875, 115.88755798339844, 136.8950958251953, 127.17237854003906, 135.98179626464844, 118.43501281738281, 1.79017174243927, 4.204396724700928, 0.874505341053009, 1.4835201501846313, 1.2011620998382568, 2.191972494125366, 1.0417636632919312, 4.035030841827393, 1.9503929615020752, 3.2375576496124268, 3.604696273803711, 2.913149356842041, 3.2135322093963623, 1.0250965356826782, 1.7153843641281128, 1.2326924800872803, 33.01863098144531, 15.043716430664062, 1.0752112865447998, 1.8945237398147583, 1.4314327239990234, 1.7378833293914795, 1.675016164779663, 3.5625288486480713, 2.4237098693847656, 1.5791915655136108, 4.316563606262207, 1.2989990711212158, 0.9592629671096802, 10.120025634765625, 4.018692493438721, 72.39595031738281, 20.236989974975586, 113.86681365966797, 16.37079620361328, 60.03418731689453, 35.36806869506836, 34.362361907958984, 31.227996826171875, 20.705944061279297, 18.042299270629883, 69.6966781616211, 131.2974853515625, 23.724123001098633, 93.5386962890625, 64.40535736083984, 567.1340942382812, 60.72603988647461, 538.843505859375, 125.79456329345703, 104.40135955810547, 86.79102325439453, 50.05122756958008, 35.021324157714844, 127.68937683105469, 82.88777923583984, 174.181396484375, 33.634002685546875, 367.0969543457031, 382.267333984375, 161.74356079101562, 103.0400390625, 186.7000274658203, 74.89447784423828, 77.04320526123047, 166.46470642089844, 123.4590072631836, 157.7931365966797, 185.98043823242188, 132.24819946289062, 104.09931945800781, 104.6497573852539, 329.1711120605469, 141.95919799804688, 150.5642852783203, 274.3070068359375, 352.05206298828125, 148.88922119140625, 165.88047790527344, 120.97994232177734, 134.79177856445312, 151.12164306640625, 144.13592529296875, 124.60027313232422, 122.74662780761719, 117.15496826171875, 117.62718963623047, 3.34499454498291, 1.5829061269760132, 1.8924716711044312, 1.178024411201477, 1.0172128677368164, 2.055237293243408, 2.687897205352783, 8.191752433776855, 1.1261284351348877, 2.924562692642212, 1.5469741821289062, 3.3850207328796387, 0.8488617539405823, 8.97619915008545, 1.7190781831741333, 7.463640213012695, 2.617675304412842, 2.3275160789489746, 1.4590767621994019, 2.17989182472229, 1.6215415000915527, 0.9587947130203247, 1.1783782243728638, 2.058197259902954, 1.9856613874435425, 5.035149574279785, 12.240803718566895, 2.8387138843536377, 1.5046252012252808, 1.1798959970474243, 109.15675354003906, 9.514190673828125, 65.66146087646484, 8.684609413146973, 6.00172233581543, 56.08443832397461, 107.16160583496094, 62.241790771484375, 31.06730079650879, 27.971033096313477, 31.851839065551758, 30.399429321289062, 25.774938583374023, 33.7713623046875, 30.631732940673828, 21.53173828125, 10.994343757629395, 182.70147705078125, 33.395851135253906, 187.7615203857422, 538.029052734375, 179.70932006835938, 102.68540954589844, 96.97966766357422, 55.41484832763672, 57.20425796508789, 37.835227966308594, 73.09213256835938, 70.34442901611328, 51.8583869934082, 64.30007934570312, 85.42845153808594, 98.68141174316406, 116.90863800048828, 142.30970764160156, 119.16492462158203, 154.9351806640625, 98.84290313720703, 99.25105285644531, 124.41902160644531, 167.221435546875, 150.1305389404297, 427.9812927246094, 130.16676330566406, 199.841796875, 346.73876953125, 149.19464111328125, 162.8021697998047, 181.3743438720703, 122.42669677734375, 144.50132751464844, 245.7801513671875, 301.3277893066406, 134.94854736328125, 154.98939514160156, 237.73475646972656, 131.48828125, 198.2337188720703, 144.28248596191406, 130.7200927734375, 123.88602447509766, 2.9132165908813477, 1.8949856758117676, 3.2632455825805664, 1.6189284324645996, 1.2942907810211182, 5.448914051055908, 5.091021537780762, 1.5169708728790283, 2.551586866378784, 1.7382481098175049, 2.6018593311309814, 1.442184567451477, 3.2083165645599365, 1.4042637348175049, 8.840928077697754, 1.7517099380493164, 2.6043860912323, 1.412456750869751, 1.864475131034851, 1.4718998670578003, 3.604353189468384, 63.782508850097656, 2.4390060901641846, 1.2546056509017944, 2.3840689659118652, 1.1959971189498901, 1.314324975013733, 0.9540088772773743, 1.037935733795166, 1.4179455041885376, 14.986839294433594, 22.009353637695312, 25.377164840698242, 7.572693824768066, 14.962882041931152, 52.683570861816406, 38.472930908203125, 37.94266891479492, 162.076904296875, 81.17974853515625, 159.61099243164062, 90.58888244628906, 18.11256217956543, 53.975440979003906, 61.16172409057617, 87.48208618164062, 229.7095489501953, 175.58181762695312, 180.05735778808594, 118.55406188964844, 81.7987060546875, 169.73399353027344, 50.92818832397461, 75.8206787109375, 434.93804931640625, 89.48710632324219, 104.35973358154297, 113.64798736572266, 454.0356750488281, 347.98248291015625, 135.298095703125, 94.74473571777344, 163.38575744628906, 95.4012680053711, 401.0900573730469, 93.79821014404297, 129.14907836914062, 123.64713287353516, 192.0758819580078, 139.8297882080078, 270.4421081542969, 106.12776184082031, 257.905517578125, 291.67840576171875, 110.04571533203125, 153.48570251464844, 128.75750732421875, 129.27645874023438, 116.98934936523438, 129.63128662109375, 128.15365600585938, 138.75559997558594, 119.68888092041016, 130.79461669921875, 120.02669525146484], \"Term\": [\"great\", \"good\", \"like\", \"time\", \"place\", \"ve\", \"service\", \"love\", \"got\", \"pizza\", \"food\", \"store\", \"people\", \"went\", \"little\", \"new\", \"delicious\", \"wait\", \"wasn\", \"try\", \"come\", \"staff\", \"told\", \"quality\", \"experience\", \"awesome\", \"friendly\", \"came\", \"worth\", \"home\", \"ian\", \"carbonara\", \"pilot\", \"sophia\", \"bonne\", \"glow\", \"johnny\", \"flies\", \"collected\", \"mandarin\", \"barbecue\", \"sole\", \"ponzu\", \"consultation\", \"tastey\", \"marshmallows\", \"bridge\", \"halo\", \"rockets\", \"soaked\", \"apparently\", \"fast\", \"dear\", \"born\", \"shitty\", \"wise\", \"prefer\", \"infused\", \"liberty\", \"drip\", \"wonderful\", \"jimmy\", \"felt\", \"son\", \"way\", \"hours\", \"tamale\", \"person\", \"need\", \"egg\", \"crust\", \"going\", \"disappointed\", \"understand\", \"sashimi\", \"delicious\", \"like\", \"coffee\", \"service\", \"staff\", \"good\", \"beef\", \"ve\", \"time\", \"busy\", \"pork\", \"fresh\", \"food\", \"open\", \"feel\", \"amazing\", \"prices\", \"place\", \"best\", \"bit\", \"chicken\", \"day\", \"ordered\", \"restaurant\", \"great\", \"love\", \"experience\", \"little\", \"order\", \"got\", \"better\", \"bar\", \"right\", \"definitely\", \"pretty\", \"nice\", \"went\", \"menu\", \"came\", \"try\", \"data\", \"loan\", \"gracious\", \"frames\", \"oriented\", \"hockey\", \"riding\", \"chicago\", \"reccomend\", \"emergency\", \"vegan\", \"vinegar\", \"adorned\", \"central\", \"gta\", \"throat\", \"ratings\", \"billing\", \"teachers\", \"initially\", \"taps\", \"hashbrowns\", \"wagyu\", \"ensuring\", \"speedy\", \"transition\", \"jon\", \"lively\", \"sir\", \"patrick\", \"environment\", \"helpful\", \"wait\", \"pizza\", \"checked\", \"attentive\", \"broken\", \"great\", \"people\", \"taking\", \"absolutely\", \"kind\", \"building\", \"asked\", \"overall\", \"short\", \"food\", \"got\", \"recommended\", \"looking\", \"especially\", \"nice\", \"wine\", \"like\", \"came\", \"said\", \"place\", \"friendly\", \"work\", \"ve\", \"delicious\", \"best\", \"wasn\", \"staff\", \"service\", \"way\", \"time\", \"ordered\", \"table\", \"took\", \"know\", \"good\", \"menu\", \"try\", \"chicken\", \"went\", \"definitely\", \"love\", \"order\", \"amazing\", \"cutest\", \"satisfactory\", \"swedish\", \"alterations\", \"browns\", \"opportunity\", \"compensation\", \"christopher\", \"baggage\", \"tr\\u00e8s\", \"photography\", \"victoria\", \"downfall\", \"fixings\", \"sont\", \"tastey\", \"accounts\", \"unorganized\", \"servers\", \"barbara\", \"hangover\", \"nate\", \"\\u00e9t\\u00e9\", \"suit\", \"disaster\", \"girl\", \"coke\", \"create\", \"stylists\", \"truffles\", \"anymore\", \"sandwich\", \"creative\", \"arizona\", \"love\", \"experience\", \"new\", \"grilled\", \"arrived\", \"friends\", \"stopped\", \"wait\", \"serving\", \"location\", \"told\", \"old\", \"customer\", \"cut\", \"times\", \"phone\", \"try\", \"place\", \"green\", \"good\", \"staff\", \"food\", \"small\", \"delicious\", \"friendly\", \"ve\", \"eat\", \"drinks\", \"bad\", \"nice\", \"service\", \"cheese\", \"ordered\", \"people\", \"said\", \"fresh\", \"know\", \"like\", \"time\", \"got\", \"great\", \"best\", \"came\", \"little\", \"restaurant\", \"amazing\", \"definitely\", \"come\", \"ghetto\", \"advertising\", \"id\", \"stole\", \"guns\", \"craig\", \"trust\", \"parsley\", \"neutral\", \"linguine\", \"advising\", \"cowboy\", \"eyebrow\", \"exist\", \"fail\", \"away\", \"thrive\", \"hole\", \"antipasto\", \"stadium\", \"greater\", \"taxi\", \"knife\", \"hotter\", \"war\", \"slide\", \"dental\", \"beginner\", \"cleaners\", \"serendipity\", \"flawless\", \"messy\", \"negative\", \"self\", \"cozy\", \"got\", \"store\", \"lo\", \"employee\", \"tons\", \"original\", \"worth\", \"style\", \"ll\", \"car\", \"time\", \"forward\", \"came\", \"meal\", \"think\", \"ve\", \"definitely\", \"come\", \"great\", \"friend\", \"overall\", \"thank\", \"coming\", \"little\", \"kind\", \"good\", \"meat\", \"chocolate\", \"place\", \"went\", \"like\", \"best\", \"food\", \"way\", \"order\", \"recommend\", \"night\", \"restaurant\", \"service\", \"menu\", \"want\", \"nice\", \"chicken\", \"amazing\", \"experience\", \"people\", \"try\", \"said\", \"staff\", \"ordered\", \"piercings\", \"capitol\", \"pad\", \"fluid\", \"charleston\", \"cones\", \"thai\", \"starters\", \"interactive\", \"lengthy\", \"aloo\", \"blueberries\", \"acrobatics\", \"brother\", \"rectified\", \"jake\", \"biryani\", \"lauren\", \"heather\", \"maki\", \"nirvana\", \"fryer\", \"foie\", \"jar\", \"frozen\", \"guarantee\", \"snail\", \"aloof\", \"melts\", \"library\", \"york\", \"snow\", \"like\", \"ride\", \"hope\", \"happy\", \"pork\", \"town\", \"best\", \"quickly\", \"busy\", \"salad\", \"donuts\", \"usually\", \"fried\", \"food\", \"homemade\", \"space\", \"dessert\", \"broth\", \"rice\", \"card\", \"time\", \"dish\", \"meat\", \"ordered\", \"place\", \"great\", \"super\", \"service\", \"tasty\", \"hour\", \"work\", \"good\", \"tried\", \"nice\", \"friendly\", \"chicken\", \"night\", \"small\", \"recommend\", \"amazing\", \"come\", \"minutes\", \"price\", \"little\", \"day\", \"definitely\", \"order\", \"got\", \"people\", \"restaurant\", \"better\", \"said\", \"came\", \"staff\", \"experience\", \"try\", \"delicious\", \"ve\", \"dank\", \"resource\", \"dentist\", \"pawn\", \"acrobatics\", \"nancy\", \"cox\", \"aim\", \"poutine\", \"meets\", \"cupcakes\", \"accepting\", \"markham\", \"nuggets\", \"damage\", \"awe\", \"charged\", \"coats\", \"poker\", \"outgoing\", \"soooo\", \"kabobs\", \"mattress\", \"arts\", \"lanes\", \"baskets\", \"chirashi\", \"breakfasts\", \"holders\", \"carried\", \"quiet\", \"salads\", \"figured\", \"die\", \"hotel\", \"lunch\", \"great\", \"month\", \"worth\", \"action\", \"coffee\", \"usually\", \"atmosphere\", \"fact\", \"went\", \"thing\", \"room\", \"try\", \"dinner\", \"good\", \"bit\", \"flavor\", \"love\", \"new\", \"fresh\", \"coming\", \"delicious\", \"quick\", \"food\", \"time\", \"amazing\", \"restaurant\", \"table\", \"ordered\", \"told\", \"favorite\", \"like\", \"right\", \"best\", \"place\", \"service\", \"bar\", \"nice\", \"little\", \"chicken\", \"ve\", \"order\", \"come\", \"got\", \"know\", \"day\", \"definitely\", \"staff\", \"friendly\", \"came\", \"aim\\u00e9\", \"occur\", \"raise\", \"plut\\u00f4t\", \"visual\", \"daniel\", \"centennial\", \"chocolate\", \"challenges\", \"pittsburgh\", \"dans\", \"accomodate\", \"assistance\", \"tostadas\", \"halo\", \"prom\", \"tiger\", \"coco\", \"carolina\", \"pastor\", \"target\", \"lemonade\", \"pedi\", \"sole\", \"vanilla\", \"disappoints\", \"springs\", \"tinted\", \"diced\", \"undoubtedly\", \"west\", \"gave\", \"dogs\", \"nail\", \"awesome\", \"takes\", \"home\", \"tea\", \"joe\", \"highly\", \"respond\", \"better\", \"service\", \"family\", \"thought\", \"time\", \"place\", \"right\", \"started\", \"try\", \"lot\", \"perfect\", \"came\", \"ordered\", \"able\", \"experience\", \"worth\", \"coming\", \"long\", \"cream\", \"food\", \"like\", \"definitely\", \"great\", \"love\", \"day\", \"order\", \"got\", \"good\", \"recommend\", \"location\", \"pizza\", \"chicken\", \"went\", \"nice\", \"people\", \"come\", \"menu\", \"going\", \"said\", \"best\", \"staff\", \"ve\", \"friendly\", \"ganoush\", \"rubbery\", \"northwest\", \"plut\\u00f4t\", \"empanada\", \"canned\", \"rides\", \"killer\", \"roots\", \"deck\", \"stickers\", \"basics\", \"mechanics\", \"pairs\", \"carpaccio\", \"hospitable\", \"rooms\", \"buying\", \"cheque\", \"bachelorette\", \"towing\", \"angela\", \"estate\", \"dinning\", \"rocked\", \"poppy\", \"taiwanese\", \"cutter\", \"fades\", \"auto\", \"detailed\", \"breakfast\", \"hungry\", \"area\", \"smile\", \"hair\", \"warm\", \"salon\", \"twice\", \"watch\", \"leaving\", \"tasty\", \"sure\", \"bland\", \"awesome\", \"fun\", \"place\", \"week\", \"good\", \"told\", \"pizza\", \"wanted\", \"guy\", \"ready\", \"bar\", \"coffee\", \"come\", \"kitchen\", \"time\", \"service\", \"restaurant\", \"bit\", \"love\", \"meat\", \"sweet\", \"went\", \"pretty\", \"little\", \"nice\", \"new\", \"price\", \"minutes\", \"great\", \"friendly\", \"order\", \"like\", \"food\", \"came\", \"best\", \"going\", \"definitely\", \"got\", \"ve\", \"chicken\", \"amazing\", \"know\", \"experience\", \"whim\", \"rapide\", \"tilapia\", \"applying\", \"drafts\", \"ads\", \"responsible\", \"shake\", \"bouncy\", \"ideas\", \"severely\", \"noted\", \"whisky\", \"bank\", \"tidy\", \"broke\", \"protect\", \"taquitos\", \"unusually\", \"reheated\", \"orleans\", \"yelped\", \"groomed\", \"discounted\", \"flower\", \"smoking\", \"california\", \"wheat\", \"styling\", \"plating\", \"store\", \"dance\", \"dishes\", \"gentleman\", \"fountain\", \"spicy\", \"meal\", \"steak\", \"type\", \"italian\", \"priced\", \"girl\", \"specials\", \"yummy\", \"terrible\", \"mac\", \"combination\", \"little\", \"flavors\", \"went\", \"good\", \"people\", \"wasn\", \"drinks\", \"cold\", \"waitress\", \"real\", \"things\", \"burger\", \"decent\", \"use\", \"quality\", \"pizza\", \"room\", \"menu\", \"bar\", \"chicken\", \"bad\", \"asked\", \"right\", \"staff\", \"restaurant\", \"food\", \"said\", \"got\", \"great\", \"try\", \"love\", \"ve\", \"new\", \"order\", \"like\", \"place\", \"friendly\", \"nice\", \"service\", \"amazing\", \"time\", \"best\", \"ordered\", \"came\", \"brooklyn\", \"siam\", \"poisoning\", \"swedish\", \"faucet\", \"field\", \"fired\", \"nod\", \"fraud\", \"referring\", \"meatloaf\", \"larry\", \"curly\", \"sarcastic\", \"installed\", \"scampi\", \"advertise\", \"cure\", \"capacity\", \"audio\", \"artists\", \"kids\", \"presence\", \"loosing\", \"differently\", \"materials\", \"instruments\", \"mojitos\", \"overlook\", \"powerful\", \"movie\", \"dollars\", \"spend\", \"machines\", \"nicely\", \"company\", \"needs\", \"reasonable\", \"know\", \"free\", \"day\", \"quality\", \"pho\", \"star\", \"inside\", \"excellent\", \"ve\", \"come\", \"order\", \"sure\", \"called\", \"definitely\", \"extremely\", \"fries\", \"great\", \"clean\", \"think\", \"night\", \"food\", \"service\", \"menu\", \"table\", \"staff\", \"sauce\", \"place\", \"home\", \"said\", \"going\", \"got\", \"friendly\", \"like\", \"room\", \"time\", \"good\", \"want\", \"best\", \"amazing\", \"restaurant\", \"recommend\", \"little\", \"people\", \"nice\", \"experience\", \"love\", \"ordered\"], \"Total\": [4280.0, 4620.0, 3441.0, 3418.0, 4725.0, 1924.0, 3631.0, 1648.0, 2057.0, 792.0, 4924.0, 700.0, 1433.0, 1487.0, 1424.0, 1161.0, 1235.0, 974.0, 786.0, 1453.0, 1456.0, 1561.0, 965.0, 672.0, 1296.0, 683.0, 1387.0, 1492.0, 645.0, 803.0, 11.837759017944336, 8.656991004943848, 10.99905014038086, 8.120960235595703, 8.127633094787598, 9.482419967651367, 19.023765563964844, 19.517641067504883, 5.767219543457031, 12.708797454833984, 16.293170928955078, 10.333638191223145, 10.0305814743042, 17.853271484375, 5.9071149826049805, 9.50808048248291, 14.40507698059082, 9.374095916748047, 9.679527282714844, 16.508094787597656, 99.04962158203125, 444.76678466796875, 11.386554718017578, 13.757596969604492, 17.666515350341797, 45.30085372924805, 120.50483703613281, 10.700275421142578, 5.935537338256836, 4.403284072875977, 392.8885803222656, 17.860538482666016, 338.7713317871094, 167.74691772460938, 1107.52392578125, 421.6886291503906, 24.965288162231445, 382.86578369140625, 638.219482421875, 227.3341064453125, 128.13746643066406, 1148.6868896484375, 405.19268798828125, 196.6413116455078, 101.06539916992188, 1235.6541748046875, 3441.806396484375, 637.5463256835938, 3631.111572265625, 1561.5794677734375, 4620.47314453125, 479.8374328613281, 1924.993896484375, 3418.58056640625, 511.3215637207031, 368.5132141113281, 939.072265625, 4924.865234375, 423.6982421875, 666.6015014648438, 1361.23486328125, 662.984130859375, 4725.77587890625, 1811.6881103515625, 834.08203125, 1393.3013916015625, 1210.722900390625, 1540.6251220703125, 1382.2899169921875, 4280.01220703125, 1648.838623046875, 1296.288818359375, 1424.76025390625, 1505.1966552734375, 2057.923828125, 1158.503662109375, 1019.944580078125, 1095.8336181640625, 1447.9232177734375, 1059.7100830078125, 1750.42041015625, 1487.9266357421875, 1238.3756103515625, 1492.8570556640625, 1453.094482421875, 13.236573219299316, 12.398050308227539, 8.51573657989502, 8.494515419006348, 11.378607749938965, 14.765292167663574, 14.465537071228027, 54.74422836303711, 7.970404148101807, 38.19595718383789, 105.80236053466797, 22.67331314086914, 6.615589141845703, 46.08083724975586, 12.244892120361328, 12.39914608001709, 14.138010025024414, 18.299015045166016, 28.0618839263916, 28.31743812561035, 19.185712814331055, 5.0811872482299805, 26.03970718383789, 6.621187686920166, 8.6661376953125, 6.618937015533447, 8.158531188964844, 19.904193878173828, 14.617887496948242, 10.175006866455078, 117.05046844482422, 414.9878845214844, 974.04833984375, 792.3886108398438, 165.19815063476562, 270.54254150390625, 85.46758270263672, 4280.01220703125, 1433.8468017578125, 244.18698120117188, 422.2740478515625, 474.6590576171875, 146.01040649414062, 838.0623779296875, 541.1575927734375, 255.24349975585938, 4924.865234375, 2057.923828125, 232.95269775390625, 703.1567993164062, 386.1477355957031, 1750.42041015625, 395.51416015625, 3441.806396484375, 1492.8570556640625, 1204.5767822265625, 4725.77587890625, 1387.351318359375, 941.1177368164062, 1924.993896484375, 1235.6541748046875, 1811.6881103515625, 786.29931640625, 1561.5794677734375, 3631.111572265625, 1107.52392578125, 3418.58056640625, 1540.6251220703125, 807.8231201171875, 915.2025146484375, 1221.760986328125, 4620.47314453125, 1238.3756103515625, 1453.094482421875, 1393.3013916015625, 1487.9266357421875, 1447.9232177734375, 1648.838623046875, 1505.1966552734375, 1361.23486328125, 13.082980155944824, 9.48929214477539, 7.495487689971924, 11.041559219360352, 14.153407096862793, 43.5826301574707, 6.614127159118652, 5.91671085357666, 7.983747959136963, 27.57577896118164, 22.450660705566406, 15.598907470703125, 13.096691131591797, 7.454070091247559, 20.761432647705078, 5.9071149826049805, 8.83154010772705, 15.279056549072266, 190.31298828125, 7.2964067459106445, 15.829505920410156, 9.518352508544922, 7.982237815856934, 26.413209915161133, 17.04702377319336, 204.9753875732422, 28.38908576965332, 34.111690521240234, 7.311623573303223, 5.932243347167969, 87.415771484375, 420.99395751953125, 52.79396057128906, 96.83055877685547, 1648.838623046875, 1296.288818359375, 1161.7000732421875, 212.73800659179688, 280.258544921875, 567.4904174804688, 247.71705627441406, 974.04833984375, 125.40377044677734, 873.2857666015625, 965.0292358398438, 498.1964111328125, 826.9036865234375, 345.8532409667969, 856.6895141601562, 349.17352294921875, 1453.094482421875, 4725.77587890625, 294.7318115234375, 4620.47314453125, 1561.5794677734375, 4924.865234375, 799.0084838867188, 1235.6541748046875, 1387.351318359375, 1924.993896484375, 861.4396362304688, 741.29248046875, 831.09423828125, 1750.42041015625, 3631.111572265625, 824.0221557617188, 1540.6251220703125, 1433.8468017578125, 1204.5767822265625, 939.072265625, 1221.760986328125, 3441.806396484375, 3418.58056640625, 2057.923828125, 4280.01220703125, 1811.6881103515625, 1492.8570556640625, 1424.76025390625, 1382.2899169921875, 1361.23486328125, 1447.9232177734375, 1456.37353515625, 7.985654830932617, 8.679123878479004, 27.403106689453125, 10.210575103759766, 7.260148525238037, 9.873769760131836, 105.92897033691406, 13.600987434387207, 7.436666011810303, 7.2906365394592285, 8.15000057220459, 8.818910598754883, 18.86662483215332, 7.456541538238525, 18.430686950683594, 633.0178833007812, 5.952732563018799, 71.06197357177734, 6.621919631958008, 13.7875394821167, 7.954285621643066, 11.578721046447754, 14.454538345336914, 9.484044075012207, 7.293025016784668, 19.26465606689453, 52.95114517211914, 5.926208972930908, 19.103349685668945, 7.439795017242432, 15.128556251525879, 29.771343231201172, 108.115966796875, 75.11959838867188, 74.39482116699219, 2057.923828125, 700.2335815429688, 23.35588836669922, 109.9914321899414, 81.38217163085938, 127.09886932373047, 645.341796875, 304.1962585449219, 765.5214233398438, 617.1236572265625, 3418.58056640625, 138.27432250976562, 1492.8570556640625, 735.0370483398438, 875.5765991210938, 1924.993896484375, 1447.9232177734375, 1456.37353515625, 4280.01220703125, 520.4130249023438, 541.1575927734375, 369.7243957519531, 594.97216796875, 1424.76025390625, 474.6590576171875, 4620.47314453125, 582.990478515625, 329.5759582519531, 4725.77587890625, 1487.9266357421875, 3441.806396484375, 1811.6881103515625, 4924.865234375, 1107.52392578125, 1505.1966552734375, 1163.4600830078125, 976.3988037109375, 1382.2899169921875, 3631.111572265625, 1238.3756103515625, 1034.2098388671875, 1750.42041015625, 1393.3013916015625, 1361.23486328125, 1296.288818359375, 1433.8468017578125, 1453.094482421875, 1204.5767822265625, 1561.5794677734375, 1540.6251220703125, 5.939558029174805, 10.361769676208496, 92.82901763916016, 14.447613716125488, 6.604032039642334, 10.354482650756836, 214.06982421875, 14.992145538330078, 16.651504516601562, 6.462620735168457, 4.409122943878174, 9.520790100097656, 5.9383158683776855, 41.61199951171875, 4.398134231567383, 5.076728343963623, 13.778613090515137, 6.626708984375, 6.632482528686523, 17.703685760498047, 9.68550968170166, 13.791753768920898, 28.62847900390625, 10.200337409973145, 124.79373931884766, 26.008941650390625, 11.88470458984375, 5.941972255706787, 19.209808349609375, 36.45273208618164, 56.30244445800781, 33.378265380859375, 3441.806396484375, 65.06221771240234, 182.22105407714844, 721.5287475585938, 368.5132141113281, 434.9635314941406, 1811.6881103515625, 277.6458435058594, 511.3215637207031, 663.4218139648438, 121.8908920288086, 444.66595458984375, 502.3888244628906, 4924.865234375, 107.2313003540039, 235.22486877441406, 370.32257080078125, 136.27391052246094, 546.589111328125, 194.4919891357422, 3418.58056640625, 444.230712890625, 582.990478515625, 1540.6251220703125, 4725.77587890625, 4280.01220703125, 680.0908203125, 3631.111572265625, 487.80657958984375, 597.1530151367188, 941.1177368164062, 4620.47314453125, 710.5369873046875, 1750.42041015625, 1387.351318359375, 1393.3013916015625, 976.3988037109375, 799.0084838867188, 1163.4600830078125, 1361.23486328125, 1456.37353515625, 912.8084106445312, 905.557373046875, 1424.76025390625, 1210.722900390625, 1447.9232177734375, 1505.1966552734375, 2057.923828125, 1433.8468017578125, 1382.2899169921875, 1158.503662109375, 1204.5767822265625, 1492.8570556640625, 1561.5794677734375, 1296.288818359375, 1453.094482421875, 1235.6541748046875, 1924.993896484375, 8.998270034790039, 7.466527462005615, 49.72517013549805, 6.474578857421875, 5.9383158683776855, 10.88250732421875, 28.061477661132812, 5.959672927856445, 60.82654571533203, 16.04435157775879, 28.47598648071289, 8.133697509765625, 15.713866233825684, 8.851207733154297, 41.710960388183594, 17.37680435180664, 155.58355712890625, 14.461278915405273, 18.09147071838379, 14.953849792480469, 37.03661346435547, 14.458160400390625, 15.159525871276855, 14.47085189819336, 18.21742820739746, 6.62987756729126, 13.286624908447266, 12.434523582458496, 5.942658424377441, 20.484935760498047, 108.73933410644531, 102.68443298339844, 79.17619323730469, 85.30585479736328, 446.25933837890625, 767.7296142578125, 4280.01220703125, 210.8047637939453, 645.341796875, 40.16286087036133, 637.5463256835938, 444.66595458984375, 466.7535705566406, 266.85638427734375, 1487.9266357421875, 627.6770629882812, 959.9657592773438, 1453.094482421875, 695.88427734375, 4620.47314453125, 834.08203125, 494.46600341796875, 1648.838623046875, 1161.7000732421875, 939.072265625, 594.97216796875, 1235.6541748046875, 436.58502197265625, 4924.865234375, 3418.58056640625, 1361.23486328125, 1382.2899169921875, 807.8231201171875, 1540.6251220703125, 965.0292358398438, 543.2073974609375, 3441.806396484375, 1095.8336181640625, 1811.6881103515625, 4725.77587890625, 3631.111572265625, 1019.944580078125, 1750.42041015625, 1424.76025390625, 1393.3013916015625, 1924.993896484375, 1505.1966552734375, 1456.37353515625, 2057.923828125, 1221.760986328125, 1210.722900390625, 1447.9232177734375, 1561.5794677734375, 1387.351318359375, 1492.8570556640625, 5.954634666442871, 6.630980968475342, 11.054527282714844, 7.499049663543701, 10.21690559387207, 9.653865814208984, 11.766170501708984, 329.5759582519531, 4.403348922729492, 61.94193649291992, 16.678483963012695, 7.480769634246826, 30.034866333007812, 10.364192008972168, 9.374095916748047, 7.318200588226318, 16.004629135131836, 6.626977920532227, 12.779108047485352, 23.226783752441406, 20.465436935424805, 44.07839584350586, 50.67503356933594, 10.333638191223145, 70.38422393798828, 18.06078338623047, 7.164947986602783, 8.847855567932129, 11.751344680786133, 7.472787380218506, 73.76343536376953, 478.6200256347656, 126.530517578125, 184.4877166748047, 683.9254150390625, 175.37413024902344, 803.9539794921875, 331.5781555175781, 69.592041015625, 549.82080078125, 35.562477111816406, 1158.503662109375, 3631.111572265625, 518.7799072265625, 490.0776062011719, 3418.58056640625, 4725.77587890625, 1095.8336181640625, 353.5189208984375, 1453.094482421875, 803.2257690429688, 551.4009399414062, 1492.8570556640625, 1540.6251220703125, 401.505615234375, 1296.288818359375, 645.341796875, 594.97216796875, 751.1695556640625, 557.5068359375, 4924.865234375, 3441.806396484375, 1447.9232177734375, 4280.01220703125, 1648.838623046875, 1210.722900390625, 1505.1966552734375, 2057.923828125, 4620.47314453125, 1163.4600830078125, 873.2857666015625, 792.3886108398438, 1393.3013916015625, 1487.9266357421875, 1750.42041015625, 1433.8468017578125, 1456.37353515625, 1238.3756103515625, 1148.6868896484375, 1204.5767822265625, 1811.6881103515625, 1561.5794677734375, 1924.993896484375, 1387.351318359375, 8.011224746704102, 20.849699020385742, 4.410206317901611, 7.499049663543701, 6.472813129425049, 12.10726547241211, 5.78200626373291, 22.514087677001953, 10.890111923217773, 18.244831085205078, 20.435251235961914, 16.728607177734375, 18.60069465637207, 5.9533514976501465, 10.075409889221191, 7.313446521759033, 198.49305725097656, 90.63434600830078, 6.479477882385254, 11.459272384643555, 8.69511890411377, 10.60364818572998, 10.242464065551758, 21.826942443847656, 14.872257232666016, 9.692278861999512, 26.57672691345215, 8.013270378112793, 5.939262390136719, 62.70603561401367, 25.092639923095703, 469.9650573730469, 128.476318359375, 757.1221313476562, 104.71550750732422, 397.01336669921875, 232.01246643066406, 225.60528564453125, 208.45506286621094, 135.9545135498047, 118.1227798461914, 487.80657958984375, 957.8563232421875, 158.791748046875, 683.9254150390625, 464.4816589355469, 4725.77587890625, 437.28582763671875, 4620.47314453125, 965.0292358398438, 792.3886108398438, 652.9232177734375, 363.3252868652344, 245.43516540527344, 1019.944580078125, 637.5463256835938, 1456.37353515625, 235.14224243164062, 3418.58056640625, 3631.111572265625, 1382.2899169921875, 834.08203125, 1648.838623046875, 582.990478515625, 605.209716796875, 1487.9266357421875, 1059.7100830078125, 1424.76025390625, 1750.42041015625, 1161.7000732421875, 905.557373046875, 912.8084106445312, 4280.01220703125, 1387.351318359375, 1505.1966552734375, 3441.806396484375, 4924.865234375, 1492.8570556640625, 1811.6881103515625, 1148.6868896484375, 1447.9232177734375, 2057.923828125, 1924.993896484375, 1393.3013916015625, 1361.23486328125, 1221.760986328125, 1296.288818359375, 17.102352142333984, 8.152904510498047, 10.396247863769531, 6.643508434295654, 5.786931991577148, 11.791595458984375, 15.706281661987305, 48.27214431762695, 6.643664360046387, 17.42275047302246, 9.235569953918457, 20.306896209716797, 5.1136016845703125, 54.094688415527344, 10.387711524963379, 45.60039520263672, 16.043115615844727, 14.336817741394043, 9.010841369628906, 13.494935989379883, 10.053618431091309, 5.950693130493164, 7.314850807189941, 12.80426025390625, 12.43903923034668, 31.620826721191406, 77.07685852050781, 17.984996795654297, 9.535557746887207, 7.506270885467529, 700.2335815429688, 61.17851257324219, 431.4925537109375, 55.89019012451172, 38.420169830322266, 376.1540832519531, 735.0370483398438, 421.9569396972656, 206.17733764648438, 185.9044952392578, 213.03018188476562, 204.9753875732422, 174.04075622558594, 232.38223266601562, 211.58432006835938, 146.9022674560547, 72.51122283935547, 1424.76025390625, 235.93023681640625, 1487.9266357421875, 4620.47314453125, 1433.8468017578125, 786.29931640625, 741.29248046875, 409.88897705078125, 426.9632568359375, 273.5392150878906, 559.9446411132812, 537.2952270507812, 385.3885498046875, 488.13226318359375, 672.2949829101562, 792.3886108398438, 959.9657592773438, 1238.3756103515625, 1019.944580078125, 1393.3013916015625, 831.09423828125, 838.0623779296875, 1095.8336181640625, 1561.5794677734375, 1382.2899169921875, 4924.865234375, 1204.5767822265625, 2057.923828125, 4280.01220703125, 1453.094482421875, 1648.838623046875, 1924.993896484375, 1161.7000732421875, 1505.1966552734375, 3441.806396484375, 4725.77587890625, 1387.351318359375, 1750.42041015625, 3631.111572265625, 1361.23486328125, 3418.58056640625, 1811.6881103515625, 1540.6251220703125, 1492.8570556640625, 11.10238265991211, 7.3686113357543945, 13.876692771911621, 7.495487689971924, 6.649227142333984, 28.54269027709961, 27.462543487548828, 8.183256149291992, 13.845907211303711, 9.539798736572266, 14.331517219543457, 8.174365043640137, 18.30595588684082, 8.0160493850708, 50.759029388427734, 10.08558464050293, 15.069698333740234, 8.201822280883789, 10.935012817382812, 8.711820602416992, 21.36393928527832, 378.0771179199219, 14.51728343963623, 7.497175693511963, 14.528491973876953, 7.336803436279297, 8.166080474853516, 5.942231178283691, 6.482448101043701, 8.882142066955566, 94.1525650024414, 139.86221313476562, 161.97080993652344, 48.21298599243164, 96.74127960205078, 356.9159240722656, 260.6277770996094, 263.067626953125, 1221.760986328125, 589.538818359375, 1210.722900390625, 672.2949829101562, 121.61624145507812, 393.0393981933594, 449.5920104980469, 668.2950439453125, 1924.993896484375, 1456.37353515625, 1505.1966552734375, 957.8563232421875, 637.5077514648438, 1447.9232177734375, 382.2672424316406, 597.0731201171875, 4280.01220703125, 726.4926147460938, 875.5765991210938, 976.3988037109375, 4924.865234375, 3631.111572265625, 1238.3756103515625, 807.8231201171875, 1561.5794677734375, 819.9268798828125, 4725.77587890625, 803.9539794921875, 1204.5767822265625, 1148.6868896484375, 2057.923828125, 1387.351318359375, 3441.806396484375, 959.9657592773438, 3418.58056640625, 4620.47314453125, 1034.2098388671875, 1811.6881103515625, 1361.23486328125, 1382.2899169921875, 1163.4600830078125, 1424.76025390625, 1433.8468017578125, 1750.42041015625, 1296.288818359375, 1648.838623046875, 1540.6251220703125], \"loglift\": [30.0, 29.0, 28.0, 27.0, 26.0, 25.0, 24.0, 23.0, 22.0, 21.0, 20.0, 19.0, 18.0, 17.0, 16.0, 15.0, 14.0, 13.0, 12.0, 11.0, 10.0, 9.0, 8.0, 7.0, 6.0, 5.0, 4.0, 3.0, 2.0, 1.0, 0.760699987411499, 0.7495999932289124, 0.7099999785423279, 0.6948000192642212, 0.6528000235557556, 0.6255000233650208, 0.6184999942779541, 0.609000027179718, 0.6032999753952026, 0.5813999772071838, 0.5792999863624573, 0.5752999782562256, 0.5504000186920166, 0.5496000051498413, 0.5479999780654907, 0.545199990272522, 0.5446000099182129, 0.5440999865531921, 0.5419999957084656, 0.5396999716758728, 0.5364000201225281, 0.5329999923706055, 0.5296000242233276, 0.5291000008583069, 0.5282999873161316, 0.5271999835968018, 0.5263000130653381, 0.5259000062942505, 0.5146999955177307, 0.5131000280380249, 0.4867999851703644, 0.5098999738693237, 0.46889999508857727, 0.4578999876976013, 0.3723999857902527, 0.4065999984741211, 0.5044000148773193, 0.39089998602867126, 0.36480000615119934, 0.40639999508857727, 0.43320000171661377, 0.3160000145435333, 0.3662000000476837, 0.3993000090122223, 0.43209999799728394, 0.2806999981403351, 0.20340000092983246, 0.30320000648498535, 0.17270000278949738, 0.23499999940395355, 0.11490000039339066, 0.30320000648498535, 0.1737000048160553, 0.10869999974966049, 0.29120001196861267, 0.3224000036716461, 0.22609999775886536, 0.009399999864399433, 0.29350000619888306, 0.23839999735355377, 0.149399995803833, 0.23520000278949738, -0.05009999871253967, 0.06849999725818634, 0.19030000269412994, 0.0820000022649765, 0.1014999970793724, 0.05400000140070915, 0.05770000070333481, -0.21439999341964722, -0.00800000037997961, 0.05350000038743019, 0.014299999922513962, -0.002400000113993883, -0.10509999841451645, 0.06650000065565109, 0.0982000008225441, 0.0544000007212162, -0.09880000352859497, 0.057500001043081284, -0.22509999573230743, -0.1378999948501587, -0.029999999329447746, -0.19760000705718994, -0.1762000024318695, 0.6868000030517578, 0.656000018119812, 0.6414999961853027, 0.6330000162124634, 0.6236000061035156, 0.6116999983787537, 0.5763999819755554, 0.5695000290870667, 0.5479000210762024, 0.5462999939918518, 0.5455999970436096, 0.5400999784469604, 0.5397999882698059, 0.5372999906539917, 0.5327000021934509, 0.5317999720573425, 0.5286999940872192, 0.5284000039100647, 0.5205000042915344, 0.5181999802589417, 0.5177000164985657, 0.510200023651123, 0.5078999996185303, 0.5031999945640564, 0.5029000043869019, 0.5016000270843506, 0.4986000061035156, 0.4964999854564667, 0.49380001425743103, 0.49320000410079956, 0.4803999960422516, 0.4675000011920929, 0.4348999857902527, 0.43720000982284546, 0.451200008392334, 0.430400013923645, 0.45320001244544983, 0.3334999978542328, 0.3571999967098236, 0.4097000062465668, 0.38179999589920044, 0.3711000084877014, 0.4228000044822693, 0.32100000977516174, 0.3425000011920929, 0.38350000977516174, 0.19990000128746033, 0.25220000743865967, 0.3869999945163727, 0.30880001187324524, 0.3488999903202057, 0.23720000684261322, 0.34150001406669617, 0.15520000457763672, 0.226500004529953, 0.23559999465942383, 0.08799999952316284, 0.20970000326633453, 0.2402999997138977, 0.15860000252723694, 0.1914999932050705, 0.13330000638961792, 0.2401999980211258, 0.13830000162124634, 0.017799999564886093, 0.17949999868869781, -0.003700000001117587, 0.06909999996423721, 0.19619999825954437, 0.15770000219345093, 0.07909999787807465, -0.34549999237060547, 0.055799998342990875, -0.04520000144839287, -0.040300000458955765, -0.07919999957084656, -0.08649999648332596, -0.16120000183582306, -0.17270000278949738, -0.11209999769926071, 0.932200014591217, 0.9312999844551086, 0.8447999954223633, 0.70660001039505, 0.6765999794006348, 0.6743999719619751, 0.6712999939918518, 0.6675999760627747, 0.6622999906539917, 0.6478000283241272, 0.6353999972343445, 0.629800021648407, 0.6171000003814697, 0.6047000288963318, 0.6046000123023987, 0.5910999774932861, 0.579800009727478, 0.5787000060081482, 0.5695000290870667, 0.5583999752998352, 0.5533999800682068, 0.5425000190734863, 0.5286999940872192, 0.5270000100135803, 0.5254999995231628, 0.5220999717712402, 0.5206999778747559, 0.5178999900817871, 0.5120999813079834, 0.5091999769210815, 0.5081999897956848, 0.4880000054836273, 0.5051000118255615, 0.4738999903202057, 0.38839998841285706, 0.3815000057220459, 0.36660000681877136, 0.4390999972820282, 0.4108999967575073, 0.3725000023841858, 0.4092000126838684, 0.326200008392334, 0.446399986743927, 0.32109999656677246, 0.30959999561309814, 0.35040000081062317, 0.3066999912261963, 0.3758000135421753, 0.30000001192092896, 0.3662000000476837, 0.24410000443458557, 0.13009999692440033, 0.37790000438690186, 0.11819999665021896, 0.21870000660419464, 0.08349999785423279, 0.2768999934196472, 0.2282000035047531, 0.1979999989271164, 0.15150000154972076, 0.2551000118255615, 0.2720000147819519, 0.24320000410079956, 0.12800000607967377, 0.01510000042617321, 0.23250000178813934, 0.10109999775886536, 0.11309999972581863, 0.11169999837875366, 0.16429999470710754, 0.07769999653100967, -0.24869999289512634, -0.26190000772476196, -0.15389999747276306, -0.5264000296592712, -0.1598999947309494, -0.06599999964237213, -0.08749999850988388, -0.08479999750852585, -0.0786999985575676, -0.13940000534057617, -0.1817999929189682, 0.8348000049591064, 0.7685999870300293, 0.7325000166893005, 0.692300021648407, 0.6327000260353088, 0.6287000179290771, 0.6205000281333923, 0.6133999824523926, 0.6104999780654907, 0.5924999713897705, 0.5730000138282776, 0.5720000267028809, 0.5573999881744385, 0.5526999831199646, 0.5525000095367432, 0.5461000204086304, 0.5346999764442444, 0.5203999876976013, 0.5184000134468079, 0.517300009727478, 0.5127000212669373, 0.5092999935150146, 0.5074999928474426, 0.5072000026702881, 0.5041999816894531, 0.5037999749183655, 0.5034999847412109, 0.5029000043869019, 0.5023000240325928, 0.5016999840736389, 0.49900001287460327, 0.49070000648498535, 0.47749999165534973, 0.4805999994277954, 0.4756999909877777, 0.3903000056743622, 0.39660000801086426, 0.49000000953674316, 0.4408999979496002, 0.45190000534057617, 0.42410001158714294, 0.3515999913215637, 0.387800008058548, 0.32910001277923584, 0.33820000290870667, 0.23649999499320984, 0.41269999742507935, 0.2678000032901764, 0.29660001397132874, 0.27309998869895935, 0.20190000534057617, 0.22339999675750732, 0.22290000319480896, 0.12470000237226486, 0.29980000853538513, 0.29260000586509705, 0.3248000144958496, 0.2786000072956085, 0.18440000712871552, 0.2921999990940094, 0.039799999445676804, 0.2637999951839447, 0.326200008392334, -0.006800000090152025, 0.13600000739097595, 0.013100000098347664, 0.09860000014305115, -0.04800000041723251, 0.16019999980926514, 0.10660000145435333, 0.14079999923706055, 0.1639000028371811, 0.07779999822378159, -0.1615000069141388, 0.08760000020265579, 0.12309999763965607, -0.02810000069439411, 0.025100000202655792, 0.0210999995470047, 0.01269999984651804, -0.04749999940395355, -0.05860000103712082, 0.01860000006854534, -0.1745000034570694, -0.1664000004529953, 0.6575000286102295, 0.6546000242233276, 0.6189000010490417, 0.6096000075340271, 0.5906000137329102, 0.590399980545044, 0.5889000296592712, 0.5874999761581421, 0.5734000205993652, 0.5680999755859375, 0.553600013256073, 0.5418999791145325, 0.532800018787384, 0.5286999940872192, 0.5246000289916992, 0.5206999778747559, 0.5194000005722046, 0.517300009727478, 0.5151000022888184, 0.508400022983551, 0.5081999897956848, 0.5059999823570251, 0.4932999908924103, 0.49129998683929443, 0.4869999885559082, 0.4869999885559082, 0.4864000082015991, 0.48249998688697815, 0.48089998960494995, 0.4805000126361847, 0.48030000925064087, 0.47749999165534973, 0.40720000863075256, 0.46209999918937683, 0.4334000051021576, 0.391400009393692, 0.4083000123500824, 0.40209999680519104, 0.3215999901294708, 0.38429999351501465, 0.35339999198913574, 0.3357999920845032, 0.4097000062465668, 0.3418000042438507, 0.3343999981880188, 0.18700000643730164, 0.4120999872684479, 0.3546000123023987, 0.32179999351501465, 0.38749998807907104, 0.2833000123500824, 0.36070001125335693, 0.12300000339746475, 0.2922999858856201, 0.2678000032901764, 0.17980000376701355, 0.07850000262260437, 0.07199999690055847, 0.2468000054359436, 0.07919999957084656, 0.2759000062942505, 0.2540000081062317, 0.20559999346733093, 0.026799999177455902, 0.22509999573230743, 0.10599999874830246, 0.13619999587535858, 0.1264999955892563, 0.16899999976158142, 0.20029999315738678, 0.13429999351501465, 0.10029999911785126, 0.07930000126361847, 0.16599999368190765, 0.16529999673366547, 0.051100000739097595, 0.07859999686479568, 0.019899999722838402, -0.0027000000700354576, -0.11349999904632568, -0.002099999925121665, 0.00839999970048666, 0.06549999862909317, 0.002099999925121665, -0.14920000731945038, -0.1873999983072281, -0.07180000096559525, -0.16750000417232513, -0.041099999099969864, -0.4580000042915344, 1.0831999778747559, 1.055299997329712, 0.6872000098228455, 0.6747999787330627, 0.6665999889373779, 0.6517999768257141, 0.6276000142097473, 0.6218000054359436, 0.6182000041007996, 0.5855000019073486, 0.5831000208854675, 0.5774000287055969, 0.5683000087738037, 0.565500020980835, 0.5623000264167786, 0.5622000098228455, 0.5595999956130981, 0.5400999784469604, 0.5324000120162964, 0.5289000272750854, 0.526199996471405, 0.5248000025749207, 0.5234000086784363, 0.5228000283241272, 0.521399974822998, 0.5195000171661377, 0.5188000202178955, 0.5091000199317932, 0.5044000148773193, 0.5034000277519226, 0.5005000233650208, 0.492900013923645, 0.48330000042915344, 0.4749999940395355, 0.42410001158714294, 0.4011000096797943, 0.30809998512268066, 0.4268999993801117, 0.3707999885082245, 0.4837999939918518, 0.34450000524520874, 0.36070001125335693, 0.34850001335144043, 0.37040001153945923, 0.2493000030517578, 0.3089999854564667, 0.2770000100135803, 0.23489999771118164, 0.29319998621940613, 0.12380000203847885, 0.2685999870300293, 0.3034000098705292, 0.18889999389648438, 0.21649999916553497, 0.22509999573230743, 0.2711000144481659, 0.1875, 0.2987000048160553, -0.03689999878406525, 0.009499999694526196, 0.11800000071525574, 0.11259999871253967, 0.1965000033378601, 0.08380000293254852, 0.16590000689029694, 0.2632000148296356, -0.09610000252723694, 0.12229999899864197, 0.010200000368058681, -0.22869999706745148, -0.17659999430179596, 0.13019999861717224, -0.030700000002980232, 0.025299999862909317, 0.02979999966919422, -0.10239999741315842, -0.024800000712275505, -0.019999999552965164, -0.18700000643730164, 0.04899999871850014, 0.049300000071525574, -0.06390000134706497, -0.13349999487400055, -0.051600001752376556, -0.11680000275373459, 0.8375999927520752, 0.7914000153541565, 0.784600019454956, 0.6496000289916992, 0.6154000163078308, 0.600600004196167, 0.579200029373169, 0.5760999917984009, 0.564300000667572, 0.5618000030517578, 0.5612000226974487, 0.5569000244140625, 0.5529000163078308, 0.5516999959945679, 0.5480999946594238, 0.546500027179718, 0.5414000153541565, 0.535099983215332, 0.5322999954223633, 0.5303999781608582, 0.5250999927520752, 0.5238000154495239, 0.5232999920845032, 0.5228999853134155, 0.5210999846458435, 0.5203999876976013, 0.5199999809265137, 0.517799973487854, 0.5152000188827515, 0.5126000046730042, 0.5011000037193298, 0.4564000070095062, 0.47290000319480896, 0.4447999894618988, 0.40540000796318054, 0.43950000405311584, 0.3869999945163727, 0.4133000075817108, 0.4652000069618225, 0.3698999881744385, 0.4821999967098236, 0.29919999837875366, 0.21770000457763672, 0.3325999975204468, 0.32850000262260437, 0.18410000205039978, 0.1500999927520752, 0.2498999983072281, 0.3395000100135803, 0.2222999930381775, 0.26919999718666077, 0.2978000044822693, 0.20630000531673431, 0.19269999861717224, 0.31439998745918274, 0.17640000581741333, 0.24860000610351562, 0.2572000026702881, 0.22609999775886536, 0.2635999917984009, -0.05660000070929527, -0.006899999920278788, 0.11479999870061874, -0.06109999865293503, 0.0771000012755394, 0.1273999959230423, 0.07819999754428864, 0.011599999852478504, -0.2502000033855438, 0.09380000084638596, 0.16099999845027924, 0.18729999661445618, 0.007000000216066837, -0.020899999886751175, -0.10729999840259552, -0.052299998700618744, -0.06260000169277191, -0.02290000021457672, 0.009999999776482582, -0.021900000050663948, -0.26339998841285706, -0.18850000202655792, -0.33079999685287476, -0.14139999449253082, 0.8256000280380249, 0.7228999733924866, 0.7060999870300293, 0.7038000226020813, 0.6398000121116638, 0.6151999831199646, 0.6103000044822693, 0.6050000190734863, 0.6043000221252441, 0.5950999855995178, 0.5891000032424927, 0.5763000249862671, 0.5683000087738037, 0.5649999976158142, 0.5536999702453613, 0.5436000227928162, 0.5304999947547913, 0.5282999873161316, 0.527999997138977, 0.5242999792098999, 0.5200999975204468, 0.5156000256538391, 0.5134000182151794, 0.5115000009536743, 0.5099999904632568, 0.5097000002861023, 0.506600022315979, 0.5047000050544739, 0.5009999871253967, 0.5001999735832214, 0.4925000071525574, 0.4537000060081482, 0.47589999437332153, 0.42969998717308044, 0.4684000015258789, 0.4350999891757965, 0.4431999921798706, 0.4422999918460846, 0.42579999566078186, 0.4422999918460846, 0.44519999623298645, 0.3783999979496002, 0.336899995803833, 0.42309999465942383, 0.33469998836517334, 0.3483999967575073, 0.20399999618530273, 0.3499000072479248, 0.1753000020980835, 0.2867000102996826, 0.2973000109195709, 0.3061999976634979, 0.3418999910354614, 0.37709999084472656, 0.24629999697208405, 0.2840000092983246, 0.20059999823570251, 0.37950000166893005, 0.09279999881982803, 0.0729999989271164, 0.17870000004768372, 0.2328999936580658, 0.14579999446868896, 0.2721000015735626, 0.2628999948501587, 0.13379999995231628, 0.17430000007152557, 0.12370000034570694, 0.08219999819993973, 0.15119999647140503, 0.16099999845027924, 0.1582999974489212, -0.2409999966621399, 0.04450000077486038, 0.021900000050663948, -0.2053000032901764, -0.3140999972820282, 0.01889999955892563, -0.066600002348423, 0.07339999824762344, -0.05000000074505806, -0.287200003862381, -0.2678000032901764, -0.09019999951124191, -0.08190000057220459, -0.020400000736117363, -0.07559999823570251, 0.7069000005722046, 0.6995999813079834, 0.6351000070571899, 0.6089000105857849, 0.6001999974250793, 0.59170001745224, 0.5734000205993652, 0.5649999976158142, 0.5637999773025513, 0.554099977016449, 0.5519000291824341, 0.5471000075340271, 0.542900025844574, 0.5425000190734863, 0.539900004863739, 0.5288000106811523, 0.5256999731063843, 0.5206999778747559, 0.5181000232696533, 0.5156000256538391, 0.5141000151634216, 0.5131000280380249, 0.5128999948501587, 0.510699987411499, 0.5037999749183655, 0.5012999773025513, 0.49869999289512634, 0.4925000071525574, 0.49219998717308044, 0.48840001225471497, 0.48010000586509705, 0.47769999504089355, 0.45590001344680786, 0.47690001130104065, 0.4821999967098236, 0.43549999594688416, 0.413100004196167, 0.42480000853538513, 0.44609999656677246, 0.444599986076355, 0.4383000135421753, 0.4302000105381012, 0.42879998683929443, 0.4099000096321106, 0.40610000491142273, 0.41839998960494995, 0.4523000121116638, 0.2847999930381775, 0.38359999656677246, 0.2687000036239624, 0.1882999986410141, 0.26190000772476196, 0.30300000309944153, 0.30480000376701355, 0.3375999927520752, 0.3285999894142151, 0.3605000078678131, 0.3025999963283539, 0.30550000071525574, 0.3330000042915344, 0.3116999864578247, 0.27570000290870667, 0.2554999887943268, 0.23319999873638153, 0.17509999871253967, 0.19169999659061432, 0.14229999482631683, 0.2094999998807907, 0.20520000159740448, 0.163100004196167, 0.10459999740123749, 0.11869999766349792, -0.10429999977350235, 0.1136000007390976, 0.006800000090152025, -0.1745000034570694, 0.0625, 0.023399999365210533, -0.023399999365210533, 0.08860000222921371, -0.004699999932199717, -0.30059999227523804, -0.4138999879360199, 0.00839999970048666, -0.08560000360012054, -0.38749998807907104, 0.001500000013038516, -0.5088000297546387, -0.1915999948978424, -0.1281999945640564, -0.15039999783039093, 1.007699966430664, 0.9876000285148621, 0.8981999754905701, 0.8130999803543091, 0.7091000080108643, 0.6897000074386597, 0.6603000164031982, 0.6603000164031982, 0.6543999910354614, 0.6430000066757202, 0.6394000053405762, 0.61080002784729, 0.604200005531311, 0.6036999821662903, 0.5978999733924866, 0.5950999855995178, 0.5902000069618225, 0.5866000056266785, 0.57669997215271, 0.5674999952316284, 0.566100001335144, 0.5659999847412109, 0.5619000196456909, 0.5579000115394592, 0.5382999777793884, 0.5317000150680542, 0.5189999938011169, 0.5164999961853027, 0.5138000249862671, 0.5108000040054321, 0.5078999996185303, 0.4964999854564667, 0.4921000003814697, 0.49459999799728394, 0.47920000553131104, 0.4323999881744385, 0.4325000047683716, 0.4092999994754791, 0.3257000148296356, 0.3630000054836273, 0.31940001249313354, 0.34130001068115234, 0.4413999915122986, 0.3603000044822693, 0.3508000075817108, 0.3122999966144562, 0.21979999542236328, 0.23000000417232513, 0.22220000624656677, 0.2563000023365021, 0.2922999858856201, 0.20200000703334808, 0.32989999651908875, 0.28200000524520874, 0.05909999832510948, 0.2515000104904175, 0.21860000491142273, 0.1949000060558319, -0.03819999843835831, 0.0005000000237487257, 0.1316000074148178, 0.20250000059604645, 0.08829999715089798, 0.19449999928474426, -0.12099999934434891, 0.1972000002861023, 0.11270000040531158, 0.11670000106096268, -0.02590000070631504, 0.05090000107884407, -0.1981000006198883, 0.14339999854564667, -0.2387000024318695, -0.4169999957084656, 0.10509999841451645, -0.12280000001192093, -0.012600000016391277, -0.023900000378489494, 0.04859999939799309, -0.05139999836683273, -0.06920000165700912, -0.18930000066757202, -0.03669999912381172, -0.18860000371932983, -0.20659999549388885], \"logprob\": [30.0, 29.0, 28.0, 27.0, 26.0, 25.0, 24.0, 23.0, 22.0, 21.0, 20.0, 19.0, 18.0, 17.0, 16.0, 15.0, 14.0, 13.0, 12.0, 11.0, 10.0, 9.0, 8.0, 7.0, 6.0, 5.0, 4.0, 3.0, 2.0, 1.0, -9.777299880981445, -10.101300239562988, -9.90149974822998, -10.220100402832031, -10.261199951171875, -10.134400367736816, -9.445199966430664, -9.428999900817871, -10.653800010681152, -9.885700225830078, -9.639300346374512, -10.098600387573242, -10.153300285339355, -9.577500343322754, -10.685199737548828, -10.211999893188477, -9.797200202941895, -10.22719955444336, -10.19729995727539, -9.665800094604492, -7.877299785614014, -6.378799915313721, -10.047300338745117, -9.858599662780762, -9.609299659729004, -8.668800354003906, -7.691400051116943, -10.113200187683105, -10.713700294494629, -11.013899803161621, -6.548999786376953, -9.616800308227539, -6.715099811553955, -7.428999900817871, -5.626999855041504, -6.5584001541137695, -9.287500381469727, -6.6707000732421875, -6.185800075531006, -7.176499843597412, -7.7230000495910645, -5.646900177001953, -6.638800144195557, -7.328700065612793, -7.96150016784668, -5.609300136566162, -4.662199974060059, -6.248499870300293, -4.6392998695373535, -5.42080020904541, -4.456200122833252, -6.532700061798096, -5.272900104522705, -4.763700008392334, -6.481200218200684, -6.777400016784668, -5.938300132751465, -4.497900009155273, -6.666800022125244, -6.268700122833252, -5.643799781799316, -6.277400016784668, -4.598700046539307, -5.438799858093262, -6.092599868774414, -5.687900066375732, -5.808800220489502, -5.6153998374938965, -5.720099925994873, -4.861999988555908, -5.609499931335449, -5.78849983215332, -5.7332000732421875, -5.695099830627441, -5.484899997711182, -5.887899875640869, -5.98360013961792, -5.955599784851074, -5.8302998542785645, -5.986100196838379, -5.7667999267578125, -5.842100143432617, -5.917799949645996, -5.898399829864502, -5.9039998054504395, -9.73960018157959, -9.835800170898438, -10.225899696350098, -10.236900329589844, -9.954000473022461, -9.705300331115723, -9.761199951171875, -8.437199592590332, -10.385700225830078, -8.820300102233887, -7.80210018157959, -9.347999572753906, -10.580100059509277, -8.641599655151367, -9.971500396728516, -9.95989990234375, -9.83180046081543, -9.57409954071045, -9.154399871826172, -9.147600173950195, -9.537400245666504, -10.873600006103516, -9.241800308227539, -10.615799903869629, -10.347000122070312, -10.61769962310791, -10.411700248718262, -9.521900177001953, -9.83329963684082, -10.196200370788574, -7.766300201416016, -6.513599872589111, -5.69290018081665, -5.89709997177124, -7.451000213623047, -6.978499889373779, -8.107999801635742, -4.3140997886657715, -5.383999824523926, -7.1016998291015625, -6.581900119781494, -6.475599765777588, -7.602799892425537, -5.957200050354004, -6.3730998039245605, -7.083600044250488, -4.307300090789795, -5.127600193023682, -7.171500205993652, -6.144899845123291, -6.70419979095459, -5.304500102996826, -6.687600135803223, -4.710299968719482, -5.474299907684326, -5.679900169372559, -4.4604997634887695, -5.564499855041504, -5.921999931335449, -5.288099765777588, -5.698500156402588, -5.374000072479248, -6.101799964904785, -5.517499923706055, -4.7941999435424805, -5.819900035858154, -4.876100063323975, -5.600299835205078, -6.118800163269043, -6.03249979019165, -5.822199821472168, -4.916500091552734, -5.831900119781494, -5.773099899291992, -5.810100078582764, -5.783400058746338, -5.81790018081665, -5.762700080871582, -5.865300178527832, -5.905300140380859, -9.505800247192383, -9.827799797058105, -10.150199890136719, -9.901100158691406, -9.68280029296875, -8.56029987335205, -10.448800086975098, -10.563899993896484, -10.269599914550781, -9.044599533081055, -9.26259994506836, -9.63230037689209, -9.819899559020996, -10.395899772644043, -9.371600151062012, -10.64210033416748, -10.251199722290039, -9.704099655151367, -7.191199779510498, -10.463600158691406, -9.694100379943848, -10.213600158691406, -10.403400421142578, -9.208499908447266, -9.647899627685547, -7.164400100708008, -9.142600059509277, -8.961799621582031, -10.507800102233887, -10.71969985961914, -8.030400276184082, -6.478700160980225, -8.5378999710083, -7.962500095367432, -5.213099956512451, -5.460599899291992, -5.585100173950195, -7.210100173950195, -6.962699890136719, -6.295599937438965, -7.087900161743164, -5.801700115203857, -7.731400012969971, -5.915999889373779, -5.827600002288818, -6.44789981842041, -5.984899997711182, -6.787600040435791, -5.956200122833252, -6.787600040435791, -5.483799934387207, -4.418399810791016, -6.945400238037109, -4.452899932861328, -5.43720006942749, -4.423799991607666, -6.048999786376953, -5.661799907684326, -5.576200008392334, -5.295199871063232, -5.99560022354126, -6.128900051116943, -6.043300151824951, -5.413700103759766, -4.796899795532227, -6.062600135803223, -5.568299770355225, -5.6280999183654785, -5.803699970245361, -6.000199794769287, -5.823500156402588, -5.114200115203857, -5.134200096130371, -5.53380012512207, -5.173999786376953, -5.667200088500977, -5.766900062561035, -5.835100173950195, -5.862599849700928, -5.8719000816345215, -5.870800018310547, -5.907400131225586, -10.09689998626709, -10.07979965209961, -8.96619987487793, -9.993599891662598, -10.394200325012207, -10.090700149536133, -7.72599983215332, -9.785799980163574, -10.392399787902832, -10.430299758911133, -10.338299751281738, -10.260499954223633, -9.51449966430664, -10.447500228881836, -9.542799949645996, -6.012700080871582, -10.690799713134766, -8.2253999710083, -10.600500106811523, -9.868300437927246, -10.422900199890137, -10.050800323486328, -9.83080005645752, -10.2524995803833, -10.518199920654297, -9.547300338745117, -8.536499977111816, -10.727100372314453, -9.55720043182373, -10.500800132751465, -9.793700218200684, -9.125100135803223, -7.848599910736084, -8.209699630737305, -8.224300384521484, -4.98960018157959, -6.061299800872803, -9.368499755859375, -7.868000030517578, -8.158300399780273, -7.740200042724609, -6.187900066375732, -6.903800010681152, -6.039700031280518, -6.246099948883057, -4.635799884796143, -7.667399883270264, -5.43310022354126, -6.112800121307373, -5.961400032043457, -5.244699954986572, -5.507999897003174, -5.502799987792969, -4.522900104522705, -6.454899787902832, -6.422999858856201, -6.7718000411987305, -6.342199802398682, -5.563199996948242, -6.554500102996826, -4.531199932098389, -6.377399921417236, -6.885300159454346, -4.555300235748291, -5.56820011138916, -4.852499961853027, -5.408699989318848, -4.555200099945068, -5.839300155639648, -5.585999965667725, -5.8094000816345215, -5.96150016784668, -5.699999809265137, -4.973499774932861, -5.80019998550415, -5.944799900054932, -5.569799900054932, -5.744800090789795, -5.771999835968018, -5.829400062561035, -5.78879976272583, -5.786399841308594, -5.896900177001953, -5.830399990081787, -5.8358001708984375, -10.570099830627441, -10.016599655151367, -7.8597002029418945, -9.72920036315918, -10.531100273132324, -10.081500053405762, -7.054200172424316, -9.714300155639648, -9.62339973449707, -10.575200080871582, -10.972000122070312, -10.213899612426758, -10.695099830627441, -8.75220012664795, -11.003600120544434, -10.86400032043457, -9.866800308227539, -10.600899696350098, -10.60219955444336, -9.62720012664795, -10.230500221252441, -9.879300117492676, -9.161600112915039, -10.195599555969238, -7.695700168609619, -9.263899803161621, -10.047599792480469, -10.744799613952637, -9.572999954223633, -8.93280029296875, -8.498299598693848, -9.023900032043457, -4.458399772644043, -8.371800422668457, -7.370699882507324, -6.036600112915039, -6.6915998458862305, -6.5320000648498535, -5.185699939727783, -6.998600006103516, -6.418900012969971, -6.17609977722168, -7.79640007019043, -6.570199966430664, -6.45550012588501, -4.320300102233887, -7.922299861907959, -7.1940999031066895, -6.773099899291992, -7.707099914550781, -6.422299861907959, -7.378200054168701, -4.749300003051758, -6.620699882507324, -6.373300075531006, -5.489500045776367, -4.46999979019165, -4.5756001472473145, -6.240300178527832, -4.732900142669678, -6.543499946594238, -6.363100051879883, -5.956699848175049, -4.544300079345703, -6.218200206756592, -5.435800075531006, -5.637899875640869, -5.643400192260742, -5.956399917602539, -6.125699996948242, -5.815899848937988, -5.692800045013428, -5.646299839019775, -6.026800155639648, -6.0355000495910645, -5.696400165557861, -5.831699848175049, -5.711599826812744, -5.695400238037109, -5.4934000968933105, -5.7434000968933105, -5.769499778747559, -5.888899803161621, -5.913300037384033, -5.850100040435791, -5.843299865722656, -5.913899898529053, -5.895400047302246, -5.931000232696533, -5.904699802398682, -9.729100227355957, -9.943599700927734, -8.415599822998047, -10.46660041809082, -10.561300277709961, -9.97029972076416, -9.047300338745117, -10.602499961853027, -8.283100128173828, -9.648500442504883, -9.077199935913086, -10.33590030670166, -9.68649959564209, -10.263299942016602, -8.716300010681152, -9.592000007629395, -7.402599811553955, -9.797699928283691, -9.581500053405762, -9.775400161743164, -8.871199607849121, -9.813300132751465, -9.76729965209961, -9.814399719238281, -9.58549976348877, -10.598199844360352, -9.90369987487793, -9.9798002243042, -10.722800254821777, -9.486200332641602, -7.819900035858154, -7.884799957275391, -8.15429973602295, -8.08810043334961, -6.484300136566162, -5.964799880981445, -4.3394999504089355, -7.231500148773193, -6.168700218200684, -8.832599639892578, -6.207200050354004, -6.551300048828125, -6.514999866485596, -7.052199840545654, -5.454800128936768, -6.258299827575684, -5.8653998374938965, -5.493000030517578, -6.171000003814697, -4.447299957275391, -6.014400005340576, -6.502399921417236, -5.412600040435791, -5.735199928283691, -5.939300060272217, -6.349699974060059, -5.702499866485596, -6.6315999031066895, -4.5441999435424805, -4.862800121307373, -5.675099849700928, -5.665299892425537, -6.118500232696533, -5.585599899291992, -5.97130012512207, -6.448599815368652, -4.961699962615967, -5.887800216674805, -5.497200012207031, -4.777299880981445, -4.98859977722168, -5.951600074768066, -5.572400093078613, -5.722300052642822, -5.740099906921387, -5.548999786376953, -5.717400074005127, -5.74560022354126, -5.56689977645874, -5.852200031280518, -5.861000061035156, -5.795300006866455, -5.789400100708008, -5.825799942016602, -5.817599773406982, -10.38759994506836, -10.326199531555176, -9.821900367736816, -10.345000267028809, -10.069899559020996, -10.141300201416016, -9.964799880981445, -6.63539981842041, -10.962699890136719, -8.32129955291748, -9.633999824523926, -10.440099716186523, -9.054100036621094, -10.11929988861084, -10.223299980163574, -10.472399711608887, -9.695099830627441, -10.583100318908691, -9.929200172424316, -9.333600044250488, -9.465399742126465, -8.69950008392334, -8.560600280761719, -10.151000022888184, -8.234299659729004, -9.595199584960938, -10.520099639892578, -10.311300277709961, -10.030099868774414, -10.485400199890137, -8.20740032196045, -6.3821001052856445, -7.695899963378906, -7.3470001220703125, -6.076099872589111, -7.402900218963623, -5.932799816131592, -6.792099952697754, -8.301400184631348, -6.329800128936768, -8.95580005645752, -5.655300140380859, -4.594299793243408, -6.42519998550415, -6.486299991607666, -4.688199996948242, -4.398499965667725, -5.7600998878479, -6.8018999099731445, -5.505499839782715, -6.051499843597412, -6.399099826812744, -5.49459981918335, -5.4766998291015625, -6.699699878692627, -5.665599822998047, -6.290900230407715, -6.36359977722168, -6.161600112915039, -6.4222002029418945, -4.563799858093262, -4.872499942779541, -5.616600036621094, -4.708700180053711, -5.524400234222412, -5.782899856567383, -5.6143999099731445, -5.368299961090088, -4.821199893951416, -5.856400012969971, -6.076099872589111, -6.146999835968018, -5.762899875640869, -5.724999904632568, -5.64900016784668, -5.793499946594238, -5.7881999015808105, -5.910600185394287, -5.953000068664551, -5.937300205230713, -5.770699977874756, -5.844399929046631, -5.777400016784668, -5.915599822998047, -10.102899551391602, -9.24899959564209, -10.819299697875977, -10.29069995880127, -10.501899719238281, -9.900400161743164, -10.644200325012207, -9.290200233459473, -10.01710033416748, -9.510299682617188, -9.402899742126465, -9.615900039672852, -9.517800331115723, -10.660400390625, -10.145500183105469, -10.47599983215332, -7.1880998611450195, -7.9741997718811035, -10.612600326538086, -10.046199798583984, -10.326499938964844, -10.132499694824219, -10.169300079345703, -9.41469955444336, -9.79990005493164, -10.22819995880127, -9.222700119018555, -10.423600196838379, -10.726799964904785, -8.370599746704102, -9.29419994354248, -6.4029998779296875, -7.677700042724609, -5.950099945068359, -7.889699935913086, -6.590199947357178, -7.1194000244140625, -7.148200035095215, -7.243800163269043, -7.654699802398682, -7.792399883270264, -6.440999984741211, -5.807700157165527, -7.518700122833252, -6.1468000411987305, -6.519999980926514, -4.344600200653076, -6.578800201416016, -4.395699977874756, -5.850500106811523, -6.036900043487549, -6.221700191497803, -6.77209997177124, -7.129199981689453, -5.835599899291992, -6.2677001953125, -5.525100231170654, -7.169600009918213, -4.7795000076293945, -4.738999843597412, -5.5991997718811035, -6.050000190734863, -5.455699920654297, -6.369100093841553, -6.340799808502197, -5.570400238037109, -5.86929988861084, -5.623899936676025, -5.459499835968018, -5.80049991607666, -6.03980016708374, -6.0345001220703125, -4.888599872589111, -5.729599952697754, -5.67080020904541, -5.070899963378906, -4.821400165557861, -5.682000160217285, -5.57390022277832, -5.889500141143799, -5.781400203704834, -5.667099952697754, -5.714399814605713, -5.860099792480469, -5.875, -5.9217000007629395, -5.917600154876709, -9.463199615478516, -10.211400032043457, -10.03279972076416, -10.506799697875977, -10.653599739074707, -9.950200080871582, -9.681900024414062, -8.567500114440918, -10.551799774169922, -9.59749984741211, -10.234299659729004, -9.451299667358398, -10.834500312805176, -8.476099967956543, -10.128800392150879, -8.660599708557129, -9.70829963684082, -9.825799942016602, -10.292799949645996, -9.891400337219238, -10.187299728393555, -10.712699890136719, -10.506500244140625, -9.948800086975098, -9.984700202941895, -9.054200172424316, -8.165900230407715, -9.627300262451172, -10.262100219726562, -10.505200386047363, -5.977799892425537, -8.417799949645996, -6.486100196838379, -8.509099960327148, -8.878600120544434, -6.643799781799316, -5.996300220489502, -6.539599895477295, -7.234499931335449, -7.3394999504089355, -7.209499835968018, -7.256199836730957, -7.421199798583984, -7.151000022888184, -7.248600006103516, -7.601099967956543, -8.273300170898438, -5.462800025939941, -7.162199974060059, -5.435500144958496, -4.382699966430664, -5.479300022125244, -6.039000034332275, -6.096099853515625, -6.655799865722656, -6.624000072479248, -7.037399768829346, -6.378900051116943, -6.417200088500977, -6.722099781036377, -6.5071001052856445, -6.2230000495910645, -6.078700065612793, -5.909200191497803, -5.712600231170654, -5.890100002288818, -5.627600193023682, -6.077099800109863, -6.072999954223633, -5.8470001220703125, -5.551300048828125, -5.65910005569458, -4.611599922180176, -5.801799774169922, -5.3730998039245605, -4.8221001625061035, -5.66540002822876, -5.578100204467773, -5.470099925994873, -5.863100051879883, -5.697299957275391, -5.166200160980225, -4.962399959564209, -5.765699863433838, -5.627299785614014, -5.19950008392334, -5.7916998863220215, -5.381199836730957, -5.69890022277832, -5.797599792480469, -5.85129976272583, -9.594400405883789, -10.024499893188477, -9.480999946594238, -10.181900024414062, -10.405699729919434, -8.968299865722656, -9.036199569702148, -10.246999740600586, -9.72700023651123, -10.110799789428711, -9.707500457763672, -10.297499656677246, -9.497900009155273, -10.324199676513672, -8.484299659729004, -10.103099822998047, -9.706500053405762, -10.318300247192383, -10.04069995880127, -10.277099609375, -9.381500244140625, -6.508200168609619, -9.772100448608398, -10.43690013885498, -9.794899940490723, -10.484700202941895, -10.390399932861328, -10.710800170898438, -10.626399993896484, -10.314499855041504, -7.956500053405762, -7.572199821472168, -7.429800033569336, -8.639100074768066, -7.958099842071533, -6.699399948120117, -7.013700008392334, -7.027599811553955, -5.5756001472473145, -6.267000198364258, -5.59089994430542, -6.157299995422363, -7.767099857330322, -6.67519998550415, -6.55019998550415, -6.192200183868408, -5.226900100708008, -5.49560022354126, -5.470399856567383, -5.888299942016602, -6.259399890899658, -5.529399871826172, -6.73330020904541, -6.335299968719482, -4.588500022888184, -6.169600009918213, -6.0157999992370605, -5.930600166320801, -4.545499801635742, -4.811500072479248, -5.756199836730957, -6.112500190734863, -5.567599773406982, -6.105599880218506, -4.66949987411499, -6.122499942779541, -5.802700042724609, -5.846199989318848, -5.405799865722656, -5.723299980163574, -5.063600063323975, -5.999000072479248, -5.111100196838379, -4.98799991607666, -5.962800025939941, -5.630099773406982, -5.805699825286865, -5.801700115203857, -5.901599884033203, -5.798999786376953, -5.810400009155273, -5.730999946594238, -5.878799915313721, -5.79010009765625, -5.875999927520752]}, \"token.table\": {\"Topic\": [1, 2, 3, 4, 5, 6, 7, 8, 9, 10, 1, 2, 3, 4, 5, 6, 7, 8, 9, 10, 1, 2, 3, 4, 5, 6, 8, 9, 1, 2, 3, 4, 5, 6, 7, 8, 9, 10, 1, 2, 3, 4, 5, 6, 7, 8, 9, 10, 4, 5, 6, 7, 8, 9, 1, 2, 3, 4, 5, 6, 7, 8, 9, 10, 1, 2, 3, 4, 5, 6, 7, 8, 9, 1, 2, 3, 4, 5, 6, 7, 8, 9, 10, 1, 2, 3, 4, 5, 6, 7, 8, 9, 10, 1, 3, 4, 5, 6, 7, 8, 9, 10, 1, 2, 3, 4, 5, 6, 7, 8, 9, 10, 5, 6, 7, 8, 9, 10, 1, 2, 7, 8, 5, 7, 1, 3, 5, 6, 7, 8, 9, 10, 1, 2, 3, 4, 5, 6, 7, 8, 9, 10, 1, 2, 3, 4, 5, 6, 7, 8, 9, 10, 1, 2, 3, 4, 5, 6, 7, 8, 9, 10, 2, 3, 4, 5, 6, 7, 8, 9, 10, 1, 2, 3, 4, 5, 6, 7, 8, 9, 10, 1, 2, 3, 4, 5, 6, 7, 8, 9, 10, 1, 2, 3, 4, 6, 7, 8, 9, 10, 1, 2, 3, 4, 5, 6, 7, 8, 9, 10, 1, 2, 3, 4, 5, 6, 7, 8, 9, 10, 1, 2, 3, 4, 5, 6, 7, 8, 9, 10, 1, 2, 3, 4, 5, 6, 7, 8, 9, 10, 1, 2, 3, 4, 5, 6, 7, 8, 9, 10, 1, 2, 3, 4, 5, 6, 7, 8, 9, 10, 1, 2, 3, 4, 5, 6, 7, 8, 9, 10, 1, 2, 3, 4, 5, 6, 7, 8, 9, 10, 1, 2, 3, 4, 5, 6, 7, 8, 9, 10, 1, 2, 3, 4, 5, 6, 7, 8, 9, 10, 1, 2, 3, 4, 5, 6, 7, 8, 9, 10, 1, 2, 3, 4, 5, 6, 7, 8, 9, 10, 1, 2, 3, 4, 5, 6, 7, 8, 9, 10, 1, 2, 3, 4, 5, 6, 7, 8, 9, 10, 1, 2, 3, 4, 5, 6, 7, 8, 9, 10, 1, 2, 3, 4, 5, 6, 7, 8, 9, 10, 1, 2, 3, 4, 6, 7, 8, 10, 1, 2, 3, 4, 5, 6, 7, 8, 9, 10, 1, 2, 3, 4, 5, 6, 7, 8, 9, 10, 2, 3, 4, 5, 6, 7, 8, 10, 1, 2, 3, 4, 5, 6, 7, 8, 9, 10, 1, 2, 3, 4, 5, 6, 7, 8, 9, 10, 1, 2, 3, 4, 5, 6, 7, 9, 10, 1, 2, 3, 4, 5, 6, 7, 8, 9, 10, 1, 2, 3, 4, 5, 7, 10, 1, 2, 3, 4, 5, 6, 7, 8, 9, 10, 1, 2, 3, 4, 5, 6, 7, 8, 9, 10, 1, 2, 3, 4, 5, 6, 7, 8, 9, 10, 1, 2, 3, 4, 5, 6, 7, 8, 9, 10, 1, 2, 3, 4, 5, 6, 7, 8, 9, 10, 1, 2, 3, 4, 5, 6, 7, 8, 9, 10, 1, 2, 3, 4, 5, 6, 7, 8, 9, 10, 1, 2, 3, 4, 5, 6, 7, 8, 9, 10, 1, 2, 3, 4, 5, 6, 7, 8, 9, 10, 1, 3, 4, 7, 8, 9, 10, 1, 2, 3, 4, 5, 6, 7, 8, 9, 10, 1, 2, 3, 4, 5, 6, 7, 8, 9, 10, 1, 2, 3, 4, 5, 6, 7, 8, 9, 10, 1, 2, 3, 4, 5, 6, 7, 8, 9, 10, 1, 2, 3, 4, 5, 6, 7, 8, 9, 10, 1, 2, 3, 4, 5, 6, 7, 8, 10, 1, 2, 3, 4, 5, 6, 7, 8, 9, 10, 1, 2, 3, 4, 5, 6, 7, 8, 9, 10, 1, 2, 3, 4, 5, 6, 7, 8, 9, 10, 1, 2, 3, 4, 5, 6, 7, 8, 9, 10, 1, 2, 3, 4, 5, 6, 7, 8, 9, 10, 1, 2, 3, 4, 5, 6, 7, 8, 9, 10, 1, 2, 3, 4, 5, 6, 7, 8, 9, 10, 1, 2, 3, 4, 5, 6, 7, 8, 9, 10, 1, 2, 3, 4, 5, 6, 7, 8, 9, 10, 1, 2, 3, 4, 5, 6, 7, 8, 9, 10, 1, 2, 3, 4, 5, 6, 7, 8, 9, 10, 1, 2, 3, 4, 5, 6, 7, 8, 9, 10, 1, 2, 3, 4, 5, 6, 7, 8, 9, 10, 1, 2, 3, 4, 5, 6, 7, 8, 9, 10, 1, 2, 3, 4, 5, 6, 7, 8, 9, 10, 1, 2, 3, 4, 5, 6, 7, 8, 9, 10, 1, 2, 3, 4, 5, 6, 7, 8, 9, 10, 1, 3, 4, 5, 6, 7, 8, 9, 10, 1, 2, 3, 4, 5, 6, 7, 8, 9, 10, 1, 2, 3, 4, 5, 6, 7, 8, 9, 10, 1, 2, 3, 4, 5, 6, 7, 8, 9, 10, 2, 7, 1, 2, 3, 4, 5, 6, 7, 8, 9, 10, 1, 2, 4, 5, 6, 7, 9, 1, 2, 3, 4, 5, 6, 7, 8, 9, 10, 1, 2, 3, 4, 5, 6, 7, 8, 9, 10, 1, 3, 4, 6, 7, 8, 10, 1, 2, 3, 4, 5, 6, 7, 8, 9, 10, 1, 2, 3, 4, 5, 6, 7, 8, 9, 10, 1, 2, 3, 4, 5, 6, 7, 8, 9, 10, 1, 2, 3, 4, 5, 6, 7, 8, 9, 10, 1, 2, 3, 4, 6, 7, 8, 1, 2, 3, 4, 5, 6, 7, 8, 9, 10, 1, 2, 3, 4, 5, 6, 7, 8, 9, 10, 1, 2, 3, 4, 5, 6, 7, 8, 9, 10, 1, 2, 3, 4, 5, 6, 7, 9, 10, 1, 2, 3, 4, 5, 6, 7, 8, 9, 10, 1, 2, 3, 4, 5, 6, 7, 8, 9, 10, 1, 2, 3, 4, 5, 6, 7, 8, 9, 10, 1, 3, 4, 6, 7, 8, 9, 1, 2, 3, 4, 5, 6, 7, 8, 9, 10, 1, 2, 3, 4, 5, 6, 7, 8, 9, 10, 1, 2, 3, 4, 5, 6, 7, 8, 9, 10, 1, 2, 3, 4, 5, 6, 7, 8, 9, 10, 3, 4, 5, 6, 8, 9, 1, 2, 3, 4, 5, 6, 7, 8, 9, 10, 1, 2, 3, 4, 5, 6, 7, 8, 9, 10, 1, 2, 3, 4, 5, 6, 7, 8, 9, 10, 1, 2, 3, 4, 5, 6, 7, 8, 9, 10, 1, 2, 3, 4, 5, 6, 7, 8, 9, 10, 1, 2, 3, 4, 5, 6, 7, 8, 9, 10, 1, 2, 3, 4, 5, 6, 7, 8, 9, 10, 1, 2, 3, 4, 5, 6, 7, 8, 9, 10, 1, 2, 3, 4, 5, 6, 7, 8, 9, 10, 1, 2, 3, 4, 5, 6, 7, 8, 9, 10, 1, 2, 3, 4, 5, 6, 7, 8, 9, 10, 1, 2, 3, 4, 6, 7, 8, 9, 10, 1, 2, 3, 4, 5, 6, 7, 8, 9, 10, 1, 2, 3, 4, 5, 6, 7, 8, 9, 10, 1, 2, 3, 4, 5, 6, 7, 8, 9, 10, 1, 2, 3, 4, 5, 6, 7, 8, 9, 10, 1, 2, 3, 4, 5, 6, 7, 8, 9, 10, 1, 2, 3, 4, 5, 6, 7, 8, 9, 10, 1, 2, 3, 4, 5, 6, 7, 8, 9, 10, 1, 2, 3, 4, 5, 6, 7, 8, 9, 10, 1, 2, 3, 4, 5, 6, 7, 8, 9, 10, 1, 2, 3, 4, 5, 6, 7, 8, 9, 10, 1, 2, 3, 4, 5, 6, 7, 8, 9, 10, 1, 2, 3, 4, 5, 6, 7, 8, 9, 10, 1, 2, 3, 4, 5, 6, 7, 8, 9, 10, 1, 2, 3, 4, 5, 6, 7, 8, 9, 10, 1, 2, 3, 4, 5, 6, 7, 8, 9, 10, 1, 2, 3, 4, 5, 6, 7, 8, 9, 10, 1, 2, 3, 4, 5, 6, 7, 8, 9, 10, 1, 2, 3, 4, 5, 6, 7, 8, 9, 10, 1, 2, 3, 4, 5, 6, 7, 8, 9, 10, 1, 2, 3, 4, 5, 6, 7, 8, 9, 10, 1, 2, 3, 4, 5, 6, 7, 8, 9, 10, 1, 2, 3, 4, 5, 6, 7, 8, 9, 10, 1, 2, 3, 4, 5, 6, 7, 8, 9, 10, 1, 2, 3, 4, 5, 6, 7, 8, 9, 10, 1, 2, 3, 4, 5, 6, 7, 8, 9, 10, 1, 2, 3, 4, 5, 6, 7, 8, 9, 10, 1, 2, 3, 4, 5, 6, 7, 8, 9, 10, 1, 2, 3, 4, 5, 6, 7, 8, 9, 10, 1, 2, 3, 4, 5, 6, 7, 8, 9, 10, 1, 2, 3, 4, 5, 6, 7, 8, 9, 10, 1, 2, 3, 4, 5, 6, 7, 8, 9, 10, 1, 2, 3, 4, 5, 6, 7, 8, 9, 10, 1, 2, 3, 4, 5, 6, 7, 8, 9, 10, 1, 2, 3, 4, 5, 6, 7, 8, 9, 10, 1, 2, 3, 4, 5, 6, 7, 8, 9, 10, 1, 2, 3, 4, 5, 6, 7, 8, 9, 10, 3, 4, 5, 9, 1, 2, 3, 4, 5, 6, 7, 8, 9, 10, 1, 1, 2, 3, 4, 5, 6, 7, 8, 9, 10, 1, 2, 3, 4, 5, 6, 7, 8, 9, 10, 1, 2, 3, 4, 5, 6, 7, 8, 9, 10, 1, 2, 3, 4, 7, 8, 9, 1, 2, 3, 4, 5, 6, 7, 8, 9, 10, 1, 2, 3, 5, 6, 7, 8, 9, 10, 1, 2, 3, 4, 5, 6, 7, 8, 9, 10, 1, 2, 3, 4, 5, 6, 7, 8, 9, 10, 1, 2, 3, 4, 5, 6, 7, 8, 9, 10, 1, 2, 3, 4, 5, 6, 7, 8, 9, 10, 1, 2, 3, 4, 5, 7, 8, 10, 1, 2, 3, 4, 5, 6, 7, 8, 9, 10, 1, 2, 3, 4, 5, 6, 7, 8, 9, 10, 1, 2, 3, 4, 5, 6, 7, 8, 9, 10, 1, 2, 3, 4, 5, 6, 7, 8, 9, 10, 1, 3, 4, 5, 8, 9, 10, 1, 2, 3, 4, 5, 6, 7, 8, 9, 10, 1, 2, 3, 4, 5, 6, 7, 8, 9, 10, 1, 2, 3, 4, 5, 6, 7, 8, 9, 10, 1, 2, 3, 4, 6, 7, 10, 1, 2, 3, 4, 5, 6, 7, 8, 9, 10, 1, 2, 3, 4, 5, 6, 7, 8, 9, 10, 1, 2, 3, 4, 5, 6, 7, 8, 9, 10, 1, 2, 3, 4, 5, 6, 7, 8, 9, 10, 1, 2, 3, 4, 5, 6, 7, 8, 9, 10, 1, 2, 3, 4, 5, 6, 7, 8, 9, 10, 1, 3, 4, 5, 7, 8, 10, 1, 2, 3, 4, 5, 6, 7, 8, 9, 10, 1, 2, 3, 4, 5, 6, 7, 8, 9, 10, 1, 2, 3, 4, 5, 6, 7, 8, 9, 10, 1, 2, 3, 4, 5, 6, 7, 8, 9, 10, 1, 2, 3, 4, 5, 6, 7, 8, 9, 10, 1, 2, 3, 4, 5, 6, 7, 8, 9, 10, 1, 2, 3, 4, 5, 6, 7, 8, 9, 10, 1, 2, 3, 4, 5, 6, 7, 8, 9, 10, 1, 2, 3, 4, 5, 6, 7, 8, 9, 10, 1, 2, 3, 4, 5, 6, 7, 8, 9, 10, 1, 2, 3, 4, 5, 6, 7, 8, 9, 10, 1, 2, 3, 4, 5, 6, 7, 8, 9, 10, 1, 2, 3, 4, 5, 6, 7, 8, 9, 10, 1, 2, 3, 4, 5, 6, 7, 8, 9, 10, 1, 2, 3, 4, 5, 6, 7, 8, 9, 10, 1, 2, 3, 4, 5, 6, 7, 8, 9, 10, 1, 2, 3, 4, 5, 6, 7, 8, 9, 10, 1, 2, 3, 4, 5, 6, 7, 8, 9, 10, 1, 2, 3, 4, 5, 6, 7, 8, 9, 10, 1, 2, 3, 4, 5, 6, 7, 8, 9, 10, 1, 2, 3, 4, 5, 6, 7, 8, 9, 10, 1, 2, 3, 4, 5, 6, 7, 8, 9, 10, 1, 2, 3, 4, 5, 6, 7, 8, 9, 10, 1, 2, 3, 4, 5, 6, 7, 8, 9, 10, 1, 2, 3, 4, 5, 6, 7, 8, 9, 10, 1, 2, 3, 4, 7, 8, 9, 10, 1, 2, 3, 4, 5, 6, 7, 8, 9, 10, 1, 2, 3, 4, 5, 6, 7, 8, 9, 10, 1, 2, 3, 4, 5, 6, 7, 8, 9, 10, 1, 2, 3, 4, 5, 6, 7, 8, 9, 10, 1, 2, 3, 4, 5, 6, 7, 8, 9, 10, 1, 2, 3, 4, 5, 6, 7, 8, 9, 10, 1, 2, 3, 4, 5, 6, 7, 8, 9, 10, 1, 2, 3, 4, 5, 6, 7, 8, 10, 1, 2, 3, 4, 5, 6, 7, 8, 9, 10, 1, 2, 3, 4, 5, 6, 7, 8, 9, 10, 1, 2, 3, 4, 5, 7, 8, 9, 10, 1, 2, 3, 4, 5, 6, 7, 8, 9, 10, 1, 2, 3, 4, 5, 6, 7, 8, 9, 10, 1, 2, 3, 4, 5, 6, 9, 1, 2, 3, 4, 5, 6, 7, 8, 9, 10, 1, 2, 3, 4, 5, 6, 7, 8, 9, 10, 1, 2, 3, 6, 7, 9, 10, 1, 2, 3, 4, 5, 6, 7, 8, 9, 10, 1, 2, 3, 4, 5, 6, 7, 8, 9, 10, 2, 4, 1, 4, 5, 6, 7, 8, 9, 10, 1, 2, 3, 4, 5, 6, 7, 8, 9, 10, 1, 2, 3, 4, 5, 6, 7, 8, 9, 10, 1, 2, 3, 4, 5, 6, 7, 8, 9, 10, 2, 3, 5, 6, 8, 9, 10, 1, 2, 3, 4, 5, 6, 7, 8, 9, 10, 1, 2, 3, 4, 5, 6, 7, 8, 9, 10, 1, 2, 3, 4, 5, 6, 7, 8, 9, 10, 1, 2, 3, 4, 5, 6, 7, 8, 9, 10, 2, 3, 5, 6, 7, 8, 9, 1, 2, 3, 4, 5, 6, 7, 8, 9, 10, 1, 2, 3, 4, 5, 6, 7, 8, 9, 10, 1, 2, 3, 4, 5, 6, 7, 8, 9, 10, 1, 2, 3, 4, 5, 6, 7, 8, 9, 10, 1, 2, 3, 4, 5, 6, 7, 8, 9, 10, 1, 2, 3, 4, 5, 6, 7, 8, 9, 10, 1, 2, 3, 4, 5, 6, 7, 8, 9, 10, 1, 2, 3, 4, 5, 6, 7, 8, 9, 10, 1, 2, 3, 4, 5, 6, 7, 8, 9, 10, 1, 2, 3, 4, 5, 6, 7, 8, 9, 10, 1, 2, 3, 4, 5, 6, 7, 8, 9, 10, 1, 2, 3, 4, 5, 6, 7, 8, 9, 10, 1, 2, 3, 4, 7, 8, 9, 10, 1, 2, 3, 4, 5, 6, 7, 8, 9, 10, 1, 2, 3, 4, 5, 6, 7, 8, 9, 10, 1, 2, 4, 5, 10, 1, 2, 3, 4, 5, 6, 7, 8, 9, 10, 1, 2, 3, 4, 5, 6, 7, 8, 9, 10, 1, 2, 3, 4, 5, 6, 7, 8, 9, 10, 1, 2, 3, 4, 5, 6, 7, 8, 9, 10, 1, 2, 3, 4, 5, 6, 7, 9, 10, 1, 2, 3, 4, 5, 6, 7, 8, 9, 10, 1, 2, 3, 4, 5, 6, 7, 8, 9, 10, 1, 2, 3, 4, 5, 6, 7, 8, 9, 10, 1, 2, 3, 4, 5, 6, 7, 8, 9, 10, 1, 2, 3, 4, 5, 6, 7, 8, 9, 10, 1, 2, 3, 4, 5, 6, 7, 8, 9, 10, 1, 2, 3, 4, 5, 6, 7, 8, 9, 10, 1, 2, 3, 4, 5, 6, 7, 8, 9, 10, 1, 2, 3, 4, 5, 6, 7, 8, 9, 10, 1, 2, 3, 4, 5, 6, 8, 10, 1, 2, 3, 4, 5, 6, 7, 8, 9, 10, 1, 2, 3, 4, 5, 6, 7, 8, 9, 10, 2, 3, 5, 6, 7, 8, 9, 10, 1, 2, 6, 7, 8, 9, 10, 1, 2, 3, 4, 5, 6, 7, 8, 9, 10, 1, 2, 3, 4, 5, 6, 7, 8, 9, 10, 1, 2, 3, 4, 5, 6, 7, 9, 10, 1, 2, 3, 4, 5, 6, 7, 8, 9, 10, 1, 2, 3, 4, 5, 6, 7, 8, 9, 10, 1, 2, 3, 4, 5, 6, 7, 8, 9, 10, 1, 2, 3, 4, 5, 6, 7, 8, 9, 10, 1, 2, 3, 4, 5, 6, 7, 8, 9, 10, 1, 2, 3, 4, 5, 6, 7, 8, 9, 10, 1, 2, 3, 4, 5, 6, 7, 8, 9, 10, 1, 2, 3, 4, 5, 6, 7, 8, 9, 10, 2, 3, 4, 5, 6, 8, 9, 10, 1, 2, 3, 4, 5, 6, 7, 8, 9, 10, 1, 2, 3, 4, 5, 6, 7, 8, 9, 10, 1, 2, 3, 4, 5, 6, 7, 8, 9, 10, 1, 2, 3, 4, 5, 6, 7, 8, 9, 10, 1, 2, 3, 4, 5, 6, 7, 8, 9, 10, 1, 2, 3, 4, 5, 6, 7, 8, 9, 10, 1, 2, 3, 4, 5, 6, 7, 8, 9, 10, 1, 2, 3, 4, 5, 6, 7, 8, 9, 10, 1, 2, 3, 4, 5, 6, 7, 8, 9, 10, 1, 2, 3, 5, 6, 7, 9, 10, 1, 2, 3, 4, 5, 6, 7, 8, 9, 10, 1, 2, 3, 4, 5, 6, 7, 8, 9, 10, 1, 2, 3, 4, 5, 6, 7, 8, 9, 10, 1, 2, 3, 4, 5, 6, 7, 8, 9, 10, 1, 2, 3, 4, 5, 6, 7, 8, 9, 10, 1, 2, 3, 4, 5, 6, 7, 8, 9, 10, 1, 2, 3, 4, 5, 6, 7, 8, 9, 10, 1, 2, 3, 4, 5, 6, 7, 8, 9, 10, 1, 2, 3, 4, 5, 6, 7, 8, 9, 10, 1, 2, 3, 4, 5, 6, 7, 8, 9, 10, 1, 2, 3, 4, 5, 7, 10, 1, 2, 3, 4, 5, 6, 7, 8, 9, 10, 1, 2, 3, 4, 5, 6, 7, 8, 9, 10, 1, 2, 3, 4, 5, 6, 7, 8, 9, 10, 1, 2, 3, 4, 5, 6, 7, 8, 9, 10, 1, 2, 3, 4, 5, 6, 7, 8, 9, 10, 1, 2, 3, 4, 5, 6, 7, 8, 9, 10, 1, 2, 3, 4, 5, 6, 7, 8, 9, 10, 1, 2, 3, 4, 5, 6, 7, 8, 9, 10, 1, 2, 4, 5, 7, 8, 9, 10, 1, 2, 3, 4, 5, 6, 7, 8, 9, 10, 1, 2, 3, 4, 5, 6, 7, 8, 9, 10, 1, 2, 3, 4, 5, 6, 7, 8, 9, 10, 1, 2, 3, 4, 5, 6, 7, 8, 9, 10, 1, 2, 3, 4, 5, 6, 7, 8, 9, 10, 1, 2, 3, 4, 5, 6, 7, 8, 9, 10, 1, 3, 8, 1, 2, 3, 4, 5, 6, 7, 8, 9, 10, 1, 2, 3, 4, 5, 6, 7, 8, 9, 10, 1, 4, 6, 7, 8, 1, 2, 3, 4, 5, 6, 7, 8, 9, 10, 1, 2, 3, 4, 5, 6, 7, 8, 9, 10, 1, 2, 3, 4, 5, 6, 7, 8, 9, 10, 1, 2, 3, 4, 5, 6, 7, 8, 9, 10, 1, 2, 3, 4, 5, 6, 7, 8, 9, 10, 1, 2, 3, 4, 5, 6, 7, 8, 9, 10, 1, 2, 3, 4, 5, 6, 7, 8, 9, 10, 1, 2, 3, 4, 5, 6, 7, 8, 9, 10, 1, 2, 3, 4, 5, 6, 7, 8, 9, 10, 1, 2, 3, 4, 5, 6, 7, 8, 9, 10, 1, 2, 3, 4, 5, 6, 7, 8, 9, 10, 1, 2, 3, 4, 5, 6, 7, 8, 9, 10, 2, 3, 6, 8, 9, 10, 1, 2, 3, 4, 5, 6, 7, 8, 9, 10, 1, 2, 3, 4, 5, 6, 7, 8, 9, 10, 1, 2, 3, 4, 5, 6, 7, 8, 9, 10, 1, 3, 4, 6, 7, 8, 9, 10, 1, 2, 3, 4, 5, 6, 7, 8, 9, 10, 1, 2, 3, 4, 5, 6, 7, 8, 9, 10, 1, 2, 3, 4, 5, 6, 7, 8, 9, 10, 1, 2, 3, 4, 5, 6, 7, 8, 9, 10, 1, 2, 3, 4, 5, 6, 7, 8, 9, 10, 1, 2, 3, 4, 5, 6, 7, 8, 9, 10, 1, 2, 3, 4, 5, 6, 7, 8, 9, 10, 1, 3, 5, 6, 7, 8, 10, 1, 2, 3, 4, 5, 6, 7, 8, 9, 10, 1, 2, 3, 4, 5, 6, 7, 8, 9, 10, 1, 2, 3, 4, 5, 6, 7, 8, 9, 10, 1, 2, 3, 4, 5, 6, 7, 8, 9, 10, 1, 2, 3, 4, 5, 6, 7, 8, 9, 10, 1, 2, 3, 6, 7, 8, 9, 1, 2, 3, 4, 5, 6, 7, 8, 9, 10, 1, 2, 3, 4, 5, 6, 7, 8, 9, 10, 1, 2, 3, 4, 5, 6, 7, 8, 9, 10, 1, 2, 3, 4, 5, 6, 7, 8, 9, 10, 1, 2, 3, 4, 5, 6, 7, 8, 9, 10, 1, 2, 3, 4, 5, 6, 7, 8, 9, 10, 1, 2, 3, 4, 5, 6, 7, 8, 9, 10, 1, 2, 3, 4, 5, 6, 7, 8, 9, 10, 1, 2, 3, 4, 5, 6, 7, 8, 9, 10, 1, 2, 3, 4, 5, 6, 7, 8, 9, 10, 1, 2, 3, 4, 5, 6, 7, 8, 9, 10, 1, 2, 3, 4, 5, 6, 7, 8, 9, 10, 1, 2, 3, 4, 5, 6, 7, 8, 9, 10, 1, 2, 3, 4, 5, 6, 7, 8, 9, 10, 1, 2, 3, 4, 5, 6, 7, 8, 9, 10, 1, 2, 3, 4, 5, 6, 7, 8, 9, 10, 1, 2, 3, 4, 5, 6, 7, 8, 9, 10, 1, 2, 3, 4, 5, 6, 7, 8, 9, 10, 1, 2, 3, 4, 5, 6, 7, 8, 9, 10, 1, 2, 3, 4, 5, 6, 7, 8, 9, 10, 1, 2, 3, 4, 5, 6, 7, 8, 9, 1, 2, 3, 4, 5, 6, 7, 8, 9, 10, 1, 2, 3, 4, 5, 6, 7, 8, 9, 10, 1, 2, 3, 4, 5, 6, 7, 8, 9, 10, 1, 2, 3, 4, 5, 6, 7, 8, 9, 10, 1, 2, 3, 4, 5, 6, 7, 8, 10, 1, 2, 3, 4, 5, 6, 7, 8, 9, 10, 1, 2, 3, 4, 5, 6, 7, 8, 9, 10, 1, 5, 10, 1, 2, 3, 4, 5, 6, 7, 8, 9, 10, 1, 2, 3, 4, 5, 6, 7, 8, 9, 10, 1, 2, 4, 6, 7, 9, 1, 2, 3, 4, 5, 6, 7, 8, 9, 10, 1, 2, 3, 4, 5, 6, 7, 8, 9, 10, 1, 2, 3, 4, 5, 6, 7, 8, 9, 10, 1, 2, 3, 4, 5, 6, 7, 8, 9, 10, 1, 2, 3, 4, 5, 6, 7, 8, 9, 10, 2, 3, 4, 5, 8, 9, 1, 2, 3, 4, 5, 6, 7, 8, 9, 10, 1, 2, 3, 4, 5, 6, 7, 8, 9, 10, 1, 2, 3, 4, 5, 6, 7, 8, 9, 10, 1, 2, 3, 4, 5, 6, 7, 8, 9, 10, 1, 2, 3, 4, 5, 6, 7, 8, 9, 10, 1, 2, 3, 4, 5, 6, 7, 8, 9, 10, 1, 2, 3, 4, 5, 6, 7, 8, 9, 10, 1, 2, 3, 4, 5, 6, 7, 8, 9, 10, 1, 2, 3, 4, 5, 6, 7, 8, 9, 10, 1, 2, 3, 4, 5, 6, 7, 8, 9, 10, 1, 2, 3, 4, 5, 6, 7, 8, 9, 10, 1, 2, 3, 4, 5, 6, 7, 8, 9, 10, 1, 2, 3, 4, 5, 6, 7, 8, 9, 10, 1, 2, 3, 4, 5, 6, 7, 8, 9, 10, 1, 2, 3, 4, 5, 6, 7, 8, 9, 10, 1, 2, 3, 4, 5, 6, 7, 8, 9, 10, 1, 2, 3, 4, 5, 6, 7, 8, 9, 10, 1, 2, 3, 4, 5, 6, 7, 8, 9, 10, 1, 2, 3, 4, 5, 6, 7, 8, 9, 10, 1, 2, 3, 4, 5, 6, 7, 8, 1, 2, 3, 4, 5, 6, 7, 8, 9, 10, 1, 2, 3, 4, 5, 6, 7, 8, 9, 10, 1, 2, 3, 4, 5, 6, 7, 8, 9, 10, 1, 2, 3, 4, 5, 6, 7, 8, 9, 10, 1, 2, 3, 4, 5, 6, 7, 8, 9, 10, 1, 2, 3, 4, 5, 6, 7, 8, 9, 10, 1, 2, 3, 4, 5, 6, 7, 8, 9, 10, 1, 3, 5, 6, 7, 8, 9, 10, 1, 2, 3, 4, 5, 6, 7, 8, 9, 10, 1, 2, 3, 4, 5, 6, 7, 8, 9, 10, 1, 2, 3, 4, 5, 6, 7, 8, 9, 10, 1, 2, 3, 4, 5, 6, 7, 8, 9, 10, 1, 2, 3, 4, 5, 6, 7, 8, 9, 10, 1, 2, 3, 4, 5, 6, 7, 8, 9, 10, 1, 2, 3, 4, 5, 6, 7, 8, 9, 10, 1, 2, 3, 4, 5, 6, 7, 8, 9, 10, 1, 2, 3, 4, 5, 6, 7, 8, 9, 1, 2, 3, 4, 5, 6, 7, 8, 9, 10, 1, 2, 3, 4, 5, 6, 7, 8, 9, 10, 1, 2, 3, 4, 5, 6, 7, 8, 9, 10, 1, 2, 3, 4, 5, 6, 7, 8, 9, 1, 2, 3, 4, 5, 6, 7, 8, 9, 10, 1, 2, 3, 4, 5, 6, 7, 8, 9, 10, 1, 2, 3, 4, 7, 8, 9, 10, 1, 2, 3, 4, 5, 6, 7, 8, 9, 10, 1, 2, 3, 4, 5, 6, 7, 8, 9, 10, 1, 2, 3, 4, 5, 7, 8, 9, 10, 1, 2, 3, 4, 5, 6, 7, 8, 9, 10, 1, 2, 3, 4, 5, 6, 7, 8, 9, 10, 1, 2, 3, 4, 5, 6, 7, 8, 9, 10, 1, 2, 3, 4, 5, 6, 7, 8, 9, 10, 1, 2, 3, 4, 5, 6, 7, 8, 9, 10, 1, 2, 3, 4, 5, 6, 7, 8, 9, 10, 1, 2, 3, 4, 5, 6, 7, 8, 9, 10, 1, 2, 3, 4, 5, 6, 7, 8, 9, 10, 1, 2, 3, 4, 5, 6, 7, 8, 9, 10, 1, 2, 3, 4, 5, 6, 7, 8, 9, 10, 1, 2, 3, 4, 5, 6, 7, 8, 9, 10, 1, 2, 3, 4, 5, 6, 7, 8, 9, 10, 1, 2, 3, 4, 5, 6, 7, 8, 9, 10, 1, 2, 3, 4, 5, 6, 7, 8, 9, 10, 1, 2, 3, 4, 5, 6, 7, 8, 9, 10, 1, 2, 3, 4, 5, 6, 7, 8, 9, 10, 2, 3, 4, 6, 7, 10, 1, 2, 3, 4, 5, 6, 7, 8, 9, 10, 1, 2, 3, 4, 5, 6, 7, 8, 9, 10, 1, 2, 3, 4, 5, 6, 7, 8, 9, 10, 1, 2, 3, 4, 5, 6, 7, 8, 9, 10, 1, 2, 3, 4, 5, 6, 7, 8, 9, 10, 1, 2, 3, 4, 5, 6, 7, 8, 9, 10, 1, 2, 3, 4, 5, 6, 7, 8, 9, 10, 1, 2, 3, 4, 5, 6, 7, 8, 9, 10, 1, 2, 3, 4, 5, 6, 7, 8, 9, 10, 1, 2, 3, 5, 8, 1, 2, 3, 4, 5, 6, 7, 8, 9, 10, 1, 2, 3, 4, 5, 6, 7, 8, 9, 10, 1, 2, 3, 4, 5, 6, 7, 8, 9, 10, 1, 2, 3, 4, 5, 6, 7, 8, 9, 10, 1, 2, 3, 4, 5, 6, 7, 8, 9, 10, 1, 2, 3, 4, 5, 6, 7, 8, 9, 10, 1, 2, 3, 4, 5, 6, 7, 8, 9, 10, 1, 2, 3, 4, 5, 6, 7, 8, 9, 10, 1, 2, 3, 4, 5, 6, 7, 8, 9, 10, 1, 2, 3, 4, 5, 6, 7, 8, 9, 10, 1, 2, 3, 4, 5, 6, 7, 8, 9, 10, 3, 4, 6, 7, 8, 9, 10, 1, 2, 3, 4, 5, 6, 7, 8, 9, 10, 1, 2, 3, 4, 5, 6, 8, 9, 10, 1, 2, 3, 4, 5, 6, 7, 8, 9, 10, 1, 2, 3, 4, 5, 6, 7, 8, 9, 10, 1, 2, 3, 4, 5, 6, 7, 8, 9, 10, 1, 2, 3, 4, 5, 6, 7, 8, 9, 10, 1, 2, 3, 4, 5, 6, 7, 8, 9, 10, 1, 2, 3, 4, 5, 6, 7, 8, 9, 10, 1, 2, 3, 4, 5, 6, 7, 8, 9, 10, 1, 2, 3, 4, 5, 6, 7, 8, 9, 10, 1, 2, 3, 4, 5, 6, 7, 8, 9, 10, 1, 2, 3, 5, 6, 7, 8, 9, 10, 1, 2, 3, 4, 5, 6, 7, 8, 9, 10, 1, 2, 3, 4, 5, 7, 8, 9, 10, 1, 2, 3, 4, 5, 6, 7, 8, 9, 10, 1, 2, 3, 4, 7, 9, 1, 2, 3, 4, 5, 6, 7, 8, 9, 10, 1, 2, 3, 4, 5, 6, 7, 8, 9, 10, 1, 2, 3, 4, 5, 6, 7, 8, 9, 10, 1, 2, 3, 4, 5, 6, 7, 8, 9, 10, 1, 2, 3, 4, 5, 6, 7, 8, 9, 10, 1, 2, 3, 4, 5, 6, 7, 8, 9, 10, 1, 2, 3, 4, 5, 6, 7, 8, 9, 10, 1, 2, 3, 4, 5, 6, 7, 8, 9, 10, 1, 2, 3, 4, 5, 6, 8, 9, 10, 1, 2, 3, 4, 5, 6, 7, 8, 9, 10, 1, 2, 3, 4, 5, 6, 7, 8, 9, 10, 1, 2, 3, 4, 5, 6, 7, 8, 9, 10, 1, 2, 3, 4, 5, 6, 7, 8, 9, 10, 1, 2, 3, 4, 5, 6, 7, 8, 9, 10, 1, 2, 3, 4, 5, 6, 7, 8, 9, 10, 1, 2, 3, 4, 5, 6, 7, 8, 9, 10, 1, 2, 3, 4, 5, 6, 7, 8, 9, 10, 1, 2, 3, 4, 5, 6, 7, 8, 9, 10, 1, 2, 3, 4, 5, 6, 7, 8, 9, 10, 1, 2, 3, 4, 5, 6, 7, 8, 9, 10, 1, 2, 3, 4, 5, 6, 7, 8, 9, 10, 1, 2, 3, 4, 5, 6, 7, 8, 9, 10, 1, 2, 3, 4, 5, 6, 7, 8, 9, 10, 1, 2, 3, 4, 5, 6, 7, 8, 9, 10, 1, 2, 3, 4, 5, 6, 7, 8, 9, 10, 1, 2, 3, 4, 5, 6, 7, 8, 9, 10, 1, 2, 3, 4, 5, 6, 7, 8, 9, 10, 1, 2, 3, 4, 5, 6, 7, 8, 9, 10, 1, 2, 3, 4, 5, 6, 7, 8, 9, 10, 1, 2, 3, 4, 5, 6, 7, 8, 9, 10, 1, 2, 3, 4, 5, 6, 7, 8, 9, 10, 1, 2, 3, 4, 5, 6, 7, 8, 9, 10, 3, 5, 6, 8, 9, 10, 1, 2, 3, 4, 5, 6, 7, 8, 9, 10, 1, 2, 3, 4, 5, 6, 7, 8, 9, 10, 1, 2, 3, 4, 5, 6, 7, 8, 9, 10, 1, 2, 3, 4, 5, 6, 7, 8, 9, 10, 1, 2, 3, 4, 5, 6, 7, 8, 9, 10, 1, 3, 5, 8, 9, 10, 1, 2, 3, 4, 5, 6, 7, 8, 9, 10, 1, 2, 3, 4, 5, 6, 7, 8, 9, 10, 1, 2, 3, 4, 5, 6, 7, 8, 9], \"Freq\": [0.07720938324928284, 0.11955001205205917, 0.08966250717639923, 0.09962500631809235, 0.06724687665700912, 0.07720938324928284, 0.13449375331401825, 0.11456876248121262, 0.10958750545978546, 0.11456876248121262, 0.08288456499576569, 0.149192214012146, 0.08288456499576569, 0.1184065192937851, 0.11367025971412659, 0.0876208245754242, 0.09946147352457047, 0.08288456499576569, 0.08288456499576569, 0.09709334373474121, 0.12294531613588333, 0.12294531613588333, 0.12294531613588333, 0.12294531613588333, 0.12294531613588333, 0.12294531613588333, 0.12294531613588333, 0.12294531613588333, 0.13367608189582825, 0.13367608189582825, 0.13367608189582825, 0.13367608189582825, 0.13367608189582825, 0.13367608189582825, 0.13367608189582825, 0.13367608189582825, 0.13367608189582825, 0.13367608189582825, 0.11323053389787674, 0.11323053389787674, 0.22646106779575348, 0.11323053389787674, 0.11323053389787674, 0.11323053389787674, 0.11323053389787674, 0.11323053389787674, 0.11323053389787674, 0.11323053389787674, 0.168397918343544, 0.168397918343544, 0.168397918343544, 0.168397918343544, 0.168397918343544, 0.168397918343544, 0.09959449619054794, 0.04979724809527397, 0.0746958777308464, 0.0746958777308464, 0.12449312210083008, 0.17429037392139435, 0.09959449619054794, 0.09959449619054794, 0.09959449619054794, 0.09959449619054794, 0.15115812420845032, 0.15115812420845032, 0.15115812420845032, 0.15115812420845032, 0.15115812420845032, 0.15115812420845032, 0.15115812420845032, 0.15115812420845032, 0.15115812420845032, 0.0848061665892601, 0.0848061665892601, 0.0848061665892601, 0.0848061665892601, 0.0848061665892601, 0.0848061665892601, 0.0848061665892601, 0.0848061665892601, 0.1696123331785202, 0.1696123331785202, 0.06635832786560059, 0.06635832786560059, 0.13271665573120117, 0.06635832786560059, 0.06635832786560059, 0.13271665573120117, 0.06635832786560059, 0.13271665573120117, 0.06635832786560059, 0.19907498359680176, 0.11521900445222855, 0.11521900445222855, 0.2304380089044571, 0.11521900445222855, 0.11521900445222855, 0.11521900445222855, 0.11521900445222855, 0.11521900445222855, 0.11521900445222855, 0.12269937992095947, 0.12269937992095947, 0.12269937992095947, 0.12269937992095947, 0.12269937992095947, 0.12269937992095947, 0.12269937992095947, 0.12269937992095947, 0.12269937992095947, 0.12269937992095947, 0.16779443621635437, 0.16779443621635437, 0.16779443621635437, 0.16779443621635437, 0.16779443621635437, 0.16779443621635437, 0.16793641448020935, 0.16793641448020935, 0.16793641448020935, 0.16793641448020935, 0.22680248320102692, 0.22680248320102692, 0.168294295668602, 0.168294295668602, 0.168294295668602, 0.168294295668602, 0.168294295668602, 0.168294295668602, 0.168294295668602, 0.168294295668602, 0.09056691825389862, 0.09056691825389862, 0.18113383650779724, 0.09056691825389862, 0.09056691825389862, 0.09056691825389862, 0.09056691825389862, 0.09056691825389862, 0.09056691825389862, 0.09056691825389862, 0.1190095841884613, 0.0910937562584877, 0.09403226524591446, 0.10431704670190811, 0.1123979464173317, 0.11386720091104507, 0.0837474912405014, 0.09035912901163101, 0.09623614698648453, 0.09476689249277115, 0.09430716186761856, 0.09430716186761856, 0.09430716186761856, 0.09430716186761856, 0.09430716186761856, 0.09430716186761856, 0.09430716186761856, 0.18861432373523712, 0.09430716186761856, 0.09430716186761856, 0.15101361274719238, 0.15101361274719238, 0.15101361274719238, 0.15101361274719238, 0.15101361274719238, 0.15101361274719238, 0.15101361274719238, 0.15101361274719238, 0.15101361274719238, 0.10295625030994415, 0.08007708191871643, 0.17159375548362732, 0.12583541870117188, 0.08007708191871643, 0.09151666611433029, 0.06863749772310257, 0.10295625030994415, 0.09151666611433029, 0.09151666611433029, 0.17163114249706268, 0.10095949470996857, 0.10095949470996857, 0.09086354821920395, 0.10095949470996857, 0.07067164778709412, 0.09086354821920395, 0.09086354821920395, 0.09086354821920395, 0.09086354821920395, 0.1505228728055954, 0.1505228728055954, 0.1505228728055954, 0.1505228728055954, 0.1505228728055954, 0.1505228728055954, 0.1505228728055954, 0.1505228728055954, 0.1505228728055954, 0.09113457053899765, 0.11490880697965622, 0.09641773253679276, 0.07396429032087326, 0.09905931353569031, 0.10038010776042938, 0.07528507709503174, 0.15057015419006348, 0.08717219531536102, 0.11358801275491714, 0.08261854946613312, 0.08261854946613312, 0.16523709893226624, 0.09294586628675461, 0.11360049992799759, 0.1032731831073761, 0.07229122519493103, 0.1032731831073761, 0.1032731831073761, 0.07229122519493103, 0.09990774840116501, 0.0820670798420906, 0.1534297615289688, 0.08920334279537201, 0.09633961319923401, 0.0820670798420906, 0.08920334279537201, 0.0820670798420906, 0.1320209503173828, 0.09277147799730301, 0.14042353630065918, 0.09361569583415985, 0.09361569583415985, 0.09361569583415985, 0.09361569583415985, 0.09361569583415985, 0.09361569583415985, 0.09361569583415985, 0.046807847917079926, 0.1872313916683197, 0.06910443305969238, 0.06910443305969238, 0.06910443305969238, 0.06910443305969238, 0.13820886611938477, 0.13820886611938477, 0.13820886611938477, 0.06910443305969238, 0.06910443305969238, 0.06910443305969238, 0.08710569143295288, 0.14080096781253815, 0.1014244332909584, 0.08591245859861374, 0.10261765867471695, 0.10977703332901001, 0.09665151685476303, 0.08233277499675751, 0.11812963336706161, 0.07517340034246445, 0.13317854702472687, 0.09988391399383545, 0.09988391399383545, 0.06658927351236343, 0.09988391399383545, 0.06658927351236343, 0.16647319495677948, 0.09988391399383545, 0.09988391399383545, 0.09988391399383545, 0.11569274216890335, 0.07284358143806458, 0.08998323976993561, 0.1049804538488388, 0.1114078238606453, 0.14354470372200012, 0.08141341060400009, 0.1049804538488388, 0.062131285667419434, 0.11569274216890335, 0.1108882874250412, 0.15524360537528992, 0.08871063590049744, 0.07762180268764496, 0.07762180268764496, 0.14045849442481995, 0.09610318392515182, 0.09610318392515182, 0.07392552495002747, 0.08131808042526245, 0.11478657275438309, 0.11478657275438309, 0.11478657275438309, 0.11478657275438309, 0.11478657275438309, 0.11478657275438309, 0.11478657275438309, 0.11478657275438309, 0.11478657275438309, 0.11478657275438309, 0.07973714172840118, 0.07973714172840118, 0.09568456560373306, 0.11163199692964554, 0.11163199692964554, 0.07973714172840118, 0.12757942080497742, 0.15947428345680237, 0.06378971040248871, 0.09568456560373306, 0.08056644350290298, 0.09004484862089157, 0.09952325373888016, 0.17535050213336945, 0.0932043194770813, 0.1153205931186676, 0.09162458032369614, 0.0710880383849144, 0.0932043194770813, 0.09004484862089157, 0.11509595811367035, 0.057547979056835175, 0.057547979056835175, 0.057547979056835175, 0.11509595811367035, 0.17264394462108612, 0.11509595811367035, 0.11509595811367035, 0.057547979056835175, 0.057547979056835175, 0.09942604601383209, 0.09942604601383209, 0.10673678666353226, 0.06579665094614029, 0.08626671880483627, 0.07310738414525986, 0.14767691493034363, 0.13744188845157623, 0.08334241807460785, 0.100888192653656, 0.08726557344198227, 0.08726557344198227, 0.08726557344198227, 0.08726557344198227, 0.08726557344198227, 0.08726557344198227, 0.08726557344198227, 0.17453114688396454, 0.08726557344198227, 0.08726557344198227, 0.1106974333524704, 0.07700691372156143, 0.1299491673707962, 0.09866510331630707, 0.09986833482980728, 0.07941337674856186, 0.09385216981172562, 0.09505540877580643, 0.11912006884813309, 0.09625864028930664, 0.12525445222854614, 0.12525445222854614, 0.2505089044570923, 0.12525445222854614, 0.12525445222854614, 0.12525445222854614, 0.12525445222854614, 0.12525445222854614, 0.09243051707744598, 0.1109166219830513, 0.1109166219830513, 0.1109166219830513, 0.09243051707744598, 0.07394441217184067, 0.07394441217184067, 0.07394441217184067, 0.16637493669986725, 0.09243051707744598, 0.11373166739940643, 0.08627919852733612, 0.08333785831928253, 0.10098587721586227, 0.10000543296337128, 0.11471211165189743, 0.06765073537826538, 0.1254970133304596, 0.11667300760746002, 0.0902009829878807, 0.13705375790596008, 0.13705375790596008, 0.13705375790596008, 0.13705375790596008, 0.13705375790596008, 0.13705375790596008, 0.13705375790596008, 0.13705375790596008, 0.18412622809410095, 0.06137540563941002, 0.12275081127882004, 0.12275081127882004, 0.06137540563941002, 0.12275081127882004, 0.06137540563941002, 0.06137540563941002, 0.06137540563941002, 0.06137540563941002, 0.11955568194389343, 0.059777840971946716, 0.11955568194389343, 0.11955568194389343, 0.11955568194389343, 0.11955568194389343, 0.059777840971946716, 0.17933352291584015, 0.059777840971946716, 0.11955568194389343, 0.15083235502243042, 0.15083235502243042, 0.15083235502243042, 0.15083235502243042, 0.15083235502243042, 0.15083235502243042, 0.15083235502243042, 0.15083235502243042, 0.15083235502243042, 0.13963063061237335, 0.08752964437007904, 0.11670619249343872, 0.12087427079677582, 0.11253811419010162, 0.10003387928009033, 0.09586580097675323, 0.0687732920050621, 0.08544560521841049, 0.07085733115673065, 0.16874194145202637, 0.16874194145202637, 0.16874194145202637, 0.16874194145202637, 0.16874194145202637, 0.16874194145202637, 0.16874194145202637, 0.10984230786561966, 0.1164659634232521, 0.0872114822268486, 0.11260215938091278, 0.14020073413848877, 0.1021147072315216, 0.07562007755041122, 0.09162724763154984, 0.07948388159275055, 0.08445162326097488, 0.10962416976690292, 0.08372869342565536, 0.09581325203180313, 0.09149733930826187, 0.10876098275184631, 0.09149733930826187, 0.13293009996414185, 0.09840279817581177, 0.08977097272872925, 0.09840279817581177, 0.10929550230503082, 0.16394324600696564, 0.10929550230503082, 0.10929550230503082, 0.05464775115251541, 0.10929550230503082, 0.10929550230503082, 0.05464775115251541, 0.05464775115251541, 0.05464775115251541, 0.07257624715566635, 0.1451524943113327, 0.07257624715566635, 0.1451524943113327, 0.1451524943113327, 0.07257624715566635, 0.07257624715566635, 0.07257624715566635, 0.1451524943113327, 0.07257624715566635, 0.12468797713518143, 0.08272567391395569, 0.10310736298561096, 0.08512352406978607, 0.09351598471403122, 0.13188152015209198, 0.08872029185295105, 0.12348905205726624, 0.07912890613079071, 0.08752136677503586, 0.06927312165498734, 0.11965357512235641, 0.10076090693473816, 0.10076090693473816, 0.10076090693473816, 0.07557068020105362, 0.08816578984260559, 0.15114136040210724, 0.10705845803022385, 0.08816578984260559, 0.10503330081701279, 0.10503330081701279, 0.10503330081701279, 0.10503330081701279, 0.21006660163402557, 0.10503330081701279, 0.10503330081701279, 0.10503330081701279, 0.10503330081701279, 0.10503330081701279, 0.24607409536838531, 0.12303704768419266, 0.12303704768419266, 0.12303704768419266, 0.12303704768419266, 0.12303704768419266, 0.12303704768419266, 0.12303704768419266, 0.12303704768419266, 0.12303704768419266, 0.14537422358989716, 0.07268711179494858, 0.07268711179494858, 0.07268711179494858, 0.07268711179494858, 0.07268711179494858, 0.07268711179494858, 0.07268711179494858, 0.07268711179494858, 0.07268711179494858, 0.15051934123039246, 0.15051934123039246, 0.15051934123039246, 0.15051934123039246, 0.15051934123039246, 0.15051934123039246, 0.15051934123039246, 0.08298489451408386, 0.11277434229850769, 0.10851870477199554, 0.1042630672454834, 0.0723458006978035, 0.08936834335327148, 0.11702997982501984, 0.1532028764486313, 0.0638345330953598, 0.0957517996430397, 0.08042125403881073, 0.08042125403881073, 0.08042125403881073, 0.08042125403881073, 0.08042125403881073, 0.16084250807762146, 0.08042125403881073, 0.08042125403881073, 0.16084250807762146, 0.08042125403881073, 0.20825991034507751, 0.1388399451971054, 0.0694199725985527, 0.0694199725985527, 0.1388399451971054, 0.0694199725985527, 0.0694199725985527, 0.0694199725985527, 0.0694199725985527, 0.0694199725985527, 0.08771853893995285, 0.10964817553758621, 0.08771853893995285, 0.13157780468463898, 0.08771853893995285, 0.08771853893995285, 0.10964817553758621, 0.06578890234231949, 0.15350744128227234, 0.06578890234231949, 0.0702020525932312, 0.1638047993183136, 0.1170034259557724, 0.128703773021698, 0.0936027392745018, 0.0702020525932312, 0.0936027392745018, 0.0819023996591568, 0.0936027392745018, 0.0936027392745018, 0.09007075428962708, 0.09007075428962708, 0.09007075428962708, 0.09007075428962708, 0.09007075428962708, 0.09007075428962708, 0.09007075428962708, 0.09007075428962708, 0.2702122628688812, 0.11007242649793625, 0.08805794268846512, 0.08071977645158768, 0.1174105852842331, 0.14676323533058167, 0.08071977645158768, 0.1027342677116394, 0.06604345887899399, 0.09539610147476196, 0.1027342677116394, 0.07209458947181702, 0.04806305840611458, 0.1201576516032219, 0.09612611681222916, 0.16822071373462677, 0.14418917894363403, 0.09612611681222916, 0.07209458947181702, 0.09612611681222916, 0.09612611681222916, 0.07065436244010925, 0.07065436244010925, 0.21196310222148895, 0.07065436244010925, 0.07065436244010925, 0.07065436244010925, 0.07065436244010925, 0.07065436244010925, 0.1413087248802185, 0.07065436244010925, 0.11643005907535553, 0.1575230211019516, 0.08903475105762482, 0.11643005907535553, 0.10273240506649017, 0.06848827004432678, 0.10273240506649017, 0.061639443039894104, 0.08903475105762482, 0.10273240506649017, 0.08189166337251663, 0.10050340741872787, 0.09864223003387451, 0.08189166337251663, 0.09119753539562225, 0.10050340741872787, 0.11725397408008575, 0.10236457735300064, 0.1302821934223175, 0.09305870532989502, 0.1369001567363739, 0.08996295928955078, 0.08605152368545532, 0.06453864276409149, 0.14472301304340363, 0.10169725865125656, 0.07431722432374954, 0.10756440460681915, 0.09583010524511337, 0.0977858230471611, 0.0882667601108551, 0.13240014016628265, 0.13240014016628265, 0.07723341137170792, 0.07723341137170792, 0.07723341137170792, 0.0882667601108551, 0.16550017893314362, 0.0882667601108551, 0.06620007008314133, 0.1297406256198883, 0.09081844240427017, 0.07784437388181686, 0.10379250347614288, 0.10379250347614288, 0.09081844240427017, 0.09081844240427017, 0.07784437388181686, 0.15568874776363373, 0.07784437388181686, 0.09725371748209, 0.09097928553819656, 0.10666537284851074, 0.10666537284851074, 0.09097928553819656, 0.08156763762235641, 0.11921423673629761, 0.07999902963638306, 0.09882232546806335, 0.12862588465213776, 0.0844019204378128, 0.12794259190559387, 0.09578947722911835, 0.13330143690109253, 0.08775120228528976, 0.08976077288389206, 0.12057416886091232, 0.09980861842632294, 0.08306220918893814, 0.07770335674285889, 0.08259503543376923, 0.08259503543376923, 0.08259503543376923, 0.08259503543376923, 0.08259503543376923, 0.08259503543376923, 0.08259503543376923, 0.16519007086753845, 0.08259503543376923, 0.08259503543376923, 0.09144936501979828, 0.09144936501979828, 0.09144936501979828, 0.09144936501979828, 0.09144936501979828, 0.09144936501979828, 0.09144936501979828, 0.09144936501979828, 0.09144936501979828, 0.18289873003959656, 0.09650861471891403, 0.09650861471891403, 0.09650861471891403, 0.09650861471891403, 0.19301722943782806, 0.09650861471891403, 0.09650861471891403, 0.09650861471891403, 0.09650861471891403, 0.09650861471891403, 0.10046608746051788, 0.11504987627267838, 0.10370693355798721, 0.142597034573555, 0.08912314474582672, 0.08588229864835739, 0.0712985172867775, 0.11667029559612274, 0.10046608746051788, 0.07453935593366623, 0.23102715611457825, 0.11551357805728912, 0.11551357805728912, 0.11551357805728912, 0.11551357805728912, 0.11551357805728912, 0.11551357805728912, 0.11551357805728912, 0.11551357805728912, 0.11551357805728912, 0.09254880249500275, 0.07198239862918854, 0.12339840084314346, 0.09254880249500275, 0.14396479725837708, 0.0976903960108757, 0.09254880249500275, 0.06684079766273499, 0.1079735979437828, 0.1079735979437828, 0.15650545060634613, 0.07825272530317307, 0.15650545060634613, 0.07825272530317307, 0.07825272530317307, 0.07825272530317307, 0.15650545060634613, 0.07825272530317307, 0.07825272530317307, 0.07825272530317307, 0.09925154596567154, 0.09925154596567154, 0.09925154596567154, 0.09925154596567154, 0.09925154596567154, 0.09925154596567154, 0.19850309193134308, 0.09925154596567154, 0.09925154596567154, 0.04881636053323746, 0.09763272106647491, 0.09763272106647491, 0.09763272106647491, 0.09763272106647491, 0.14644907414913177, 0.09763272106647491, 0.09763272106647491, 0.09763272106647491, 0.09763272106647491, 0.08498942106962204, 0.08498942106962204, 0.08498942106962204, 0.08498942106962204, 0.08498942106962204, 0.08498942106962204, 0.16997884213924408, 0.08498942106962204, 0.08498942106962204, 0.08498942106962204, 0.08680398017168045, 0.1736079603433609, 0.13020597398281097, 0.13020597398281097, 0.10850497335195541, 0.06510298699140549, 0.08680398017168045, 0.08680398017168045, 0.06510298699140549, 0.08680398017168045, 0.22709988057613373, 0.22709988057613373, 0.12212087213993073, 0.08998379856348038, 0.09641121327877045, 0.0642741471529007, 0.11569345742464066, 0.17354018986225128, 0.09641121327877045, 0.0642741471529007, 0.05141931399703026, 0.12212087213993073, 0.1514226496219635, 0.1514226496219635, 0.1514226496219635, 0.1514226496219635, 0.1514226496219635, 0.1514226496219635, 0.1514226496219635, 0.08474671095609665, 0.15738674998283386, 0.10896005481481552, 0.1029067188501358, 0.10896005481481552, 0.09685338288545609, 0.09080004692077637, 0.09080004692077637, 0.07264003902673721, 0.08474671095609665, 0.11164748668670654, 0.10922036319971085, 0.12863731384277344, 0.1031525656580925, 0.11286104470491409, 0.09465765208005905, 0.1080068051815033, 0.08737628906965256, 0.06917289644479752, 0.07766781747341156, 0.1543334275484085, 0.1543334275484085, 0.1543334275484085, 0.1543334275484085, 0.1543334275484085, 0.1543334275484085, 0.1543334275484085, 0.09133382886648178, 0.18266765773296356, 0.0730670616030693, 0.0730670616030693, 0.09133382886648178, 0.09133382886648178, 0.12786735594272614, 0.09133382886648178, 0.10960059612989426, 0.09133382886648178, 0.11124657094478607, 0.09832761436700821, 0.08469093590974808, 0.10478708893060684, 0.1155528873205185, 0.10406937450170517, 0.09904533624649048, 0.08971497416496277, 0.11124657094478607, 0.0818200558423996, 0.07526365667581558, 0.07526365667581558, 0.07526365667581558, 0.07526365667581558, 0.07526365667581558, 0.15052731335163116, 0.15052731335163116, 0.07526365667581558, 0.07526365667581558, 0.07526365667581558, 0.11226546764373779, 0.06978664547204971, 0.1001286655664444, 0.14260749518871307, 0.06068403646349907, 0.06068403646349907, 0.1759837120771408, 0.0819234549999237, 0.0819234549999237, 0.11226546764373779, 0.16901282966136932, 0.16901282966136932, 0.16901282966136932, 0.16901282966136932, 0.16901282966136932, 0.16901282966136932, 0.16901282966136932, 0.09635335206985474, 0.09497687965631485, 0.12388288229703903, 0.06882382184267044, 0.10185925662517548, 0.0991063043475151, 0.06607086956501007, 0.11837697774171829, 0.10598868876695633, 0.12250640988349915, 0.10469368100166321, 0.052346840500831604, 0.10469368100166321, 0.1570405215024948, 0.052346840500831604, 0.10469368100166321, 0.10469368100166321, 0.10469368100166321, 0.052346840500831604, 0.1570405215024948, 0.0691501796245575, 0.0691501796245575, 0.0691501796245575, 0.138300359249115, 0.0691501796245575, 0.20745053887367249, 0.0691501796245575, 0.138300359249115, 0.0691501796245575, 0.0691501796245575, 0.15089835226535797, 0.15089835226535797, 0.15089835226535797, 0.15089835226535797, 0.15089835226535797, 0.15089835226535797, 0.15089835226535797, 0.15089835226535797, 0.15089835226535797, 0.13959769904613495, 0.07999418675899506, 0.07528864592313766, 0.08156269788742065, 0.07999418675899506, 0.14273472130298615, 0.08626823872327805, 0.13018661737442017, 0.07685715705156326, 0.10665891319513321, 0.07044960558414459, 0.10567441582679749, 0.17612402141094208, 0.14089921116828918, 0.10567441582679749, 0.10567441582679749, 0.07044960558414459, 0.07044960558414459, 0.10567441582679749, 0.07044960558414459, 0.11954456567764282, 0.09758739918470383, 0.08294928818941116, 0.13174298405647278, 0.08538897335529327, 0.0927080288529396, 0.07075086236000061, 0.10246676951646805, 0.13418267667293549, 0.08050960302352905, 0.17339378595352173, 0.17339378595352173, 0.17339378595352173, 0.17339378595352173, 0.17339378595352173, 0.17339378595352173, 0.17339378595352173, 0.12411871552467346, 0.08274581283330917, 0.11032775044441223, 0.08274581283330917, 0.0965367779135704, 0.08274581283330917, 0.08274581283330917, 0.0965367779135704, 0.15170066058635712, 0.06895484030246735, 0.08376971632242203, 0.08376971632242203, 0.08514299243688583, 0.12771448493003845, 0.10986192524433136, 0.0988757312297821, 0.09269599616527557, 0.11947484314441681, 0.0782766193151474, 0.12084811925888062, 0.1092488095164299, 0.07731454074382782, 0.09412205219268799, 0.13446007668972015, 0.07899529486894608, 0.1327793151140213, 0.12773706018924713, 0.08739904314279556, 0.06554928421974182, 0.09412205219268799, 0.07564806938171387, 0.11767477542161942, 0.1120712086558342, 0.08685518801212311, 0.07564806938171387, 0.10646764934062958, 0.10086409002542496, 0.08965697139501572, 0.08965697139501572, 0.14849434792995453, 0.15119153261184692, 0.15119153261184692, 0.15119153261184692, 0.15119153261184692, 0.15119153261184692, 0.15119153261184692, 0.09657652676105499, 0.09657652676105499, 0.09657652676105499, 0.09657652676105499, 0.19315305352210999, 0.09657652676105499, 0.09657652676105499, 0.09657652676105499, 0.09657652676105499, 0.09657652676105499, 0.16803643107414246, 0.11202428489923477, 0.056012142449617386, 0.11202428489923477, 0.056012142449617386, 0.11202428489923477, 0.11202428489923477, 0.11202428489923477, 0.056012142449617386, 0.056012142449617386, 0.11339268833398819, 0.11339268833398819, 0.11339268833398819, 0.22678537666797638, 0.11339268833398819, 0.11339268833398819, 0.11339268833398819, 0.11339268833398819, 0.11339268833398819, 0.11339268833398819, 0.10690812766551971, 0.10690812766551971, 0.10690812766551971, 0.07127208262681961, 0.07127208262681961, 0.17818021774291992, 0.10690812766551971, 0.07127208262681961, 0.035636041313409805, 0.10690812766551971, 0.09409257024526596, 0.09409257024526596, 0.06720898300409317, 0.16130155324935913, 0.09409257024526596, 0.09409257024526596, 0.09409257024526596, 0.09409257024526596, 0.13441796600818634, 0.08065077662467957, 0.10127843916416168, 0.10127843916416168, 0.10127843916416168, 0.20255687832832336, 0.10127843916416168, 0.10127843916416168, 0.10127843916416168, 0.10127843916416168, 0.10127843916416168, 0.10127843916416168, 0.11659049987792969, 0.07354170083999634, 0.10762199759483337, 0.09147869795560837, 0.10044720023870468, 0.0699542984366417, 0.12735269963741302, 0.09506610035896301, 0.12017790228128433, 0.09865349531173706, 0.1172618493437767, 0.1172618493437767, 0.17589278519153595, 0.08794639259576797, 0.08794639259576797, 0.05863092467188835, 0.1172618493437767, 0.08794639259576797, 0.08794639259576797, 0.1172618493437767, 0.07576624304056168, 0.09470780193805695, 0.17047403752803802, 0.11364936083555222, 0.07576624304056168, 0.11364936083555222, 0.09470780193805695, 0.11364936083555222, 0.05682468041777611, 0.07576624304056168, 0.1560823768377304, 0.11706177890300751, 0.0780411884188652, 0.09364942461252213, 0.08584530651569366, 0.07023707032203674, 0.12486589699983597, 0.11706177890300751, 0.0780411884188652, 0.0780411884188652, 0.10535192489624023, 0.07023461908102036, 0.07023461908102036, 0.10535192489624023, 0.10535192489624023, 0.17558653652668, 0.10535192489624023, 0.07023461908102036, 0.10535192489624023, 0.07023461908102036, 0.12192412465810776, 0.12192412465810776, 0.12192412465810776, 0.12192412465810776, 0.12192412465810776, 0.12192412465810776, 0.12192412465810776, 0.12192412465810776, 0.12192412465810776, 0.10925406217575073, 0.054627031087875366, 0.10925406217575073, 0.10925406217575073, 0.054627031087875366, 0.054627031087875366, 0.054627031087875366, 0.1638810932636261, 0.054627031087875366, 0.1638810932636261, 0.11246775090694427, 0.11004909127950668, 0.13907302916049957, 0.09916511923074722, 0.11730507761240005, 0.07618783414363861, 0.1052117720246315, 0.06651318818330765, 0.08828113973140717, 0.08465314656496048, 0.10119899362325668, 0.07517639547586441, 0.14746138453483582, 0.13300439715385437, 0.07806779444217682, 0.11565599590539932, 0.06650219857692719, 0.11854739487171173, 0.08385059237480164, 0.07517639547586441, 0.07643518596887589, 0.07643518596887589, 0.22930555045604706, 0.07643518596887589, 0.07643518596887589, 0.07643518596887589, 0.07643518596887589, 0.15287037193775177, 0.07643518596887589, 0.07643518596887589, 0.12479299306869507, 0.12479299306869507, 0.12479299306869507, 0.12479299306869507, 0.12479299306869507, 0.12479299306869507, 0.12479299306869507, 0.12479299306869507, 0.12479299306869507, 0.12479299306869507, 0.07192353904247284, 0.1198725700378418, 0.09589805454015732, 0.14384707808494568, 0.09589805454015732, 0.16782160103321075, 0.09589805454015732, 0.07192353904247284, 0.07192353904247284, 0.07192353904247284, 0.11441925913095474, 0.08172804117202759, 0.06538243591785431, 0.09807364642620087, 0.11441925913095474, 0.08172804117202759, 0.06538243591785431, 0.13076487183570862, 0.16345608234405518, 0.09807364642620087, 0.10358544439077377, 0.20717088878154755, 0.10358544439077377, 0.10358544439077377, 0.10358544439077377, 0.10358544439077377, 0.20717088878154755, 0.10358544439077377, 0.10358544439077377, 0.10358544439077377, 0.11113247275352478, 0.11113247275352478, 0.11113247275352478, 0.11113247275352478, 0.11113247275352478, 0.33339741826057434, 0.11113247275352478, 0.11113247275352478, 0.11113247275352478, 0.11113247275352478, 0.17987246811389923, 0.059957489371299744, 0.11991497874259949, 0.059957489371299744, 0.059957489371299744, 0.059957489371299744, 0.17987246811389923, 0.11991497874259949, 0.059957489371299744, 0.059957489371299744, 0.07554825395345688, 0.22664476931095123, 0.07554825395345688, 0.07554825395345688, 0.07554825395345688, 0.07554825395345688, 0.07554825395345688, 0.07554825395345688, 0.07554825395345688, 0.07554825395345688, 0.11398149281740189, 0.09002885967493057, 0.08589909225702286, 0.09663648158311844, 0.10985172539949417, 0.10572195798158646, 0.11150363087654114, 0.07433575391769409, 0.08011742681264877, 0.13215245306491852, 0.17564575374126434, 0.08782287687063217, 0.08782287687063217, 0.08782287687063217, 0.08782287687063217, 0.08782287687063217, 0.08782287687063217, 0.08782287687063217, 0.08782287687063217, 0.08782287687063217, 0.10119657218456268, 0.10638613998889923, 0.062274813652038574, 0.07524873316287994, 0.09600700438022614, 0.10119657218456268, 0.12714441120624542, 0.11157570779323578, 0.13492876291275024, 0.08822265267372131, 0.10962008684873581, 0.10962008684873581, 0.10962008684873581, 0.054810043424367905, 0.10962008684873581, 0.054810043424367905, 0.10962008684873581, 0.16443012654781342, 0.10962008684873581, 0.10962008684873581, 0.09323699027299881, 0.09392762929201126, 0.08909311890602112, 0.12776920199394226, 0.10359665006399155, 0.09461827576160431, 0.11050309985876083, 0.09323699027299881, 0.07804281264543533, 0.11740954220294952, 0.13596037030220032, 0.12382104992866516, 0.12786749005317688, 0.08659380674362183, 0.09792383760213852, 0.12139318883419037, 0.08173807710409164, 0.059078019112348557, 0.07526377588510513, 0.08983095735311508, 0.09442666172981262, 0.1133119985461235, 0.07554133236408234, 0.16996799409389496, 0.09442666172981262, 0.1133119985461235, 0.05665599927306175, 0.09442666172981262, 0.07554133236408234, 0.1133119985461235, 0.10055270045995712, 0.10055270045995712, 0.0804421603679657, 0.060331620275974274, 0.0804421603679657, 0.20110540091991425, 0.10055270045995712, 0.12066324055194855, 0.060331620275974274, 0.0804421603679657, 0.10531359165906906, 0.09991289675235748, 0.07560975849628448, 0.08371080458164215, 0.1404181271791458, 0.09451219439506531, 0.10801394283771515, 0.11341463774442673, 0.09991289675235748, 0.08101045340299606, 0.079704649746418, 0.079704649746418, 0.1195569708943367, 0.1195569708943367, 0.1195569708943367, 0.079704649746418, 0.079704649746418, 0.159409299492836, 0.079704649746418, 0.079704649746418, 0.08509664237499237, 0.08509664237499237, 0.08509664237499237, 0.08509664237499237, 0.08509664237499237, 0.08509664237499237, 0.17019328474998474, 0.08509664237499237, 0.08509664237499237, 0.08509664237499237, 0.09378019720315933, 0.09378019720315933, 0.09378019720315933, 0.1406702995300293, 0.11722524464130402, 0.16411535441875458, 0.07033514976501465, 0.07033514976501465, 0.09378019720315933, 0.07033514976501465, 0.06883026659488678, 0.06883026659488678, 0.13766053318977356, 0.06883026659488678, 0.13766053318977356, 0.06883026659488678, 0.06883026659488678, 0.06883026659488678, 0.06883026659488678, 0.13766053318977356, 0.08765825629234314, 0.08191017061471939, 0.08765825629234314, 0.061791881918907166, 0.12070972472429276, 0.13507993519306183, 0.11065058410167694, 0.11927270144224167, 0.09484335780143738, 0.10059143602848053, 0.13744480907917023, 0.09162987768650055, 0.045814938843250275, 0.09162987768650055, 0.09162987768650055, 0.09162987768650055, 0.09162987768650055, 0.1832597553730011, 0.09162987768650055, 0.09162987768650055, 0.14807769656181335, 0.09378254413604736, 0.10612235218286514, 0.11352623254060745, 0.11105827242136002, 0.09131457656621933, 0.07157088816165924, 0.08637865632772446, 0.10365438461303711, 0.07650680840015411, 0.11073716729879379, 0.11073716729879379, 0.11073716729879379, 0.055368583649396896, 0.11073716729879379, 0.055368583649396896, 0.1661057472229004, 0.055368583649396896, 0.11073716729879379, 0.11073716729879379, 0.11732253432273865, 0.11732253432273865, 0.17598380148410797, 0.11732253432273865, 0.058661267161369324, 0.11732253432273865, 0.11732253432273865, 0.11732253432273865, 0.11732253432273865, 0.058661267161369324, 0.07809900492429733, 0.07809900492429733, 0.07809900492429733, 0.07809900492429733, 0.07809900492429733, 0.07809900492429733, 0.07809900492429733, 0.07809900492429733, 0.15619800984859467, 0.07809900492429733, 0.137316033244133, 0.07878788560628891, 0.07878788560628891, 0.09679654985666275, 0.137316033244133, 0.11705629527568817, 0.11030304431915283, 0.08103897422552109, 0.06978356093168259, 0.09904763102531433, 0.09038394689559937, 0.07879626005887985, 0.09733656048774719, 0.10892423987388611, 0.0927014872431755, 0.10892423987388611, 0.07879626005887985, 0.08806640654802322, 0.15295745432376862, 0.10428916662931442, 0.10274200886487961, 0.09483878314495087, 0.11064524203538895, 0.09483878314495087, 0.10274200886487961, 0.07903231680393219, 0.15806463360786438, 0.07903231680393219, 0.09483878314495087, 0.08693554997444153, 0.10724841058254242, 0.0857987254858017, 0.09294862300157547, 0.0857987254858017, 0.09294862300157547, 0.10724841058254242, 0.10009851306676865, 0.09294862300157547, 0.07149893790483475, 0.15729767084121704, 0.08204058557748795, 0.08204058557748795, 0.05742840841412544, 0.09024464339017868, 0.15587711334228516, 0.11485681682825089, 0.09844870120286942, 0.09844870120286942, 0.12306087464094162, 0.10665275901556015, 0.07635516673326492, 0.07635516673326492, 0.15271033346652985, 0.07635516673326492, 0.07635516673326492, 0.07635516673326492, 0.07635516673326492, 0.07635516673326492, 0.07635516673326492, 0.07635516673326492, 0.17280313372612, 0.17280313372612, 0.17280313372612, 0.17280313372612, 0.12006057053804398, 0.09577865898609161, 0.1335505247116089, 0.11196660250425339, 0.07014775276184082, 0.09308066964149475, 0.08093971014022827, 0.08903368562459946, 0.13085253536701202, 0.07284574210643768, 0.22710321843624115, 0.08590271323919296, 0.10563711822032928, 0.13117575645446777, 0.11028050631284714, 0.09867203235626221, 0.09983287751674652, 0.09867203235626221, 0.11144135147333145, 0.08590271323919296, 0.07313338667154312, 0.15395842492580414, 0.06598217785358429, 0.09677386283874512, 0.11436910927295685, 0.10997030138969421, 0.09677386283874512, 0.061583369970321655, 0.11436910927295685, 0.08357743173837662, 0.10117267817258835, 0.07854234427213669, 0.18326546251773834, 0.07854234427213669, 0.07854234427213669, 0.10472312569618225, 0.07854234427213669, 0.07854234427213669, 0.07854234427213669, 0.10472312569618225, 0.10472312569618225, 0.1544923335313797, 0.1544923335313797, 0.1544923335313797, 0.1544923335313797, 0.1544923335313797, 0.1544923335313797, 0.1544923335313797, 0.10909941047430038, 0.08182455599308014, 0.09091617166996002, 0.1545574963092804, 0.10909941047430038, 0.05454970523715019, 0.1000077873468399, 0.09091617166996002, 0.10909941047430038, 0.1000077873468399, 0.1510303020477295, 0.1510303020477295, 0.1510303020477295, 0.1510303020477295, 0.1510303020477295, 0.1510303020477295, 0.1510303020477295, 0.1510303020477295, 0.1510303020477295, 0.1281498521566391, 0.16232314705848694, 0.09397655725479126, 0.07688990980386734, 0.085433229804039, 0.06834658980369568, 0.11106320470571518, 0.11106320470571518, 0.07688990980386734, 0.06834658980369568, 0.09322856366634369, 0.1450222134590149, 0.09322856366634369, 0.10876666009426117, 0.12171507626771927, 0.10099761188030243, 0.08028015494346619, 0.09581825137138367, 0.08286983519792557, 0.07510078698396683, 0.0976327583193779, 0.0976327583193779, 0.0976327583193779, 0.0976327583193779, 0.0976327583193779, 0.1952655166387558, 0.0976327583193779, 0.1952655166387558, 0.0976327583193779, 0.0976327583193779, 0.10474415868520737, 0.08678801357746124, 0.1212039515376091, 0.10025511682033539, 0.10324781388044357, 0.07930628955364227, 0.08678801357746124, 0.08529166877269745, 0.10175146162509918, 0.13018202781677246, 0.1341104358434677, 0.1341104358434677, 0.1341104358434677, 0.1341104358434677, 0.1341104358434677, 0.1341104358434677, 0.1341104358434677, 0.1341104358434677, 0.10877205431461334, 0.07251470535993576, 0.14965800940990448, 0.10337202250957489, 0.09488625824451447, 0.08408620208501816, 0.11725781857967377, 0.0910291001200676, 0.08640050143003464, 0.09257195889949799, 0.1098707765340805, 0.099406898021698, 0.07324718683958054, 0.11771868914365768, 0.10725481063127518, 0.10463883727788925, 0.07324718683958054, 0.08109509944915771, 0.10202286392450333, 0.13341452181339264, 0.10600730031728745, 0.05300365015864372, 0.10600730031728745, 0.15901094675064087, 0.10600730031728745, 0.10600730031728745, 0.10600730031728745, 0.10600730031728745, 0.10600730031728745, 0.05300365015864372, 0.10867268592119217, 0.08618868142366409, 0.09743068367242813, 0.07869401574134827, 0.09743068367242813, 0.1461460292339325, 0.116167351603508, 0.09368334710597992, 0.08618868142366409, 0.08618868142366409, 0.1683710813522339, 0.1683710813522339, 0.1683710813522339, 0.1683710813522339, 0.1683710813522339, 0.1683710813522339, 0.1683710813522339, 0.054257337003946304, 0.10851467400789261, 0.054257337003946304, 0.1627720147371292, 0.10851467400789261, 0.054257337003946304, 0.054257337003946304, 0.10851467400789261, 0.10851467400789261, 0.10851467400789261, 0.12529398500919342, 0.059755589812994, 0.09059718996286392, 0.119511179625988, 0.0944523885846138, 0.07132118940353394, 0.13685958087444305, 0.09830758720636368, 0.09830758720636368, 0.1040903851389885, 0.17537280917167664, 0.10342498868703842, 0.11017009615898132, 0.07644455879926682, 0.12590868771076202, 0.07869292795658112, 0.07644455879926682, 0.06745108217000961, 0.08318966627120972, 0.10342498868703842, 0.15039341151714325, 0.15039341151714325, 0.15039341151714325, 0.15039341151714325, 0.15039341151714325, 0.15039341151714325, 0.15039341151714325, 0.12334147095680237, 0.11965963989496231, 0.06443211436271667, 0.12702330946922302, 0.09388679265975952, 0.13070514798164368, 0.07179578393697739, 0.08836404234170914, 0.09020495414733887, 0.09020495414733887, 0.1305127590894699, 0.07050689309835434, 0.09600938111543655, 0.12751246988773346, 0.0930090919137001, 0.09750953316688538, 0.08850865066051483, 0.12151187658309937, 0.0930090919137001, 0.08250806480646133, 0.16530324518680573, 0.08855530619621277, 0.08855530619621277, 0.08560346812009811, 0.09741084277629852, 0.10036268085241318, 0.11217005550861359, 0.11217005550861359, 0.08560346812009811, 0.061988715082407, 0.10510572046041489, 0.07007048279047012, 0.10510572046041489, 0.07007048279047012, 0.10510572046041489, 0.07007048279047012, 0.10510572046041489, 0.10510572046041489, 0.07007048279047012, 0.175176203250885, 0.06315029412508011, 0.08841041475534439, 0.10104047507047653, 0.11367053538560867, 0.10104047507047653, 0.16419076919555664, 0.08841041475534439, 0.10104047507047653, 0.08841041475534439, 0.07578035444021225, 0.10923969745635986, 0.10923969745635986, 0.10923969745635986, 0.10923969745635986, 0.10923969745635986, 0.07282646745443344, 0.07282646745443344, 0.07282646745443344, 0.07282646745443344, 0.1820661723613739, 0.13415490090847015, 0.13415490090847015, 0.13415490090847015, 0.13415490090847015, 0.13415490090847015, 0.13415490090847015, 0.13415490090847015, 0.12336540967226028, 0.0869624987244606, 0.10314156860113144, 0.11123110353946686, 0.10111918300390244, 0.13752208650112152, 0.11527587473392487, 0.06876104325056076, 0.07078342884778976, 0.08291773498058319, 0.10596352815628052, 0.07205519825220108, 0.13139477372169495, 0.12291768938302994, 0.07629373669624329, 0.10172498226165771, 0.0890093594789505, 0.06781665980815887, 0.13987185060977936, 0.0932479053735733, 0.06610015779733658, 0.13220031559467316, 0.06610015779733658, 0.19830048084259033, 0.06610015779733658, 0.13220031559467316, 0.06610015779733658, 0.06610015779733658, 0.06610015779733658, 0.06610015779733658, 0.20494279265403748, 0.10247139632701874, 0.10247139632701874, 0.10247139632701874, 0.10247139632701874, 0.10247139632701874, 0.10247139632701874, 0.10247139632701874, 0.05123569816350937, 0.10247139632701874, 0.08039206266403198, 0.08039206266403198, 0.08039206266403198, 0.08039206266403198, 0.08039206266403198, 0.08039206266403198, 0.08039206266403198, 0.08039206266403198, 0.16078412532806396, 0.08039206266403198, 0.06921558082103729, 0.06921558082103729, 0.13843116164207458, 0.06921558082103729, 0.20764674246311188, 0.06921558082103729, 0.06921558082103729, 0.13843116164207458, 0.06921558082103729, 0.06921558082103729, 0.06986050307750702, 0.06986050307750702, 0.10479075461626053, 0.06986050307750702, 0.17465126514434814, 0.10479075461626053, 0.10479075461626053, 0.06986050307750702, 0.10479075461626053, 0.06986050307750702, 0.10375918447971344, 0.12467346340417862, 0.11086598038673401, 0.09726154804229736, 0.12264294922351837, 0.09726154804229736, 0.0929974690079689, 0.07147403806447983, 0.08690593391656876, 0.09218526631593704, 0.09401600807905197, 0.09401600807905197, 0.10124801099300385, 0.15187200903892517, 0.115712009370327, 0.07955200970172882, 0.09401600807905197, 0.0867840051651001, 0.07955200970172882, 0.10848001390695572, 0.07808398455381393, 0.13013997673988342, 0.07808398455381393, 0.10411198437213898, 0.10411198437213898, 0.10411198437213898, 0.07808398455381393, 0.10411198437213898, 0.15616796910762787, 0.07808398455381393, 0.1177230179309845, 0.235446035861969, 0.1177230179309845, 0.1177230179309845, 0.1177230179309845, 0.1177230179309845, 0.1177230179309845, 0.1177230179309845, 0.1177230179309845, 0.1177230179309845, 0.07222350686788559, 0.14444701373577118, 0.07222350686788559, 0.07222350686788559, 0.07222350686788559, 0.07222350686788559, 0.07222350686788559, 0.14444701373577118, 0.07222350686788559, 0.21667052805423737, 0.10855942964553833, 0.11025567352771759, 0.10855942964553833, 0.07802709192037582, 0.1272180825471878, 0.07802709192037582, 0.07972333580255508, 0.08481205999851227, 0.08481205999851227, 0.13739553093910217, 0.12885057926177979, 0.09796903282403946, 0.1203315258026123, 0.06495773047208786, 0.07773629575967789, 0.12672081589698792, 0.10861784219741821, 0.09157975018024445, 0.10542319715023041, 0.07773629575967789, 0.0955435261130333, 0.08161009848117828, 0.08559107780456543, 0.1094769611954689, 0.14132480323314667, 0.11146745085716248, 0.10151499509811401, 0.08559107780456543, 0.0955435261130333, 0.09355303645133972, 0.10184218734502792, 0.09223443269729614, 0.09992063790559769, 0.1383516490459442, 0.1268223375082016, 0.12874390184879303, 0.08646977692842484, 0.08646977692842484, 0.07301892340183258, 0.06725427508354187, 0.08793734759092331, 0.12613964080810547, 0.12469805032014847, 0.06343021988868713, 0.11676926910877228, 0.0958661288022995, 0.08505415916442871, 0.10235331207513809, 0.0973077267408371, 0.1009117141366005, 0.10749080032110214, 0.11101508885622025, 0.14802011847496033, 0.05638861656188965, 0.12158795446157455, 0.08986935764551163, 0.09163150191307068, 0.08282078057527542, 0.08986935764551163, 0.10044222325086594, 0.08541667461395264, 0.08876634389162064, 0.10551471263170242, 0.08039216697216034, 0.10383988171815872, 0.09044118225574493, 0.11891341209411621, 0.1256127506494522, 0.07201798260211945, 0.1272875964641571, 0.09615866839885712, 0.09615866839885712, 0.08814544975757599, 0.10417189449071884, 0.16827766597270966, 0.10417189449071884, 0.07211900502443314, 0.08814544975757599, 0.08814544975757599, 0.09615866839885712, 0.0725070983171463, 0.1450141966342926, 0.0725070983171463, 0.0725070983171463, 0.1450141966342926, 0.0725070983171463, 0.1450141966342926, 0.0725070983171463, 0.1450141966342926, 0.0725070983171463, 0.09257631748914719, 0.08827044069766998, 0.1076468750834465, 0.1033409982919693, 0.101188063621521, 0.11841156333684921, 0.07965868711471558, 0.13778799772262573, 0.09042337536811829, 0.08181162923574448, 0.12482485920190811, 0.12482485920190811, 0.12482485920190811, 0.12482485920190811, 0.12482485920190811, 0.12482485920190811, 0.12482485920190811, 0.24964971840381622, 0.12482485920190811, 0.12482485920190811, 0.08775228261947632, 0.10237766057252884, 0.10237766057252884, 0.12118172645568848, 0.06894822418689728, 0.0731269046664238, 0.15461117029190063, 0.1253603994846344, 0.0731269046664238, 0.09193096309900284, 0.07156891375780106, 0.10735336691141129, 0.08946114033460617, 0.08946114033460617, 0.08946114033460617, 0.08946114033460617, 0.10735336691141129, 0.10735336691141129, 0.16103005409240723, 0.07156891375780106, 0.1252245455980301, 0.1252245455980301, 0.1252245455980301, 0.2504490911960602, 0.1252245455980301, 0.1252245455980301, 0.1252245455980301, 0.1252245455980301, 0.06830088049173355, 0.10245132446289062, 0.17075221240520477, 0.0975726917386055, 0.08293678611516953, 0.0585436150431633, 0.0780581533908844, 0.053664978593587875, 0.14635904133319855, 0.1366017609834671, 0.21091662347316742, 0.10545831173658371, 0.10545831173658371, 0.10545831173658371, 0.10545831173658371, 0.10545831173658371, 0.10545831173658371, 0.10545831173658371, 0.10545831173658371, 0.10545831173658371, 0.14103059470653534, 0.09837319701910019, 0.0800914540886879, 0.10272599011659622, 0.0800914540886879, 0.09227927774190903, 0.09924375265836716, 0.10533767193555832, 0.09314984083175659, 0.10794934630393982, 0.11535615473985672, 0.07228697091341019, 0.11492329835891724, 0.10604974627494812, 0.10453474521636963, 0.11427401006221771, 0.07661552727222443, 0.11665471643209457, 0.11643829196691513, 0.06319699436426163, 0.09232605993747711, 0.13168612122535706, 0.08746679127216339, 0.15063725411891937, 0.090868279337883, 0.08357938379049301, 0.09961496293544769, 0.0733749195933342, 0.09718532860279083, 0.09329791367053986, 0.11742965131998062, 0.23485930263996124, 0.11742965131998062, 0.11742965131998062, 0.11742965131998062, 0.11742965131998062, 0.11742965131998062, 0.11742965131998062, 0.11742965131998062, 0.11742965131998062, 0.08294368535280228, 0.14252296090126038, 0.060280200093984604, 0.1156538724899292, 0.10934548079967499, 0.13738279044628143, 0.09252309799194336, 0.076868936419487, 0.0810745358467102, 0.10163522511720657, 0.1257183849811554, 0.1257183849811554, 0.1257183849811554, 0.1257183849811554, 0.1257183849811554, 0.1257183849811554, 0.1257183849811554, 0.1257183849811554, 0.1257183849811554, 0.07125121355056763, 0.08821579068899155, 0.14928826689720154, 0.09500162303447723, 0.11875202506780624, 0.09160870313644409, 0.084822878241539, 0.10178744792938232, 0.09839453548192978, 0.10178744792938232, 0.10811420530080795, 0.09401234984397888, 0.15982098877429962, 0.07050926238298416, 0.09401234984397888, 0.08931173384189606, 0.12221605330705643, 0.07991049438714981, 0.08931173384189606, 0.08931173384189606, 0.13670818507671356, 0.13670818507671356, 0.13670818507671356, 0.13670818507671356, 0.13670818507671356, 0.13670818507671356, 0.13670818507671356, 0.13670818507671356, 0.13670818507671356, 0.08166670799255371, 0.16333341598510742, 0.08166670799255371, 0.16333341598510742, 0.08166670799255371, 0.08166670799255371, 0.08166670799255371, 0.08166670799255371, 0.16333341598510742, 0.08166670799255371, 0.11534494906663895, 0.11534494906663895, 0.11534494906663895, 0.07689663022756577, 0.15379326045513153, 0.07689663022756577, 0.07689663022756577, 0.11534494906663895, 0.07689663022756577, 0.07689663022756577, 0.13773822784423828, 0.13773822784423828, 0.13773822784423828, 0.13773822784423828, 0.13773822784423828, 0.13773822784423828, 0.13773822784423828, 0.09633240848779678, 0.11835124343633652, 0.0825706347823143, 0.09082769602537155, 0.10183712095022202, 0.0990847647190094, 0.10183712095022202, 0.13761772215366364, 0.07156121730804443, 0.0990847647190094, 0.09823346883058548, 0.05037613585591316, 0.0931958556175232, 0.11838392168283463, 0.1108275055885315, 0.08563943207263947, 0.0931958556175232, 0.15112841129302979, 0.10075227171182632, 0.09571465849876404, 0.21335390210151672, 0.10667695105075836, 0.10667695105075836, 0.10667695105075836, 0.21335390210151672, 0.10667695105075836, 0.10667695105075836, 0.12634633481502533, 0.06317316740751266, 0.1895194947719574, 0.06317316740751266, 0.06317316740751266, 0.12634633481502533, 0.12634633481502533, 0.12634633481502533, 0.06317316740751266, 0.06317316740751266, 0.0997881218791008, 0.10810380429029465, 0.12057731300592422, 0.1053319051861763, 0.15106813609600067, 0.08454271405935287, 0.0720691978931427, 0.09147244691848755, 0.0887005552649498, 0.07899893075227737, 0.19680440425872803, 0.19680440425872803, 0.15077310800552368, 0.15077310800552368, 0.15077310800552368, 0.15077310800552368, 0.15077310800552368, 0.15077310800552368, 0.15077310800552368, 0.15077310800552368, 0.10602719336748123, 0.16386020183563232, 0.07229126989841461, 0.07952039688825607, 0.11807573586702347, 0.08674952387809753, 0.09879806637763977, 0.093978650867939, 0.093978650867939, 0.08674952387809753, 0.07275097817182541, 0.10185136646032333, 0.10003259032964706, 0.09639504551887512, 0.09275749325752258, 0.11822033673524857, 0.14186440408229828, 0.10548891872167587, 0.07638852298259735, 0.09275749325752258, 0.13545279204845428, 0.20317918062210083, 0.06772639602422714, 0.13545279204845428, 0.13545279204845428, 0.06772639602422714, 0.06772639602422714, 0.06772639602422714, 0.06772639602422714, 0.06772639602422714, 0.1682748645544052, 0.1682748645544052, 0.1682748645544052, 0.1682748645544052, 0.1682748645544052, 0.1682748645544052, 0.1682748645544052, 0.11257778853178024, 0.09850556403398514, 0.11257778853178024, 0.16886667907238007, 0.09850556403398514, 0.07036112248897552, 0.08443333953619003, 0.09850556403398514, 0.07036112248897552, 0.09850556403398514, 0.1206536740064621, 0.08582580834627151, 0.08706966042518616, 0.08458195626735687, 0.1206536740064621, 0.07338728755712509, 0.1442868709564209, 0.09453277289867401, 0.07214343547821045, 0.11692211776971817, 0.09325635433197021, 0.08393071591854095, 0.11190762370824814, 0.08393071591854095, 0.14921016991138458, 0.13988453149795532, 0.07460508495569229, 0.09325635433197021, 0.06527944654226303, 0.10258198529481888, 0.12073247879743576, 0.11524464190006256, 0.07134192436933517, 0.09329327940940857, 0.15914736688137054, 0.06585408002138138, 0.09878112375736237, 0.12073247879743576, 0.07682976126670837, 0.08231759816408157, 0.13673444092273712, 0.13673444092273712, 0.13673444092273712, 0.13673444092273712, 0.13673444092273712, 0.13673444092273712, 0.13673444092273712, 0.0829114317893982, 0.1299692690372467, 0.08067058026790619, 0.08067058026790619, 0.08963397890329361, 0.15461860597133636, 0.09411567449569702, 0.10531992465257645, 0.07842972874641418, 0.10531992465257645, 0.10544025152921677, 0.10544025152921677, 0.10544025152921677, 0.21088050305843353, 0.10544025152921677, 0.10544025152921677, 0.10544025152921677, 0.10544025152921677, 0.10544025152921677, 0.10544025152921677, 0.07870679348707199, 0.09377831220626831, 0.11889749765396118, 0.08205602318048477, 0.13061979413032532, 0.12057211250066757, 0.10047675669193268, 0.07535757124423981, 0.10550060123205185, 0.09377831220626831, 0.15414217114448547, 0.0735139548778534, 0.10197097063064575, 0.10197097063064575, 0.0687711238861084, 0.09248530119657516, 0.09722813963890076, 0.09959955513477325, 0.09722813963890076, 0.11145664751529694, 0.07783535867929459, 0.11675303429365158, 0.10896950215101242, 0.07783535867929459, 0.08561889082193375, 0.08561889082193375, 0.08561889082193375, 0.15567071735858917, 0.10896950215101242, 0.0934024304151535, 0.25342634320259094, 0.1689509004354477, 0.08447545021772385, 0.08447545021772385, 0.08447545021772385, 0.1689509004354477, 0.08447545021772385, 0.08447545021772385, 0.08447545021772385, 0.08447545021772385, 0.07298442721366882, 0.07298442721366882, 0.10947664082050323, 0.21895328164100647, 0.03649221360683441, 0.10947664082050323, 0.07298442721366882, 0.07298442721366882, 0.10947664082050323, 0.10947664082050323, 0.11479243636131287, 0.11479243636131287, 0.11479243636131287, 0.05739621818065643, 0.05739621818065643, 0.11479243636131287, 0.05739621818065643, 0.05739621818065643, 0.1721886545419693, 0.11479243636131287, 0.18691107630729675, 0.09345553815364838, 0.09345553815364838, 0.09345553815364838, 0.09345553815364838, 0.09345553815364838, 0.09345553815364838, 0.09345553815364838, 0.09345553815364838, 0.09345553815364838, 0.070627860724926, 0.1765696406364441, 0.070627860724926, 0.1059417873620987, 0.1059417873620987, 0.070627860724926, 0.1059417873620987, 0.1059417873620987, 0.1059417873620987, 0.070627860724926, 0.10231498628854752, 0.10453922301530838, 0.10231498628854752, 0.08896955102682114, 0.08674531430006027, 0.091193787753582, 0.0667271614074707, 0.1089877039194107, 0.1089877039194107, 0.13567857444286346, 0.09850464016199112, 0.11820556968450546, 0.07880371063947678, 0.09850464016199112, 0.09850464016199112, 0.07880371063947678, 0.09850464016199112, 0.07880371063947678, 0.07880371063947678, 0.1773083508014679, 0.12245777249336243, 0.12245777249336243, 0.12245777249336243, 0.12245777249336243, 0.12245777249336243, 0.12245777249336243, 0.12245777249336243, 0.12245777249336243, 0.12010926753282547, 0.12010926753282547, 0.060054633766412735, 0.060054633766412735, 0.1801639050245285, 0.12010926753282547, 0.12010926753282547, 0.12010926753282547, 0.060054633766412735, 0.060054633766412735, 0.10220301896333694, 0.10220301896333694, 0.0645492747426033, 0.12371943891048431, 0.11296122521162033, 0.0645492747426033, 0.09682390838861465, 0.08606569468975067, 0.15061497688293457, 0.09682390838861465, 0.19697725772857666, 0.19697725772857666, 0.19697725772857666, 0.19697725772857666, 0.19697725772857666, 0.09803597629070282, 0.09803597629070282, 0.09803597629070282, 0.09803597629070282, 0.19607195258140564, 0.09803597629070282, 0.09803597629070282, 0.09803597629070282, 0.09803597629070282, 0.09803597629070282, 0.16796806454658508, 0.055989354848861694, 0.11197870969772339, 0.11197870969772339, 0.11197870969772339, 0.11197870969772339, 0.11197870969772339, 0.11197870969772339, 0.11197870969772339, 0.055989354848861694, 0.07184729725122452, 0.07184729725122452, 0.14369459450244904, 0.12932513654232025, 0.0862167552113533, 0.10058621317148209, 0.15806405246257782, 0.057477835565805435, 0.0862167552113533, 0.0862167552113533, 0.21026331186294556, 0.10513165593147278, 0.05256582796573639, 0.10513165593147278, 0.10513165593147278, 0.10513165593147278, 0.10513165593147278, 0.05256582796573639, 0.10513165593147278, 0.10513165593147278, 0.12257108092308044, 0.12257108092308044, 0.12257108092308044, 0.12257108092308044, 0.12257108092308044, 0.12257108092308044, 0.12257108092308044, 0.12257108092308044, 0.12257108092308044, 0.13833019137382507, 0.06916509568691254, 0.06916509568691254, 0.13833019137382507, 0.06916509568691254, 0.13833019137382507, 0.06916509568691254, 0.06916509568691254, 0.06916509568691254, 0.06916509568691254, 0.09257370978593826, 0.1269582211971283, 0.1322481483221054, 0.0846388190984726, 0.07670392841100693, 0.0846388190984726, 0.09257370978593826, 0.07405896484851837, 0.0661240741610527, 0.1692776381969452, 0.0888332650065422, 0.1332499086856842, 0.0888332650065422, 0.0888332650065422, 0.0888332650065422, 0.0888332650065422, 0.0888332650065422, 0.1776665300130844, 0.0444166325032711, 0.0888332650065422, 0.06952358782291412, 0.1474742740392685, 0.130620077252388, 0.13694040477275848, 0.0821642354130745, 0.08637779206037521, 0.06320326030254364, 0.11376586556434631, 0.08637779206037521, 0.0821642354130745, 0.05103294178843498, 0.09781313687562943, 0.09781313687562943, 0.09356039017438889, 0.10631862282752991, 0.1275823563337326, 0.11482411623001099, 0.14459332823753357, 0.08930764347314835, 0.07654941082000732, 0.06918242573738098, 0.06918242573738098, 0.13836485147476196, 0.13836485147476196, 0.06918242573738098, 0.06918242573738098, 0.06918242573738098, 0.13836485147476196, 0.06918242573738098, 0.06918242573738098, 0.08021208643913269, 0.11049624532461166, 0.11049624532461166, 0.08430454134941101, 0.09412643313407898, 0.10558529943227768, 0.09330794215202332, 0.09576341509819031, 0.09248945116996765, 0.132595494389534, 0.10978498309850693, 0.10978498309850693, 0.10978498309850693, 0.10978498309850693, 0.10978498309850693, 0.1646774709224701, 0.10978498309850693, 0.10978498309850693, 0.10978498309850693, 0.054892491549253464, 0.12233366072177887, 0.12233366072177887, 0.12233366072177887, 0.12233366072177887, 0.12233366072177887, 0.12233366072177887, 0.12233366072177887, 0.12233366072177887, 0.12233366072177887, 0.12233366072177887, 0.15090446174144745, 0.15090446174144745, 0.15090446174144745, 0.15090446174144745, 0.15090446174144745, 0.15090446174144745, 0.15090446174144745, 0.15090446174144745, 0.09312344342470169, 0.10158921033143997, 0.07619190961122513, 0.06772614270448685, 0.09312344342470169, 0.11005497723817825, 0.10158921033143997, 0.15238381922245026, 0.08465767651796341, 0.11852074414491653, 0.06806055456399918, 0.06806055456399918, 0.11343425512313843, 0.0907474011182785, 0.0907474011182785, 0.11343425512313843, 0.15880796313285828, 0.06806055456399918, 0.06806055456399918, 0.11343425512313843, 0.1547359824180603, 0.1547359824180603, 0.1547359824180603, 0.1547359824180603, 0.1547359824180603, 0.1547359824180603, 0.1547359824180603, 0.1547359824180603, 0.16847674548625946, 0.16847674548625946, 0.16847674548625946, 0.16847674548625946, 0.16847674548625946, 0.16847674548625946, 0.16847674548625946, 0.08229836076498032, 0.08229836076498032, 0.08229836076498032, 0.08229836076498032, 0.16459672152996063, 0.05486557260155678, 0.1371639370918274, 0.10973114520311356, 0.08229836076498032, 0.08229836076498032, 0.12609657645225525, 0.11941403895616531, 0.07960935682058334, 0.10343405604362488, 0.152826726436615, 0.09152171015739441, 0.09762315452098846, 0.07960935682058334, 0.0714740976691246, 0.07844717800617218, 0.1371622383594513, 0.1371622383594513, 0.1371622383594513, 0.1371622383594513, 0.1371622383594513, 0.1371622383594513, 0.1371622383594513, 0.1371622383594513, 0.1371622383594513, 0.10457900166511536, 0.07790784537792206, 0.09334903955459595, 0.1228276789188385, 0.10738648474216461, 0.10317525267601013, 0.06106290593743324, 0.11089584976434708, 0.1284426599740982, 0.09124342352151871, 0.10048133879899979, 0.15072201192378998, 0.10048133879899979, 0.10048133879899979, 0.10048133879899979, 0.15072201192378998, 0.10048133879899979, 0.10048133879899979, 0.05024066939949989, 0.05024066939949989, 0.10842283070087433, 0.12017952650785446, 0.09927874058485031, 0.14238661527633667, 0.09927874058485031, 0.07837794721126556, 0.07315275073051453, 0.11364802718162537, 0.07968425005674362, 0.08752204477787018, 0.08563151210546494, 0.08563151210546494, 0.08563151210546494, 0.17126302421092987, 0.08563151210546494, 0.08563151210546494, 0.08563151210546494, 0.08563151210546494, 0.1284472644329071, 0.08563151210546494, 0.08065783977508545, 0.1613156795501709, 0.08065783977508545, 0.08065783977508545, 0.08065783977508545, 0.08065783977508545, 0.08065783977508545, 0.08065783977508545, 0.08065783977508545, 0.08065783977508545, 0.10076884925365448, 0.11680025607347488, 0.1408473700284958, 0.08244723826646805, 0.06641583144664764, 0.0870276391506195, 0.11565515398979187, 0.0870276391506195, 0.09847864508628845, 0.10420414805412292, 0.10250681638717651, 0.08653172850608826, 0.12247567623853683, 0.08919424563646317, 0.12114442139863968, 0.09851304441690445, 0.12380693107843399, 0.06523161381483078, 0.0971817895770073, 0.09185675531625748, 0.07537437230348587, 0.13937146961688995, 0.10950616002082825, 0.07253005355596542, 0.08532947301864624, 0.11519479006528854, 0.08390731364488602, 0.09244026243686676, 0.1123504713177681, 0.11519479006528854, 0.13338355720043182, 0.13338355720043182, 0.13338355720043182, 0.13338355720043182, 0.13338355720043182, 0.13338355720043182, 0.13338355720043182, 0.13338355720043182, 0.09710843861103058, 0.09461847692728043, 0.0796787217259407, 0.10457831621170044, 0.1170281171798706, 0.10955823957920074, 0.128232941031456, 0.1120482012629509, 0.06473895907402039, 0.09337349981069565, 0.10188990086317062, 0.08672770857810974, 0.15040889382362366, 0.07035254687070847, 0.07035254687070847, 0.12190398573875427, 0.1061353087425232, 0.11341316252946854, 0.09885746240615845, 0.079449862241745, 0.1224389374256134, 0.08727030456066132, 0.10290081053972244, 0.10680843889713287, 0.07033726572990417, 0.15109486877918243, 0.08727030456066132, 0.08075759559869766, 0.08075759559869766, 0.11201860755681992, 0.11572320014238358, 0.09530145674943924, 0.09530145674943924, 0.08168696612119675, 0.12253044545650482, 0.0748797133564949, 0.10210870206356049, 0.06807246804237366, 0.1497594267129898, 0.09530145674943924, 0.10370650142431259, 0.08296520262956619, 0.10370650142431259, 0.12444780021905899, 0.08296520262956619, 0.062223900109529495, 0.08296520262956619, 0.08296520262956619, 0.10370650142431259, 0.16593040525913239, 0.11297082901000977, 0.11297082901000977, 0.05648541450500488, 0.11297082901000977, 0.16945624351501465, 0.11297082901000977, 0.11297082901000977, 0.05648541450500488, 0.05648541450500488, 0.11297082901000977, 0.15737129747867584, 0.07868564873933792, 0.07868564873933792, 0.07868564873933792, 0.07868564873933792, 0.07868564873933792, 0.07868564873933792, 0.07868564873933792, 0.07868564873933792, 0.07868564873933792, 0.06363806128501892, 0.06363806128501892, 0.12727612257003784, 0.06363806128501892, 0.06363806128501892, 0.19091418385505676, 0.12727612257003784, 0.12727612257003784, 0.12727612257003784, 0.06363806128501892, 0.21034739911556244, 0.10517369955778122, 0.10517369955778122, 0.10517369955778122, 0.10517369955778122, 0.10517369955778122, 0.10517369955778122, 0.10517369955778122, 0.10517369955778122, 0.10517369955778122, 0.13629913330078125, 0.13629913330078125, 0.13629913330078125, 0.13629913330078125, 0.13629913330078125, 0.13629913330078125, 0.13629913330078125, 0.13629913330078125, 0.13193024694919586, 0.06596512347459793, 0.06596512347459793, 0.13193024694919586, 0.06596512347459793, 0.1978953778743744, 0.06596512347459793, 0.06596512347459793, 0.13193024694919586, 0.06596512347459793, 0.092512346804142, 0.10475662350654602, 0.09387282282114029, 0.1374080330133438, 0.11155900359153748, 0.08298901468515396, 0.08298901468515396, 0.06666330993175507, 0.14557088911533356, 0.08298901468515396, 0.10634822398424149, 0.08404940366744995, 0.08576469123363495, 0.1320776343345642, 0.1320776343345642, 0.08404940366744995, 0.09262587130069733, 0.12864704430103302, 0.08061881363391876, 0.07547292858362198, 0.13955256342887878, 0.13955256342887878, 0.06977628171443939, 0.06977628171443939, 0.13955256342887878, 0.06977628171443939, 0.06977628171443939, 0.06977628171443939, 0.06977628171443939, 0.20932884514331818, 0.05376143380999565, 0.1075228676199913, 0.1075228676199913, 0.1075228676199913, 0.1075228676199913, 0.1075228676199913, 0.1075228676199913, 0.16128429770469666, 0.05376143380999565, 0.1075228676199913, 0.06232723221182823, 0.12465446442365646, 0.12465446442365646, 0.06232723221182823, 0.06232723221182823, 0.1869816929101944, 0.06232723221182823, 0.06232723221182823, 0.12465446442365646, 0.12465446442365646, 0.10411348193883896, 0.10411348193883896, 0.10411348193883896, 0.10411348193883896, 0.15617021918296814, 0.10411348193883896, 0.10411348193883896, 0.10411348193883896, 0.10411348193883896, 0.05205674096941948, 0.10013116896152496, 0.10820626467466354, 0.09124856442213058, 0.11143629997968674, 0.09367109835147858, 0.08801852911710739, 0.09609362483024597, 0.08801852911710739, 0.11466634273529053, 0.10901377350091934, 0.06717869639396667, 0.13435739278793335, 0.10076804459095001, 0.1679467409849167, 0.13435739278793335, 0.10076804459095001, 0.06717869639396667, 0.10076804459095001, 0.10076804459095001, 0.06717869639396667, 0.0810684934258461, 0.10845649242401123, 0.07997296750545502, 0.08435504883527756, 0.12050721794366837, 0.1106475368142128, 0.10955201089382172, 0.11502961814403534, 0.10188337415456772, 0.09092817455530167, 0.16828694939613342, 0.16828694939613342, 0.16828694939613342, 0.16828694939613342, 0.16828694939613342, 0.16828694939613342, 0.16828694939613342, 0.1280805915594101, 0.08064334094524384, 0.09013079106807709, 0.11859314888715744, 0.06166843697428703, 0.15654295682907104, 0.07589961588382721, 0.09013079106807709, 0.11384941637516022, 0.08064334094524384, 0.0955895334482193, 0.0955895334482193, 0.07434741407632828, 0.053105298429727554, 0.12745271623134613, 0.10621059685945511, 0.11683165282011032, 0.07434741407632828, 0.0955895334482193, 0.15931589901447296, 0.14093078672885895, 0.10840830206871033, 0.07588580995798111, 0.09756746888160706, 0.10840830206871033, 0.09214705973863602, 0.15177161991596222, 0.10298788547515869, 0.06504498422145844, 0.054204151034355164, 0.18378117680549622, 0.09189058840274811, 0.09189058840274811, 0.09189058840274811, 0.09189058840274811, 0.18378117680549622, 0.09189058840274811, 0.09189058840274811, 0.09189058840274811, 0.09189058840274811, 0.10506019741296768, 0.10506019741296768, 0.21012039482593536, 0.10506019741296768, 0.10506019741296768, 0.10506019741296768, 0.10506019741296768, 0.10506019741296768, 0.10506019741296768, 0.10506019741296768, 0.14728476107120514, 0.11281385272741318, 0.11438071727752686, 0.07520923763513565, 0.09871212393045425, 0.07990981638431549, 0.10968013852834702, 0.08461038768291473, 0.08617725223302841, 0.08931096643209457, 0.07673779129981995, 0.08441156893968582, 0.10743290930986404, 0.07673779129981995, 0.09975913166999817, 0.08441156893968582, 0.08441156893968582, 0.1227804645895958, 0.11894357949495316, 0.14580179750919342, 0.07399462163448334, 0.10174260288476944, 0.12024126201868057, 0.1664879024028778, 0.10174260288476944, 0.07399462163448334, 0.10174260288476944, 0.10174260288476944, 0.07399462163448334, 0.0832439512014389, 0.13446885347366333, 0.13446885347366333, 0.13446885347366333, 0.13446885347366333, 0.13446885347366333, 0.13446885347366333, 0.13446885347366333, 0.13446885347366333, 0.09124558418989182, 0.0817767009139061, 0.14719806611537933, 0.08780235052108765, 0.06886459141969681, 0.12567788362503052, 0.0817767009139061, 0.11362657696008682, 0.1050185039639473, 0.09641042351722717, 0.0822659507393837, 0.12968313694000244, 0.115972138941288, 0.09940469264984131, 0.11311568319797516, 0.09769082069396973, 0.0885501578450203, 0.10626018792390823, 0.0885501578450203, 0.07940949499607086, 0.134379044175148, 0.1137053370475769, 0.07235794514417648, 0.07235794514417648, 0.10336849093437195, 0.08269479125738144, 0.0930316373705864, 0.10336849093437195, 0.07235794514417648, 0.15505273640155792, 0.08500625193119049, 0.09627214074134827, 0.0757887065410614, 0.11982808262109756, 0.12085225433111191, 0.1065138578414917, 0.09422379732131958, 0.08705459535121918, 0.09627214074134827, 0.11675556749105453, 0.1032470166683197, 0.1032470166683197, 0.1032470166683197, 0.1032470166683197, 0.2064940333366394, 0.1032470166683197, 0.1032470166683197, 0.1032470166683197, 0.1032470166683197, 0.1032470166683197, 0.12220074236392975, 0.12220074236392975, 0.12220074236392975, 0.12220074236392975, 0.12220074236392975, 0.12220074236392975, 0.12220074236392975, 0.12220074236392975, 0.12220074236392975, 0.2444014847278595, 0.22674676775932312, 0.22674676775932312, 0.22674676775932312, 0.0984887108206749, 0.0984887108206749, 0.04924435541033745, 0.0984887108206749, 0.0984887108206749, 0.04924435541033745, 0.04924435541033745, 0.0984887108206749, 0.14773306250572205, 0.0984887108206749, 0.11297893524169922, 0.11297893524169922, 0.11297893524169922, 0.11297893524169922, 0.11297893524169922, 0.22595787048339844, 0.11297893524169922, 0.11297893524169922, 0.11297893524169922, 0.11297893524169922, 0.1508072465658188, 0.1508072465658188, 0.1508072465658188, 0.1508072465658188, 0.1508072465658188, 0.11240546405315399, 0.09233306348323822, 0.1445213109254837, 0.1164199486374855, 0.06423169374465942, 0.09032582491636276, 0.12244167178869247, 0.06623893231153488, 0.09835478663444519, 0.09434030205011368, 0.13688987493515015, 0.10148732364177704, 0.10148732364177704, 0.10148732364177704, 0.10384748876094818, 0.06372459977865219, 0.11564834415912628, 0.11328817158937454, 0.0873263031244278, 0.0755254477262497, 0.0917796865105629, 0.11472460627555847, 0.20650428533554077, 0.0917796865105629, 0.0917796865105629, 0.0917796865105629, 0.06883475929498672, 0.06883475929498672, 0.0917796865105629, 0.0917796865105629, 0.10231221467256546, 0.08570308983325958, 0.0764019787311554, 0.11360641568899155, 0.10164784640073776, 0.09832601994276047, 0.10629840195178986, 0.10031911730766296, 0.09633293002843857, 0.11958570033311844, 0.10839755833148956, 0.10969573259353638, 0.11294116824865341, 0.08632859587669373, 0.12202838808298111, 0.10969573259353638, 0.11943203955888748, 0.06945233047008514, 0.08503042161464691, 0.07789046317338943, 0.08788421750068665, 0.1757684350013733, 0.08788421750068665, 0.08788421750068665, 0.1757684350013733, 0.08788421750068665, 0.08788421750068665, 0.08788421750068665, 0.08788421750068665, 0.08788421750068665, 0.09441468864679337, 0.08654679358005524, 0.1022825762629509, 0.1573578119277954, 0.11801835894584656, 0.07081101834774017, 0.1022825762629509, 0.0786789059638977, 0.1022825762629509, 0.09441468864679337, 0.09946667402982712, 0.09946667402982712, 0.09946667402982712, 0.09946667402982712, 0.09946667402982712, 0.09946667402982712, 0.09946667402982712, 0.09946667402982712, 0.19893334805965424, 0.09946667402982712, 0.06687241047620773, 0.13374482095241547, 0.06687241047620773, 0.13374482095241547, 0.06687241047620773, 0.2006172388792038, 0.13374482095241547, 0.06687241047620773, 0.06687241047620773, 0.06687241047620773, 0.08130718767642975, 0.1441354602575302, 0.13489601016044617, 0.13674390316009521, 0.08130718767642975, 0.10717765241861343, 0.0831550732254982, 0.06467616558074951, 0.0868508592247963, 0.0794592946767807, 0.1542627066373825, 0.1542627066373825, 0.1542627066373825, 0.1542627066373825, 0.1542627066373825, 0.1542627066373825, 0.1542627066373825, 0.1542627066373825, 0.1542627066373825, 0.1542627066373825, 0.14004242420196533, 0.06463496387004852, 0.10772493481636047, 0.09695244580507278, 0.19390489161014557, 0.06463496387004852, 0.11849743127822876, 0.06463496387004852, 0.0861799493432045, 0.07540745288133621, 0.1679726094007492, 0.1679726094007492, 0.1679726094007492, 0.1679726094007492, 0.1679726094007492, 0.1679726094007492, 0.07352407276630402, 0.07352407276630402, 0.07352407276630402, 0.22057221829891205, 0.07352407276630402, 0.07352407276630402, 0.07352407276630402, 0.07352407276630402, 0.07352407276630402, 0.07352407276630402, 0.08610748499631882, 0.08610748499631882, 0.12916123867034912, 0.08610748499631882, 0.08610748499631882, 0.04305374249815941, 0.17221496999263763, 0.08610748499631882, 0.08610748499631882, 0.12916123867034912, 0.09828003495931625, 0.1965600699186325, 0.09828003495931625, 0.09828003495931625, 0.09828003495931625, 0.09828003495931625, 0.09828003495931625, 0.09828003495931625, 0.09828003495931625, 0.09828003495931625, 0.1544501930475235, 0.1544501930475235, 0.1544501930475235, 0.1544501930475235, 0.1544501930475235, 0.1544501930475235, 0.1544501930475235, 0.1544501930475235, 0.07893433421850204, 0.07893433421850204, 0.11840149760246277, 0.07893433421850204, 0.11840149760246277, 0.07893433421850204, 0.1578686684370041, 0.07893433421850204, 0.0986679196357727, 0.0986679196357727, 0.07392700761556625, 0.14576174318790436, 0.11437763273715973, 0.09694201499223709, 0.10182398557662964, 0.0843883752822876, 0.09345488995313644, 0.0746244266629219, 0.12553642690181732, 0.08927034586668015, 0.130576491355896, 0.11606799066066742, 0.08342386782169342, 0.10337305814027786, 0.09430524706840515, 0.08523742854595184, 0.13239005208015442, 0.08523742854595184, 0.09974592924118042, 0.07435605674982071, 0.15148912370204926, 0.11753465980291367, 0.11753465980291367, 0.08619208633899689, 0.06790891289710999, 0.10447525233030319, 0.07835643738508224, 0.1070871353149414, 0.09663961082696915, 0.07835643738508224, 0.06578068435192108, 0.11511620134115219, 0.07400327175855637, 0.07400327175855637, 0.11511620134115219, 0.09044844657182693, 0.11511620134115219, 0.09044844657182693, 0.1068936139345169, 0.14800654351711273, 0.085917167365551, 0.085917167365551, 0.14605918526649475, 0.12028403580188751, 0.09450888633728027, 0.0715976357460022, 0.08018935471773148, 0.085917167365551, 0.1002366915345192, 0.1288757473230362, 0.08908423781394958, 0.08908423781394958, 0.17816847562789917, 0.13362635672092438, 0.08908423781394958, 0.08908423781394958, 0.04454211890697479, 0.08908423781394958, 0.13362635672092438, 0.08908423781394958, 0.16836269199848175, 0.16836269199848175, 0.16836269199848175, 0.16836269199848175, 0.16836269199848175, 0.16836269199848175, 0.16836269199848175, 0.181833878159523, 0.0909169390797615, 0.0909169390797615, 0.0909169390797615, 0.0909169390797615, 0.0909169390797615, 0.0909169390797615, 0.0909169390797615, 0.0909169390797615, 0.0909169390797615, 0.08072075992822647, 0.11300905793905258, 0.11300905793905258, 0.08072075992822647, 0.08072075992822647, 0.11300905793905258, 0.1775856614112854, 0.08072075992822647, 0.09686490893363953, 0.06457660347223282, 0.0757204219698906, 0.15775087475776672, 0.06310035288333893, 0.10348457843065262, 0.06814838200807571, 0.07193440198898315, 0.11862865835428238, 0.13124872744083405, 0.12493869662284851, 0.08455447107553482, 0.09776172786951065, 0.1115160807967186, 0.11617139726877213, 0.10135901719331741, 0.11003483831882477, 0.08019847422838211, 0.11426695436239243, 0.11998029798269272, 0.06369324773550034, 0.08485379070043564, 0.13322193920612335, 0.13322193920612335, 0.13322193920612335, 0.13322193920612335, 0.13322193920612335, 0.13322193920612335, 0.13322193920612335, 0.13322193920612335, 0.13322193920612335, 0.13322193920612335, 0.1333502233028412, 0.1333502233028412, 0.1333502233028412, 0.1333502233028412, 0.1333502233028412, 0.1333502233028412, 0.1333502233028412, 0.14412656426429749, 0.07206328213214874, 0.07206328213214874, 0.07206328213214874, 0.07206328213214874, 0.14412656426429749, 0.07206328213214874, 0.07206328213214874, 0.07206328213214874, 0.21618984639644623, 0.11054933071136475, 0.11054933071136475, 0.11054933071136475, 0.05527466535568237, 0.11054933071136475, 0.16582399606704712, 0.05527466535568237, 0.11054933071136475, 0.11054933071136475, 0.11054933071136475, 0.1993902325630188, 0.0996951162815094, 0.0996951162815094, 0.0996951162815094, 0.0996951162815094, 0.0996951162815094, 0.0996951162815094, 0.0996951162815094, 0.0996951162815094, 0.0996951162815094, 0.10317490994930267, 0.10317490994930267, 0.10317490994930267, 0.10317490994930267, 0.10317490994930267, 0.10317490994930267, 0.10317490994930267, 0.20634981989860535, 0.10317490994930267, 0.10317490994930267, 0.14110755920410156, 0.07869459688663483, 0.08683542162179947, 0.1302531361579895, 0.15196198225021362, 0.10854427516460419, 0.0732673853635788, 0.0732673853635788, 0.06512656807899475, 0.08954902738332748, 0.11508133262395859, 0.06576076149940491, 0.09864114224910736, 0.08220095187425613, 0.08220095187425613, 0.1808421015739441, 0.08220095187425613, 0.08220095187425613, 0.06576076149940491, 0.11508133262395859, 0.11258545517921448, 0.11258545517921448, 0.11258545517921448, 0.11258545517921448, 0.11258545517921448, 0.11258545517921448, 0.11258545517921448, 0.11258545517921448, 0.11258545517921448, 0.11258545517921448, 0.17426685988903046, 0.07468579709529877, 0.07468579709529877, 0.11617790907621384, 0.11617790907621384, 0.09128264337778091, 0.07468579709529877, 0.07468579709529877, 0.11617790907621384, 0.08298422396183014, 0.06888341158628464, 0.06888341158628464, 0.06888341158628464, 0.06888341158628464, 0.13776682317256927, 0.06888341158628464, 0.13776682317256927, 0.06888341158628464, 0.06888341158628464, 0.13776682317256927, 0.10852024704217911, 0.09247812628746033, 0.09059081226587296, 0.10852024704217911, 0.10002736002206802, 0.10568928718566895, 0.09908370673656464, 0.1160694807767868, 0.09342177957296371, 0.08398523181676865, 0.09828200936317444, 0.11484639346599579, 0.08944766968488693, 0.09828200936317444, 0.1203678548336029, 0.0993863046169281, 0.08171762526035309, 0.11484639346599579, 0.0872390866279602, 0.09496913105249405, 0.07510672509670258, 0.08918923884630203, 0.11735426634550095, 0.12204843014478683, 0.10796592384576797, 0.08449506759643555, 0.08918923884630203, 0.08918923884630203, 0.15021345019340515, 0.07510672509670258, 0.12971653044223785, 0.06636659801006317, 0.12217486649751663, 0.08295824378728867, 0.0874832421541214, 0.1176498755812645, 0.11463321000337601, 0.08899157494306564, 0.08899157494306564, 0.1010582223534584, 0.1366456151008606, 0.1366456151008606, 0.1366456151008606, 0.1366456151008606, 0.1366456151008606, 0.1366456151008606, 0.1366456151008606, 0.1366456151008606, 0.1366456151008606, 0.1366456151008606, 0.06233203411102295, 0.1246640682220459, 0.06233203411102295, 0.06233203411102295, 0.06233203411102295, 0.1246640682220459, 0.1246640682220459, 0.06233203411102295, 0.18699610233306885, 0.06233203411102295, 0.10709584504365921, 0.06544746458530426, 0.06693490594625473, 0.11155817657709122, 0.07883444428443909, 0.12494515627622604, 0.0877590924501419, 0.09370886534452438, 0.1264325976371765, 0.13535724580287933, 0.11452522873878479, 0.09620119631290436, 0.1213967427611351, 0.123687244951725, 0.06871514022350311, 0.13513977825641632, 0.09391068667173386, 0.09162018448114395, 0.050391100347042084, 0.10078220069408417, 0.09004276990890503, 0.1260598748922348, 0.10805132240056992, 0.09004276990890503, 0.14767013490200043, 0.1260598748922348, 0.09004276990890503, 0.06843250244855881, 0.09364447742700577, 0.06122907996177673, 0.11955195665359497, 0.055177826434373856, 0.09196304529905319, 0.09196304529905319, 0.10115934908390045, 0.16553348302841187, 0.10115934908390045, 0.09196304529905319, 0.09196304529905319, 0.09196304529905319, 0.09046067297458649, 0.09046067297458649, 0.09046067297458649, 0.09046067297458649, 0.09046067297458649, 0.09046067297458649, 0.18092134594917297, 0.09046067297458649, 0.09046067297458649, 0.09046067297458649, 0.12265567481517792, 0.12265567481517792, 0.12265567481517792, 0.12265567481517792, 0.12265567481517792, 0.12265567481517792, 0.12265567481517792, 0.12265567481517792, 0.24531134963035583, 0.14146262407302856, 0.14146262407302856, 0.07073131203651428, 0.07073131203651428, 0.07073131203651428, 0.07073131203651428, 0.07073131203651428, 0.07073131203651428, 0.07073131203651428, 0.07073131203651428, 0.11408308148384094, 0.09778549522161484, 0.10593429207801819, 0.09778549522161484, 0.08148791640996933, 0.07333912700414658, 0.07741352170705795, 0.14260385930538177, 0.1222318708896637, 0.0855623111128807, 0.07311566174030304, 0.08042722195386887, 0.08773878961801529, 0.1206408366560936, 0.09870614111423492, 0.0913945734500885, 0.09505035728216171, 0.10236192494630814, 0.13891975581645966, 0.10967348515987396, 0.12164172530174255, 0.09883390367031097, 0.07222477346658707, 0.1026352047920227, 0.09883390367031097, 0.07222477346658707, 0.09503259509801865, 0.1140391156077385, 0.07982738316059113, 0.14444954693317413, 0.12546415627002716, 0.12546415627002716, 0.12546415627002716, 0.12546415627002716, 0.12546415627002716, 0.12546415627002716, 0.12546415627002716, 0.12546415627002716, 0.12546415627002716, 0.09798359125852585, 0.09540507942438126, 0.1022811233997345, 0.11775221675634384, 0.11603320389986038, 0.09540507942438126, 0.10829765349626541, 0.09712408483028412, 0.06961992383003235, 0.10056211054325104, 0.1159033551812172, 0.15024510025978088, 0.0815616250038147, 0.07297618687152863, 0.10731792449951172, 0.12019607424736023, 0.09014705568552017, 0.06868347525596619, 0.1159033551812172, 0.0815616250038147, 0.22736914455890656, 0.22736914455890656, 0.22736914455890656, 0.1048240140080452, 0.1048240140080452, 0.1048240140080452, 0.1048240140080452, 0.1048240140080452, 0.1048240140080452, 0.1048240140080452, 0.1048240140080452, 0.1048240140080452, 0.2096480280160904, 0.07410187274217606, 0.07410187274217606, 0.07410187274217606, 0.07410187274217606, 0.07410187274217606, 0.07410187274217606, 0.07410187274217606, 0.07410187274217606, 0.1482037454843521, 0.07410187274217606, 0.13393107056617737, 0.13393107056617737, 0.13393107056617737, 0.26786214113235474, 0.13393107056617737, 0.13393107056617737, 0.056239053606987, 0.056239053606987, 0.0843585804104805, 0.112478107213974, 0.0843585804104805, 0.0843585804104805, 0.168717160820961, 0.1405976265668869, 0.0843585804104805, 0.112478107213974, 0.06366879492998123, 0.12733758985996246, 0.06366879492998123, 0.12733758985996246, 0.06366879492998123, 0.06366879492998123, 0.06366879492998123, 0.12733758985996246, 0.1910063773393631, 0.12733758985996246, 0.10923901945352554, 0.07668434828519821, 0.09404683858156204, 0.10996246337890625, 0.10272809118032455, 0.11285620927810669, 0.0759609118103981, 0.11719683557748795, 0.10851558297872543, 0.09332340210676193, 0.11160119622945786, 0.07866969704627991, 0.11891931295394897, 0.1262374222278595, 0.13538506627082825, 0.1024535596370697, 0.09879450500011444, 0.07135158777236938, 0.06952206045389175, 0.08781733363866806, 0.10758932679891586, 0.09221941977739334, 0.061479613184928894, 0.10758932679891586, 0.16906893253326416, 0.12295922636985779, 0.061479613184928894, 0.10758932679891586, 0.09221941977739334, 0.07684952020645142, 0.17295034229755402, 0.17295034229755402, 0.17295034229755402, 0.17295034229755402, 0.17295034229755402, 0.17295034229755402, 0.0691298246383667, 0.2073894590139389, 0.1382596492767334, 0.0691298246383667, 0.0691298246383667, 0.1382596492767334, 0.0691298246383667, 0.0691298246383667, 0.0691298246383667, 0.0691298246383667, 0.10859312862157822, 0.07847906649112701, 0.10585548728704453, 0.08760453760623932, 0.1022052988409996, 0.1140684112906456, 0.1259315311908722, 0.09673001617193222, 0.11315586417913437, 0.06752850115299225, 0.06723929196596146, 0.06723929196596146, 0.06723929196596146, 0.06723929196596146, 0.06723929196596146, 0.1344785839319229, 0.06723929196596146, 0.1344785839319229, 0.06723929196596146, 0.1344785839319229, 0.2066216617822647, 0.10331083089113235, 0.10331083089113235, 0.10331083089113235, 0.10331083089113235, 0.10331083089113235, 0.10331083089113235, 0.10331083089113235, 0.10331083089113235, 0.10331083089113235, 0.09271164238452911, 0.10000357031822205, 0.0895865261554718, 0.08750312030315399, 0.08021119236946106, 0.1333380937576294, 0.10312867909669876, 0.08021119236946106, 0.12187934666872025, 0.1104206070303917, 0.0705314353108406, 0.1158730685710907, 0.11083511263132095, 0.06045551598072052, 0.0806073546409607, 0.09572122991085052, 0.10075919330120087, 0.16625267267227173, 0.09572122991085052, 0.10579714924097061, 0.0918264240026474, 0.0918264240026474, 0.0918264240026474, 0.0918264240026474, 0.0918264240026474, 0.0918264240026474, 0.0918264240026474, 0.1836528480052948, 0.0918264240026474, 0.0918264240026474, 0.09592464566230774, 0.09592464566230774, 0.04796232283115387, 0.09592464566230774, 0.09592464566230774, 0.09592464566230774, 0.09592464566230774, 0.19184929132461548, 0.09592464566230774, 0.09592464566230774, 0.0863373801112175, 0.12950606644153595, 0.11373288929462433, 0.10377088934183121, 0.10211054980754852, 0.07886587083339691, 0.09629938006401062, 0.07388487458229065, 0.10792171955108643, 0.10709155350923538, 0.09345486760139465, 0.08591818809509277, 0.08893286436796188, 0.0813961774110794, 0.14168964326381683, 0.11606492102146149, 0.1055135652422905, 0.06330813467502594, 0.11154291033744812, 0.11154291033744812, 0.08764716982841492, 0.08764716982841492, 0.10712432116270065, 0.07790859788656235, 0.09738574177026749, 0.16555576026439667, 0.06817001849412918, 0.07790859788656235, 0.11686289310455322, 0.10712432116270065, 0.09751544892787933, 0.09308292716741562, 0.09308292716741562, 0.1152455285191536, 0.09308292716741562, 0.06648780405521393, 0.12854309380054474, 0.15070569515228271, 0.11081300675868988, 0.05319024249911308, 0.10213923454284668, 0.1258925497531891, 0.16627317667007446, 0.05700794234871864, 0.10688989609479904, 0.12351721525192261, 0.06650926917791367, 0.10688989609479904, 0.08076125383377075, 0.06413393467664719, 0.12474972754716873, 0.12474972754716873, 0.12474972754716873, 0.12474972754716873, 0.12474972754716873, 0.12474972754716873, 0.12474972754716873, 0.12474972754716873, 0.12474972754716873, 0.12474972754716873, 0.1583133339881897, 0.07915666699409485, 0.0692620798945427, 0.09894583374261856, 0.0890512466430664, 0.0890512466430664, 0.0890512466430664, 0.11873500049114227, 0.10884041339159012, 0.09894583374261856, 0.10538193583488464, 0.10538193583488464, 0.2107638716697693, 0.10538193583488464, 0.10538193583488464, 0.10538193583488464, 0.10538193583488464, 0.10538193583488464, 0.10538193583488464, 0.10538193583488464, 0.11342474818229675, 0.08049498498439789, 0.10854626446962357, 0.10732664167881012, 0.08537346869707108, 0.1146443709731102, 0.10854626446962357, 0.05854180455207825, 0.10732664167881012, 0.11586399376392365, 0.09915141761302948, 0.09915141761302948, 0.09915141761302948, 0.09915141761302948, 0.09915141761302948, 0.09915141761302948, 0.09915141761302948, 0.09915141761302948, 0.09915141761302948, 0.19830283522605896, 0.07987263053655624, 0.09318473935127258, 0.09318473935127258, 0.1597452610731125, 0.09318473935127258, 0.10649684071540833, 0.10649684071540833, 0.09318473935127258, 0.09318473935127258, 0.0665605291724205, 0.13441230356693268, 0.13441230356693268, 0.13441230356693268, 0.13441230356693268, 0.13441230356693268, 0.13441230356693268, 0.13441230356693268, 0.13441230356693268, 0.06305402517318726, 0.068308524787426, 0.1786530762910843, 0.09983553737401962, 0.09458103775978088, 0.09458103775978088, 0.12085355073213577, 0.09458103775978088, 0.08932653814554214, 0.09458103775978088, 0.12227660417556763, 0.10410035401582718, 0.10354955494403839, 0.08675029128789902, 0.11015910655260086, 0.08454710990190506, 0.12227660417556763, 0.10520194470882416, 0.06554466485977173, 0.09583842009305954, 0.09569090604782104, 0.07176817953586578, 0.1594848334789276, 0.11163938790559769, 0.11163938790559769, 0.09569090604782104, 0.09569090604782104, 0.0797424167394638, 0.07176817953586578, 0.09569090604782104, 0.10827702283859253, 0.10827702283859253, 0.10827702283859253, 0.10827702283859253, 0.10827702283859253, 0.10827702283859253, 0.10827702283859253, 0.10827702283859253, 0.21655404567718506, 0.10827702283859253, 0.08286352455615997, 0.04143176227807999, 0.12429528683423996, 0.06214764341711998, 0.08286352455615997, 0.10357940196990967, 0.12429528683423996, 0.10357940196990967, 0.16572704911231995, 0.08286352455615997, 0.16981276869773865, 0.056604258716106415, 0.11320851743221283, 0.11320851743221283, 0.11320851743221283, 0.11320851743221283, 0.11320851743221283, 0.11320851743221283, 0.11320851743221283, 0.11320851743221283, 0.09402786195278168, 0.14887744188308716, 0.11361699551343918, 0.11361699551343918, 0.10969916731119156, 0.10186351835727692, 0.0783565491437912, 0.06660306453704834, 0.08227437734603882, 0.09402786195278168, 0.13571077585220337, 0.13571077585220337, 0.13571077585220337, 0.13571077585220337, 0.13571077585220337, 0.13571077585220337, 0.13571077585220337, 0.27142155170440674, 0.13681867718696594, 0.13681867718696594, 0.06840933859348297, 0.06840933859348297, 0.06840933859348297, 0.06840933859348297, 0.06840933859348297, 0.06840933859348297, 0.13681867718696594, 0.06840933859348297, 0.10381706058979034, 0.10381706058979034, 0.05190853029489517, 0.1557255983352661, 0.10381706058979034, 0.10381706058979034, 0.05190853029489517, 0.10381706058979034, 0.10381706058979034, 0.10381706058979034, 0.07509306818246841, 0.09887254238128662, 0.13516752421855927, 0.11138805747032166, 0.12390356510877609, 0.11639425903558731, 0.10262719541788101, 0.061326008290052414, 0.06758376210927963, 0.10763339698314667, 0.0668477863073349, 0.12414588779211044, 0.08594715595245361, 0.09549684077501297, 0.08594715595245361, 0.09549684077501297, 0.09549684077501297, 0.1527949422597885, 0.10504652559757233, 0.10504652559757233, 0.06324945390224457, 0.09487418085336685, 0.09487418085336685, 0.06324945390224457, 0.12649890780448914, 0.09487418085336685, 0.09487418085336685, 0.09487418085336685, 0.15812362730503082, 0.09487418085336685, 0.16828352212905884, 0.08414176106452942, 0.08414176106452942, 0.08414176106452942, 0.16828352212905884, 0.08414176106452942, 0.08414176106452942, 0.08414176106452942, 0.08414176106452942, 0.08414176106452942, 0.08987884968519211, 0.08987884968519211, 0.11983846127986908, 0.08987884968519211, 0.14979808032512665, 0.11983846127986908, 0.08987884968519211, 0.08987884968519211, 0.08987884968519211, 0.08987884968519211, 0.1817290335893631, 0.12115268409252167, 0.060576342046260834, 0.12115268409252167, 0.060576342046260834, 0.060576342046260834, 0.060576342046260834, 0.12115268409252167, 0.12115268409252167, 0.12115268409252167, 0.19354267418384552, 0.09677133709192276, 0.09677133709192276, 0.09677133709192276, 0.09677133709192276, 0.09677133709192276, 0.19354267418384552, 0.09677133709192276, 0.09677133709192276, 0.1609567552804947, 0.09538178145885468, 0.08345905691385269, 0.08942042291164398, 0.08942042291164398, 0.09538178145885468, 0.09538178145885468, 0.11326586455106735, 0.0715363398194313, 0.10134314745664597, 0.09633246809244156, 0.09633246809244156, 0.19266493618488312, 0.09633246809244156, 0.09633246809244156, 0.09633246809244156, 0.09633246809244156, 0.09633246809244156, 0.09633246809244156, 0.04816623404622078, 0.1080012321472168, 0.1080012321472168, 0.1080012321472168, 0.0810009241104126, 0.0540006160736084, 0.1620018482208252, 0.0810009241104126, 0.1080012321472168, 0.0810009241104126, 0.0810009241104126, 0.24627628922462463, 0.12313814461231232, 0.12313814461231232, 0.12313814461231232, 0.12313814461231232, 0.12313814461231232, 0.12313814461231232, 0.12313814461231232, 0.12313814461231232, 0.0892762765288353, 0.1275375336408615, 0.08502501994371414, 0.1275375336408615, 0.14454254508018494, 0.08077377080917358, 0.10203003138303757, 0.07227127254009247, 0.09352752566337585, 0.06802001595497131, 0.11491560935974121, 0.09193249046802521, 0.08618670701980591, 0.0804409310221672, 0.12066139280796051, 0.09193249046802521, 0.0746951475739479, 0.08618670701980591, 0.1493902951478958, 0.09767826646566391, 0.11539165675640106, 0.11539165675640106, 0.11539165675640106, 0.11539165675640106, 0.11539165675640106, 0.11539165675640106, 0.11539165675640106, 0.11539165675640106, 0.08026137202978134, 0.0987832322716713, 0.08026137202978134, 0.12347903847694397, 0.12347903847694397, 0.08026137202978134, 0.10495718568563461, 0.07408742606639862, 0.08026137202978134, 0.15434880554676056, 0.08241303265094757, 0.10102242976427078, 0.10102242976427078, 0.11697334051132202, 0.09836394339799881, 0.1089978888630867, 0.11165636777877808, 0.05848667025566101, 0.1488751620054245, 0.07709606736898422, 0.13956835865974426, 0.13956835865974426, 0.13956835865974426, 0.13956835865974426, 0.13956835865974426, 0.13956835865974426, 0.13956835865974426, 0.13956835865974426, 0.13956835865974426, 0.07252925634384155, 0.07252925634384155, 0.1450585126876831, 0.1450585126876831, 0.07252925634384155, 0.07252925634384155, 0.07252925634384155, 0.07252925634384155, 0.1450585126876831, 0.1450585126876831, 0.12999658286571503, 0.11718904227018356, 0.126794695854187, 0.08581055700778961, 0.0845298022031784, 0.08837206661701202, 0.08132791519165039, 0.07428376376628876, 0.10694300383329391, 0.1043814942240715, 0.11194806545972824, 0.0992266908288002, 0.10177096724510193, 0.06869540363550186, 0.11449234187602997, 0.10431524366140366, 0.07123968005180359, 0.10177096724510193, 0.08904960006475449, 0.13739080727100372, 0.0961759015917778, 0.0961759015917778, 0.10183330625295639, 0.10749071091413498, 0.09051848948001862, 0.11314811557531357, 0.13860644400119781, 0.08203238248825073, 0.07354627549648285, 0.10183330625295639, 0.06670159101486206, 0.06670159101486206, 0.06670159101486206, 0.06670159101486206, 0.20010478794574738, 0.06670159101486206, 0.13340318202972412, 0.13340318202972412, 0.06670159101486206, 0.06670159101486206, 0.10427604615688324, 0.10664595663547516, 0.08294685184955597, 0.08057694137096405, 0.09242649376392365, 0.09479640424251556, 0.09005658328533173, 0.09479640424251556, 0.1469344198703766, 0.10901585966348648, 0.09787009656429291, 0.09787009656429291, 0.09787009656429291, 0.09787009656429291, 0.09787009656429291, 0.09787009656429291, 0.048935048282146454, 0.19574019312858582, 0.09787009656429291, 0.09787009656429291, 0.097937673330307, 0.097937673330307, 0.097937673330307, 0.195875346660614, 0.097937673330307, 0.097937673330307, 0.097937673330307, 0.097937673330307, 0.097937673330307, 0.097937673330307, 0.07266354560852051, 0.10092159360647202, 0.15340082347393036, 0.10092159360647202, 0.10495845973491669, 0.10495845973491669, 0.0888110026717186, 0.09688472747802734, 0.09284786880016327, 0.0888110026717186, 0.07997331023216248, 0.11567568778991699, 0.1099633052945137, 0.1513780653476715, 0.07140474766492844, 0.06712046265602112, 0.08568569272756577, 0.08854188024997711, 0.15566234290599823, 0.07283283770084381, 0.11834464967250824, 0.08875849097967148, 0.08218378573656082, 0.15121816098690033, 0.10848259925842285, 0.08547113835811615, 0.11176994442939758, 0.09533318877220154, 0.08547113835811615, 0.07232172787189484, 0.10487063229084015, 0.10487063229084015, 0.10487063229084015, 0.10487063229084015, 0.10487063229084015, 0.10487063229084015, 0.10487063229084015, 0.10487063229084015, 0.2097412645816803, 0.10487063229084015, 0.13676853477954865, 0.13676853477954865, 0.13676853477954865, 0.13676853477954865, 0.13676853477954865, 0.13676853477954865, 0.13676853477954865, 0.13676853477954865, 0.13676853477954865, 0.13676853477954865, 0.03785984218120575, 0.0757196843624115, 0.18929922580718994, 0.151439368724823, 0.11357953399419785, 0.0757196843624115, 0.0757196843624115, 0.11357953399419785, 0.0757196843624115, 0.0757196843624115, 0.09851625561714172, 0.07646037638187408, 0.0941050797700882, 0.1102793887257576, 0.13086487352848053, 0.09851625561714172, 0.11469056457281113, 0.08528272807598114, 0.11174978315830231, 0.08087155222892761, 0.09187181293964386, 0.10753178596496582, 0.10126779973506927, 0.0908278152346611, 0.08560782670974731, 0.07203585654497147, 0.10335579514503479, 0.13676372170448303, 0.08769582211971283, 0.12423574924468994, 0.13341359794139862, 0.26682719588279724, 0.13341359794139862, 0.13341359794139862, 0.13341359794139862, 0.26682719588279724, 0.10574846714735031, 0.11896702647209167, 0.11566238850355148, 0.10244382917881012, 0.09087759256362915, 0.074354387819767, 0.09252990782260895, 0.12722861766815186, 0.09583454579114914, 0.07600671052932739, 0.08417684584856033, 0.1237894743680954, 0.10026947408914566, 0.11141052842140198, 0.09408000111579895, 0.1225515827536583, 0.08046315610408783, 0.08417684584856033, 0.08046315610408783, 0.11760000139474869, 0.11288071423768997, 0.11288071423768997, 0.11288071423768997, 0.11288071423768997, 0.07525381445884705, 0.11288071423768997, 0.07525381445884705, 0.1505076289176941, 0.03762690722942352, 0.11288071423768997, 0.07982933521270752, 0.05702095106244087, 0.08553142845630646, 0.07982933521270752, 0.08553142845630646, 0.1083398088812828, 0.1539565771818161, 0.10263771563768387, 0.13114818930625916, 0.11974400281906128, 0.08599966764450073, 0.15561845898628235, 0.09009489417076111, 0.1310471147298813, 0.07780922949314117, 0.09419011324644089, 0.08599966764450073, 0.09009489417076111, 0.10238055884838104, 0.08190444856882095, 0.16022247076034546, 0.08011123538017273, 0.08011123538017273, 0.1201668456196785, 0.08011123538017273, 0.08011123538017273, 0.08011123538017273, 0.1201668456196785, 0.08011123538017273, 0.08011123538017273, 0.10424423962831497, 0.15636636316776276, 0.10424423962831497, 0.10424423962831497, 0.10424423962831497, 0.10424423962831497, 0.052122119814157486, 0.10424423962831497, 0.10424423962831497, 0.10424423962831497, 0.06975048780441284, 0.13950097560882568, 0.13950097560882568, 0.06975048780441284, 0.06975048780441284, 0.13950097560882568, 0.06975048780441284, 0.06975048780441284, 0.13950097560882568, 0.06975048780441284, 0.09772574156522751, 0.09772574156522751, 0.048862870782613754, 0.09772574156522751, 0.09772574156522751, 0.09772574156522751, 0.14658860862255096, 0.09772574156522751, 0.09772574156522751, 0.048862870782613754, 0.16928738355636597, 0.16928738355636597, 0.16928738355636597, 0.16928738355636597, 0.16928738355636597, 0.08404970914125443, 0.05944979190826416, 0.09634966403245926, 0.1127496063709259, 0.13324953615665436, 0.08609969913959503, 0.07994972169399261, 0.143499493598938, 0.09634966403245926, 0.10864961892366409, 0.08636532723903656, 0.08636532723903656, 0.08636532723903656, 0.17273065447807312, 0.08636532723903656, 0.08636532723903656, 0.08636532723903656, 0.08636532723903656, 0.08636532723903656, 0.17273065447807312, 0.10857168585062027, 0.09650816768407822, 0.12666696310043335, 0.08142876625061035, 0.10857168585062027, 0.07238112390041351, 0.14777812361717224, 0.07841288298368454, 0.08746052533388138, 0.0934922844171524, 0.10690657794475555, 0.1781776249408722, 0.10690657794475555, 0.07127105444669724, 0.14254210889339447, 0.10690657794475555, 0.07127105444669724, 0.07127105444669724, 0.07127105444669724, 0.10690657794475555, 0.113429956138134, 0.05198872834444046, 0.0897987112402916, 0.12760870158672333, 0.08034621924161911, 0.0897987112402916, 0.07561997324228287, 0.09452496469020844, 0.1465136855840683, 0.13233494758605957, 0.10277020931243896, 0.12145569920539856, 0.07941333949565887, 0.08875608444213867, 0.18218354880809784, 0.07474196702241898, 0.11211295425891876, 0.046713728457689285, 0.11678432673215866, 0.07007059454917908, 0.08114152401685715, 0.1271217167377472, 0.14064531028270721, 0.14064531028270721, 0.09196039289236069, 0.056799065321683884, 0.08384624123573303, 0.11630284786224365, 0.09196039289236069, 0.06761793792247772, 0.11152231693267822, 0.0876246765255928, 0.0987769067287445, 0.07965879887342453, 0.09718373417854309, 0.13701313734054565, 0.0987769067287445, 0.1083359643816948, 0.0876246765255928, 0.09399738162755966, 0.08393687009811401, 0.09286632388830185, 0.08929453790187836, 0.07679330557584763, 0.11251112073659897, 0.09643810242414474, 0.09822399914264679, 0.11072523146867752, 0.13037003576755524, 0.10893934220075607, 0.10164730250835419, 0.07652100175619125, 0.09479467570781708, 0.13362622261047363, 0.1130683496594429, 0.08679994195699692, 0.07994731515645981, 0.09479467570781708, 0.09822098910808563, 0.11877886950969696, 0.08366022258996964, 0.10202465951442719, 0.08366022258996964, 0.12855106592178345, 0.08978170156478882, 0.11222712695598602, 0.13671304285526276, 0.08978170156478882, 0.08978170156478882, 0.08570071309804916, 0.1679900735616684, 0.1679900735616684, 0.1679900735616684, 0.1679900735616684, 0.1679900735616684, 0.1679900735616684, 0.1679900735616684, 0.08065071702003479, 0.16130143404006958, 0.08065071702003479, 0.08065071702003479, 0.08065071702003479, 0.08065071702003479, 0.08065071702003479, 0.08065071702003479, 0.08065071702003479, 0.08065071702003479, 0.09626759588718414, 0.09626759588718414, 0.09626759588718414, 0.09626759588718414, 0.09626759588718414, 0.09626759588718414, 0.09626759588718414, 0.1925351917743683, 0.09626759588718414, 0.12496384233236313, 0.062481921166181564, 0.062481921166181564, 0.12496384233236313, 0.12496384233236313, 0.062481921166181564, 0.1874457746744156, 0.062481921166181564, 0.062481921166181564, 0.12496384233236313, 0.09618855267763138, 0.09618855267763138, 0.09618855267763138, 0.09618855267763138, 0.09618855267763138, 0.09618855267763138, 0.09618855267763138, 0.09618855267763138, 0.19237710535526276, 0.09618855267763138, 0.11466747522354126, 0.10179663449525833, 0.07839511334896088, 0.12929342687129974, 0.11495999246835709, 0.10179663449525833, 0.11817770451307297, 0.10735449939966202, 0.05791877582669258, 0.07546991854906082, 0.10388828068971634, 0.08754630386829376, 0.13773952424526215, 0.09571728855371475, 0.11205926537513733, 0.11672840267419815, 0.08871358633041382, 0.09104815870523453, 0.06770247220993042, 0.09921914339065552, 0.11302173882722855, 0.11302173882722855, 0.11302173882722855, 0.11302173882722855, 0.11302173882722855, 0.11302173882722855, 0.11302173882722855, 0.11302173882722855, 0.11302173882722855, 0.11302173882722855, 0.07564537972211838, 0.11191371083259583, 0.13885588943958282, 0.091188944876194, 0.07979033142328262, 0.11916737258434296, 0.09947884827852249, 0.13056598603725433, 0.0642467588186264, 0.08808023482561111, 0.09830162674188614, 0.06143851950764656, 0.08601392805576324, 0.159740149974823, 0.11058933287858963, 0.08601392805576324, 0.09830162674188614, 0.12287703901529312, 0.08601392805576324, 0.09830162674188614, 0.11691401153802872, 0.11909932643175125, 0.09396827220916748, 0.11363605409860611, 0.09615357965230942, 0.09396827220916748, 0.07976377010345459, 0.09943154454231262, 0.11145073920488358, 0.07430049777030945, 0.09648605436086655, 0.09648605436086655, 0.09648605436086655, 0.09648605436086655, 0.09648605436086655, 0.09648605436086655, 0.1929721087217331, 0.09648605436086655, 0.09648605436086655, 0.09648605436086655, 0.11500705033540726, 0.11500705033540726, 0.11500705033540726, 0.11500705033540726, 0.11500705033540726, 0.11500705033540726, 0.11500705033540726, 0.11500705033540726, 0.11500705033540726, 0.09885886311531067, 0.11035408079624176, 0.09196173399686813, 0.10345695167779922, 0.15173685550689697, 0.09655982255935669, 0.11265312135219574, 0.048279911279678345, 0.07586842775344849, 0.11035408079624176, 0.15108166635036469, 0.15108166635036469, 0.15108166635036469, 0.15108166635036469, 0.15108166635036469, 0.15108166635036469, 0.15108166635036469, 0.15108166635036469, 0.15108166635036469, 0.0985170379281044, 0.06896192580461502, 0.09429488331079483, 0.09148010611534119, 0.12807215750217438, 0.0858505591750145, 0.1111835166811943, 0.11540567129850388, 0.11259090155363083, 0.09570226818323135, 0.16857029497623444, 0.16857029497623444, 0.16857029497623444, 0.16857029497623444, 0.16857029497623444, 0.16857029497623444, 0.08496259152889252, 0.12272374331951141, 0.10384316742420197, 0.18880575895309448, 0.08496259152889252, 0.09440287947654724, 0.08496259152889252, 0.07552230358123779, 0.08496259152889252, 0.07552230358123779, 0.08602330833673477, 0.09772248566150665, 0.13006724417209625, 0.09634611010551453, 0.08602330833673477, 0.1273145079612732, 0.12249719351530075, 0.07914144545793533, 0.1025397852063179, 0.07157139480113983, 0.10879112780094147, 0.10879112780094147, 0.18131853640079498, 0.036263708025217056, 0.10879112780094147, 0.10879112780094147, 0.10879112780094147, 0.10879112780094147, 0.07252741605043411, 0.07252741605043411, 0.08155234903097153, 0.09114674478769302, 0.06716075539588928, 0.09114674478769302, 0.10074113309383392, 0.11513272672891617, 0.09594394266605377, 0.1487131118774414, 0.12472712248563766, 0.08634954690933228, 0.09700386971235275, 0.10670425742864609, 0.08245328813791275, 0.10185406357049942, 0.09215367585420609, 0.07275290042161942, 0.08730348199605942, 0.08730348199605942, 0.1503559947013855, 0.11155445128679276, 0.15256203711032867, 0.07628101855516434, 0.08136641979217529, 0.0915372222661972, 0.11187882721424103, 0.09662262350320816, 0.08645182102918625, 0.11187882721424103, 0.08136641979217529, 0.10170802474021912, 0.1338188797235489, 0.1338188797235489, 0.1338188797235489, 0.1338188797235489, 0.1338188797235489, 0.1338188797235489, 0.1338188797235489, 0.1338188797235489, 0.1338188797235489, 0.1338188797235489, 0.1308981329202652, 0.1308981329202652, 0.1963472068309784, 0.0654490664601326, 0.1308981329202652, 0.0654490664601326, 0.0654490664601326, 0.0654490664601326, 0.1308981329202652, 0.0654490664601326, 0.1109774261713028, 0.1109774261713028, 0.1109774261713028, 0.1109774261713028, 0.1109774261713028, 0.1109774261713028, 0.1109774261713028, 0.1109774261713028, 0.1109774261713028, 0.10447987914085388, 0.10857713222503662, 0.11267437785863876, 0.096285380423069, 0.08604225516319275, 0.09423675388097763, 0.10652850568294525, 0.06965325027704239, 0.1311120092868805, 0.09013950079679489, 0.10119955986738205, 0.08320853114128113, 0.11469283699989319, 0.08770629018545151, 0.14392825961112976, 0.14392825961112976, 0.0899551659822464, 0.09895068407058716, 0.04722646251320839, 0.08770629018545151, 0.09945410490036011, 0.08524637669324875, 0.08524637669324875, 0.08524637669324875, 0.08524637669324875, 0.11366183310747147, 0.1704927533864975, 0.05683091655373573, 0.09945410490036011, 0.09945410490036011, 0.1220783069729805, 0.11948090046644211, 0.11896141618490219, 0.12467572093009949, 0.06441579014062881, 0.09090937674045563, 0.07064957171678543, 0.07480543106794357, 0.09402627497911453, 0.11948090046644211, 0.05670950934290886, 0.17958010733127594, 0.0945158526301384, 0.0472579263150692, 0.10396743565797806, 0.11341901868581772, 0.11341901868581772, 0.06616109609603882, 0.10396743565797806, 0.11341901868581772, 0.06410705298185349, 0.12821410596370697, 0.19232116639614105, 0.06410705298185349, 0.12821410596370697, 0.12821410596370697, 0.06410705298185349, 0.06410705298185349, 0.06410705298185349, 0.06410705298185349, 0.08820942789316177, 0.17641885578632355, 0.08820942789316177, 0.08820942789316177, 0.08820942789316177, 0.08820942789316177, 0.08820942789316177, 0.08820942789316177, 0.08820942789316177, 0.08820942789316177, 0.09787699580192566, 0.09787699580192566, 0.09787699580192566, 0.09787699580192566, 0.09787699580192566, 0.09787699580192566, 0.19575399160385132, 0.09787699580192566, 0.09787699580192566, 0.09787699580192566, 0.03840288892388344, 0.15361155569553375, 0.07680577784776688, 0.11520867049694061, 0.11520867049694061, 0.07680577784776688, 0.11520867049694061, 0.07680577784776688, 0.07680577784776688, 0.07680577784776688, 0.10266430675983429, 0.15810303390026093, 0.14167675375938416, 0.07289166003465652, 0.10677088052034378, 0.08315809071063995, 0.08315809071063995, 0.09034459292888641, 0.09239787608385086, 0.06878508627414703, 0.0890006348490715, 0.0890006348490715, 0.09602700173854828, 0.08197426795959473, 0.08431638777256012, 0.1194482147693634, 0.10773760825395584, 0.09602700173854828, 0.13350094854831696, 0.10305336117744446, 0.0889568030834198, 0.10152678191661835, 0.08508911728858948, 0.11506368964910507, 0.08992372453212738, 0.11022908240556717, 0.10152678191661835, 0.10636139661073685, 0.09475833177566528, 0.10636139661073685, 0.09036284685134888, 0.0689208135008812, 0.10721015930175781, 0.11180488020181656, 0.08576812595129013, 0.11486802250146866, 0.08423655480146408, 0.13324691355228424, 0.09648913890123367, 0.10567858070135117, 0.13711731135845184, 0.13711731135845184, 0.13711731135845184, 0.13711731135845184, 0.13711731135845184, 0.13711731135845184, 0.13711731135845184, 0.13711731135845184, 0.13711731135845184, 0.13711731135845184, 0.06896181404590607, 0.13361351191997528, 0.08620226383209229, 0.09913260489702225, 0.0948224887251854, 0.07758203893899918, 0.10775282979011536, 0.1508539617061615, 0.09051238000392914, 0.09051238000392914, 0.0890246257185936, 0.12972159683704376, 0.1119166687130928, 0.12336269021034241, 0.059773676097393036, 0.0674043595790863, 0.07503503561019897, 0.10682954639196396, 0.13099336624145508, 0.10682954639196396, 0.11768642067909241, 0.09562021493911743, 0.13239721953868866, 0.08090941607952118, 0.10297561436891556, 0.09562021493911743, 0.058843210339546204, 0.15446342527866364, 0.08090941607952118, 0.08090941607952118, 0.148980975151062, 0.12189353257417679, 0.09209733456373215, 0.12008769810199738, 0.0866798460483551, 0.10744688659906387, 0.08397109806537628, 0.07494194805622101, 0.08487401157617569, 0.07945652306079865, 0.13721002638339996, 0.10748118907213211, 0.09833385050296783, 0.12120219320058823, 0.0823260173201561, 0.061744511127471924, 0.08918651938438416, 0.13949686288833618, 0.08918651938438416, 0.07775235176086426, 0.08938612788915634, 0.09409066289663315, 0.07997705787420273, 0.11694125086069107, 0.07997705787420273, 0.12971068918704987, 0.0961068868637085, 0.11156464368104935, 0.1263503134250641, 0.07527253031730652, 0.08134111762046814, 0.10845481604337692, 0.08134111762046814, 0.08134111762046814, 0.12201166898012161, 0.08134111762046814, 0.16268223524093628, 0.12201166898012161, 0.08134111762046814, 0.06778426468372345, 0.055601898580789566, 0.11120379716157913, 0.055601898580789566, 0.055601898580789566, 0.11120379716157913, 0.055601898580789566, 0.11120379716157913, 0.11120379716157913, 0.166805699467659, 0.11120379716157913, 0.05847148969769478, 0.05847148969769478, 0.05847148969769478, 0.11694297939538956, 0.05847148969769478, 0.11694297939538956, 0.05847148969769478, 0.05847148969769478, 0.17541447281837463, 0.11694297939538956, 0.1955568790435791, 0.1955568790435791, 0.1955568790435791, 0.1955568790435791, 0.1955568790435791, 0.1955568790435791, 0.11124759912490845, 0.14411620795726776, 0.09607747197151184, 0.07332228124141693, 0.10113418102264404, 0.07585063576698303, 0.11630430817604065, 0.09607747197151184, 0.09607747197151184, 0.08849240839481354, 0.17659711837768555, 0.08829855918884277, 0.08829855918884277, 0.08829855918884277, 0.08829855918884277, 0.11037319898605347, 0.11037319898605347, 0.08829855918884277, 0.11037319898605347, 0.08829855918884277, 0.16798655688762665, 0.08399327844381332, 0.1018100380897522, 0.10690053552389145, 0.10944578796625137, 0.06363127380609512, 0.11453628540039062, 0.09671953320503235, 0.08908378332853317, 0.06872177124023438, 0.07969247549772263, 0.1296330839395523, 0.10094379633665085, 0.08075504004955292, 0.12538282573223114, 0.09775610268115997, 0.10944432765245438, 0.09669353067874908, 0.09563096612691879, 0.08500530570745468, 0.07902789115905762, 0.0852261558175087, 0.07128005474805832, 0.14565925300121307, 0.10692008584737778, 0.14565925300121307, 0.12551487982273102, 0.09142442047595978, 0.06818092614412308, 0.08367659151554108, 0.16804765164852142, 0.16804765164852142, 0.16804765164852142, 0.16804765164852142, 0.16804765164852142, 0.16804765164852142, 0.10656730830669403, 0.07104486972093582, 0.07104486972093582, 0.10656730830669403, 0.15985096991062164, 0.07104486972093582, 0.08880609273910522, 0.10656730830669403, 0.08880609273910522, 0.12432852387428284, 0.11618788540363312, 0.08606509864330292, 0.08606509864330292, 0.07745859026908875, 0.07745859026908875, 0.10758137702941895, 0.1204911395907402, 0.09036835283041, 0.14631067216396332, 0.09036835283041, 0.12527814507484436, 0.12527814507484436, 0.12527814507484436, 0.12527814507484436, 0.12527814507484436, 0.12527814507484436, 0.12527814507484436, 0.12527814507484436, 0.12527814507484436], \"Term\": [\"able\", \"able\", \"able\", \"able\", \"able\", \"able\", \"able\", \"able\", \"able\", \"able\", \"absolutely\", \"absolutely\", \"absolutely\", \"absolutely\", \"absolutely\", \"absolutely\", \"absolutely\", \"absolutely\", \"absolutely\", \"absolutely\", \"accepting\", \"accepting\", \"accepting\", \"accepting\", \"accepting\", \"accepting\", \"accepting\", \"accepting\", \"accomodate\", \"accomodate\", \"accomodate\", \"accomodate\", \"accomodate\", \"accomodate\", \"accomodate\", \"accomodate\", \"accomodate\", \"accomodate\", \"accounts\", \"accounts\", \"accounts\", \"accounts\", \"accounts\", \"accounts\", \"accounts\", \"accounts\", \"accounts\", \"accounts\", \"acrobatics\", \"acrobatics\", \"acrobatics\", \"acrobatics\", \"acrobatics\", \"acrobatics\", \"action\", \"action\", \"action\", \"action\", \"action\", \"action\", \"action\", \"action\", \"action\", \"action\", \"adorned\", \"adorned\", \"adorned\", \"adorned\", \"adorned\", \"adorned\", \"adorned\", \"adorned\", \"adorned\", \"ads\", \"ads\", \"ads\", \"ads\", \"ads\", \"ads\", \"ads\", \"ads\", \"ads\", \"ads\", \"advertise\", \"advertise\", \"advertise\", \"advertise\", \"advertise\", \"advertise\", \"advertise\", \"advertise\", \"advertise\", \"advertise\", \"advertising\", \"advertising\", \"advertising\", \"advertising\", \"advertising\", \"advertising\", \"advertising\", \"advertising\", \"advertising\", \"advising\", \"advising\", \"advising\", \"advising\", \"advising\", \"advising\", \"advising\", \"advising\", \"advising\", \"advising\", \"aim\", \"aim\", \"aim\", \"aim\", \"aim\", \"aim\", \"aim\\u00e9\", \"aim\\u00e9\", \"aim\\u00e9\", \"aim\\u00e9\", \"aloo\", \"aloo\", \"aloof\", \"aloof\", \"aloof\", \"aloof\", \"aloof\", \"aloof\", \"aloof\", \"aloof\", \"alterations\", \"alterations\", \"alterations\", \"alterations\", \"alterations\", \"alterations\", \"alterations\", \"alterations\", \"alterations\", \"alterations\", \"amazing\", \"amazing\", \"amazing\", \"amazing\", \"amazing\", \"amazing\", \"amazing\", \"amazing\", \"amazing\", \"amazing\", \"angela\", \"angela\", \"angela\", \"angela\", \"angela\", \"angela\", \"angela\", \"angela\", \"angela\", \"angela\", \"antipasto\", \"antipasto\", \"antipasto\", \"antipasto\", \"antipasto\", \"antipasto\", \"antipasto\", \"antipasto\", \"antipasto\", \"anymore\", \"anymore\", \"anymore\", \"anymore\", \"anymore\", \"anymore\", \"anymore\", \"anymore\", \"anymore\", \"anymore\", \"apparently\", \"apparently\", \"apparently\", \"apparently\", \"apparently\", \"apparently\", \"apparently\", \"apparently\", \"apparently\", \"apparently\", \"applying\", \"applying\", \"applying\", \"applying\", \"applying\", \"applying\", \"applying\", \"applying\", \"applying\", \"area\", \"area\", \"area\", \"area\", \"area\", \"area\", \"area\", \"area\", \"area\", \"area\", \"arizona\", \"arizona\", \"arizona\", \"arizona\", \"arizona\", \"arizona\", \"arizona\", \"arizona\", \"arizona\", \"arizona\", \"arrived\", \"arrived\", \"arrived\", \"arrived\", \"arrived\", \"arrived\", \"arrived\", \"arrived\", \"arrived\", \"arrived\", \"artists\", \"artists\", \"artists\", \"artists\", \"artists\", \"artists\", \"artists\", \"artists\", \"artists\", \"artists\", \"arts\", \"arts\", \"arts\", \"arts\", \"arts\", \"arts\", \"arts\", \"arts\", \"arts\", \"arts\", \"asked\", \"asked\", \"asked\", \"asked\", \"asked\", \"asked\", \"asked\", \"asked\", \"asked\", \"asked\", \"assistance\", \"assistance\", \"assistance\", \"assistance\", \"assistance\", \"assistance\", \"assistance\", \"assistance\", \"assistance\", \"assistance\", \"atmosphere\", \"atmosphere\", \"atmosphere\", \"atmosphere\", \"atmosphere\", \"atmosphere\", \"atmosphere\", \"atmosphere\", \"atmosphere\", \"atmosphere\", \"attentive\", \"attentive\", \"attentive\", \"attentive\", \"attentive\", \"attentive\", \"attentive\", \"attentive\", \"attentive\", \"attentive\", \"audio\", \"audio\", \"audio\", \"audio\", \"audio\", \"audio\", \"audio\", \"audio\", \"audio\", \"audio\", \"auto\", \"auto\", \"auto\", \"auto\", \"auto\", \"auto\", \"auto\", \"auto\", \"auto\", \"auto\", \"away\", \"away\", \"away\", \"away\", \"away\", \"away\", \"away\", \"away\", \"away\", \"away\", \"awe\", \"awe\", \"awe\", \"awe\", \"awe\", \"awe\", \"awe\", \"awe\", \"awe\", \"awe\", \"awesome\", \"awesome\", \"awesome\", \"awesome\", \"awesome\", \"awesome\", \"awesome\", \"awesome\", \"awesome\", \"awesome\", \"bachelorette\", \"bachelorette\", \"bachelorette\", \"bachelorette\", \"bachelorette\", \"bachelorette\", \"bachelorette\", \"bachelorette\", \"bachelorette\", \"bachelorette\", \"bad\", \"bad\", \"bad\", \"bad\", \"bad\", \"bad\", \"bad\", \"bad\", \"bad\", \"bad\", \"baggage\", \"baggage\", \"baggage\", \"baggage\", \"baggage\", \"baggage\", \"baggage\", \"baggage\", \"bank\", \"bank\", \"bank\", \"bank\", \"bank\", \"bank\", \"bank\", \"bank\", \"bank\", \"bank\", \"bar\", \"bar\", \"bar\", \"bar\", \"bar\", \"bar\", \"bar\", \"bar\", \"bar\", \"bar\", \"barbara\", \"barbara\", \"barbara\", \"barbara\", \"barbara\", \"barbara\", \"barbara\", \"barbara\", \"barbecue\", \"barbecue\", \"barbecue\", \"barbecue\", \"barbecue\", \"barbecue\", \"barbecue\", \"barbecue\", \"barbecue\", \"barbecue\", \"basics\", \"basics\", \"basics\", \"basics\", \"basics\", \"basics\", \"basics\", \"basics\", \"basics\", \"basics\", \"baskets\", \"baskets\", \"baskets\", \"baskets\", \"baskets\", \"baskets\", \"baskets\", \"baskets\", \"baskets\", \"beef\", \"beef\", \"beef\", \"beef\", \"beef\", \"beef\", \"beef\", \"beef\", \"beef\", \"beef\", \"beginner\", \"beginner\", \"beginner\", \"beginner\", \"beginner\", \"beginner\", \"beginner\", \"best\", \"best\", \"best\", \"best\", \"best\", \"best\", \"best\", \"best\", \"best\", \"best\", \"better\", \"better\", \"better\", \"better\", \"better\", \"better\", \"better\", \"better\", \"better\", \"better\", \"billing\", \"billing\", \"billing\", \"billing\", \"billing\", \"billing\", \"billing\", \"billing\", \"billing\", \"billing\", \"biryani\", \"biryani\", \"biryani\", \"biryani\", \"biryani\", \"biryani\", \"biryani\", \"biryani\", \"biryani\", \"biryani\", \"bit\", \"bit\", \"bit\", \"bit\", \"bit\", \"bit\", \"bit\", \"bit\", \"bit\", \"bit\", \"bland\", \"bland\", \"bland\", \"bland\", \"bland\", \"bland\", \"bland\", \"bland\", \"bland\", \"bland\", \"blueberries\", \"blueberries\", \"blueberries\", \"blueberries\", \"blueberries\", \"blueberries\", \"blueberries\", \"blueberries\", \"blueberries\", \"blueberries\", \"bonne\", \"bonne\", \"bonne\", \"bonne\", \"bonne\", \"bonne\", \"bonne\", \"bonne\", \"bonne\", \"bonne\", \"born\", \"born\", \"born\", \"born\", \"born\", \"born\", \"born\", \"born\", \"born\", \"born\", \"bouncy\", \"bouncy\", \"bouncy\", \"bouncy\", \"bouncy\", \"bouncy\", \"bouncy\", \"breakfast\", \"breakfast\", \"breakfast\", \"breakfast\", \"breakfast\", \"breakfast\", \"breakfast\", \"breakfast\", \"breakfast\", \"breakfast\", \"breakfasts\", \"breakfasts\", \"breakfasts\", \"breakfasts\", \"breakfasts\", \"breakfasts\", \"breakfasts\", \"breakfasts\", \"breakfasts\", \"breakfasts\", \"bridge\", \"bridge\", \"bridge\", \"bridge\", \"bridge\", \"bridge\", \"bridge\", \"bridge\", \"bridge\", \"bridge\", \"broke\", \"broke\", \"broke\", \"broke\", \"broke\", \"broke\", \"broke\", \"broke\", \"broke\", \"broke\", \"broken\", \"broken\", \"broken\", \"broken\", \"broken\", \"broken\", \"broken\", \"broken\", \"broken\", \"broken\", \"brooklyn\", \"brooklyn\", \"brooklyn\", \"brooklyn\", \"brooklyn\", \"brooklyn\", \"brooklyn\", \"brooklyn\", \"brooklyn\", \"broth\", \"broth\", \"broth\", \"broth\", \"broth\", \"broth\", \"broth\", \"broth\", \"broth\", \"broth\", \"brother\", \"brother\", \"brother\", \"brother\", \"brother\", \"brother\", \"brother\", \"brother\", \"brother\", \"brother\", \"browns\", \"browns\", \"browns\", \"browns\", \"browns\", \"browns\", \"browns\", \"browns\", \"browns\", \"browns\", \"building\", \"building\", \"building\", \"building\", \"building\", \"building\", \"building\", \"building\", \"building\", \"building\", \"burger\", \"burger\", \"burger\", \"burger\", \"burger\", \"burger\", \"burger\", \"burger\", \"burger\", \"burger\", \"busy\", \"busy\", \"busy\", \"busy\", \"busy\", \"busy\", \"busy\", \"busy\", \"busy\", \"busy\", \"buying\", \"buying\", \"buying\", \"buying\", \"buying\", \"buying\", \"buying\", \"buying\", \"buying\", \"buying\", \"california\", \"california\", \"california\", \"california\", \"california\", \"california\", \"california\", \"california\", \"california\", \"california\", \"called\", \"called\", \"called\", \"called\", \"called\", \"called\", \"called\", \"called\", \"called\", \"called\", \"came\", \"came\", \"came\", \"came\", \"came\", \"came\", \"came\", \"came\", \"came\", \"came\", \"canned\", \"canned\", \"canned\", \"canned\", \"canned\", \"canned\", \"canned\", \"canned\", \"canned\", \"canned\", \"capacity\", \"capacity\", \"capacity\", \"capacity\", \"capacity\", \"capacity\", \"capacity\", \"capacity\", \"capacity\", \"capacity\", \"capitol\", \"capitol\", \"capitol\", \"capitol\", \"capitol\", \"capitol\", \"capitol\", \"capitol\", \"capitol\", \"capitol\", \"car\", \"car\", \"car\", \"car\", \"car\", \"car\", \"car\", \"car\", \"car\", \"car\", \"carbonara\", \"carbonara\", \"carbonara\", \"carbonara\", \"carbonara\", \"carbonara\", \"carbonara\", \"carbonara\", \"carbonara\", \"carbonara\", \"card\", \"card\", \"card\", \"card\", \"card\", \"card\", \"card\", \"card\", \"card\", \"card\", \"carolina\", \"carolina\", \"carolina\", \"carolina\", \"carolina\", \"carolina\", \"carolina\", \"carolina\", \"carolina\", \"carolina\", \"carpaccio\", \"carpaccio\", \"carpaccio\", \"carpaccio\", \"carpaccio\", \"carpaccio\", \"carpaccio\", \"carpaccio\", \"carpaccio\", \"carried\", \"carried\", \"carried\", \"carried\", \"carried\", \"carried\", \"carried\", \"carried\", \"carried\", \"carried\", \"centennial\", \"centennial\", \"centennial\", \"centennial\", \"centennial\", \"centennial\", \"centennial\", \"centennial\", \"centennial\", \"centennial\", \"central\", \"central\", \"central\", \"central\", \"central\", \"central\", \"central\", \"central\", \"central\", \"central\", \"challenges\", \"challenges\", \"charged\", \"charged\", \"charged\", \"charged\", \"charged\", \"charged\", \"charged\", \"charged\", \"charged\", \"charged\", \"charleston\", \"charleston\", \"charleston\", \"charleston\", \"charleston\", \"charleston\", \"charleston\", \"checked\", \"checked\", \"checked\", \"checked\", \"checked\", \"checked\", \"checked\", \"checked\", \"checked\", \"checked\", \"cheese\", \"cheese\", \"cheese\", \"cheese\", \"cheese\", \"cheese\", \"cheese\", \"cheese\", \"cheese\", \"cheese\", \"cheque\", \"cheque\", \"cheque\", \"cheque\", \"cheque\", \"cheque\", \"cheque\", \"chicago\", \"chicago\", \"chicago\", \"chicago\", \"chicago\", \"chicago\", \"chicago\", \"chicago\", \"chicago\", \"chicago\", \"chicken\", \"chicken\", \"chicken\", \"chicken\", \"chicken\", \"chicken\", \"chicken\", \"chicken\", \"chicken\", \"chicken\", \"chirashi\", \"chirashi\", \"chirashi\", \"chirashi\", \"chirashi\", \"chirashi\", \"chirashi\", \"chirashi\", \"chirashi\", \"chirashi\", \"chocolate\", \"chocolate\", \"chocolate\", \"chocolate\", \"chocolate\", \"chocolate\", \"chocolate\", \"chocolate\", \"chocolate\", \"chocolate\", \"christopher\", \"christopher\", \"christopher\", \"christopher\", \"christopher\", \"christopher\", \"christopher\", \"clean\", \"clean\", \"clean\", \"clean\", \"clean\", \"clean\", \"clean\", \"clean\", \"clean\", \"clean\", \"cleaners\", \"cleaners\", \"cleaners\", \"cleaners\", \"cleaners\", \"cleaners\", \"cleaners\", \"cleaners\", \"cleaners\", \"cleaners\", \"coats\", \"coats\", \"coats\", \"coats\", \"coats\", \"coats\", \"coats\", \"coats\", \"coats\", \"coats\", \"coco\", \"coco\", \"coco\", \"coco\", \"coco\", \"coco\", \"coco\", \"coco\", \"coco\", \"coffee\", \"coffee\", \"coffee\", \"coffee\", \"coffee\", \"coffee\", \"coffee\", \"coffee\", \"coffee\", \"coffee\", \"coke\", \"coke\", \"coke\", \"coke\", \"coke\", \"coke\", \"coke\", \"coke\", \"coke\", \"coke\", \"cold\", \"cold\", \"cold\", \"cold\", \"cold\", \"cold\", \"cold\", \"cold\", \"cold\", \"cold\", \"collected\", \"collected\", \"collected\", \"collected\", \"collected\", \"collected\", \"collected\", \"combination\", \"combination\", \"combination\", \"combination\", \"combination\", \"combination\", \"combination\", \"combination\", \"combination\", \"combination\", \"come\", \"come\", \"come\", \"come\", \"come\", \"come\", \"come\", \"come\", \"come\", \"come\", \"coming\", \"coming\", \"coming\", \"coming\", \"coming\", \"coming\", \"coming\", \"coming\", \"coming\", \"coming\", \"company\", \"company\", \"company\", \"company\", \"company\", \"company\", \"company\", \"company\", \"company\", \"company\", \"compensation\", \"compensation\", \"compensation\", \"compensation\", \"compensation\", \"compensation\", \"cones\", \"cones\", \"cones\", \"cones\", \"cones\", \"cones\", \"cones\", \"cones\", \"cones\", \"cones\", \"consultation\", \"consultation\", \"consultation\", \"consultation\", \"consultation\", \"consultation\", \"consultation\", \"consultation\", \"consultation\", \"consultation\", \"cowboy\", \"cowboy\", \"cowboy\", \"cowboy\", \"cowboy\", \"cowboy\", \"cowboy\", \"cowboy\", \"cowboy\", \"cowboy\", \"cox\", \"cox\", \"cox\", \"cox\", \"cox\", \"cox\", \"cox\", \"cox\", \"cox\", \"cox\", \"cozy\", \"cozy\", \"cozy\", \"cozy\", \"cozy\", \"cozy\", \"cozy\", \"cozy\", \"cozy\", \"cozy\", \"craig\", \"craig\", \"craig\", \"craig\", \"craig\", \"craig\", \"craig\", \"craig\", \"craig\", \"craig\", \"cream\", \"cream\", \"cream\", \"cream\", \"cream\", \"cream\", \"cream\", \"cream\", \"cream\", \"cream\", \"create\", \"create\", \"create\", \"create\", \"create\", \"create\", \"create\", \"create\", \"create\", \"create\", \"creative\", \"creative\", \"creative\", \"creative\", \"creative\", \"creative\", \"creative\", \"creative\", \"creative\", \"creative\", \"crust\", \"crust\", \"crust\", \"crust\", \"crust\", \"crust\", \"crust\", \"crust\", \"crust\", \"crust\", \"cupcakes\", \"cupcakes\", \"cupcakes\", \"cupcakes\", \"cupcakes\", \"cupcakes\", \"cupcakes\", \"cupcakes\", \"cupcakes\", \"cupcakes\", \"cure\", \"cure\", \"cure\", \"cure\", \"cure\", \"cure\", \"cure\", \"cure\", \"cure\", \"curly\", \"curly\", \"curly\", \"curly\", \"curly\", \"curly\", \"curly\", \"curly\", \"curly\", \"curly\", \"customer\", \"customer\", \"customer\", \"customer\", \"customer\", \"customer\", \"customer\", \"customer\", \"customer\", \"customer\", \"cut\", \"cut\", \"cut\", \"cut\", \"cut\", \"cut\", \"cut\", \"cut\", \"cut\", \"cut\", \"cutest\", \"cutest\", \"cutest\", \"cutest\", \"cutest\", \"cutest\", \"cutest\", \"cutest\", \"cutest\", \"cutest\", \"cutter\", \"cutter\", \"cutter\", \"cutter\", \"cutter\", \"cutter\", \"cutter\", \"cutter\", \"cutter\", \"cutter\", \"damage\", \"damage\", \"damage\", \"damage\", \"damage\", \"damage\", \"damage\", \"damage\", \"damage\", \"damage\", \"dance\", \"dance\", \"dance\", \"dance\", \"dance\", \"dance\", \"dance\", \"dance\", \"dance\", \"dance\", \"daniel\", \"daniel\", \"daniel\", \"daniel\", \"daniel\", \"daniel\", \"daniel\", \"daniel\", \"daniel\", \"daniel\", \"dank\", \"dank\", \"dank\", \"dank\", \"dank\", \"dank\", \"dank\", \"dank\", \"dank\", \"dank\", \"dans\", \"dans\", \"dans\", \"dans\", \"dans\", \"dans\", \"dans\", \"dans\", \"dans\", \"dans\", \"data\", \"data\", \"data\", \"data\", \"data\", \"data\", \"data\", \"data\", \"data\", \"data\", \"day\", \"day\", \"day\", \"day\", \"day\", \"day\", \"day\", \"day\", \"day\", \"day\", \"dear\", \"dear\", \"dear\", \"dear\", \"dear\", \"dear\", \"dear\", \"dear\", \"dear\", \"dear\", \"decent\", \"decent\", \"decent\", \"decent\", \"decent\", \"decent\", \"decent\", \"decent\", \"decent\", \"decent\", \"deck\", \"deck\", \"deck\", \"deck\", \"deck\", \"deck\", \"deck\", \"deck\", \"deck\", \"deck\", \"definitely\", \"definitely\", \"definitely\", \"definitely\", \"definitely\", \"definitely\", \"definitely\", \"definitely\", \"definitely\", \"definitely\", \"delicious\", \"delicious\", \"delicious\", \"delicious\", \"delicious\", \"delicious\", \"delicious\", \"delicious\", \"delicious\", \"delicious\", \"dental\", \"dental\", \"dental\", \"dental\", \"dental\", \"dental\", \"dental\", \"dental\", \"dental\", \"dental\", \"dentist\", \"dentist\", \"dentist\", \"dentist\", \"dentist\", \"dentist\", \"dentist\", \"dentist\", \"dentist\", \"dentist\", \"dessert\", \"dessert\", \"dessert\", \"dessert\", \"dessert\", \"dessert\", \"dessert\", \"dessert\", \"dessert\", \"dessert\", \"detailed\", \"detailed\", \"detailed\", \"detailed\", \"detailed\", \"detailed\", \"detailed\", \"detailed\", \"detailed\", \"detailed\", \"diced\", \"diced\", \"diced\", \"diced\", \"diced\", \"diced\", \"diced\", \"diced\", \"diced\", \"diced\", \"die\", \"die\", \"die\", \"die\", \"die\", \"die\", \"die\", \"die\", \"die\", \"die\", \"differently\", \"differently\", \"differently\", \"differently\", \"differently\", \"differently\", \"differently\", \"differently\", \"differently\", \"differently\", \"dinner\", \"dinner\", \"dinner\", \"dinner\", \"dinner\", \"dinner\", \"dinner\", \"dinner\", \"dinner\", \"dinner\", \"dinning\", \"dinning\", \"dinning\", \"dinning\", \"dinning\", \"dinning\", \"dinning\", \"dinning\", \"dinning\", \"dinning\", \"disappointed\", \"disappointed\", \"disappointed\", \"disappointed\", \"disappointed\", \"disappointed\", \"disappointed\", \"disappointed\", \"disappointed\", \"disappointed\", \"disappoints\", \"disappoints\", \"disappoints\", \"disappoints\", \"disappoints\", \"disappoints\", \"disappoints\", \"disappoints\", \"disappoints\", \"disappoints\", \"disaster\", \"disaster\", \"disaster\", \"disaster\", \"disaster\", \"disaster\", \"disaster\", \"disaster\", \"disaster\", \"disaster\", \"discounted\", \"discounted\", \"discounted\", \"discounted\", \"discounted\", \"discounted\", \"discounted\", \"discounted\", \"discounted\", \"discounted\", \"dish\", \"dish\", \"dish\", \"dish\", \"dish\", \"dish\", \"dish\", \"dish\", \"dish\", \"dish\", \"dishes\", \"dishes\", \"dishes\", \"dishes\", \"dishes\", \"dishes\", \"dishes\", \"dishes\", \"dishes\", \"dishes\", \"dogs\", \"dogs\", \"dogs\", \"dogs\", \"dogs\", \"dogs\", \"dogs\", \"dogs\", \"dogs\", \"dogs\", \"dollars\", \"dollars\", \"dollars\", \"dollars\", \"dollars\", \"dollars\", \"dollars\", \"dollars\", \"dollars\", \"dollars\", \"donuts\", \"donuts\", \"donuts\", \"donuts\", \"donuts\", \"donuts\", \"donuts\", \"donuts\", \"donuts\", \"donuts\", \"downfall\", \"downfall\", \"downfall\", \"downfall\", \"downfall\", \"downfall\", \"downfall\", \"downfall\", \"downfall\", \"downfall\", \"drafts\", \"drafts\", \"drafts\", \"drafts\", \"drinks\", \"drinks\", \"drinks\", \"drinks\", \"drinks\", \"drinks\", \"drinks\", \"drinks\", \"drinks\", \"drinks\", \"drip\", \"eat\", \"eat\", \"eat\", \"eat\", \"eat\", \"eat\", \"eat\", \"eat\", \"eat\", \"eat\", \"egg\", \"egg\", \"egg\", \"egg\", \"egg\", \"egg\", \"egg\", \"egg\", \"egg\", \"egg\", \"emergency\", \"emergency\", \"emergency\", \"emergency\", \"emergency\", \"emergency\", \"emergency\", \"emergency\", \"emergency\", \"emergency\", \"empanada\", \"empanada\", \"empanada\", \"empanada\", \"empanada\", \"empanada\", \"empanada\", \"employee\", \"employee\", \"employee\", \"employee\", \"employee\", \"employee\", \"employee\", \"employee\", \"employee\", \"employee\", \"ensuring\", \"ensuring\", \"ensuring\", \"ensuring\", \"ensuring\", \"ensuring\", \"ensuring\", \"ensuring\", \"ensuring\", \"environment\", \"environment\", \"environment\", \"environment\", \"environment\", \"environment\", \"environment\", \"environment\", \"environment\", \"environment\", \"especially\", \"especially\", \"especially\", \"especially\", \"especially\", \"especially\", \"especially\", \"especially\", \"especially\", \"especially\", \"estate\", \"estate\", \"estate\", \"estate\", \"estate\", \"estate\", \"estate\", \"estate\", \"estate\", \"estate\", \"excellent\", \"excellent\", \"excellent\", \"excellent\", \"excellent\", \"excellent\", \"excellent\", \"excellent\", \"excellent\", \"excellent\", \"exist\", \"exist\", \"exist\", \"exist\", \"exist\", \"exist\", \"exist\", \"exist\", \"experience\", \"experience\", \"experience\", \"experience\", \"experience\", \"experience\", \"experience\", \"experience\", \"experience\", \"experience\", \"extremely\", \"extremely\", \"extremely\", \"extremely\", \"extremely\", \"extremely\", \"extremely\", \"extremely\", \"extremely\", \"extremely\", \"eyebrow\", \"eyebrow\", \"eyebrow\", \"eyebrow\", \"eyebrow\", \"eyebrow\", \"eyebrow\", \"eyebrow\", \"eyebrow\", \"eyebrow\", \"fact\", \"fact\", \"fact\", \"fact\", \"fact\", \"fact\", \"fact\", \"fact\", \"fact\", \"fact\", \"fades\", \"fades\", \"fades\", \"fades\", \"fades\", \"fades\", \"fades\", \"fail\", \"fail\", \"fail\", \"fail\", \"fail\", \"fail\", \"fail\", \"fail\", \"fail\", \"fail\", \"family\", \"family\", \"family\", \"family\", \"family\", \"family\", \"family\", \"family\", \"family\", \"family\", \"fast\", \"fast\", \"fast\", \"fast\", \"fast\", \"fast\", \"fast\", \"fast\", \"fast\", \"fast\", \"faucet\", \"faucet\", \"faucet\", \"faucet\", \"faucet\", \"faucet\", \"faucet\", \"favorite\", \"favorite\", \"favorite\", \"favorite\", \"favorite\", \"favorite\", \"favorite\", \"favorite\", \"favorite\", \"favorite\", \"feel\", \"feel\", \"feel\", \"feel\", \"feel\", \"feel\", \"feel\", \"feel\", \"feel\", \"feel\", \"felt\", \"felt\", \"felt\", \"felt\", \"felt\", \"felt\", \"felt\", \"felt\", \"felt\", \"felt\", \"field\", \"field\", \"field\", \"field\", \"field\", \"field\", \"field\", \"field\", \"field\", \"field\", \"figured\", \"figured\", \"figured\", \"figured\", \"figured\", \"figured\", \"figured\", \"figured\", \"figured\", \"figured\", \"fired\", \"fired\", \"fired\", \"fired\", \"fired\", \"fired\", \"fired\", \"fired\", \"fired\", \"fired\", \"fixings\", \"fixings\", \"fixings\", \"fixings\", \"fixings\", \"fixings\", \"fixings\", \"flavor\", \"flavor\", \"flavor\", \"flavor\", \"flavor\", \"flavor\", \"flavor\", \"flavor\", \"flavor\", \"flavor\", \"flavors\", \"flavors\", \"flavors\", \"flavors\", \"flavors\", \"flavors\", \"flavors\", \"flavors\", \"flavors\", \"flavors\", \"flawless\", \"flawless\", \"flawless\", \"flawless\", \"flawless\", \"flawless\", \"flawless\", \"flawless\", \"flawless\", \"flawless\", \"flies\", \"flies\", \"flies\", \"flies\", \"flies\", \"flies\", \"flies\", \"flies\", \"flies\", \"flies\", \"flower\", \"flower\", \"flower\", \"flower\", \"flower\", \"flower\", \"flower\", \"flower\", \"flower\", \"flower\", \"fluid\", \"fluid\", \"fluid\", \"fluid\", \"fluid\", \"fluid\", \"fluid\", \"fluid\", \"fluid\", \"fluid\", \"foie\", \"foie\", \"foie\", \"foie\", \"foie\", \"foie\", \"foie\", \"foie\", \"foie\", \"foie\", \"food\", \"food\", \"food\", \"food\", \"food\", \"food\", \"food\", \"food\", \"food\", \"food\", \"forward\", \"forward\", \"forward\", \"forward\", \"forward\", \"forward\", \"forward\", \"forward\", \"forward\", \"forward\", \"fountain\", \"fountain\", \"fountain\", \"fountain\", \"fountain\", \"fountain\", \"fountain\", \"fountain\", \"fountain\", \"fountain\", \"frames\", \"frames\", \"frames\", \"frames\", \"frames\", \"frames\", \"frames\", \"frames\", \"frames\", \"frames\", \"fraud\", \"fraud\", \"fraud\", \"fraud\", \"fraud\", \"fraud\", \"fraud\", \"fraud\", \"fraud\", \"fraud\", \"free\", \"free\", \"free\", \"free\", \"free\", \"free\", \"free\", \"free\", \"free\", \"free\", \"fresh\", \"fresh\", \"fresh\", \"fresh\", \"fresh\", \"fresh\", \"fresh\", \"fresh\", \"fresh\", \"fresh\", \"fried\", \"fried\", \"fried\", \"fried\", \"fried\", \"fried\", \"fried\", \"fried\", \"fried\", \"fried\", \"friend\", \"friend\", \"friend\", \"friend\", \"friend\", \"friend\", \"friend\", \"friend\", \"friend\", \"friend\", \"friendly\", \"friendly\", \"friendly\", \"friendly\", \"friendly\", \"friendly\", \"friendly\", \"friendly\", \"friendly\", \"friendly\", \"friends\", \"friends\", \"friends\", \"friends\", \"friends\", \"friends\", \"friends\", \"friends\", \"friends\", \"friends\", \"fries\", \"fries\", \"fries\", \"fries\", \"fries\", \"fries\", \"fries\", \"fries\", \"fries\", \"fries\", \"frozen\", \"frozen\", \"frozen\", \"frozen\", \"frozen\", \"frozen\", \"frozen\", \"frozen\", \"frozen\", \"frozen\", \"fryer\", \"fryer\", \"fryer\", \"fryer\", \"fryer\", \"fryer\", \"fryer\", \"fryer\", \"fryer\", \"fryer\", \"fun\", \"fun\", \"fun\", \"fun\", \"fun\", \"fun\", \"fun\", \"fun\", \"fun\", \"fun\", \"ganoush\", \"ganoush\", \"ganoush\", \"ganoush\", \"ganoush\", \"ganoush\", \"ganoush\", \"ganoush\", \"ganoush\", \"ganoush\", \"gave\", \"gave\", \"gave\", \"gave\", \"gave\", \"gave\", \"gave\", \"gave\", \"gave\", \"gave\", \"gentleman\", \"gentleman\", \"gentleman\", \"gentleman\", \"gentleman\", \"gentleman\", \"gentleman\", \"gentleman\", \"gentleman\", \"gentleman\", \"ghetto\", \"ghetto\", \"ghetto\", \"ghetto\", \"ghetto\", \"ghetto\", \"ghetto\", \"ghetto\", \"girl\", \"girl\", \"girl\", \"girl\", \"girl\", \"girl\", \"girl\", \"girl\", \"girl\", \"girl\", \"glow\", \"glow\", \"glow\", \"glow\", \"glow\", \"glow\", \"glow\", \"glow\", \"glow\", \"glow\", \"going\", \"going\", \"going\", \"going\", \"going\", \"going\", \"going\", \"going\", \"going\", \"going\", \"good\", \"good\", \"good\", \"good\", \"good\", \"good\", \"good\", \"good\", \"good\", \"good\", \"got\", \"got\", \"got\", \"got\", \"got\", \"got\", \"got\", \"got\", \"got\", \"got\", \"gracious\", \"gracious\", \"gracious\", \"gracious\", \"gracious\", \"gracious\", \"gracious\", \"gracious\", \"gracious\", \"gracious\", \"great\", \"great\", \"great\", \"great\", \"great\", \"great\", \"great\", \"great\", \"great\", \"great\", \"greater\", \"greater\", \"greater\", \"greater\", \"greater\", \"greater\", \"greater\", \"greater\", \"greater\", \"green\", \"green\", \"green\", \"green\", \"green\", \"green\", \"green\", \"green\", \"green\", \"green\", \"grilled\", \"grilled\", \"grilled\", \"grilled\", \"grilled\", \"grilled\", \"grilled\", \"grilled\", \"grilled\", \"grilled\", \"groomed\", \"groomed\", \"groomed\", \"groomed\", \"groomed\", \"groomed\", \"groomed\", \"groomed\", \"groomed\", \"gta\", \"gta\", \"gta\", \"gta\", \"gta\", \"gta\", \"gta\", \"gta\", \"gta\", \"gta\", \"guarantee\", \"guarantee\", \"guarantee\", \"guarantee\", \"guarantee\", \"guarantee\", \"guarantee\", \"guarantee\", \"guarantee\", \"guarantee\", \"guns\", \"guns\", \"guns\", \"guns\", \"guns\", \"guns\", \"guns\", \"guy\", \"guy\", \"guy\", \"guy\", \"guy\", \"guy\", \"guy\", \"guy\", \"guy\", \"guy\", \"hair\", \"hair\", \"hair\", \"hair\", \"hair\", \"hair\", \"hair\", \"hair\", \"hair\", \"hair\", \"halo\", \"halo\", \"halo\", \"halo\", \"halo\", \"halo\", \"halo\", \"hangover\", \"hangover\", \"hangover\", \"hangover\", \"hangover\", \"hangover\", \"hangover\", \"hangover\", \"hangover\", \"hangover\", \"happy\", \"happy\", \"happy\", \"happy\", \"happy\", \"happy\", \"happy\", \"happy\", \"happy\", \"happy\", \"hashbrowns\", \"hashbrowns\", \"heather\", \"heather\", \"heather\", \"heather\", \"heather\", \"heather\", \"heather\", \"heather\", \"helpful\", \"helpful\", \"helpful\", \"helpful\", \"helpful\", \"helpful\", \"helpful\", \"helpful\", \"helpful\", \"helpful\", \"highly\", \"highly\", \"highly\", \"highly\", \"highly\", \"highly\", \"highly\", \"highly\", \"highly\", \"highly\", \"hockey\", \"hockey\", \"hockey\", \"hockey\", \"hockey\", \"hockey\", \"hockey\", \"hockey\", \"hockey\", \"hockey\", \"holders\", \"holders\", \"holders\", \"holders\", \"holders\", \"holders\", \"holders\", \"hole\", \"hole\", \"hole\", \"hole\", \"hole\", \"hole\", \"hole\", \"hole\", \"hole\", \"hole\", \"home\", \"home\", \"home\", \"home\", \"home\", \"home\", \"home\", \"home\", \"home\", \"home\", \"homemade\", \"homemade\", \"homemade\", \"homemade\", \"homemade\", \"homemade\", \"homemade\", \"homemade\", \"homemade\", \"homemade\", \"hope\", \"hope\", \"hope\", \"hope\", \"hope\", \"hope\", \"hope\", \"hope\", \"hope\", \"hope\", \"hospitable\", \"hospitable\", \"hospitable\", \"hospitable\", \"hospitable\", \"hospitable\", \"hospitable\", \"hotel\", \"hotel\", \"hotel\", \"hotel\", \"hotel\", \"hotel\", \"hotel\", \"hotel\", \"hotel\", \"hotel\", \"hotter\", \"hotter\", \"hotter\", \"hotter\", \"hotter\", \"hotter\", \"hotter\", \"hotter\", \"hotter\", \"hotter\", \"hour\", \"hour\", \"hour\", \"hour\", \"hour\", \"hour\", \"hour\", \"hour\", \"hour\", \"hour\", \"hours\", \"hours\", \"hours\", \"hours\", \"hours\", \"hours\", \"hours\", \"hours\", \"hours\", \"hours\", \"hungry\", \"hungry\", \"hungry\", \"hungry\", \"hungry\", \"hungry\", \"hungry\", \"hungry\", \"hungry\", \"hungry\", \"ian\", \"ian\", \"ian\", \"ian\", \"ian\", \"ian\", \"ian\", \"ian\", \"ian\", \"ian\", \"id\", \"id\", \"id\", \"id\", \"id\", \"id\", \"id\", \"id\", \"id\", \"id\", \"ideas\", \"ideas\", \"ideas\", \"ideas\", \"ideas\", \"ideas\", \"ideas\", \"ideas\", \"ideas\", \"ideas\", \"infused\", \"infused\", \"infused\", \"infused\", \"infused\", \"infused\", \"infused\", \"infused\", \"infused\", \"infused\", \"initially\", \"initially\", \"initially\", \"initially\", \"initially\", \"initially\", \"initially\", \"initially\", \"initially\", \"initially\", \"inside\", \"inside\", \"inside\", \"inside\", \"inside\", \"inside\", \"inside\", \"inside\", \"inside\", \"inside\", \"installed\", \"installed\", \"installed\", \"installed\", \"installed\", \"installed\", \"installed\", \"installed\", \"installed\", \"installed\", \"instruments\", \"instruments\", \"instruments\", \"instruments\", \"instruments\", \"instruments\", \"instruments\", \"instruments\", \"interactive\", \"interactive\", \"interactive\", \"interactive\", \"interactive\", \"interactive\", \"interactive\", \"interactive\", \"interactive\", \"interactive\", \"italian\", \"italian\", \"italian\", \"italian\", \"italian\", \"italian\", \"italian\", \"italian\", \"italian\", \"italian\", \"jake\", \"jake\", \"jake\", \"jake\", \"jake\", \"jar\", \"jar\", \"jar\", \"jar\", \"jar\", \"jar\", \"jar\", \"jar\", \"jar\", \"jar\", \"jimmy\", \"jimmy\", \"jimmy\", \"jimmy\", \"jimmy\", \"jimmy\", \"jimmy\", \"jimmy\", \"jimmy\", \"jimmy\", \"joe\", \"joe\", \"joe\", \"joe\", \"joe\", \"joe\", \"joe\", \"joe\", \"joe\", \"joe\", \"johnny\", \"johnny\", \"johnny\", \"johnny\", \"johnny\", \"johnny\", \"johnny\", \"johnny\", \"johnny\", \"johnny\", \"jon\", \"jon\", \"jon\", \"jon\", \"jon\", \"jon\", \"jon\", \"jon\", \"jon\", \"kabobs\", \"kabobs\", \"kabobs\", \"kabobs\", \"kabobs\", \"kabobs\", \"kabobs\", \"kabobs\", \"kabobs\", \"kabobs\", \"kids\", \"kids\", \"kids\", \"kids\", \"kids\", \"kids\", \"kids\", \"kids\", \"kids\", \"kids\", \"killer\", \"killer\", \"killer\", \"killer\", \"killer\", \"killer\", \"killer\", \"killer\", \"killer\", \"killer\", \"kind\", \"kind\", \"kind\", \"kind\", \"kind\", \"kind\", \"kind\", \"kind\", \"kind\", \"kind\", \"kitchen\", \"kitchen\", \"kitchen\", \"kitchen\", \"kitchen\", \"kitchen\", \"kitchen\", \"kitchen\", \"kitchen\", \"kitchen\", \"knife\", \"knife\", \"knife\", \"knife\", \"knife\", \"knife\", \"knife\", \"knife\", \"knife\", \"knife\", \"know\", \"know\", \"know\", \"know\", \"know\", \"know\", \"know\", \"know\", \"know\", \"know\", \"lanes\", \"lanes\", \"lanes\", \"lanes\", \"lanes\", \"lanes\", \"lanes\", \"lanes\", \"lanes\", \"lanes\", \"larry\", \"larry\", \"larry\", \"larry\", \"larry\", \"larry\", \"larry\", \"larry\", \"larry\", \"larry\", \"lauren\", \"lauren\", \"lauren\", \"lauren\", \"lauren\", \"lauren\", \"lauren\", \"lauren\", \"leaving\", \"leaving\", \"leaving\", \"leaving\", \"leaving\", \"leaving\", \"leaving\", \"leaving\", \"leaving\", \"leaving\", \"lemonade\", \"lemonade\", \"lemonade\", \"lemonade\", \"lemonade\", \"lemonade\", \"lemonade\", \"lemonade\", \"lemonade\", \"lemonade\", \"lengthy\", \"lengthy\", \"lengthy\", \"lengthy\", \"lengthy\", \"lengthy\", \"lengthy\", \"lengthy\", \"liberty\", \"liberty\", \"liberty\", \"liberty\", \"liberty\", \"liberty\", \"liberty\", \"library\", \"library\", \"library\", \"library\", \"library\", \"library\", \"library\", \"library\", \"library\", \"library\", \"like\", \"like\", \"like\", \"like\", \"like\", \"like\", \"like\", \"like\", \"like\", \"like\", \"linguine\", \"linguine\", \"linguine\", \"linguine\", \"linguine\", \"linguine\", \"linguine\", \"linguine\", \"linguine\", \"little\", \"little\", \"little\", \"little\", \"little\", \"little\", \"little\", \"little\", \"little\", \"little\", \"lively\", \"lively\", \"lively\", \"lively\", \"lively\", \"lively\", \"lively\", \"lively\", \"lively\", \"lively\", \"ll\", \"ll\", \"ll\", \"ll\", \"ll\", \"ll\", \"ll\", \"ll\", \"ll\", \"ll\", \"lo\", \"lo\", \"lo\", \"lo\", \"lo\", \"lo\", \"lo\", \"lo\", \"lo\", \"lo\", \"loan\", \"loan\", \"loan\", \"loan\", \"loan\", \"loan\", \"loan\", \"loan\", \"loan\", \"loan\", \"location\", \"location\", \"location\", \"location\", \"location\", \"location\", \"location\", \"location\", \"location\", \"location\", \"long\", \"long\", \"long\", \"long\", \"long\", \"long\", \"long\", \"long\", \"long\", \"long\", \"looking\", \"looking\", \"looking\", \"looking\", \"looking\", \"looking\", \"looking\", \"looking\", \"looking\", \"looking\", \"loosing\", \"loosing\", \"loosing\", \"loosing\", \"loosing\", \"loosing\", \"loosing\", \"loosing\", \"lot\", \"lot\", \"lot\", \"lot\", \"lot\", \"lot\", \"lot\", \"lot\", \"lot\", \"lot\", \"love\", \"love\", \"love\", \"love\", \"love\", \"love\", \"love\", \"love\", \"love\", \"love\", \"lunch\", \"lunch\", \"lunch\", \"lunch\", \"lunch\", \"lunch\", \"lunch\", \"lunch\", \"lunch\", \"lunch\", \"mac\", \"mac\", \"mac\", \"mac\", \"mac\", \"mac\", \"mac\", \"mac\", \"mac\", \"mac\", \"machines\", \"machines\", \"machines\", \"machines\", \"machines\", \"machines\", \"machines\", \"machines\", \"machines\", \"machines\", \"maki\", \"maki\", \"maki\", \"maki\", \"maki\", \"maki\", \"maki\", \"maki\", \"maki\", \"maki\", \"mandarin\", \"mandarin\", \"mandarin\", \"mandarin\", \"mandarin\", \"mandarin\", \"mandarin\", \"mandarin\", \"mandarin\", \"mandarin\", \"markham\", \"markham\", \"markham\", \"markham\", \"markham\", \"markham\", \"markham\", \"markham\", \"markham\", \"markham\", \"marshmallows\", \"marshmallows\", \"marshmallows\", \"marshmallows\", \"marshmallows\", \"marshmallows\", \"marshmallows\", \"marshmallows\", \"marshmallows\", \"marshmallows\", \"materials\", \"materials\", \"materials\", \"materials\", \"materials\", \"materials\", \"materials\", \"materials\", \"mattress\", \"mattress\", \"mattress\", \"mattress\", \"mattress\", \"mattress\", \"mattress\", \"mattress\", \"mattress\", \"mattress\", \"meal\", \"meal\", \"meal\", \"meal\", \"meal\", \"meal\", \"meal\", \"meal\", \"meal\", \"meal\", \"meat\", \"meat\", \"meat\", \"meat\", \"meat\", \"meat\", \"meat\", \"meat\", \"meat\", \"meat\", \"meatloaf\", \"meatloaf\", \"meatloaf\", \"meatloaf\", \"meatloaf\", \"meatloaf\", \"meatloaf\", \"meatloaf\", \"meatloaf\", \"meatloaf\", \"mechanics\", \"mechanics\", \"mechanics\", \"mechanics\", \"mechanics\", \"mechanics\", \"mechanics\", \"mechanics\", \"mechanics\", \"mechanics\", \"meets\", \"meets\", \"meets\", \"meets\", \"meets\", \"meets\", \"meets\", \"meets\", \"meets\", \"meets\", \"melts\", \"melts\", \"melts\", \"melts\", \"melts\", \"melts\", \"melts\", \"melts\", \"melts\", \"melts\", \"menu\", \"menu\", \"menu\", \"menu\", \"menu\", \"menu\", \"menu\", \"menu\", \"menu\", \"menu\", \"messy\", \"messy\", \"messy\", \"messy\", \"messy\", \"messy\", \"messy\", \"messy\", \"messy\", \"messy\", \"minutes\", \"minutes\", \"minutes\", \"minutes\", \"minutes\", \"minutes\", \"minutes\", \"minutes\", \"minutes\", \"minutes\", \"mojitos\", \"mojitos\", \"mojitos\", \"mojitos\", \"mojitos\", \"mojitos\", \"mojitos\", \"month\", \"month\", \"month\", \"month\", \"month\", \"month\", \"month\", \"month\", \"month\", \"month\", \"movie\", \"movie\", \"movie\", \"movie\", \"movie\", \"movie\", \"movie\", \"movie\", \"movie\", \"movie\", \"nail\", \"nail\", \"nail\", \"nail\", \"nail\", \"nail\", \"nail\", \"nail\", \"nail\", \"nail\", \"nancy\", \"nancy\", \"nancy\", \"nancy\", \"nancy\", \"nancy\", \"nancy\", \"nancy\", \"nancy\", \"nancy\", \"nate\", \"nate\", \"nate\", \"nate\", \"nate\", \"nate\", \"nate\", \"nate\", \"nate\", \"nate\", \"need\", \"need\", \"need\", \"need\", \"need\", \"need\", \"need\", \"need\", \"need\", \"need\", \"needs\", \"needs\", \"needs\", \"needs\", \"needs\", \"needs\", \"needs\", \"needs\", \"needs\", \"needs\", \"negative\", \"negative\", \"negative\", \"negative\", \"negative\", \"negative\", \"negative\", \"negative\", \"negative\", \"negative\", \"neutral\", \"neutral\", \"neutral\", \"neutral\", \"neutral\", \"neutral\", \"neutral\", \"neutral\", \"new\", \"new\", \"new\", \"new\", \"new\", \"new\", \"new\", \"new\", \"new\", \"new\", \"nice\", \"nice\", \"nice\", \"nice\", \"nice\", \"nice\", \"nice\", \"nice\", \"nice\", \"nice\", \"nicely\", \"nicely\", \"nicely\", \"nicely\", \"nicely\", \"nicely\", \"nicely\", \"nicely\", \"nicely\", \"nicely\", \"night\", \"night\", \"night\", \"night\", \"night\", \"night\", \"night\", \"night\", \"night\", \"night\", \"nirvana\", \"nirvana\", \"nirvana\", \"nirvana\", \"nirvana\", \"nirvana\", \"nirvana\", \"nirvana\", \"nirvana\", \"nirvana\", \"nod\", \"nod\", \"nod\", \"nod\", \"nod\", \"nod\", \"nod\", \"nod\", \"nod\", \"nod\", \"northwest\", \"northwest\", \"northwest\", \"noted\", \"noted\", \"noted\", \"noted\", \"noted\", \"noted\", \"noted\", \"noted\", \"noted\", \"noted\", \"nuggets\", \"nuggets\", \"nuggets\", \"nuggets\", \"nuggets\", \"nuggets\", \"nuggets\", \"nuggets\", \"nuggets\", \"nuggets\", \"occur\", \"occur\", \"occur\", \"occur\", \"occur\", \"old\", \"old\", \"old\", \"old\", \"old\", \"old\", \"old\", \"old\", \"old\", \"old\", \"open\", \"open\", \"open\", \"open\", \"open\", \"open\", \"open\", \"open\", \"open\", \"open\", \"opportunity\", \"opportunity\", \"opportunity\", \"opportunity\", \"opportunity\", \"opportunity\", \"opportunity\", \"opportunity\", \"opportunity\", \"opportunity\", \"order\", \"order\", \"order\", \"order\", \"order\", \"order\", \"order\", \"order\", \"order\", \"order\", \"ordered\", \"ordered\", \"ordered\", \"ordered\", \"ordered\", \"ordered\", \"ordered\", \"ordered\", \"ordered\", \"ordered\", \"oriented\", \"oriented\", \"oriented\", \"oriented\", \"oriented\", \"oriented\", \"oriented\", \"oriented\", \"oriented\", \"oriented\", \"original\", \"original\", \"original\", \"original\", \"original\", \"original\", \"original\", \"original\", \"original\", \"original\", \"orleans\", \"orleans\", \"orleans\", \"orleans\", \"orleans\", \"orleans\", \"orleans\", \"orleans\", \"orleans\", \"orleans\", \"outgoing\", \"outgoing\", \"outgoing\", \"outgoing\", \"outgoing\", \"outgoing\", \"outgoing\", \"outgoing\", \"outgoing\", \"outgoing\", \"overall\", \"overall\", \"overall\", \"overall\", \"overall\", \"overall\", \"overall\", \"overall\", \"overall\", \"overall\", \"overlook\", \"overlook\", \"overlook\", \"overlook\", \"overlook\", \"overlook\", \"overlook\", \"overlook\", \"overlook\", \"overlook\", \"pad\", \"pad\", \"pad\", \"pad\", \"pad\", \"pad\", \"pad\", \"pad\", \"pad\", \"pad\", \"pairs\", \"pairs\", \"pairs\", \"pairs\", \"pairs\", \"pairs\", \"parsley\", \"parsley\", \"parsley\", \"parsley\", \"parsley\", \"parsley\", \"parsley\", \"parsley\", \"parsley\", \"parsley\", \"pastor\", \"pastor\", \"pastor\", \"pastor\", \"pastor\", \"pastor\", \"pastor\", \"pastor\", \"pastor\", \"pastor\", \"patrick\", \"patrick\", \"patrick\", \"patrick\", \"patrick\", \"patrick\", \"patrick\", \"patrick\", \"patrick\", \"patrick\", \"pawn\", \"pawn\", \"pawn\", \"pawn\", \"pawn\", \"pawn\", \"pawn\", \"pawn\", \"pedi\", \"pedi\", \"pedi\", \"pedi\", \"pedi\", \"pedi\", \"pedi\", \"pedi\", \"pedi\", \"pedi\", \"people\", \"people\", \"people\", \"people\", \"people\", \"people\", \"people\", \"people\", \"people\", \"people\", \"perfect\", \"perfect\", \"perfect\", \"perfect\", \"perfect\", \"perfect\", \"perfect\", \"perfect\", \"perfect\", \"perfect\", \"person\", \"person\", \"person\", \"person\", \"person\", \"person\", \"person\", \"person\", \"person\", \"person\", \"pho\", \"pho\", \"pho\", \"pho\", \"pho\", \"pho\", \"pho\", \"pho\", \"pho\", \"pho\", \"phone\", \"phone\", \"phone\", \"phone\", \"phone\", \"phone\", \"phone\", \"phone\", \"phone\", \"phone\", \"photography\", \"photography\", \"photography\", \"photography\", \"photography\", \"photography\", \"photography\", \"photography\", \"photography\", \"photography\", \"piercings\", \"piercings\", \"piercings\", \"piercings\", \"piercings\", \"piercings\", \"piercings\", \"pilot\", \"pilot\", \"pilot\", \"pilot\", \"pilot\", \"pilot\", \"pilot\", \"pilot\", \"pilot\", \"pilot\", \"pittsburgh\", \"pittsburgh\", \"pittsburgh\", \"pittsburgh\", \"pittsburgh\", \"pittsburgh\", \"pittsburgh\", \"pittsburgh\", \"pittsburgh\", \"pittsburgh\", \"pizza\", \"pizza\", \"pizza\", \"pizza\", \"pizza\", \"pizza\", \"pizza\", \"pizza\", \"pizza\", \"pizza\", \"place\", \"place\", \"place\", \"place\", \"place\", \"place\", \"place\", \"place\", \"place\", \"place\", \"plating\", \"plating\", \"plating\", \"plating\", \"plating\", \"plating\", \"plating\", \"plating\", \"plating\", \"plating\", \"plut\\u00f4t\", \"plut\\u00f4t\", \"plut\\u00f4t\", \"plut\\u00f4t\", \"plut\\u00f4t\", \"plut\\u00f4t\", \"plut\\u00f4t\", \"poisoning\", \"poisoning\", \"poisoning\", \"poisoning\", \"poisoning\", \"poisoning\", \"poisoning\", \"poisoning\", \"poisoning\", \"poisoning\", \"poker\", \"poker\", \"poker\", \"poker\", \"poker\", \"poker\", \"poker\", \"poker\", \"poker\", \"poker\", \"ponzu\", \"ponzu\", \"ponzu\", \"ponzu\", \"ponzu\", \"ponzu\", \"ponzu\", \"ponzu\", \"ponzu\", \"ponzu\", \"poppy\", \"poppy\", \"poppy\", \"poppy\", \"poppy\", \"poppy\", \"poppy\", \"poppy\", \"poppy\", \"poppy\", \"pork\", \"pork\", \"pork\", \"pork\", \"pork\", \"pork\", \"pork\", \"pork\", \"pork\", \"pork\", \"poutine\", \"poutine\", \"poutine\", \"poutine\", \"poutine\", \"poutine\", \"poutine\", \"poutine\", \"poutine\", \"poutine\", \"powerful\", \"powerful\", \"powerful\", \"powerful\", \"powerful\", \"powerful\", \"powerful\", \"powerful\", \"powerful\", \"powerful\", \"prefer\", \"prefer\", \"prefer\", \"prefer\", \"prefer\", \"prefer\", \"prefer\", \"prefer\", \"prefer\", \"prefer\", \"presence\", \"presence\", \"presence\", \"presence\", \"presence\", \"presence\", \"presence\", \"presence\", \"presence\", \"presence\", \"pretty\", \"pretty\", \"pretty\", \"pretty\", \"pretty\", \"pretty\", \"pretty\", \"pretty\", \"pretty\", \"pretty\", \"price\", \"price\", \"price\", \"price\", \"price\", \"price\", \"price\", \"price\", \"price\", \"price\", \"priced\", \"priced\", \"priced\", \"priced\", \"priced\", \"priced\", \"priced\", \"priced\", \"priced\", \"priced\", \"prices\", \"prices\", \"prices\", \"prices\", \"prices\", \"prices\", \"prices\", \"prices\", \"prices\", \"prices\", \"prom\", \"prom\", \"prom\", \"prom\", \"prom\", \"prom\", \"prom\", \"prom\", \"prom\", \"prom\", \"protect\", \"protect\", \"protect\", \"protect\", \"protect\", \"protect\", \"protect\", \"protect\", \"protect\", \"protect\", \"quality\", \"quality\", \"quality\", \"quality\", \"quality\", \"quality\", \"quality\", \"quality\", \"quality\", \"quality\", \"quick\", \"quick\", \"quick\", \"quick\", \"quick\", \"quick\", \"quick\", \"quick\", \"quick\", \"quick\", \"quickly\", \"quickly\", \"quickly\", \"quickly\", \"quickly\", \"quickly\", \"quickly\", \"quickly\", \"quickly\", \"quickly\", \"quiet\", \"quiet\", \"quiet\", \"quiet\", \"quiet\", \"quiet\", \"quiet\", \"quiet\", \"quiet\", \"quiet\", \"raise\", \"raise\", \"raise\", \"raise\", \"raise\", \"raise\", \"raise\", \"raise\", \"raise\", \"raise\", \"rapide\", \"rapide\", \"rapide\", \"rapide\", \"rapide\", \"rapide\", \"rapide\", \"rapide\", \"rapide\", \"ratings\", \"ratings\", \"ratings\", \"ratings\", \"ratings\", \"ratings\", \"ratings\", \"ratings\", \"ratings\", \"ratings\", \"ready\", \"ready\", \"ready\", \"ready\", \"ready\", \"ready\", \"ready\", \"ready\", \"ready\", \"ready\", \"real\", \"real\", \"real\", \"real\", \"real\", \"real\", \"real\", \"real\", \"real\", \"real\", \"reasonable\", \"reasonable\", \"reasonable\", \"reasonable\", \"reasonable\", \"reasonable\", \"reasonable\", \"reasonable\", \"reasonable\", \"reasonable\", \"reccomend\", \"reccomend\", \"reccomend\", \"reccomend\", \"reccomend\", \"reccomend\", \"reccomend\", \"reccomend\", \"reccomend\", \"recommend\", \"recommend\", \"recommend\", \"recommend\", \"recommend\", \"recommend\", \"recommend\", \"recommend\", \"recommend\", \"recommend\", \"recommended\", \"recommended\", \"recommended\", \"recommended\", \"recommended\", \"recommended\", \"recommended\", \"recommended\", \"recommended\", \"recommended\", \"rectified\", \"rectified\", \"rectified\", \"referring\", \"referring\", \"referring\", \"referring\", \"referring\", \"referring\", \"referring\", \"referring\", \"referring\", \"referring\", \"reheated\", \"reheated\", \"reheated\", \"reheated\", \"reheated\", \"reheated\", \"reheated\", \"reheated\", \"reheated\", \"reheated\", \"resource\", \"resource\", \"resource\", \"resource\", \"resource\", \"resource\", \"respond\", \"respond\", \"respond\", \"respond\", \"respond\", \"respond\", \"respond\", \"respond\", \"respond\", \"respond\", \"responsible\", \"responsible\", \"responsible\", \"responsible\", \"responsible\", \"responsible\", \"responsible\", \"responsible\", \"responsible\", \"responsible\", \"restaurant\", \"restaurant\", \"restaurant\", \"restaurant\", \"restaurant\", \"restaurant\", \"restaurant\", \"restaurant\", \"restaurant\", \"restaurant\", \"rice\", \"rice\", \"rice\", \"rice\", \"rice\", \"rice\", \"rice\", \"rice\", \"rice\", \"rice\", \"ride\", \"ride\", \"ride\", \"ride\", \"ride\", \"ride\", \"ride\", \"ride\", \"ride\", \"ride\", \"rides\", \"rides\", \"rides\", \"rides\", \"rides\", \"rides\", \"riding\", \"riding\", \"riding\", \"riding\", \"riding\", \"riding\", \"riding\", \"riding\", \"riding\", \"riding\", \"right\", \"right\", \"right\", \"right\", \"right\", \"right\", \"right\", \"right\", \"right\", \"right\", \"rocked\", \"rocked\", \"rocked\", \"rocked\", \"rocked\", \"rocked\", \"rocked\", \"rocked\", \"rocked\", \"rocked\", \"rockets\", \"rockets\", \"rockets\", \"rockets\", \"rockets\", \"rockets\", \"rockets\", \"rockets\", \"rockets\", \"rockets\", \"room\", \"room\", \"room\", \"room\", \"room\", \"room\", \"room\", \"room\", \"room\", \"room\", \"rooms\", \"rooms\", \"rooms\", \"rooms\", \"rooms\", \"rooms\", \"rooms\", \"rooms\", \"rooms\", \"rooms\", \"roots\", \"roots\", \"roots\", \"roots\", \"roots\", \"roots\", \"roots\", \"roots\", \"roots\", \"roots\", \"rubbery\", \"rubbery\", \"rubbery\", \"rubbery\", \"rubbery\", \"rubbery\", \"rubbery\", \"rubbery\", \"rubbery\", \"rubbery\", \"said\", \"said\", \"said\", \"said\", \"said\", \"said\", \"said\", \"said\", \"said\", \"said\", \"salad\", \"salad\", \"salad\", \"salad\", \"salad\", \"salad\", \"salad\", \"salad\", \"salad\", \"salad\", \"salads\", \"salads\", \"salads\", \"salads\", \"salads\", \"salads\", \"salads\", \"salads\", \"salads\", \"salads\", \"salon\", \"salon\", \"salon\", \"salon\", \"salon\", \"salon\", \"salon\", \"salon\", \"salon\", \"salon\", \"sandwich\", \"sandwich\", \"sandwich\", \"sandwich\", \"sandwich\", \"sandwich\", \"sandwich\", \"sandwich\", \"sandwich\", \"sandwich\", \"sarcastic\", \"sarcastic\", \"sarcastic\", \"sarcastic\", \"sarcastic\", \"sarcastic\", \"sarcastic\", \"sarcastic\", \"sarcastic\", \"sarcastic\", \"sashimi\", \"sashimi\", \"sashimi\", \"sashimi\", \"sashimi\", \"sashimi\", \"sashimi\", \"sashimi\", \"sashimi\", \"sashimi\", \"satisfactory\", \"satisfactory\", \"satisfactory\", \"satisfactory\", \"satisfactory\", \"satisfactory\", \"satisfactory\", \"satisfactory\", \"satisfactory\", \"satisfactory\", \"sauce\", \"sauce\", \"sauce\", \"sauce\", \"sauce\", \"sauce\", \"sauce\", \"sauce\", \"sauce\", \"sauce\", \"scampi\", \"scampi\", \"scampi\", \"scampi\", \"scampi\", \"scampi\", \"scampi\", \"scampi\", \"scampi\", \"scampi\", \"self\", \"self\", \"self\", \"self\", \"self\", \"self\", \"self\", \"self\", \"self\", \"self\", \"serendipity\", \"serendipity\", \"serendipity\", \"serendipity\", \"serendipity\", \"serendipity\", \"serendipity\", \"serendipity\", \"servers\", \"servers\", \"servers\", \"servers\", \"servers\", \"servers\", \"servers\", \"servers\", \"servers\", \"servers\", \"service\", \"service\", \"service\", \"service\", \"service\", \"service\", \"service\", \"service\", \"service\", \"service\", \"serving\", \"serving\", \"serving\", \"serving\", \"serving\", \"serving\", \"serving\", \"serving\", \"serving\", \"serving\", \"severely\", \"severely\", \"severely\", \"severely\", \"severely\", \"severely\", \"severely\", \"severely\", \"severely\", \"severely\", \"shake\", \"shake\", \"shake\", \"shake\", \"shake\", \"shake\", \"shake\", \"shake\", \"shake\", \"shake\", \"shitty\", \"shitty\", \"shitty\", \"shitty\", \"shitty\", \"shitty\", \"shitty\", \"shitty\", \"shitty\", \"shitty\", \"short\", \"short\", \"short\", \"short\", \"short\", \"short\", \"short\", \"short\", \"short\", \"short\", \"siam\", \"siam\", \"siam\", \"siam\", \"siam\", \"siam\", \"siam\", \"siam\", \"sir\", \"sir\", \"sir\", \"sir\", \"sir\", \"sir\", \"sir\", \"sir\", \"sir\", \"sir\", \"slide\", \"slide\", \"slide\", \"slide\", \"slide\", \"slide\", \"slide\", \"slide\", \"slide\", \"slide\", \"small\", \"small\", \"small\", \"small\", \"small\", \"small\", \"small\", \"small\", \"small\", \"small\", \"smile\", \"smile\", \"smile\", \"smile\", \"smile\", \"smile\", \"smile\", \"smile\", \"smile\", \"smile\", \"smoking\", \"smoking\", \"smoking\", \"smoking\", \"smoking\", \"smoking\", \"smoking\", \"smoking\", \"smoking\", \"smoking\", \"snail\", \"snail\", \"snail\", \"snail\", \"snail\", \"snail\", \"snail\", \"snail\", \"snail\", \"snail\", \"snow\", \"snow\", \"snow\", \"snow\", \"snow\", \"snow\", \"snow\", \"snow\", \"snow\", \"snow\", \"soaked\", \"soaked\", \"soaked\", \"soaked\", \"soaked\", \"soaked\", \"soaked\", \"soaked\", \"soaked\", \"soaked\", \"sole\", \"sole\", \"sole\", \"sole\", \"sole\", \"sole\", \"sole\", \"sole\", \"sole\", \"son\", \"son\", \"son\", \"son\", \"son\", \"son\", \"son\", \"son\", \"son\", \"son\", \"sont\", \"sont\", \"sont\", \"sont\", \"sont\", \"sont\", \"sont\", \"sont\", \"sont\", \"sont\", \"soooo\", \"soooo\", \"soooo\", \"soooo\", \"soooo\", \"soooo\", \"soooo\", \"soooo\", \"soooo\", \"soooo\", \"sophia\", \"sophia\", \"sophia\", \"sophia\", \"sophia\", \"sophia\", \"sophia\", \"sophia\", \"sophia\", \"space\", \"space\", \"space\", \"space\", \"space\", \"space\", \"space\", \"space\", \"space\", \"space\", \"specials\", \"specials\", \"specials\", \"specials\", \"specials\", \"specials\", \"specials\", \"specials\", \"specials\", \"specials\", \"speedy\", \"speedy\", \"speedy\", \"speedy\", \"speedy\", \"speedy\", \"speedy\", \"speedy\", \"spend\", \"spend\", \"spend\", \"spend\", \"spend\", \"spend\", \"spend\", \"spend\", \"spend\", \"spend\", \"spicy\", \"spicy\", \"spicy\", \"spicy\", \"spicy\", \"spicy\", \"spicy\", \"spicy\", \"spicy\", \"spicy\", \"springs\", \"springs\", \"springs\", \"springs\", \"springs\", \"springs\", \"springs\", \"springs\", \"springs\", \"stadium\", \"stadium\", \"stadium\", \"stadium\", \"stadium\", \"stadium\", \"stadium\", \"stadium\", \"stadium\", \"stadium\", \"staff\", \"staff\", \"staff\", \"staff\", \"staff\", \"staff\", \"staff\", \"staff\", \"staff\", \"staff\", \"star\", \"star\", \"star\", \"star\", \"star\", \"star\", \"star\", \"star\", \"star\", \"star\", \"started\", \"started\", \"started\", \"started\", \"started\", \"started\", \"started\", \"started\", \"started\", \"started\", \"starters\", \"starters\", \"starters\", \"starters\", \"starters\", \"starters\", \"starters\", \"starters\", \"starters\", \"starters\", \"steak\", \"steak\", \"steak\", \"steak\", \"steak\", \"steak\", \"steak\", \"steak\", \"steak\", \"steak\", \"stickers\", \"stickers\", \"stickers\", \"stickers\", \"stickers\", \"stickers\", \"stickers\", \"stickers\", \"stickers\", \"stickers\", \"stole\", \"stole\", \"stole\", \"stole\", \"stole\", \"stole\", \"stole\", \"stole\", \"stole\", \"stole\", \"stopped\", \"stopped\", \"stopped\", \"stopped\", \"stopped\", \"stopped\", \"stopped\", \"stopped\", \"stopped\", \"stopped\", \"store\", \"store\", \"store\", \"store\", \"store\", \"store\", \"store\", \"store\", \"store\", \"store\", \"style\", \"style\", \"style\", \"style\", \"style\", \"style\", \"style\", \"style\", \"style\", \"style\", \"styling\", \"styling\", \"styling\", \"styling\", \"styling\", \"styling\", \"styling\", \"styling\", \"styling\", \"styling\", \"stylists\", \"stylists\", \"stylists\", \"stylists\", \"stylists\", \"stylists\", \"stylists\", \"stylists\", \"stylists\", \"stylists\", \"suit\", \"suit\", \"suit\", \"suit\", \"suit\", \"suit\", \"suit\", \"suit\", \"suit\", \"suit\", \"super\", \"super\", \"super\", \"super\", \"super\", \"super\", \"super\", \"super\", \"super\", \"super\", \"sure\", \"sure\", \"sure\", \"sure\", \"sure\", \"sure\", \"sure\", \"sure\", \"sure\", \"sure\", \"swedish\", \"swedish\", \"swedish\", \"swedish\", \"swedish\", \"swedish\", \"sweet\", \"sweet\", \"sweet\", \"sweet\", \"sweet\", \"sweet\", \"sweet\", \"sweet\", \"sweet\", \"sweet\", \"table\", \"table\", \"table\", \"table\", \"table\", \"table\", \"table\", \"table\", \"table\", \"table\", \"taiwanese\", \"taiwanese\", \"taiwanese\", \"taiwanese\", \"taiwanese\", \"taiwanese\", \"taiwanese\", \"taiwanese\", \"taiwanese\", \"taiwanese\", \"takes\", \"takes\", \"takes\", \"takes\", \"takes\", \"takes\", \"takes\", \"takes\", \"takes\", \"takes\", \"taking\", \"taking\", \"taking\", \"taking\", \"taking\", \"taking\", \"taking\", \"taking\", \"taking\", \"taking\", \"tamale\", \"tamale\", \"tamale\", \"tamale\", \"tamale\", \"tamale\", \"tamale\", \"tamale\", \"tamale\", \"tamale\", \"taps\", \"taps\", \"taps\", \"taps\", \"taps\", \"taps\", \"taps\", \"taps\", \"taps\", \"taps\", \"taquitos\", \"taquitos\", \"taquitos\", \"taquitos\", \"taquitos\", \"taquitos\", \"taquitos\", \"taquitos\", \"taquitos\", \"taquitos\", \"target\", \"target\", \"target\", \"target\", \"target\", \"target\", \"target\", \"target\", \"target\", \"target\", \"tastey\", \"tastey\", \"tastey\", \"tastey\", \"tastey\", \"tasty\", \"tasty\", \"tasty\", \"tasty\", \"tasty\", \"tasty\", \"tasty\", \"tasty\", \"tasty\", \"tasty\", \"taxi\", \"taxi\", \"taxi\", \"taxi\", \"taxi\", \"taxi\", \"taxi\", \"taxi\", \"taxi\", \"taxi\", \"tea\", \"tea\", \"tea\", \"tea\", \"tea\", \"tea\", \"tea\", \"tea\", \"tea\", \"tea\", \"teachers\", \"teachers\", \"teachers\", \"teachers\", \"teachers\", \"teachers\", \"teachers\", \"teachers\", \"teachers\", \"teachers\", \"terrible\", \"terrible\", \"terrible\", \"terrible\", \"terrible\", \"terrible\", \"terrible\", \"terrible\", \"terrible\", \"terrible\", \"thai\", \"thai\", \"thai\", \"thai\", \"thai\", \"thai\", \"thai\", \"thai\", \"thai\", \"thai\", \"thank\", \"thank\", \"thank\", \"thank\", \"thank\", \"thank\", \"thank\", \"thank\", \"thank\", \"thank\", \"thing\", \"thing\", \"thing\", \"thing\", \"thing\", \"thing\", \"thing\", \"thing\", \"thing\", \"thing\", \"things\", \"things\", \"things\", \"things\", \"things\", \"things\", \"things\", \"things\", \"things\", \"things\", \"think\", \"think\", \"think\", \"think\", \"think\", \"think\", \"think\", \"think\", \"think\", \"think\", \"thought\", \"thought\", \"thought\", \"thought\", \"thought\", \"thought\", \"thought\", \"thought\", \"thought\", \"thought\", \"thrive\", \"thrive\", \"thrive\", \"thrive\", \"thrive\", \"thrive\", \"thrive\", \"throat\", \"throat\", \"throat\", \"throat\", \"throat\", \"throat\", \"throat\", \"throat\", \"throat\", \"throat\", \"tidy\", \"tidy\", \"tidy\", \"tidy\", \"tidy\", \"tidy\", \"tidy\", \"tidy\", \"tidy\", \"tiger\", \"tiger\", \"tiger\", \"tiger\", \"tiger\", \"tiger\", \"tiger\", \"tiger\", \"tiger\", \"tiger\", \"tilapia\", \"tilapia\", \"tilapia\", \"tilapia\", \"tilapia\", \"tilapia\", \"tilapia\", \"tilapia\", \"tilapia\", \"tilapia\", \"time\", \"time\", \"time\", \"time\", \"time\", \"time\", \"time\", \"time\", \"time\", \"time\", \"times\", \"times\", \"times\", \"times\", \"times\", \"times\", \"times\", \"times\", \"times\", \"times\", \"tinted\", \"tinted\", \"tinted\", \"tinted\", \"tinted\", \"tinted\", \"tinted\", \"tinted\", \"tinted\", \"tinted\", \"told\", \"told\", \"told\", \"told\", \"told\", \"told\", \"told\", \"told\", \"told\", \"told\", \"tons\", \"tons\", \"tons\", \"tons\", \"tons\", \"tons\", \"tons\", \"tons\", \"tons\", \"tons\", \"took\", \"took\", \"took\", \"took\", \"took\", \"took\", \"took\", \"took\", \"took\", \"took\", \"tostadas\", \"tostadas\", \"tostadas\", \"tostadas\", \"tostadas\", \"tostadas\", \"tostadas\", \"tostadas\", \"tostadas\", \"tostadas\", \"towing\", \"towing\", \"towing\", \"towing\", \"towing\", \"towing\", \"towing\", \"towing\", \"towing\", \"town\", \"town\", \"town\", \"town\", \"town\", \"town\", \"town\", \"town\", \"town\", \"town\", \"transition\", \"transition\", \"transition\", \"transition\", \"transition\", \"transition\", \"transition\", \"transition\", \"transition\", \"tried\", \"tried\", \"tried\", \"tried\", \"tried\", \"tried\", \"tried\", \"tried\", \"tried\", \"tried\", \"truffles\", \"truffles\", \"truffles\", \"truffles\", \"truffles\", \"truffles\", \"trust\", \"trust\", \"trust\", \"trust\", \"trust\", \"trust\", \"trust\", \"trust\", \"trust\", \"trust\", \"try\", \"try\", \"try\", \"try\", \"try\", \"try\", \"try\", \"try\", \"try\", \"try\", \"tr\\u00e8s\", \"tr\\u00e8s\", \"tr\\u00e8s\", \"tr\\u00e8s\", \"tr\\u00e8s\", \"tr\\u00e8s\", \"tr\\u00e8s\", \"tr\\u00e8s\", \"tr\\u00e8s\", \"tr\\u00e8s\", \"twice\", \"twice\", \"twice\", \"twice\", \"twice\", \"twice\", \"twice\", \"twice\", \"twice\", \"twice\", \"type\", \"type\", \"type\", \"type\", \"type\", \"type\", \"type\", \"type\", \"type\", \"type\", \"understand\", \"understand\", \"understand\", \"understand\", \"understand\", \"understand\", \"understand\", \"understand\", \"understand\", \"understand\", \"undoubtedly\", \"undoubtedly\", \"undoubtedly\", \"undoubtedly\", \"undoubtedly\", \"undoubtedly\", \"undoubtedly\", \"undoubtedly\", \"undoubtedly\", \"undoubtedly\", \"unorganized\", \"unorganized\", \"unorganized\", \"unorganized\", \"unorganized\", \"unorganized\", \"unorganized\", \"unorganized\", \"unorganized\", \"unorganized\", \"unusually\", \"unusually\", \"unusually\", \"unusually\", \"unusually\", \"unusually\", \"unusually\", \"unusually\", \"unusually\", \"use\", \"use\", \"use\", \"use\", \"use\", \"use\", \"use\", \"use\", \"use\", \"use\", \"usually\", \"usually\", \"usually\", \"usually\", \"usually\", \"usually\", \"usually\", \"usually\", \"usually\", \"usually\", \"vanilla\", \"vanilla\", \"vanilla\", \"vanilla\", \"vanilla\", \"vanilla\", \"vanilla\", \"vanilla\", \"vanilla\", \"vanilla\", \"ve\", \"ve\", \"ve\", \"ve\", \"ve\", \"ve\", \"ve\", \"ve\", \"ve\", \"ve\", \"vegan\", \"vegan\", \"vegan\", \"vegan\", \"vegan\", \"vegan\", \"vegan\", \"vegan\", \"vegan\", \"vegan\", \"victoria\", \"victoria\", \"victoria\", \"victoria\", \"victoria\", \"victoria\", \"victoria\", \"victoria\", \"victoria\", \"victoria\", \"vinegar\", \"vinegar\", \"vinegar\", \"vinegar\", \"vinegar\", \"vinegar\", \"vinegar\", \"vinegar\", \"vinegar\", \"vinegar\", \"visual\", \"visual\", \"visual\", \"visual\", \"visual\", \"visual\", \"visual\", \"visual\", \"visual\", \"visual\", \"wagyu\", \"wagyu\", \"wagyu\", \"wagyu\", \"wagyu\", \"wagyu\", \"wagyu\", \"wagyu\", \"wagyu\", \"wagyu\", \"wait\", \"wait\", \"wait\", \"wait\", \"wait\", \"wait\", \"wait\", \"wait\", \"wait\", \"wait\", \"waitress\", \"waitress\", \"waitress\", \"waitress\", \"waitress\", \"waitress\", \"waitress\", \"waitress\", \"waitress\", \"waitress\", \"want\", \"want\", \"want\", \"want\", \"want\", \"want\", \"want\", \"want\", \"want\", \"want\", \"wanted\", \"wanted\", \"wanted\", \"wanted\", \"wanted\", \"wanted\", \"wanted\", \"wanted\", \"wanted\", \"wanted\", \"war\", \"war\", \"war\", \"war\", \"war\", \"war\", \"war\", \"war\", \"war\", \"war\", \"warm\", \"warm\", \"warm\", \"warm\", \"warm\", \"warm\", \"warm\", \"warm\", \"warm\", \"warm\", \"wasn\", \"wasn\", \"wasn\", \"wasn\", \"wasn\", \"wasn\", \"wasn\", \"wasn\", \"wasn\", \"wasn\", \"watch\", \"watch\", \"watch\", \"watch\", \"watch\", \"watch\", \"watch\", \"watch\", \"watch\", \"watch\", \"way\", \"way\", \"way\", \"way\", \"way\", \"way\", \"way\", \"way\", \"way\", \"way\", \"week\", \"week\", \"week\", \"week\", \"week\", \"week\", \"week\", \"week\", \"week\", \"week\", \"went\", \"went\", \"went\", \"went\", \"went\", \"went\", \"went\", \"went\", \"went\", \"went\", \"west\", \"west\", \"west\", \"west\", \"west\", \"west\", \"west\", \"west\", \"west\", \"west\", \"wheat\", \"wheat\", \"wheat\", \"wheat\", \"wheat\", \"wheat\", \"wheat\", \"wheat\", \"wheat\", \"wheat\", \"whim\", \"whim\", \"whim\", \"whim\", \"whim\", \"whim\", \"whim\", \"whim\", \"whim\", \"whim\", \"whisky\", \"whisky\", \"whisky\", \"whisky\", \"whisky\", \"whisky\", \"wine\", \"wine\", \"wine\", \"wine\", \"wine\", \"wine\", \"wine\", \"wine\", \"wine\", \"wine\", \"wise\", \"wise\", \"wise\", \"wise\", \"wise\", \"wise\", \"wise\", \"wise\", \"wise\", \"wise\", \"wonderful\", \"wonderful\", \"wonderful\", \"wonderful\", \"wonderful\", \"wonderful\", \"wonderful\", \"wonderful\", \"wonderful\", \"wonderful\", \"work\", \"work\", \"work\", \"work\", \"work\", \"work\", \"work\", \"work\", \"work\", \"work\", \"worth\", \"worth\", \"worth\", \"worth\", \"worth\", \"worth\", \"worth\", \"worth\", \"worth\", \"worth\", \"yelped\", \"yelped\", \"yelped\", \"yelped\", \"yelped\", \"yelped\", \"york\", \"york\", \"york\", \"york\", \"york\", \"york\", \"york\", \"york\", \"york\", \"york\", \"yummy\", \"yummy\", \"yummy\", \"yummy\", \"yummy\", \"yummy\", \"yummy\", \"yummy\", \"yummy\", \"yummy\", \"\\u00e9t\\u00e9\", \"\\u00e9t\\u00e9\", \"\\u00e9t\\u00e9\", \"\\u00e9t\\u00e9\", \"\\u00e9t\\u00e9\", \"\\u00e9t\\u00e9\", \"\\u00e9t\\u00e9\", \"\\u00e9t\\u00e9\", \"\\u00e9t\\u00e9\"]}, \"R\": 30, \"lambda.step\": 0.01, \"plot.opts\": {\"xlab\": \"PC1\", \"ylab\": \"PC2\"}, \"topic.order\": [5, 3, 8, 7, 9, 10, 2, 1, 4, 6]};\n",
       "\n",
       "function LDAvis_load_lib(url, callback){\n",
       "  var s = document.createElement('script');\n",
       "  s.src = url;\n",
       "  s.async = true;\n",
       "  s.onreadystatechange = s.onload = callback;\n",
       "  s.onerror = function(){console.warn(\"failed to load library \" + url);};\n",
       "  document.getElementsByTagName(\"head\")[0].appendChild(s);\n",
       "}\n",
       "\n",
       "if(typeof(LDAvis) !== \"undefined\"){\n",
       "   // already loaded: just create the visualization\n",
       "   !function(LDAvis){\n",
       "       new LDAvis(\"#\" + \"ldavis_el42721167915470889181479384\", ldavis_el42721167915470889181479384_data);\n",
       "   }(LDAvis);\n",
       "}else if(typeof define === \"function\" && define.amd){\n",
       "   // require.js is available: use it to load d3/LDAvis\n",
       "   require.config({paths: {d3: \"https://cdnjs.cloudflare.com/ajax/libs/d3/3.5.5/d3.min\"}});\n",
       "   require([\"d3\"], function(d3){\n",
       "      window.d3 = d3;\n",
       "      LDAvis_load_lib(\"https://cdn.rawgit.com/bmabey/pyLDAvis/files/ldavis.v1.0.0.js\", function(){\n",
       "        new LDAvis(\"#\" + \"ldavis_el42721167915470889181479384\", ldavis_el42721167915470889181479384_data);\n",
       "      });\n",
       "    });\n",
       "}else{\n",
       "    // require.js not available: dynamically load d3 & LDAvis\n",
       "    LDAvis_load_lib(\"https://cdnjs.cloudflare.com/ajax/libs/d3/3.5.5/d3.min.js\", function(){\n",
       "         LDAvis_load_lib(\"https://cdn.rawgit.com/bmabey/pyLDAvis/files/ldavis.v1.0.0.js\", function(){\n",
       "                 new LDAvis(\"#\" + \"ldavis_el42721167915470889181479384\", ldavis_el42721167915470889181479384_data);\n",
       "            })\n",
       "         });\n",
       "}\n",
       "</script>"
      ],
      "text/plain": [
       "PreparedData(topic_coordinates=              x         y  topics  cluster       Freq\n",
       "topic                                                \n",
       "4     -0.000274 -0.001935       1        1  10.279591\n",
       "2      0.004220  0.004753       2        1  10.215107\n",
       "7     -0.002189  0.003403       3        1  10.202594\n",
       "6      0.000632 -0.000992       4        1  10.201081\n",
       "8      0.003978 -0.001841       5        1  10.170115\n",
       "9     -0.000063 -0.002497       6        1  10.087573\n",
       "1      0.002093 -0.000906       7        1   9.833385\n",
       "0     -0.003281 -0.002483       8        1   9.786576\n",
       "3     -0.004455  0.002621       9        1   9.645413\n",
       "5     -0.000660 -0.000122      10        1   9.578567, topic_info=     Category         Freq        Term        Total  loglift  logprob\n",
       "term                                                                 \n",
       "196   Default  4280.000000       great  4280.000000  30.0000  30.0000\n",
       "39    Default  4620.000000        good  4620.000000  29.0000  29.0000\n",
       "17    Default  3441.000000        like  3441.000000  28.0000  28.0000\n",
       "33    Default  3418.000000        time  3418.000000  27.0000  27.0000\n",
       "127   Default  4725.000000       place  4725.000000  26.0000  26.0000\n",
       "109   Default  1924.000000          ve  1924.000000  25.0000  25.0000\n",
       "44    Default  3631.000000     service  3631.000000  24.0000  24.0000\n",
       "684   Default  1648.000000        love  1648.000000  23.0000  23.0000\n",
       "72    Default  2057.000000         got  2057.000000  22.0000  22.0000\n",
       "374   Default   792.000000       pizza   792.000000  21.0000  21.0000\n",
       "138   Default  4924.000000        food  4924.000000  20.0000  20.0000\n",
       "750   Default   700.000000       store   700.000000  19.0000  19.0000\n",
       "125   Default  1433.000000      people  1433.000000  18.0000  18.0000\n",
       "111   Default  1487.000000        went  1487.000000  17.0000  17.0000\n",
       "361   Default  1424.000000      little  1424.000000  16.0000  16.0000\n",
       "956   Default  1161.000000         new  1161.000000  15.0000  15.0000\n",
       "340   Default  1235.000000   delicious  1235.000000  14.0000  14.0000\n",
       "35    Default   974.000000        wait   974.000000  13.0000  13.0000\n",
       "580   Default   786.000000        wasn   786.000000  12.0000  12.0000\n",
       "293   Default  1453.000000         try  1453.000000  11.0000  11.0000\n",
       "332   Default  1456.000000        come  1456.000000  10.0000  10.0000\n",
       "45    Default  1561.000000       staff  1561.000000   9.0000   9.0000\n",
       "499   Default   965.000000        told   965.000000   8.0000   8.0000\n",
       "518   Default   672.000000     quality   672.000000   7.0000   7.0000\n",
       "248   Default  1296.000000  experience  1296.000000   6.0000   6.0000\n",
       "321   Default   683.000000     awesome   683.000000   5.0000   5.0000\n",
       "38    Default  1387.000000    friendly  1387.000000   4.0000   4.0000\n",
       "36    Default  1492.000000        came  1492.000000   3.0000   3.0000\n",
       "708   Default   645.000000       worth   645.000000   2.0000   2.0000\n",
       "679   Default   803.000000        home   803.000000   1.0000   1.0000\n",
       "...       ...          ...         ...          ...      ...      ...\n",
       "846   Topic10    89.487106       clean   726.492615   0.2515  -6.1696\n",
       "157   Topic10   104.359734       think   875.576599   0.2186  -6.0158\n",
       "90    Topic10   113.647987       night   976.398804   0.1949  -5.9306\n",
       "138   Topic10   454.035675        food  4924.865234  -0.0382  -4.5455\n",
       "44    Topic10   347.982483     service  3631.111572   0.0005  -4.8115\n",
       "172   Topic10   135.298096        menu  1238.375610   0.1316  -5.7562\n",
       "129   Topic10    94.744736       table   807.823120   0.2025  -6.1125\n",
       "45    Topic10   163.385757       staff  1561.579468   0.0883  -5.5676\n",
       "379   Topic10    95.401268       sauce   819.926880   0.1945  -6.1056\n",
       "127   Topic10   401.090057       place  4725.775879  -0.1210  -4.6695\n",
       "679   Topic10    93.798210        home   803.953979   0.1972  -6.1225\n",
       "29    Topic10   129.149078        said  1204.576782   0.1127  -5.8027\n",
       "195   Topic10   123.647133       going  1148.686890   0.1167  -5.8462\n",
       "72    Topic10   192.075882         got  2057.923828  -0.0259  -5.4058\n",
       "38    Topic10   139.829788    friendly  1387.351318   0.0509  -5.7233\n",
       "17    Topic10   270.442108        like  3441.806396  -0.1981  -5.0636\n",
       "99    Topic10   106.127762        room   959.965759   0.1434  -5.9990\n",
       "33    Topic10   257.905518        time  3418.580566  -0.2387  -5.1111\n",
       "39    Topic10   291.678406        good  4620.473145  -0.4170  -4.9880\n",
       "296   Topic10   110.045715        want  1034.209839   0.1051  -5.9628\n",
       "116   Topic10   153.485703        best  1811.688110  -0.1228  -5.6301\n",
       "183   Topic10   128.757507     amazing  1361.234863  -0.0126  -5.8057\n",
       "611   Topic10   129.276459  restaurant  1382.289917  -0.0239  -5.8017\n",
       "175   Topic10   116.989349   recommend  1163.460083   0.0486  -5.9016\n",
       "361   Topic10   129.631287      little  1424.760254  -0.0514  -5.7990\n",
       "125   Topic10   128.153656      people  1433.846802  -0.0692  -5.8104\n",
       "88    Topic10   138.755600        nice  1750.420410  -0.1893  -5.7310\n",
       "248   Topic10   119.688881  experience  1296.288818  -0.0367  -5.8788\n",
       "684   Topic10   130.794617        love  1648.838623  -0.1886  -5.7901\n",
       "1122  Topic10   120.026695     ordered  1540.625122  -0.2066  -5.8760\n",
       "\n",
       "[884 rows x 6 columns], token_table=      Topic      Freq        Term\n",
       "term                             \n",
       "1459      1  0.077209        able\n",
       "1459      2  0.119550        able\n",
       "1459      3  0.089663        able\n",
       "1459      4  0.099625        able\n",
       "1459      5  0.067247        able\n",
       "1459      6  0.077209        able\n",
       "1459      7  0.134494        able\n",
       "1459      8  0.114569        able\n",
       "1459      9  0.109588        able\n",
       "1459     10  0.114569        able\n",
       "181       1  0.082885  absolutely\n",
       "181       2  0.149192  absolutely\n",
       "181       3  0.082885  absolutely\n",
       "181       4  0.118407  absolutely\n",
       "181       5  0.113670  absolutely\n",
       "181       6  0.087621  absolutely\n",
       "181       7  0.099461  absolutely\n",
       "181       8  0.082885  absolutely\n",
       "181       9  0.082885  absolutely\n",
       "181      10  0.097093  absolutely\n",
       "2443      1  0.122945   accepting\n",
       "2443      2  0.122945   accepting\n",
       "2443      3  0.122945   accepting\n",
       "2443      4  0.122945   accepting\n",
       "2443      5  0.122945   accepting\n",
       "2443      6  0.122945   accepting\n",
       "2443      8  0.122945   accepting\n",
       "2443      9  0.122945   accepting\n",
       "7303      1  0.133676  accomodate\n",
       "7303      2  0.133676  accomodate\n",
       "...     ...       ...         ...\n",
       "5319     10  0.168048      yelped\n",
       "2068      1  0.106567        york\n",
       "2068      2  0.071045        york\n",
       "2068      3  0.071045        york\n",
       "2068      4  0.106567        york\n",
       "2068      5  0.159851        york\n",
       "2068      6  0.071045        york\n",
       "2068      7  0.088806        york\n",
       "2068      8  0.106567        york\n",
       "2068      9  0.088806        york\n",
       "2068     10  0.124329        york\n",
       "2154      1  0.116188       yummy\n",
       "2154      2  0.086065       yummy\n",
       "2154      3  0.086065       yummy\n",
       "2154      4  0.077459       yummy\n",
       "2154      5  0.077459       yummy\n",
       "2154      6  0.107581       yummy\n",
       "2154      7  0.120491       yummy\n",
       "2154      8  0.090368       yummy\n",
       "2154      9  0.146311       yummy\n",
       "2154     10  0.090368       yummy\n",
       "3196      1  0.125278         été\n",
       "3196      2  0.125278         été\n",
       "3196      3  0.125278         été\n",
       "3196      4  0.125278         été\n",
       "3196      5  0.125278         été\n",
       "3196      6  0.125278         été\n",
       "3196      7  0.125278         été\n",
       "3196      8  0.125278         été\n",
       "3196      9  0.125278         été\n",
       "\n",
       "[5201 rows x 3 columns], R=30, lambda_step=0.01, plot_opts={'xlab': 'PC1', 'ylab': 'PC2'}, topic_order=[5, 3, 8, 7, 9, 10, 2, 1, 4, 6])"
      ]
     },
     "execution_count": 211,
     "metadata": {},
     "output_type": "execute_result"
    }
   ],
   "source": [
    "pyLDAvis.gensim.prepare(lda, corpus, id2word)"
   ]
  },
  {
   "cell_type": "code",
   "execution_count": 212,
   "metadata": {},
   "outputs": [
    {
     "data": {
      "text/plain": [
       "[(0, 0.0821905),\n",
       " (1, 0.123396575),\n",
       " (2, 0.18230245),\n",
       " (3, 0.04521773),\n",
       " (4, 0.079947546),\n",
       " (5, 0.12724482),\n",
       " (6, 0.09093291),\n",
       " (7, 0.11178467),\n",
       " (8, 0.087764576),\n",
       " (9, 0.06921822)]"
      ]
     },
     "execution_count": 212,
     "metadata": {},
     "output_type": "execute_result"
    }
   ],
   "source": [
    "lda[corpus[0]]"
   ]
  },
  {
   "cell_type": "code",
   "execution_count": 213,
   "metadata": {},
   "outputs": [],
   "source": [
    "distro = [lda[d] for d in corpus]"
   ]
  },
  {
   "cell_type": "code",
   "execution_count": 215,
   "metadata": {},
   "outputs": [],
   "source": [
    "def update(doc):\n",
    "        d_dist = {k:0 for k in range(0,15)}\n",
    "        for t in doc:\n",
    "            d_dist[t[0]] = t[1]\n",
    "        return d_dist\n",
    "    \n",
    "new_distro = [update(d) for d in distro]"
   ]
  },
  {
   "cell_type": "code",
   "execution_count": 216,
   "metadata": {},
   "outputs": [],
   "source": [
    "d_dist = {k:0 for k in range(0,15)}"
   ]
  },
  {
   "cell_type": "code",
   "execution_count": 217,
   "metadata": {},
   "outputs": [
    {
     "data": {
      "text/plain": [
       "{0: 0,\n",
       " 1: 0,\n",
       " 2: 0,\n",
       " 3: 0,\n",
       " 4: 0,\n",
       " 5: 0,\n",
       " 6: 0,\n",
       " 7: 0,\n",
       " 8: 0,\n",
       " 9: 0,\n",
       " 10: 0,\n",
       " 11: 0,\n",
       " 12: 0,\n",
       " 13: 0,\n",
       " 14: 0}"
      ]
     },
     "execution_count": 217,
     "metadata": {},
     "output_type": "execute_result"
    }
   ],
   "source": [
    "d_dist"
   ]
  },
  {
   "cell_type": "code",
   "execution_count": 219,
   "metadata": {},
   "outputs": [
    {
     "name": "stdout",
     "output_type": "stream",
     "text": [
      "business_id\n",
      "cool\n",
      "date\n",
      "funny\n",
      "review_id\n",
      "stars\n",
      "text\n",
      "useful\n",
      "user_id\n"
     ]
    }
   ],
   "source": [
    "for col in yelp.columns:\n",
    "    print(col)"
   ]
  },
  {
   "cell_type": "code",
   "execution_count": 230,
   "metadata": {},
   "outputs": [],
   "source": [
    "# From lecture\n",
    "from gensim.models.coherencemodel import CoherenceModel\n",
    "\n",
    "def compute_coherence_values(dictionary, corpus, limit, start=2, step=3):\n",
    "    \"\"\"\n",
    "    Compute c_v coherence for various number of topics\n",
    "\n",
    "    Parameters:\n",
    "    ----------\n",
    "    dictionary : Gensim dictionary\n",
    "    corpus : Gensim corpus\n",
    "    path : path to input texts\n",
    "    limit : Max num of topics\n",
    "\n",
    "    Returns:\n",
    "    -------\n",
    "    model_list : List of LDA topic models\n",
    "    coherence_values : Coherence values corresponding to the LDA model with respective number of topics\n",
    "    \"\"\"\n",
    "    coherence_values = []\n",
    "    model_list = []\n",
    "    for num_topics in range(start, limit, step):\n",
    "        model = LdaMulticore(corpus=corpus, num_topics=num_topics, id2word=id2word, workers=4)\n",
    "        model_list.append(model)\n",
    "        coherencemodel = CoherenceModel(model=model, dictionary=dictionary, coherence='c_v')\n",
    "        coherence_values.append(coherencemodel.get_coherence())\n",
    "\n",
    "    return model_list, coherence_values"
   ]
  },
  {
   "cell_type": "code",
   "execution_count": null,
   "metadata": {},
   "outputs": [],
   "source": [
    "from gensim.models.coherencemodel import CoherenceModel\n"
   ]
  },
  {
   "cell_type": "code",
   "execution_count": 236,
   "metadata": {},
   "outputs": [],
   "source": [
    "\n",
    "\n",
    "def coherence(dictionary, corpus, limit, start=2, step=3):\n",
    "    coherence_values = []\n",
    "    model_list = []\n",
    "    \n",
    "    for num_topics in range(start, limit, step):\n",
    "        model = LdaMulticore(corpus=corpus, num_topics=num_topics, id2word=id2word, workers=4)\n",
    "        model_list.append(model)\n",
    "        coherencemodel = CoherenceModel(model=model, dictionary=dictionary, coherence='c_v')\n",
    "        coherence_values.append(coherencemodel.get_coherence())\n",
    "    \n",
    "    return model_list, coherence_values\n"
   ]
  },
  {
   "cell_type": "code",
   "execution_count": 241,
   "metadata": {},
   "outputs": [
    {
     "ename": "ValueError",
     "evalue": "One of texts or corpus has to be provided.",
     "output_type": "error",
     "traceback": [
      "\u001b[0;31m---------------------------------------------------------------------------\u001b[0m",
      "\u001b[0;31mValueError\u001b[0m                                Traceback (most recent call last)",
      "\u001b[0;32m<ipython-input-241-457caa82c0d7>\u001b[0m in \u001b[0;36m<module>\u001b[0;34m\u001b[0m\n\u001b[1;32m      1\u001b[0m \u001b[0;31m# Can take a long time to run.\u001b[0m\u001b[0;34m\u001b[0m\u001b[0;34m\u001b[0m\u001b[0;34m\u001b[0m\u001b[0m\n\u001b[0;32m----> 2\u001b[0;31m \u001b[0mmodel_list\u001b[0m\u001b[0;34m,\u001b[0m \u001b[0mcoherence_values\u001b[0m \u001b[0;34m=\u001b[0m \u001b[0mcoherence\u001b[0m\u001b[0;34m(\u001b[0m\u001b[0mdictionary\u001b[0m\u001b[0;34m=\u001b[0m\u001b[0mid2word\u001b[0m\u001b[0;34m,\u001b[0m \u001b[0mcorpus\u001b[0m\u001b[0;34m=\u001b[0m\u001b[0mcorpus\u001b[0m\u001b[0;34m,\u001b[0m \u001b[0mlimit\u001b[0m\u001b[0;34m=\u001b[0m\u001b[0;36m40\u001b[0m\u001b[0;34m,\u001b[0m\u001b[0mstart\u001b[0m\u001b[0;34m=\u001b[0m\u001b[0;36m2\u001b[0m\u001b[0;34m,\u001b[0m \u001b[0mstep\u001b[0m\u001b[0;34m=\u001b[0m\u001b[0;36m6\u001b[0m\u001b[0;34m)\u001b[0m\u001b[0;34m\u001b[0m\u001b[0;34m\u001b[0m\u001b[0m\n\u001b[0m",
      "\u001b[0;32m<ipython-input-236-daeeb247b7f5>\u001b[0m in \u001b[0;36mcoherence\u001b[0;34m(dictionary, corpus, limit, start, step)\u001b[0m\n\u001b[1;32m      6\u001b[0m         \u001b[0mmodel\u001b[0m \u001b[0;34m=\u001b[0m \u001b[0mLdaMulticore\u001b[0m\u001b[0;34m(\u001b[0m\u001b[0mcorpus\u001b[0m\u001b[0;34m=\u001b[0m\u001b[0mcorpus\u001b[0m\u001b[0;34m,\u001b[0m \u001b[0mnum_topics\u001b[0m\u001b[0;34m=\u001b[0m\u001b[0mnum_topics\u001b[0m\u001b[0;34m,\u001b[0m \u001b[0mid2word\u001b[0m\u001b[0;34m=\u001b[0m\u001b[0mid2word\u001b[0m\u001b[0;34m,\u001b[0m \u001b[0mworkers\u001b[0m\u001b[0;34m=\u001b[0m\u001b[0;36m4\u001b[0m\u001b[0;34m)\u001b[0m\u001b[0;34m\u001b[0m\u001b[0;34m\u001b[0m\u001b[0m\n\u001b[1;32m      7\u001b[0m         \u001b[0mmodel_list\u001b[0m\u001b[0;34m.\u001b[0m\u001b[0mappend\u001b[0m\u001b[0;34m(\u001b[0m\u001b[0mmodel\u001b[0m\u001b[0;34m)\u001b[0m\u001b[0;34m\u001b[0m\u001b[0;34m\u001b[0m\u001b[0m\n\u001b[0;32m----> 8\u001b[0;31m         \u001b[0mcoherencemodel\u001b[0m \u001b[0;34m=\u001b[0m \u001b[0mCoherenceModel\u001b[0m\u001b[0;34m(\u001b[0m\u001b[0mmodel\u001b[0m\u001b[0;34m=\u001b[0m\u001b[0mmodel\u001b[0m\u001b[0;34m,\u001b[0m \u001b[0mdictionary\u001b[0m\u001b[0;34m=\u001b[0m\u001b[0mdictionary\u001b[0m\u001b[0;34m,\u001b[0m \u001b[0mcoherence\u001b[0m\u001b[0;34m=\u001b[0m\u001b[0;34m'c_v'\u001b[0m\u001b[0;34m)\u001b[0m\u001b[0;34m\u001b[0m\u001b[0;34m\u001b[0m\u001b[0m\n\u001b[0m\u001b[1;32m      9\u001b[0m         \u001b[0mcoherence_values\u001b[0m\u001b[0;34m.\u001b[0m\u001b[0mappend\u001b[0m\u001b[0;34m(\u001b[0m\u001b[0mcoherencemodel\u001b[0m\u001b[0;34m.\u001b[0m\u001b[0mget_coherence\u001b[0m\u001b[0;34m(\u001b[0m\u001b[0;34m)\u001b[0m\u001b[0;34m)\u001b[0m\u001b[0;34m\u001b[0m\u001b[0;34m\u001b[0m\u001b[0m\n\u001b[1;32m     10\u001b[0m \u001b[0;34m\u001b[0m\u001b[0m\n",
      "\u001b[0;32m~/.conda/envs/NLP/lib/python3.7/site-packages/gensim/models/coherencemodel.py\u001b[0m in \u001b[0;36m__init__\u001b[0;34m(self, model, topics, texts, corpus, dictionary, window_size, keyed_vectors, coherence, topn, processes)\u001b[0m\n\u001b[1;32m    166\u001b[0m         \u001b[0mself\u001b[0m\u001b[0;34m.\u001b[0m\u001b[0mkeyed_vectors\u001b[0m \u001b[0;34m=\u001b[0m \u001b[0mkeyed_vectors\u001b[0m\u001b[0;34m\u001b[0m\u001b[0;34m\u001b[0m\u001b[0m\n\u001b[1;32m    167\u001b[0m         \u001b[0;32mif\u001b[0m \u001b[0mkeyed_vectors\u001b[0m \u001b[0;32mis\u001b[0m \u001b[0;32mNone\u001b[0m \u001b[0;32mand\u001b[0m \u001b[0mtexts\u001b[0m \u001b[0;32mis\u001b[0m \u001b[0;32mNone\u001b[0m \u001b[0;32mand\u001b[0m \u001b[0mcorpus\u001b[0m \u001b[0;32mis\u001b[0m \u001b[0;32mNone\u001b[0m\u001b[0;34m:\u001b[0m\u001b[0;34m\u001b[0m\u001b[0;34m\u001b[0m\u001b[0m\n\u001b[0;32m--> 168\u001b[0;31m             \u001b[0;32mraise\u001b[0m \u001b[0mValueError\u001b[0m\u001b[0;34m(\u001b[0m\u001b[0;34m\"One of texts or corpus has to be provided.\"\u001b[0m\u001b[0;34m)\u001b[0m\u001b[0;34m\u001b[0m\u001b[0;34m\u001b[0m\u001b[0m\n\u001b[0m\u001b[1;32m    169\u001b[0m \u001b[0;34m\u001b[0m\u001b[0m\n\u001b[1;32m    170\u001b[0m         \u001b[0;31m# Check if associated dictionary is provided.\u001b[0m\u001b[0;34m\u001b[0m\u001b[0;34m\u001b[0m\u001b[0;34m\u001b[0m\u001b[0m\n",
      "\u001b[0;31mValueError\u001b[0m: One of texts or corpus has to be provided."
     ]
    }
   ],
   "source": [
    "# Can take a long time to run.\n",
    "model_list, coherence_values = coherence(dictionary=id2word, corpus=corpus, limit=40,start=2, step=6)"
   ]
  },
  {
   "cell_type": "code",
   "execution_count": 242,
   "metadata": {},
   "outputs": [
    {
     "ename": "ValueError",
     "evalue": "x and y must have same first dimension, but have shapes (2,) and (7,)",
     "output_type": "error",
     "traceback": [
      "\u001b[0;31m---------------------------------------------------------------------------\u001b[0m",
      "\u001b[0;31mValueError\u001b[0m                                Traceback (most recent call last)",
      "\u001b[0;32m<ipython-input-242-b1386d01fe60>\u001b[0m in \u001b[0;36m<module>\u001b[0;34m\u001b[0m\n\u001b[1;32m      3\u001b[0m \u001b[0mlimit\u001b[0m\u001b[0;34m=\u001b[0m\u001b[0;36m10\u001b[0m\u001b[0;34m;\u001b[0m \u001b[0mstart\u001b[0m\u001b[0;34m=\u001b[0m\u001b[0;36m2\u001b[0m\u001b[0;34m;\u001b[0m \u001b[0mstep\u001b[0m\u001b[0;34m=\u001b[0m\u001b[0;36m6\u001b[0m\u001b[0;34m;\u001b[0m\u001b[0;34m\u001b[0m\u001b[0;34m\u001b[0m\u001b[0m\n\u001b[1;32m      4\u001b[0m \u001b[0mx\u001b[0m \u001b[0;34m=\u001b[0m \u001b[0mrange\u001b[0m\u001b[0;34m(\u001b[0m\u001b[0mstart\u001b[0m\u001b[0;34m,\u001b[0m \u001b[0mlimit\u001b[0m\u001b[0;34m,\u001b[0m \u001b[0mstep\u001b[0m\u001b[0;34m)\u001b[0m\u001b[0;34m\u001b[0m\u001b[0;34m\u001b[0m\u001b[0m\n\u001b[0;32m----> 5\u001b[0;31m \u001b[0mplt\u001b[0m\u001b[0;34m.\u001b[0m\u001b[0mplot\u001b[0m\u001b[0;34m(\u001b[0m\u001b[0mx\u001b[0m\u001b[0;34m,\u001b[0m \u001b[0mcoherence_values\u001b[0m\u001b[0;34m)\u001b[0m\u001b[0;34m\u001b[0m\u001b[0;34m\u001b[0m\u001b[0m\n\u001b[0m\u001b[1;32m      6\u001b[0m \u001b[0mplt\u001b[0m\u001b[0;34m.\u001b[0m\u001b[0mxlabel\u001b[0m\u001b[0;34m(\u001b[0m\u001b[0;34m\"Num Topics\"\u001b[0m\u001b[0;34m)\u001b[0m\u001b[0;34m\u001b[0m\u001b[0;34m\u001b[0m\u001b[0m\n\u001b[1;32m      7\u001b[0m \u001b[0mplt\u001b[0m\u001b[0;34m.\u001b[0m\u001b[0mylabel\u001b[0m\u001b[0;34m(\u001b[0m\u001b[0;34m\"Coherence score\"\u001b[0m\u001b[0;34m)\u001b[0m\u001b[0;34m\u001b[0m\u001b[0;34m\u001b[0m\u001b[0m\n",
      "\u001b[0;32m~/.conda/envs/NLP/lib/python3.7/site-packages/matplotlib/pyplot.py\u001b[0m in \u001b[0;36mplot\u001b[0;34m(scalex, scaley, data, *args, **kwargs)\u001b[0m\n\u001b[1;32m   2793\u001b[0m     return gca().plot(\n\u001b[1;32m   2794\u001b[0m         *args, scalex=scalex, scaley=scaley, **({\"data\": data} if data\n\u001b[0;32m-> 2795\u001b[0;31m         is not None else {}), **kwargs)\n\u001b[0m\u001b[1;32m   2796\u001b[0m \u001b[0;34m\u001b[0m\u001b[0m\n\u001b[1;32m   2797\u001b[0m \u001b[0;34m\u001b[0m\u001b[0m\n",
      "\u001b[0;32m~/.conda/envs/NLP/lib/python3.7/site-packages/matplotlib/axes/_axes.py\u001b[0m in \u001b[0;36mplot\u001b[0;34m(self, scalex, scaley, data, *args, **kwargs)\u001b[0m\n\u001b[1;32m   1664\u001b[0m         \"\"\"\n\u001b[1;32m   1665\u001b[0m         \u001b[0mkwargs\u001b[0m \u001b[0;34m=\u001b[0m \u001b[0mcbook\u001b[0m\u001b[0;34m.\u001b[0m\u001b[0mnormalize_kwargs\u001b[0m\u001b[0;34m(\u001b[0m\u001b[0mkwargs\u001b[0m\u001b[0;34m,\u001b[0m \u001b[0mmlines\u001b[0m\u001b[0;34m.\u001b[0m\u001b[0mLine2D\u001b[0m\u001b[0;34m.\u001b[0m\u001b[0m_alias_map\u001b[0m\u001b[0;34m)\u001b[0m\u001b[0;34m\u001b[0m\u001b[0;34m\u001b[0m\u001b[0m\n\u001b[0;32m-> 1666\u001b[0;31m         \u001b[0mlines\u001b[0m \u001b[0;34m=\u001b[0m \u001b[0;34m[\u001b[0m\u001b[0;34m*\u001b[0m\u001b[0mself\u001b[0m\u001b[0;34m.\u001b[0m\u001b[0m_get_lines\u001b[0m\u001b[0;34m(\u001b[0m\u001b[0;34m*\u001b[0m\u001b[0margs\u001b[0m\u001b[0;34m,\u001b[0m \u001b[0mdata\u001b[0m\u001b[0;34m=\u001b[0m\u001b[0mdata\u001b[0m\u001b[0;34m,\u001b[0m \u001b[0;34m**\u001b[0m\u001b[0mkwargs\u001b[0m\u001b[0;34m)\u001b[0m\u001b[0;34m]\u001b[0m\u001b[0;34m\u001b[0m\u001b[0;34m\u001b[0m\u001b[0m\n\u001b[0m\u001b[1;32m   1667\u001b[0m         \u001b[0;32mfor\u001b[0m \u001b[0mline\u001b[0m \u001b[0;32min\u001b[0m \u001b[0mlines\u001b[0m\u001b[0;34m:\u001b[0m\u001b[0;34m\u001b[0m\u001b[0;34m\u001b[0m\u001b[0m\n\u001b[1;32m   1668\u001b[0m             \u001b[0mself\u001b[0m\u001b[0;34m.\u001b[0m\u001b[0madd_line\u001b[0m\u001b[0;34m(\u001b[0m\u001b[0mline\u001b[0m\u001b[0;34m)\u001b[0m\u001b[0;34m\u001b[0m\u001b[0;34m\u001b[0m\u001b[0m\n",
      "\u001b[0;32m~/.conda/envs/NLP/lib/python3.7/site-packages/matplotlib/axes/_base.py\u001b[0m in \u001b[0;36m__call__\u001b[0;34m(self, *args, **kwargs)\u001b[0m\n\u001b[1;32m    223\u001b[0m                 \u001b[0mthis\u001b[0m \u001b[0;34m+=\u001b[0m \u001b[0margs\u001b[0m\u001b[0;34m[\u001b[0m\u001b[0;36m0\u001b[0m\u001b[0;34m]\u001b[0m\u001b[0;34m,\u001b[0m\u001b[0;34m\u001b[0m\u001b[0;34m\u001b[0m\u001b[0m\n\u001b[1;32m    224\u001b[0m                 \u001b[0margs\u001b[0m \u001b[0;34m=\u001b[0m \u001b[0margs\u001b[0m\u001b[0;34m[\u001b[0m\u001b[0;36m1\u001b[0m\u001b[0;34m:\u001b[0m\u001b[0;34m]\u001b[0m\u001b[0;34m\u001b[0m\u001b[0;34m\u001b[0m\u001b[0m\n\u001b[0;32m--> 225\u001b[0;31m             \u001b[0;32myield\u001b[0m \u001b[0;32mfrom\u001b[0m \u001b[0mself\u001b[0m\u001b[0;34m.\u001b[0m\u001b[0m_plot_args\u001b[0m\u001b[0;34m(\u001b[0m\u001b[0mthis\u001b[0m\u001b[0;34m,\u001b[0m \u001b[0mkwargs\u001b[0m\u001b[0;34m)\u001b[0m\u001b[0;34m\u001b[0m\u001b[0;34m\u001b[0m\u001b[0m\n\u001b[0m\u001b[1;32m    226\u001b[0m \u001b[0;34m\u001b[0m\u001b[0m\n\u001b[1;32m    227\u001b[0m     \u001b[0;32mdef\u001b[0m \u001b[0mget_next_color\u001b[0m\u001b[0;34m(\u001b[0m\u001b[0mself\u001b[0m\u001b[0;34m)\u001b[0m\u001b[0;34m:\u001b[0m\u001b[0;34m\u001b[0m\u001b[0;34m\u001b[0m\u001b[0m\n",
      "\u001b[0;32m~/.conda/envs/NLP/lib/python3.7/site-packages/matplotlib/axes/_base.py\u001b[0m in \u001b[0;36m_plot_args\u001b[0;34m(self, tup, kwargs)\u001b[0m\n\u001b[1;32m    389\u001b[0m             \u001b[0mx\u001b[0m\u001b[0;34m,\u001b[0m \u001b[0my\u001b[0m \u001b[0;34m=\u001b[0m \u001b[0mindex_of\u001b[0m\u001b[0;34m(\u001b[0m\u001b[0mtup\u001b[0m\u001b[0;34m[\u001b[0m\u001b[0;34m-\u001b[0m\u001b[0;36m1\u001b[0m\u001b[0;34m]\u001b[0m\u001b[0;34m)\u001b[0m\u001b[0;34m\u001b[0m\u001b[0;34m\u001b[0m\u001b[0m\n\u001b[1;32m    390\u001b[0m \u001b[0;34m\u001b[0m\u001b[0m\n\u001b[0;32m--> 391\u001b[0;31m         \u001b[0mx\u001b[0m\u001b[0;34m,\u001b[0m \u001b[0my\u001b[0m \u001b[0;34m=\u001b[0m \u001b[0mself\u001b[0m\u001b[0;34m.\u001b[0m\u001b[0m_xy_from_xy\u001b[0m\u001b[0;34m(\u001b[0m\u001b[0mx\u001b[0m\u001b[0;34m,\u001b[0m \u001b[0my\u001b[0m\u001b[0;34m)\u001b[0m\u001b[0;34m\u001b[0m\u001b[0;34m\u001b[0m\u001b[0m\n\u001b[0m\u001b[1;32m    392\u001b[0m \u001b[0;34m\u001b[0m\u001b[0m\n\u001b[1;32m    393\u001b[0m         \u001b[0;32mif\u001b[0m \u001b[0mself\u001b[0m\u001b[0;34m.\u001b[0m\u001b[0mcommand\u001b[0m \u001b[0;34m==\u001b[0m \u001b[0;34m'plot'\u001b[0m\u001b[0;34m:\u001b[0m\u001b[0;34m\u001b[0m\u001b[0;34m\u001b[0m\u001b[0m\n",
      "\u001b[0;32m~/.conda/envs/NLP/lib/python3.7/site-packages/matplotlib/axes/_base.py\u001b[0m in \u001b[0;36m_xy_from_xy\u001b[0;34m(self, x, y)\u001b[0m\n\u001b[1;32m    268\u001b[0m         \u001b[0;32mif\u001b[0m \u001b[0mx\u001b[0m\u001b[0;34m.\u001b[0m\u001b[0mshape\u001b[0m\u001b[0;34m[\u001b[0m\u001b[0;36m0\u001b[0m\u001b[0;34m]\u001b[0m \u001b[0;34m!=\u001b[0m \u001b[0my\u001b[0m\u001b[0;34m.\u001b[0m\u001b[0mshape\u001b[0m\u001b[0;34m[\u001b[0m\u001b[0;36m0\u001b[0m\u001b[0;34m]\u001b[0m\u001b[0;34m:\u001b[0m\u001b[0;34m\u001b[0m\u001b[0;34m\u001b[0m\u001b[0m\n\u001b[1;32m    269\u001b[0m             raise ValueError(\"x and y must have same first dimension, but \"\n\u001b[0;32m--> 270\u001b[0;31m                              \"have shapes {} and {}\".format(x.shape, y.shape))\n\u001b[0m\u001b[1;32m    271\u001b[0m         \u001b[0;32mif\u001b[0m \u001b[0mx\u001b[0m\u001b[0;34m.\u001b[0m\u001b[0mndim\u001b[0m \u001b[0;34m>\u001b[0m \u001b[0;36m2\u001b[0m \u001b[0;32mor\u001b[0m \u001b[0my\u001b[0m\u001b[0;34m.\u001b[0m\u001b[0mndim\u001b[0m \u001b[0;34m>\u001b[0m \u001b[0;36m2\u001b[0m\u001b[0;34m:\u001b[0m\u001b[0;34m\u001b[0m\u001b[0;34m\u001b[0m\u001b[0m\n\u001b[1;32m    272\u001b[0m             raise ValueError(\"x and y can be no greater than 2-D, but have \"\n",
      "\u001b[0;31mValueError\u001b[0m: x and y must have same first dimension, but have shapes (2,) and (7,)"
     ]
    }
   ],
   "source": [
    "import matplotlib.pyplot as plt\n",
    "\n",
    "limit=10; start=2; step=6;\n",
    "x = range(start, limit, step)\n",
    "plt.plot(x, coherence_values)\n",
    "plt.xlabel(\"Num Topics\")\n",
    "plt.ylabel(\"Coherence score\")\n",
    "plt.legend((\"coherence_values\"), loc='best')\n",
    "plt.show()"
   ]
  },
  {
   "cell_type": "markdown",
   "metadata": {},
   "source": [
    "## Stretch Goals\n",
    "\n",
    "Complete one of more of these to push your score towards a three: \n",
    "* Incorporate named entity recognition into your analysis\n",
    "* Compare vectorization methods in the classification section\n",
    "* Analyze more (or all) of the yelp dataset - this one is v. hard. \n",
    "* Use a generator object on the reviews file - this would help you with the analyzing the whole dataset.\n",
    "* Incorporate any of the other yelp dataset entities in your analysis (business, users, etc.)"
   ]
  },
  {
   "cell_type": "code",
   "execution_count": null,
   "metadata": {},
   "outputs": [],
   "source": []
  }
 ],
 "metadata": {
  "kernel_info": {
   "name": "u4-s1-nlp"
  },
  "kernelspec": {
   "display_name": "Python 3",
   "language": "python",
   "name": "python3"
  },
  "language_info": {
   "codemirror_mode": {
    "name": "ipython",
    "version": 3
   },
   "file_extension": ".py",
   "mimetype": "text/x-python",
   "name": "python",
   "nbconvert_exporter": "python",
   "pygments_lexer": "ipython3",
   "version": "3.7.4"
  },
  "nteract": {
   "version": "0.14.5"
  },
  "toc-autonumbering": false
 },
 "nbformat": 4,
 "nbformat_minor": 4
}
